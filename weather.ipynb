{
  "nbformat": 4,
  "nbformat_minor": 0,
  "metadata": {
    "colab": {
      "provenance": [],
      "authorship_tag": "ABX9TyNLlrMdnKM7gEiHsYQG+NDC",
      "include_colab_link": true
    },
    "kernelspec": {
      "name": "python3",
      "display_name": "Python 3"
    },
    "language_info": {
      "name": "python"
    }
  },
  "cells": [
    {
      "cell_type": "markdown",
      "metadata": {
        "id": "view-in-github",
        "colab_type": "text"
      },
      "source": [
        "<a href=\"https://colab.research.google.com/github/hscrown/madatpublicdata/blob/main/weather.ipynb\" target=\"_parent\"><img src=\"https://colab.research.google.com/assets/colab-badge.svg\" alt=\"Open In Colab\"/></a>"
      ]
    },
    {
      "cell_type": "markdown",
      "source": [
        "# 패키지 임포트"
      ],
      "metadata": {
        "id": "L8LhmxMNuVvJ"
      }
    },
    {
      "cell_type": "code",
      "execution_count": 1,
      "metadata": {
        "id": "ppHIEgQ6uMbl",
        "colab": {
          "base_uri": "https://localhost:8080/"
        },
        "outputId": "d8b05084-d5f4-4733-d03e-af21ec5832cb"
      },
      "outputs": [
        {
          "output_type": "stream",
          "name": "stdout",
          "text": [
            "Requirement already satisfied: lxml in /usr/local/lib/python3.10/dist-packages (4.9.4)\n",
            "Collecting datasets\n",
            "  Downloading datasets-2.19.0-py3-none-any.whl (542 kB)\n",
            "\u001b[2K     \u001b[90m━━━━━━━━━━━━━━━━━━━━━━━━━━━━━━━━━━━━━━━━\u001b[0m \u001b[32m542.0/542.0 kB\u001b[0m \u001b[31m3.7 MB/s\u001b[0m eta \u001b[36m0:00:00\u001b[0m\n",
            "\u001b[?25hRequirement already satisfied: filelock in /usr/local/lib/python3.10/dist-packages (from datasets) (3.14.0)\n",
            "Requirement already satisfied: numpy>=1.17 in /usr/local/lib/python3.10/dist-packages (from datasets) (1.25.2)\n",
            "Requirement already satisfied: pyarrow>=12.0.0 in /usr/local/lib/python3.10/dist-packages (from datasets) (14.0.2)\n",
            "Requirement already satisfied: pyarrow-hotfix in /usr/local/lib/python3.10/dist-packages (from datasets) (0.6)\n",
            "Collecting dill<0.3.9,>=0.3.0 (from datasets)\n",
            "  Downloading dill-0.3.8-py3-none-any.whl (116 kB)\n",
            "\u001b[2K     \u001b[90m━━━━━━━━━━━━━━━━━━━━━━━━━━━━━━━━━━━━━━━━\u001b[0m \u001b[32m116.3/116.3 kB\u001b[0m \u001b[31m7.5 MB/s\u001b[0m eta \u001b[36m0:00:00\u001b[0m\n",
            "\u001b[?25hRequirement already satisfied: pandas in /usr/local/lib/python3.10/dist-packages (from datasets) (2.0.3)\n",
            "Requirement already satisfied: requests>=2.19.0 in /usr/local/lib/python3.10/dist-packages (from datasets) (2.31.0)\n",
            "Requirement already satisfied: tqdm>=4.62.1 in /usr/local/lib/python3.10/dist-packages (from datasets) (4.66.2)\n",
            "Collecting xxhash (from datasets)\n",
            "  Downloading xxhash-3.4.1-cp310-cp310-manylinux_2_17_x86_64.manylinux2014_x86_64.whl (194 kB)\n",
            "\u001b[2K     \u001b[90m━━━━━━━━━━━━━━━━━━━━━━━━━━━━━━━━━━━━━━━━\u001b[0m \u001b[32m194.1/194.1 kB\u001b[0m \u001b[31m8.3 MB/s\u001b[0m eta \u001b[36m0:00:00\u001b[0m\n",
            "\u001b[?25hCollecting multiprocess (from datasets)\n",
            "  Downloading multiprocess-0.70.16-py310-none-any.whl (134 kB)\n",
            "\u001b[2K     \u001b[90m━━━━━━━━━━━━━━━━━━━━━━━━━━━━━━━━━━━━━━━━\u001b[0m \u001b[32m134.8/134.8 kB\u001b[0m \u001b[31m7.1 MB/s\u001b[0m eta \u001b[36m0:00:00\u001b[0m\n",
            "\u001b[?25hRequirement already satisfied: fsspec[http]<=2024.3.1,>=2023.1.0 in /usr/local/lib/python3.10/dist-packages (from datasets) (2023.6.0)\n",
            "Requirement already satisfied: aiohttp in /usr/local/lib/python3.10/dist-packages (from datasets) (3.9.5)\n",
            "Collecting huggingface-hub>=0.21.2 (from datasets)\n",
            "  Downloading huggingface_hub-0.23.0-py3-none-any.whl (401 kB)\n",
            "\u001b[2K     \u001b[90m━━━━━━━━━━━━━━━━━━━━━━━━━━━━━━━━━━━━━━━━\u001b[0m \u001b[32m401.2/401.2 kB\u001b[0m \u001b[31m18.3 MB/s\u001b[0m eta \u001b[36m0:00:00\u001b[0m\n",
            "\u001b[?25hRequirement already satisfied: packaging in /usr/local/lib/python3.10/dist-packages (from datasets) (24.0)\n",
            "Requirement already satisfied: pyyaml>=5.1 in /usr/local/lib/python3.10/dist-packages (from datasets) (6.0.1)\n",
            "Requirement already satisfied: aiosignal>=1.1.2 in /usr/local/lib/python3.10/dist-packages (from aiohttp->datasets) (1.3.1)\n",
            "Requirement already satisfied: attrs>=17.3.0 in /usr/local/lib/python3.10/dist-packages (from aiohttp->datasets) (23.2.0)\n",
            "Requirement already satisfied: frozenlist>=1.1.1 in /usr/local/lib/python3.10/dist-packages (from aiohttp->datasets) (1.4.1)\n",
            "Requirement already satisfied: multidict<7.0,>=4.5 in /usr/local/lib/python3.10/dist-packages (from aiohttp->datasets) (6.0.5)\n",
            "Requirement already satisfied: yarl<2.0,>=1.0 in /usr/local/lib/python3.10/dist-packages (from aiohttp->datasets) (1.9.4)\n",
            "Requirement already satisfied: async-timeout<5.0,>=4.0 in /usr/local/lib/python3.10/dist-packages (from aiohttp->datasets) (4.0.3)\n",
            "Requirement already satisfied: typing-extensions>=3.7.4.3 in /usr/local/lib/python3.10/dist-packages (from huggingface-hub>=0.21.2->datasets) (4.11.0)\n",
            "Requirement already satisfied: charset-normalizer<4,>=2 in /usr/local/lib/python3.10/dist-packages (from requests>=2.19.0->datasets) (3.3.2)\n",
            "Requirement already satisfied: idna<4,>=2.5 in /usr/local/lib/python3.10/dist-packages (from requests>=2.19.0->datasets) (3.7)\n",
            "Requirement already satisfied: urllib3<3,>=1.21.1 in /usr/local/lib/python3.10/dist-packages (from requests>=2.19.0->datasets) (2.0.7)\n",
            "Requirement already satisfied: certifi>=2017.4.17 in /usr/local/lib/python3.10/dist-packages (from requests>=2.19.0->datasets) (2024.2.2)\n",
            "Requirement already satisfied: python-dateutil>=2.8.2 in /usr/local/lib/python3.10/dist-packages (from pandas->datasets) (2.8.2)\n",
            "Requirement already satisfied: pytz>=2020.1 in /usr/local/lib/python3.10/dist-packages (from pandas->datasets) (2023.4)\n",
            "Requirement already satisfied: tzdata>=2022.1 in /usr/local/lib/python3.10/dist-packages (from pandas->datasets) (2024.1)\n",
            "Requirement already satisfied: six>=1.5 in /usr/local/lib/python3.10/dist-packages (from python-dateutil>=2.8.2->pandas->datasets) (1.16.0)\n",
            "Installing collected packages: xxhash, dill, multiprocess, huggingface-hub, datasets\n",
            "  Attempting uninstall: huggingface-hub\n",
            "    Found existing installation: huggingface-hub 0.20.3\n",
            "    Uninstalling huggingface-hub-0.20.3:\n",
            "      Successfully uninstalled huggingface-hub-0.20.3\n",
            "Successfully installed datasets-2.19.0 dill-0.3.8 huggingface-hub-0.23.0 multiprocess-0.70.16 xxhash-3.4.1\n",
            "Collecting haversine\n",
            "  Downloading haversine-2.8.1-py2.py3-none-any.whl (7.7 kB)\n",
            "Installing collected packages: haversine\n",
            "Successfully installed haversine-2.8.1\n"
          ]
        }
      ],
      "source": [
        "!pip install lxml\n",
        "!pip install datasets\n",
        "!pip install haversine\n",
        "\n",
        "import requests\n",
        "import pandas as pd\n",
        "import numpy as np\n",
        "\n",
        "from datetime import datetime, timedelta\n",
        "from lxml import etree\n",
        "from haversine import haversine\n",
        "from datasets import load_dataset"
      ]
    },
    {
      "cell_type": "markdown",
      "source": [
        "# 함수 정의\n",
        "반드시 순서대로 호출할 것"
      ],
      "metadata": {
        "id": "UCodh0Iduex3"
      }
    },
    {
      "cell_type": "markdown",
      "source": [
        "오늘 날짜 불러와서 문자열로 나타내는 함수"
      ],
      "metadata": {
        "id": "BF2xf_POXPiu"
      }
    },
    {
      "cell_type": "code",
      "source": [
        "def whats_the_date():\n",
        "  what_date = datetime.now().strftime(\"%Y%m%d\")\n",
        "  what_time = datetime.now().strftime(\"%H%M\")\n",
        "  return what_date, what_time"
      ],
      "metadata": {
        "id": "OujJj4kKIHhe"
      },
      "execution_count": null,
      "outputs": []
    },
    {
      "cell_type": "markdown",
      "source": [
        "기상청 좌표 데이터 전처리함수"
      ],
      "metadata": {
        "id": "x9xMkv7pNaeL"
      }
    },
    {
      "cell_type": "code",
      "source": [
        "# 데이터셋 라이브러리를 사용하여 기상청 데이터셋 로드 - 로컬에서 안불러와도됨\n",
        "def bring_weather_coor():\n",
        "  dataset = load_dataset(\"hscrown/weather_api_info\")\n",
        "  kor_loc = pd.DataFrame(dataset['train'])\n",
        "  # kor_loc = pd.read_csv('dataset.csv')\n",
        "  kor_loc = kor_loc.iloc[:,:15] # 필요한 컬럼만 추출\n",
        "  kor_loc = kor_loc.dropna() # 2단계와 3단계가 모두 존재하는 행만 추출\n",
        "\n",
        "  return kor_loc"
      ],
      "metadata": {
        "id": "FCao_sDCNe8U"
      },
      "execution_count": null,
      "outputs": []
    },
    {
      "cell_type": "markdown",
      "source": [
        "내 좌표를 넣으면 가장 가까운 기상청 x,y좌표로 변환하는 함수"
      ],
      "metadata": {
        "id": "MrEfS7B0LrrA"
      }
    },
    {
      "cell_type": "code",
      "source": [
        "# 내 좌표를 기상청 x,y좌표로 변환\n",
        "\n",
        "def find_nearest_grid(my_loc,kor_loc):\n",
        "  grid = None\n",
        "  min_distance = float('inf')  # 무한대 값으로 초기화\n",
        "\n",
        "  for index, row in kor_loc.iterrows():\n",
        "      # 각 격자 지점에 대한 튜플 (위도, 경도)을 생성\n",
        "      grid_point = (row['위도(초/100)'], row['경도(초/100)'])\n",
        "\n",
        "      # haversine 공식을 사용하여 거리계산\n",
        "      distance = haversine(my_loc, grid_point)\n",
        "\n",
        "      # 가장 가까운 거리를 찾으면 정보를 업데이트\n",
        "      if distance < min_distance:\n",
        "          min_distance = distance\n",
        "          grid = row\n",
        "          nx = grid['격자 X']\n",
        "          ny = grid['격자 Y']\n",
        "\n",
        "      return grid,nx,ny"
      ],
      "metadata": {
        "id": "2BpuRLU0LxEZ"
      },
      "execution_count": null,
      "outputs": []
    },
    {
      "cell_type": "markdown",
      "source": [
        "내 위치와 가장가까운 공원, 박물관 찾아주는 함수정의"
      ],
      "metadata": {
        "id": "WoCmrcpCNAKE"
      }
    },
    {
      "cell_type": "code",
      "source": [
        "def find_nearest_place(my_loc, df):\n",
        "    min_distance = float('inf')  # 무한대 값으로 초기화\n",
        "    lat, long = None, None  # 초기 위치 변수 선언\n",
        "\n",
        "    for index, row in df.iterrows():\n",
        "        # 각 격자 지점에 대한 튜플 (위도, 경도)을 생성\n",
        "        grid_point = (row['LATITUDE'], row['LONGITUDE'])\n",
        "\n",
        "        # haversine 공식을 사용하여 거리 계산\n",
        "        distance = haversine(my_loc, grid_point)\n",
        "\n",
        "        # 가장 가까운 거리를 찾으면 정보를 업데이트\n",
        "        if distance < min_distance:\n",
        "            min_distance = distance\n",
        "            lat = row['LATITUDE']\n",
        "            long = row['LONGITUDE']\n",
        "            name = row['NAME']\n",
        "            adres = row['ADRES']\n",
        "\n",
        "    return name, lat, long, adres"
      ],
      "metadata": {
        "id": "xbWhep2gNHHr"
      },
      "execution_count": null,
      "outputs": []
    },
    {
      "cell_type": "markdown",
      "source": [
        "좌표와 시간을 넣으면 기상정보를 제공하는 *함수*"
      ],
      "metadata": {
        "id": "T8N5rKgGP9TJ"
      }
    },
    {
      "cell_type": "code",
      "source": [
        "def get_weather_info(base_date,base_time,nx,ny):\n",
        "\n",
        "  # 초단기실황데이터\n",
        "  url = 'http://apis.data.go.kr/1360000/VilageFcstInfoService_2.0/getUltraSrtNcst'\n",
        "  params ={\n",
        "      'serviceKey': 'sX3JWddMWHJxC43fx9mqgcqSsbmAlTpoFTUPbnrE1Db5uVnEAs7gJIL4Z3tzW1u2S6UC+8/go3xYCnG2wDctAQ==',\n",
        "      'pageNo': '1',\n",
        "      'numOfRows': '1000',\n",
        "      'dataType': 'XML',\n",
        "      'base_date': base_date,\n",
        "      'base_time': base_time,\n",
        "      'nx': nx,\n",
        "      'ny': ny\n",
        "  }\n",
        "\n",
        "  response = requests.get(url, params=params)\n",
        "  root = etree.fromstring(response.content)\n",
        "\n",
        "  # 데이터 파싱 및 추출\n",
        "  # category = root.xpath('//category/text()')[0] # 0:강수형태, 2:습도, 3:기온, 4:풍속\n",
        "  rain = root.xpath('//obsrValue/text()')[0] # 강수\n",
        "  temp = root.xpath('//obsrValue/text()')[3] # 기온\n",
        "\n",
        "  mapping = {\n",
        "    '0': \"비가 오고 있지 않습니다.\",\n",
        "    '1': \"비 소식이 있습니다.\",\n",
        "    '2': \"비 또는 눈이 내립니다.\",\n",
        "    '3': \"눈이 오고 있습니다.\",\n",
        "    '4': \"소나기가 옵니다.\",\n",
        "    '5': \"빗방울이 떨어집니다.\",\n",
        "    '6': \"빗방울과 눈날림이 있습니다.\",\n",
        "    '7': \"눈날림이 있습니다.\"\n",
        "  }\n",
        "\n",
        "  rain = mapping.get(rain)\n",
        "\n",
        "    # 초단기예보데이터\n",
        "  url2 = 'http://apis.data.go.kr/1360000/VilageFcstInfoService_2.0/getUltraSrtFcst'\n",
        "\n",
        "\n",
        "  response2 = requests.get(url2, params=params)\n",
        "  root2 = etree.fromstring(response2.content)\n",
        "\n",
        "  # 엘리먼트 선택\n",
        "  items = root2.xpath('//item')\n",
        "\n",
        "  # 딕셔너리로 만들기\n",
        "  data = [{\n",
        "      \"baseDate\": item.findtext(\"baseDate\"),\n",
        "      \"baseTime\": item.findtext(\"baseTime\"),\n",
        "      \"category\": item.findtext(\"category\"),\n",
        "      \"fcstDate\": item.findtext(\"fcstDate\"),\n",
        "      \"fcstTime\": item.findtext(\"fcstTime\"),\n",
        "      \"fcstValue\": item.findtext(\"fcstValue\"),\n",
        "      \"nx\": item.findtext(\"nx\"),\n",
        "      \"ny\": item.findtext(\"ny\")\n",
        "  } for item in items]\n",
        "\n",
        "  # 데이터프레임으로 만들기\n",
        "  df = pd.DataFrame(data)\n",
        "  df = df[df['fcstDate'] == df['baseDate']] # 오늘 예측 값만\n",
        "  # df = df[df['fcstTime'] == df['baseTime']]\n",
        "  df\n",
        "\n",
        "  sky_dict = {\n",
        "      '1': \"맑음\",\n",
        "      '2': \"구름조금\",\n",
        "      '3': \"구름많음\",\n",
        "      '4': \"흐림\"\n",
        "  }\n",
        "\n",
        "  # 30분뒤 하늘상태는\n",
        "  df = df[df['category'] == 'SKY']['fcstValue'].map(sky_dict)\n",
        "  sky = df.values[0]\n",
        "\n",
        "\n",
        "  return rain,temp,sky\n",
        "\n",
        "# print(f\"Result Code: {resultCode}, Message: {resultMsg}\")\n",
        "# print(f\"Number of Rows: {numOfRows}, Page Number: {pageNo}, Total Count: {totalCount}\")\n",
        "# print(f\"Data Type: {dataType}, Base Date: {base_date}, Base Time: {base_time}\")\n",
        "# print(f\"Coordinates: ({nx}, {ny}), Category: {category}, Observed Value: {obsrValue}\")"
      ],
      "metadata": {
        "id": "jsnPRaeiXcce"
      },
      "execution_count": null,
      "outputs": []
    },
    {
      "cell_type": "markdown",
      "source": [
        "공원데이터 전처리 코드"
      ],
      "metadata": {
        "id": "dINX05YtR4HI"
      }
    },
    {
      "cell_type": "code",
      "source": [
        "def get_park_data():\n",
        "  # API 요청\n",
        "  start_point = 1\n",
        "  end_point = 1000 # 최대 1000개까지만 호출 할 수 있음\n",
        "  seoul_key = '57524f76506d656e3732636a52457a'\n",
        "\n",
        "\n",
        "  url = f'http://openAPI.seoul.go.kr:8088/{seoul_key}/json/SearchParkInfoService/{start_point}/{end_point}/'\n",
        "\n",
        "  park = requests.get(url).json()\n",
        "  park.keys() # ['SearchParkInfoService']\n",
        "\n",
        "  park = pd.DataFrame(park['SearchParkInfoService']['row'])\n",
        "  # 컬럼명 변경\n",
        "  park.rename(columns={'P_PARK':\"NAME\",'P_ADDR':\"ADRES\",'XCNTS':'LATITUDE','YDNTS':\"LONGITUDE\"},inplace=True)\n",
        "  # ['LATITUDE'] 컬럼을 실수로 변경\n",
        "  # 결측행 삭제\n",
        "  park['LATITUDE'].replace('', np.nan, inplace=True)\n",
        "  park['LONGITUDE'].replace('', np.nan, inplace=True)\n",
        "  park = park.dropna()\n",
        "\n",
        "  # ['LATITUDE'] 컬럼을 실수로 변경\n",
        "  park['LATITUDE'] = park['LATITUDE'].astype(float)\n",
        "\n",
        "  # ['LONGITUDE'] 컬럼을 실수로 변경\n",
        "  park['LONGITUDE'] = park['LONGITUDE'].astype(float)\n",
        "\n",
        "  return park"
      ],
      "metadata": {
        "id": "0UTfJf9G_CU_"
      },
      "execution_count": null,
      "outputs": []
    },
    {
      "cell_type": "markdown",
      "source": [
        "도서관 데이터 전처리 코드"
      ],
      "metadata": {
        "id": "dhzFbwKjz3om"
      }
    },
    {
      "cell_type": "code",
      "source": [
        "def get_lib_data():\n",
        "  start_point = 1\n",
        "  end_point = 1000 # 최대 1000개까지만 호출 할 수 있음\n",
        "  api_key = '57524f76506d656e3732636a52457a'\n",
        "\n",
        "  url = f'http://openAPI.seoul.go.kr:8088/{api_key}/json/SeoulLibraryTimeInfo/{start_point}/{end_point}/'\n",
        "  url2 = f'http://openAPI.seoul.go.kr:8088/{api_key}/json/SeoulLibraryTimeInfo/1001/2000/'\n",
        "\n",
        "  data = requests.get(url).json()\n",
        "  data2 = requests.get(url2).json()\n",
        "\n",
        "  data = pd.DataFrame(data['SeoulLibraryTimeInfo']['row'])\n",
        "  data2 = pd.DataFrame(data2['SeoulLibraryTimeInfo']['row'])\n",
        "\n",
        "  lib = pd.concat([data, data2])\n",
        "  # 컬럼명 변경\n",
        "  lib.rename(columns={'LBRRY_NAME':\"NAME\",'ADRES':\"ADRES\",'XCNTS':'LATITUDE','YDNTS':\"LONGITUDE\"},inplace=True)\n",
        "\n",
        "  # ['LATITUDE'] 컬럼을 실수로 변경\n",
        "  lib['LATITUDE'] = lib['LATITUDE'].astype(float)\n",
        "\n",
        "  # ['LONGITUDE'] 컬럼을 실수로 변경\n",
        "  lib['LONGITUDE'] = lib['LONGITUDE'].astype(float)\n",
        "\n",
        "  return lib\n"
      ],
      "metadata": {
        "id": "8sZ1sTaezsN_"
      },
      "execution_count": null,
      "outputs": []
    },
    {
      "cell_type": "markdown",
      "source": [
        "박물관 데이터 전처리코드"
      ],
      "metadata": {
        "id": "QxU7gNmdf6jm"
      }
    },
    {
      "cell_type": "code",
      "source": [
        "\n",
        "\"\"\"박물관 데이터 전처리 코드\"\"\"\n",
        "\n",
        "def get_muse_data():\n",
        "  muse = load_dataset(\"hscrown/seoul_museums\")\n",
        "  muse = pd.DataFrame(muse['train'])\n",
        "\n",
        "  # 컬럼명 변경\n",
        "  muse.rename(columns={'시설명':\"NAME\",'주소':\"ADRES\",'위도':'LATITUDE','경도':'LONGITUDE'},inplace=True)\n",
        "\n",
        "  # ['LATITUDE'] 컬럼을 실수로 변경\n",
        "  # 결측행 삭제\n",
        "  muse['LATITUDE'].replace('', np.nan, inplace=True)\n",
        "  muse['LONGITUDE'].replace('', np.nan, inplace=True)\n",
        "  muse = muse.dropna()\n",
        "\n",
        "  # ['LATITUDE'] 컬럼을 실수로 변경\n",
        "  muse['LATITUDE'] = muse['LATITUDE'].astype(float)\n",
        "\n",
        "  # ['LONGITUDE'] 컬럼을 실수로 변경\n",
        "  muse['LONGITUDE'] = muse['LONGITUDE'].astype(float)\n",
        "\n",
        "  return muse"
      ],
      "metadata": {
        "id": "1De9R_37f8gc"
      },
      "execution_count": null,
      "outputs": []
    },
    {
      "cell_type": "markdown",
      "source": [
        "# 실행 코드"
      ],
      "metadata": {
        "id": "WXr_7rWhJY90"
      }
    },
    {
      "cell_type": "code",
      "source": [
        "# 변수에 오늘날짜 담기\n",
        "base_date, base_time = whats_the_date()\n",
        "base_date, base_time"
      ],
      "metadata": {
        "id": "xltwrjNtualB",
        "colab": {
          "base_uri": "https://localhost:8080/"
        },
        "outputId": "03b92b75-11c8-4fbd-eac1-ecdd80dc3b5c"
      },
      "execution_count": null,
      "outputs": [
        {
          "output_type": "execute_result",
          "data": {
            "text/plain": [
              "('20240504', '1819')"
            ]
          },
          "metadata": {},
          "execution_count": 152
        }
      ]
    },
    {
      "cell_type": "code",
      "source": [
        "# 변수에 내 위치 담기\n",
        "my_loc = (37.566, 126.9784)"
      ],
      "metadata": {
        "id": "ppBJROz7HXSz"
      },
      "execution_count": null,
      "outputs": []
    },
    {
      "cell_type": "code",
      "source": [
        "# 기상청 x,y좌표 데이터 불러오기\n",
        "kor_loc = bring_weather_coor()"
      ],
      "metadata": {
        "colab": {
          "base_uri": "https://localhost:8080/"
        },
        "id": "YTSFsKv_oXcR",
        "outputId": "f1886600-e0a4-4b53-efd5-9347230fb85e"
      },
      "execution_count": null,
      "outputs": [
        {
          "output_type": "stream",
          "name": "stderr",
          "text": [
            "Repo card metadata block was not found. Setting CardData to empty.\n",
            "WARNING:huggingface_hub.repocard:Repo card metadata block was not found. Setting CardData to empty.\n"
          ]
        }
      ]
    },
    {
      "cell_type": "code",
      "source": [
        "# 내 위치와 가장 가까운 위치 찾기\n",
        "grid,nx,ny = find_nearest_grid(my_loc,kor_loc)"
      ],
      "metadata": {
        "id": "T2ULmnAUugF_"
      },
      "execution_count": null,
      "outputs": []
    },
    {
      "cell_type": "code",
      "source": [
        "# 내 위치는\n",
        "grid[['1단계','2단계','3단계']]"
      ],
      "metadata": {
        "colab": {
          "base_uri": "https://localhost:8080/"
        },
        "id": "-vmAKXwk76V5",
        "outputId": "d863f2c1-c746-4715-b9b0-873d60eb225b"
      },
      "execution_count": null,
      "outputs": [
        {
          "output_type": "execute_result",
          "data": {
            "text/plain": [
              "1단계    서울특별시\n",
              "2단계      종로구\n",
              "3단계    청운효자동\n",
              "Name: 2, dtype: object"
            ]
          },
          "metadata": {},
          "execution_count": 156
        }
      ]
    },
    {
      "cell_type": "code",
      "source": [
        "# 기상청 좌표\n",
        "nx,ny"
      ],
      "metadata": {
        "colab": {
          "base_uri": "https://localhost:8080/"
        },
        "id": "CluG-Vwf4xC1",
        "outputId": "d25259f4-d824-403e-f4d4-016d790958be"
      },
      "execution_count": null,
      "outputs": [
        {
          "output_type": "execute_result",
          "data": {
            "text/plain": [
              "(60, 127)"
            ]
          },
          "metadata": {},
          "execution_count": 157
        }
      ]
    },
    {
      "cell_type": "code",
      "source": [
        "# 날짜와 시간, 좌표를 넣어서 날씨정보 획득\n",
        "rain, temp, sky= get_weather_info(base_date,base_time,nx,ny)\n",
        "rain, temp, sky"
      ],
      "metadata": {
        "colab": {
          "base_uri": "https://localhost:8080/"
        },
        "id": "YvwrG2uSSebW",
        "outputId": "7b44ab7f-3163-42e8-8fb9-bf7e2b7c814f"
      },
      "execution_count": null,
      "outputs": [
        {
          "output_type": "execute_result",
          "data": {
            "text/plain": [
              "('비가 오고 있지 않습니다.', '24.1', '맑음')"
            ]
          },
          "metadata": {},
          "execution_count": 158
        }
      ]
    },
    {
      "cell_type": "code",
      "source": [
        "# 박물관정보 불러오기\n",
        "muse = get_muse_data()\n",
        "\n",
        "# 공원정보 불러오기\n",
        "park = get_park_data()\n",
        "\n",
        "# 도서관 정보 불러오기\n",
        "lib = get_lib_data()\n",
        "\n",
        "# 날씨 정보 불러오기\n",
        "weather_info = {\"rain\":rain, \"sky\":sky, \"temp\":temp}"
      ],
      "metadata": {
        "colab": {
          "base_uri": "https://localhost:8080/"
        },
        "id": "pJP92lCDgY6H",
        "outputId": "bd18760e-378d-4cc5-86d6-92d42e064511"
      },
      "execution_count": null,
      "outputs": [
        {
          "output_type": "stream",
          "name": "stderr",
          "text": [
            "Repo card metadata block was not found. Setting CardData to empty.\n",
            "WARNING:huggingface_hub.repocard:Repo card metadata block was not found. Setting CardData to empty.\n"
          ]
        }
      ]
    },
    {
      "cell_type": "code",
      "source": [
        "# 날씨정보를 넣으면 날씨를 알려주고 장소 추천하는 함수\n",
        "# 강수가 맑음이 아니거나 기온이 30도 이상이면 도서관이나 미술관에 가세요\n",
        "def where_to_go(rain,temp,sky):\n",
        "  if (rain != '비가 오고 있지 않습니다.' or float(temp) >= 30) :\n",
        "    libname, liblat, liblong, libadres = find_nearest_place(my_loc,lib)\n",
        "    musename, muselat, muselong, museadres = find_nearest_place(my_loc,muse)\n",
        "    return weather_info,{\"libname\":libname,\"liblat\":liblat,\"liblong\":liblong,\"libadres\":libadres,\"musename\":musename,\"muselat\":muselat,\"muselong\":muselong,\"museadres\":museadres}\n",
        "  else:\n",
        "    parkname, parklat, parklong, parkadres = find_nearest_place(my_loc,park)\n",
        "    return weather_info,{\"parkname\":parkname,\"parklat\":parklat,\"parklong\":parklong,\"parkadres\":parkadres}"
      ],
      "metadata": {
        "id": "1GLVPrJAix-2"
      },
      "execution_count": null,
      "outputs": []
    },
    {
      "cell_type": "code",
      "source": [
        "# 장소추천하기\n",
        "where_to_go(rain,temp,sky)"
      ],
      "metadata": {
        "colab": {
          "base_uri": "https://localhost:8080/"
        },
        "id": "Jkv8ERPWWfuT",
        "outputId": "ae8a5ba0-6dbe-4853-a5ed-4804afecbb82"
      },
      "execution_count": null,
      "outputs": [
        {
          "output_type": "execute_result",
          "data": {
            "text/plain": [
              "({'rain': '비가 오고 있지 않습니다.', 'sky': '맑음', 'temp': '24.1'},\n",
              " {'parkname': '세종로공원',\n",
              "  'parklat': 37.5735,\n",
              "  'parklong': 126.9758875,\n",
              "  'parkadres': '서울특별시 종로구 세종대로 189 (우) 03172'})"
            ]
          },
          "metadata": {},
          "execution_count": 161
        }
      ]
    },
    {
      "cell_type": "code",
      "source": [
        "# -*- coding: utf-8 -*-\n",
        "\"\"\"weather.ipynb\n",
        "\n",
        "Automatically generated by Colab.\n",
        "\n",
        "Original file is located at\n",
        "    https://colab.research.google.com/github/hscrown/madatpublicdata/blob/main/weather.ipynb\n",
        "\n",
        "# 패키지 임포트\n",
        "\"\"\"\n",
        "\n",
        "# !pip install lxml\n",
        "# !pip install datasets\n",
        "# !pip install haversine\n",
        "\n",
        "import requests\n",
        "import pandas as pd\n",
        "import numpy as np\n",
        "from datetime import datetime, timedelta\n",
        "from lxml import etree\n",
        "from haversine import haversine\n",
        "from datasets import load_dataset\n",
        "\n",
        "# 오늘 날짜와 시간 불러오기\n",
        "what_date = datetime.now().strftime(\"%Y%m%d\")\n",
        "what_time = datetime.now().strftime(\"%H%M\")\n",
        "\n",
        "# 기상청 좌표 데이터 로드\n",
        "dataset = load_dataset(\"hscrown/weather_api_info\")\n",
        "kor_loc = pd.DataFrame(dataset['train'])\n",
        "kor_loc = kor_loc.iloc[:,:15]\n",
        "kor_loc = kor_loc.dropna()\n",
        "\n",
        "# 내 좌표 설정\n",
        "my_loc = (37.566, 126.9784)\n",
        "\n",
        "# 가장 가까운 기상청 x, y 좌표 찾기\n",
        "grid, min_distance, nx, ny = None, float('inf'), None, None\n",
        "for index, row in kor_loc.iterrows():\n",
        "    grid_point = (row['위도(초/100)'], row['경도(초/100)'])\n",
        "    distance = haversine(my_loc, grid_point)\n",
        "    if distance < min_distance:\n",
        "        min_distance = distance\n",
        "        grid = row\n",
        "        nx, ny = grid['격자 X'], grid['격자 Y']\n",
        "\n",
        "# 기상 정보 가져오기\n",
        "url = 'http://apis.data.go.kr/1360000/VilageFcstInfoService_2.0/getUltraSrtNcst'\n",
        "params = {\n",
        "    'serviceKey': 'sX3JWddMWHJxC43fx9mqgcqSsbmAlTpoFTUPbnrE1Db5uVnEAs7gJIL4Z3tzW1u2S6UC+8/go3xYCnG2wDctAQ==',\n",
        "    'pageNo': '1',\n",
        "    'numOfRows': '1000',\n",
        "    'dataType': 'XML',\n",
        "    'base_date': what_date,\n",
        "    'base_time': what_time,\n",
        "    'nx': nx,\n",
        "    'ny': ny\n",
        "}\n",
        "response = requests.get(url, params=params)\n",
        "root = etree.fromstring(response.content)\n",
        "rain = root.xpath('//obsrValue/text()')[0]\n",
        "temp = root.xpath('//obsrValue/text()')[3]\n",
        "rain_mapping = {\n",
        "    '0': \"비가 오고 있지 않습니다.\",\n",
        "    '1': \"비 소식이 있습니다.\",\n",
        "    '2': \"비 또는 눈이 내립니다.\",\n",
        "    '3': \"눈이 오고 있습니다.\",\n",
        "    '4': \"소나기가 옵니다.\",\n",
        "    '5': \"빗방울이 떨어집니다.\",\n",
        "    '6': \"빗방울과 눈날림이 있습니다.\",\n",
        "    '7': \"눈날림이 있습니다.\"\n",
        "}\n",
        "rain = rain_mapping.get(rain, \"기상 정보 없음\")\n",
        "\n",
        "  # 초단기예보데이터\n",
        "url2 = 'http://apis.data.go.kr/1360000/VilageFcstInfoService_2.0/getUltraSrtFcst'\n",
        "\n",
        "\n",
        "response2 = requests.get(url2, params=params)\n",
        "root2 = etree.fromstring(response2.content)\n",
        "\n",
        "# 엘리먼트 선택\n",
        "items = root2.xpath('//item')\n",
        "\n",
        "# 딕셔너리로 만들기\n",
        "data = [{\n",
        "    \"baseDate\": item.findtext(\"baseDate\"),\n",
        "    \"baseTime\": item.findtext(\"baseTime\"),\n",
        "    \"category\": item.findtext(\"category\"),\n",
        "    \"fcstDate\": item.findtext(\"fcstDate\"),\n",
        "    \"fcstTime\": item.findtext(\"fcstTime\"),\n",
        "    \"fcstValue\": item.findtext(\"fcstValue\"),\n",
        "    \"nx\": item.findtext(\"nx\"),\n",
        "    \"ny\": item.findtext(\"ny\")\n",
        "} for item in items]\n",
        "\n",
        "# 데이터프레임으로 만들기\n",
        "df = pd.DataFrame(data)\n",
        "df = df[df['fcstDate'] == df['baseDate']] # 오늘 예측 값만\n",
        "# df = df[df['fcstTime'] == df['baseTime']]\n",
        "df\n",
        "\n",
        "sky_dict = {\n",
        "    '1': \"맑음\",\n",
        "    '2': \"구름조금\",\n",
        "    '3': \"구름많음\",\n",
        "    '4': \"흐림\"\n",
        "}\n",
        "\n",
        "# 30분뒤 하늘상태는\n",
        "df = df[df['category'] == 'SKY']['fcstValue'].map(sky_dict)\n",
        "sky = df.values[0]\n",
        "\n",
        "# 날씨 정보에 따른 장소 추천 로직\n",
        "if rain != '비가 오고 있지 않습니다.' or float(temp) >= 30:\n",
        "    # 박물관 정보 불러오기\n",
        "    muse = load_dataset(\"hscrown/seoul_museums\")\n",
        "    muse = pd.DataFrame(muse['train'])\n",
        "    muse.rename(columns={'시설명':\"NAME\",'주소':\"ADRES\",'위도':'LATITUDE','경도':'LONGITUDE'}, inplace=True)\n",
        "    muse['LATITUDE'].replace('', np.nan, inplace=True)\n",
        "    muse['LONGITUDE'].replace('', np.nan, inplace=True)\n",
        "    muse = muse.dropna()\n",
        "    muse['LATITUDE'] = muse['LATITUDE'].astype(float)\n",
        "    muse['LONGITUDE'] = muse['LONGITUDE'].astype(float)\n",
        "\n",
        "    # 도서관 정보 불러오기\n",
        "    api_key = '57524f76506d656e3732636a52457a'\n",
        "    start_point = 1\n",
        "    end_point = 1000\n",
        "    url = f'http://openAPI.seoul.go.kr:8088/{api_key}/json/SeoulLibraryTimeInfo/{start_point}/{end_point}/'\n",
        "    url2 = f'http://openAPI.seoul.go.kr:8088/{api_key}/json/SeoulLibraryTimeInfo/1001/2000/'\n",
        "\n",
        "    data = requests.get(url).json()\n",
        "    data2 = requests.get(url2).json()\n",
        "\n",
        "    data = pd.DataFrame(data['SeoulLibraryTimeInfo']['row'])\n",
        "    data2 = pd.DataFrame(data2['SeoulLibraryTimeInfo']['row'])\n",
        "\n",
        "    lib = pd.concat([data, data2])\n",
        "    lib.rename(columns={'LBRRY_NAME':\"NAME\",'ADRES':\"ADRES\",'XCNTS':'LATITUDE','YDNTS':\"LONGITUDE\"}, inplace=True)\n",
        "    lib['LATITUDE'] = lib['LATITUDE'].astype(float)\n",
        "    lib['LONGITUDE'] = lib['LONGITUDE'].astype(float)\n",
        "\n",
        "    # 결합\n",
        "    places = pd.concat([muse, lib])\n",
        "\n",
        "    # 가장 가까운 위치 찾기\n",
        "    min_distance, place_name, place_lat, place_long, place_adres = float('inf'), None, None, None, None\n",
        "    for index, row in places.iterrows():\n",
        "        point = (row['LATITUDE'], row['LONGITUDE'])\n",
        "        distance = haversine(my_loc, point)\n",
        "        if distance < min_distance:\n",
        "            min_distance = distance\n",
        "            place_name, place_lat, place_long, place_adres = row['NAME'], row['LATITUDE'], row['LONGITUDE'], row['ADRES']\n",
        "    result = {\"sky\":sky, \"rain\": rain, \"temp\": temp, \"place\": \"cultural\",\"name\": place_name, \"latitude\": place_lat, \"longitude\": place_long, \"address\": place_adres}\n",
        "else:\n",
        "    park_url = 'http://openAPI.seoul.go.kr:8088/57524f76506d656e3732636a52457a/json/SearchParkInfoService/1/1000/'\n",
        "    park_data = requests.get(park_url).json()['SearchParkInfoService']['row']\n",
        "    park = pd.DataFrame(park_data)\n",
        "    park.rename(columns={'P_PARK':\"NAME\",'P_ADDR':\"ADRES\",'XCNTS':'LATITUDE','YDNTS':\"LONGITUDE\"}, inplace=True)\n",
        "    park['LATITUDE'].replace('', np.nan, inplace=True)\n",
        "    park['LONGITUDE'].replace('', np.nan, inplace=True)\n",
        "    park = park.dropna()\n",
        "    park['LATITUDE'] = park['LATITUDE'].astype(float)\n",
        "    park['LONGITUDE'] = park['LONGITUDE'].astype(float)\n",
        "    min_distance, park_name, park_lat, park_long, park_adres = float('inf'), None, None, None, None\n",
        "    for index, row in park.iterrows():\n",
        "        point = (row['LATITUDE'], row['LONGITUDE'])\n",
        "        distance = haversine(my_loc, point)\n",
        "        if distance < min_distance:\n",
        "            min_distance = distance\n",
        "            park_name, park_lat, park_long, park_adres = row['NAME'], row['LATITUDE'], row['LONGITUDE'], row['ADRES']\n",
        "    result = {\"sky\":sky, \"rain\": rain, \"temp\": temp, \"place\": \"park\",\"name\": park_name, \"latitude\": park_lat, \"longitude\": park_long, \"address\": park_adres}\n",
        "\n",
        "# 결과 출력\n",
        "print(result)\n"
      ],
      "metadata": {
        "colab": {
          "base_uri": "https://localhost:8080/"
        },
        "id": "AdxXFz4U4M48",
        "outputId": "60676517-925f-489a-fb97-0593473c4b47"
      },
      "execution_count": 9,
      "outputs": [
        {
          "output_type": "stream",
          "name": "stderr",
          "text": [
            "Repo card metadata block was not found. Setting CardData to empty.\n",
            "WARNING:huggingface_hub.repocard:Repo card metadata block was not found. Setting CardData to empty.\n",
            "Repo card metadata block was not found. Setting CardData to empty.\n",
            "WARNING:huggingface_hub.repocard:Repo card metadata block was not found. Setting CardData to empty.\n"
          ]
        },
        {
          "output_type": "stream",
          "name": "stdout",
          "text": [
            "{'sky': '흐림', 'rain': '비 소식이 있습니다.', 'temp': '18.4', 'place': 'cultural', 'name': '서울도서관', 'latitude': 37.5663174209601, 'longitude': 126.977829174031, 'address': '서울특별시 중구 세종대로 110 태평로1가'}\n"
          ]
        }
      ]
    }
  ]
}