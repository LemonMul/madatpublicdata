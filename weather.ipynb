{
  "nbformat": 4,
  "nbformat_minor": 0,
  "metadata": {
    "colab": {
      "provenance": [],
      "authorship_tag": "ABX9TyOckEPNlgVR35Mxd3kAyFzW",
      "include_colab_link": true
    },
    "kernelspec": {
      "name": "python3",
      "display_name": "Python 3"
    },
    "language_info": {
      "name": "python"
    }
  },
  "cells": [
    {
      "cell_type": "markdown",
      "metadata": {
        "id": "view-in-github",
        "colab_type": "text"
      },
      "source": [
        "<a href=\"https://colab.research.google.com/github/hscrown/seoul_pr/blob/main/weather.ipynb\" target=\"_parent\"><img src=\"https://colab.research.google.com/assets/colab-badge.svg\" alt=\"Open In Colab\"/></a>"
      ]
    },
    {
      "cell_type": "markdown",
      "source": [
        "# 패키지 임포트"
      ],
      "metadata": {
        "id": "L8LhmxMNuVvJ"
      }
    },
    {
      "cell_type": "code",
      "execution_count": 9,
      "metadata": {
        "colab": {
          "base_uri": "https://localhost:8080/"
        },
        "id": "ppHIEgQ6uMbl",
        "outputId": "3d243a65-9740-4d4b-d7bd-dd9b4cbc4fbf"
      },
      "outputs": [
        {
          "output_type": "stream",
          "name": "stdout",
          "text": [
            "Requirement already satisfied: lxml in /usr/local/lib/python3.10/dist-packages (4.9.4)\n"
          ]
        }
      ],
      "source": [
        "!pip install lxml\n",
        "\n",
        "import requests\n",
        "from datetime import datetime, timedelta\n",
        "from lxml import etree"
      ]
    },
    {
      "cell_type": "markdown",
      "source": [
        "# 현재 날짜와 시간 변수와 함수 정의"
      ],
      "metadata": {
        "id": "UCodh0Iduex3"
      }
    },
    {
      "cell_type": "code",
      "source": [
        "# 현재 날짜 불러오는 함수 정의\n",
        "\n",
        "def get_formatted_date():\n",
        "    return datetime.now().strftime(\"%Y%m%d\")\n"
      ],
      "metadata": {
        "id": "903XE_29ueam"
      },
      "execution_count": 15,
      "outputs": []
    },
    {
      "cell_type": "markdown",
      "source": [
        "오늘 날짜 불러오기"
      ],
      "metadata": {
        "id": "BF2xf_POXPiu"
      }
    },
    {
      "cell_type": "code",
      "source": [
        "# base_date 변수에 오늘날짜 담기\n",
        "base_date = get_formatted_date()"
      ],
      "metadata": {
        "id": "xltwrjNtualB"
      },
      "execution_count": 16,
      "outputs": []
    },
    {
      "cell_type": "markdown",
      "source": [
        "# 현재위치 가져오고 좌표 출력하기"
      ],
      "metadata": {
        "id": "_b8-5o_slpFW"
      }
    },
    {
      "cell_type": "markdown",
      "source": [
        "# 날씨정보 가져오기"
      ],
      "metadata": {
        "id": "lGHptIqLXXor"
      }
    },
    {
      "cell_type": "code",
      "source": [
        "import requests\n",
        "\n",
        "# 초단기실황데이\n",
        "url = 'http://apis.data.go.kr/1360000/VilageFcstInfoService_2.0/getUltraSrtNcst'\n",
        "params ={\n",
        "    'ServiceKey': 'sX3JWddMWHJxC43fx9mqgcqSsbmAlTpoFTUPbnrE1Db5uVnEAs7gJIL4Z3tzW1u2S6UC+8/go3xYCnG2wDctAQ==',\n",
        "    'pageNo': '1',\n",
        "    'numOfRows': '1000',\n",
        "    'dataType': 'XML',\n",
        "    'base_date': base_date,\n",
        "    'base_time': '0600',\n",
        "    'nx': '55',\n",
        "    'ny': '127'\n",
        "}\n",
        "\n",
        "response = requests.get(url, params=params)\n",
        "root = etree.fromstring(response.content)"
      ],
      "metadata": {
        "id": "jsnPRaeiXcce"
      },
      "execution_count": 44,
      "outputs": []
    },
    {
      "cell_type": "code",
      "source": [
        "response.content"
      ],
      "metadata": {
        "colab": {
          "base_uri": "https://localhost:8080/"
        },
        "id": "8MxWJc3aeI8y",
        "outputId": "cc18ee24-0e3e-47a2-abbf-8cbf84cbc2a4"
      },
      "execution_count": 63,
      "outputs": [
        {
          "output_type": "execute_result",
          "data": {
            "text/plain": [
              "b'<?xml version=\"1.0\" encoding=\"UTF-8\"?>\\r\\n<response><header><resultCode>00</resultCode><resultMsg>NORMAL_SERVICE</resultMsg></header><body><dataType>XML</dataType><items><item><baseDate>20240422</baseDate><baseTime>0600</baseTime><category>PTY</category><nx>55</nx><ny>127</ny><obsrValue>0</obsrValue></item><item><baseDate>20240422</baseDate><baseTime>0600</baseTime><category>REH</category><nx>55</nx><ny>127</ny><obsrValue>66</obsrValue></item><item><baseDate>20240422</baseDate><baseTime>0600</baseTime><category>RN1</category><nx>55</nx><ny>127</ny><obsrValue>0</obsrValue></item><item><baseDate>20240422</baseDate><baseTime>0600</baseTime><category>T1H</category><nx>55</nx><ny>127</ny><obsrValue>15.1</obsrValue></item><item><baseDate>20240422</baseDate><baseTime>0600</baseTime><category>UUU</category><nx>55</nx><ny>127</ny><obsrValue>-1.2</obsrValue></item><item><baseDate>20240422</baseDate><baseTime>0600</baseTime><category>VEC</category><nx>55</nx><ny>127</ny><obsrValue>50</obsrValue></item><item><baseDate>20240422</baseDate><baseTime>0600</baseTime><category>VVV</category><nx>55</nx><ny>127</ny><obsrValue>-1</obsrValue></item><item><baseDate>20240422</baseDate><baseTime>0600</baseTime><category>WSD</category><nx>55</nx><ny>127</ny><obsrValue>1.7</obsrValue></item></items><numOfRows>1000</numOfRows><pageNo>1</pageNo><totalCount>8</totalCount></body></response>\\r\\n'"
            ]
          },
          "metadata": {},
          "execution_count": 63
        }
      ]
    },
    {
      "cell_type": "code",
      "source": [],
      "metadata": {
        "colab": {
          "base_uri": "https://localhost:8080/"
        },
        "id": "UX6B6_-YeyaJ",
        "outputId": "62824f8c-2073-49d2-d107-be305de5ba49"
      },
      "execution_count": 43,
      "outputs": [
        {
          "output_type": "execute_result",
          "data": {
            "text/plain": [
              "{'response': {'header': {'resultCode': '00', 'resultMsg': 'NORMAL_SERVICE'},\n",
              "  'body': {'dataType': 'JSON',\n",
              "   'items': {'item': [{'baseDate': '20240422',\n",
              "      'baseTime': '0600',\n",
              "      'category': 'PTY',\n",
              "      'nx': 55,\n",
              "      'ny': 127,\n",
              "      'obsrValue': '0'},\n",
              "     {'baseDate': '20240422',\n",
              "      'baseTime': '0600',\n",
              "      'category': 'REH',\n",
              "      'nx': 55,\n",
              "      'ny': 127,\n",
              "      'obsrValue': '66'},\n",
              "     {'baseDate': '20240422',\n",
              "      'baseTime': '0600',\n",
              "      'category': 'RN1',\n",
              "      'nx': 55,\n",
              "      'ny': 127,\n",
              "      'obsrValue': '0'},\n",
              "     {'baseDate': '20240422',\n",
              "      'baseTime': '0600',\n",
              "      'category': 'T1H',\n",
              "      'nx': 55,\n",
              "      'ny': 127,\n",
              "      'obsrValue': '15.1'},\n",
              "     {'baseDate': '20240422',\n",
              "      'baseTime': '0600',\n",
              "      'category': 'UUU',\n",
              "      'nx': 55,\n",
              "      'ny': 127,\n",
              "      'obsrValue': '-1.2'},\n",
              "     {'baseDate': '20240422',\n",
              "      'baseTime': '0600',\n",
              "      'category': 'VEC',\n",
              "      'nx': 55,\n",
              "      'ny': 127,\n",
              "      'obsrValue': '50'},\n",
              "     {'baseDate': '20240422',\n",
              "      'baseTime': '0600',\n",
              "      'category': 'VVV',\n",
              "      'nx': 55,\n",
              "      'ny': 127,\n",
              "      'obsrValue': '-1'},\n",
              "     {'baseDate': '20240422',\n",
              "      'baseTime': '0600',\n",
              "      'category': 'WSD',\n",
              "      'nx': 55,\n",
              "      'ny': 127,\n",
              "      'obsrValue': '1.7'}]},\n",
              "   'pageNo': 1,\n",
              "   'numOfRows': 1000,\n",
              "   'totalCount': 8}}}"
            ]
          },
          "metadata": {},
          "execution_count": 43
        }
      ]
    },
    {
      "cell_type": "code",
      "source": [
        "# 데이터 파싱 및 추출\n",
        "resultCode = root.xpath('//resultCode/text()')[0]\n",
        "resultMsg = root.xpath('//resultMsg/text()')[0]\n",
        "numOfRows = root.xpath('//numOfRows/text()')[0]\n",
        "pageNo = root.xpath('//pageNo/text()')[0]\n",
        "totalCount = root.xpath('//totalCount/text()')[0]\n",
        "dataType = root.xpath('//dataType/text()')[0]\n",
        "baseDate = root.xpath('//baseDate/text()')[0]\n",
        "baseTime = root.xpath('//baseTime/text()')[0]\n",
        "nx = root.xpath('//nx/text()')[0]\n",
        "ny = root.xpath('//ny/text()')[0]\n",
        "category = root.xpath('//category/text()')[0] # 0:강수형태, 2:습도, 3:기온, 4:풍속\n",
        "obsrValue1 = root.xpath('//obsrValue/text()')[0] # 강수\n",
        "obsrValue2 = root.xpath('//obsrValue/text()')[2] # 습도\n",
        "obsrValue3 = root.xpath('//obsrValue/text()')[3] # 기온\n",
        "\n",
        "\n",
        "print(f\"Result Code: {resultCode}, Message: {resultMsg}\")\n",
        "print(f\"Number of Rows: {numOfRows}, Page Number: {pageNo}, Total Count: {totalCount}\")\n",
        "print(f\"Data Type: {dataType}, Base Date: {baseDate}, Base Time: {baseTime}\")\n",
        "print(f\"Coordinates: ({nx}, {ny}), Category: {category}, Observed Value: {obsrValue}\")"
      ],
      "metadata": {
        "colab": {
          "base_uri": "https://localhost:8080/"
        },
        "id": "MiPoVao8a2-b",
        "outputId": "90ba95e3-4423-488d-d0c2-5fc698f9d518"
      },
      "execution_count": 78,
      "outputs": [
        {
          "output_type": "stream",
          "name": "stdout",
          "text": [
            "Result Code: 00, Message: NORMAL_SERVICE\n",
            "Number of Rows: 1000, Page Number: 1, Total Count: 8\n",
            "Data Type: XML, Base Date: 20240422, Base Time: 0600\n",
            "Coordinates: (55, 127), Category: PTY, Observed Value: 0\n"
          ]
        }
      ]
    },
    {
      "cell_type": "code",
      "source": [
        "# 강수가 맑음이 아니거나 기온이 30도 이상이면 도서관이나 미술관에 가세요\n",
        "if (obsrValue1== 0 or float(obsrValue3) >= 30) :\n",
        "  print('도서관이나 미술관에 가세요')\n",
        "else: print('공원에 가도 좋습니다')"
      ],
      "metadata": {
        "colab": {
          "base_uri": "https://localhost:8080/"
        },
        "id": "1GLVPrJAix-2",
        "outputId": "345bd4a4-5a3d-4c94-bc7d-bf0679dc5359"
      },
      "execution_count": 79,
      "outputs": [
        {
          "output_type": "stream",
          "name": "stdout",
          "text": [
            "공원에 가도 좋습니다\n"
          ]
        }
      ]
    }
  ]
}