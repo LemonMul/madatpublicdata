{
  "nbformat": 4,
  "nbformat_minor": 0,
  "metadata": {
    "colab": {
      "provenance": [],
      "authorship_tag": "ABX9TyOK0pghhsmxq+rQKXfKEnTm",
      "include_colab_link": true
    },
    "kernelspec": {
      "name": "python3",
      "display_name": "Python 3"
    },
    "language_info": {
      "name": "python"
    }
  },
  "cells": [
    {
      "cell_type": "markdown",
      "metadata": {
        "id": "view-in-github",
        "colab_type": "text"
      },
      "source": [
        "<a href=\"https://colab.research.google.com/github/hscrown/madatpublicdata/blob/main/weather.ipynb\" target=\"_parent\"><img src=\"https://colab.research.google.com/assets/colab-badge.svg\" alt=\"Open In Colab\"/></a>"
      ]
    },
    {
      "cell_type": "markdown",
      "source": [
        "# 패키지 임포트"
      ],
      "metadata": {
        "id": "L8LhmxMNuVvJ"
      }
    },
    {
      "cell_type": "code",
      "execution_count": 143,
      "metadata": {
        "id": "ppHIEgQ6uMbl"
      },
      "outputs": [],
      "source": [
        "# !pip install lxml\n",
        "# !pip install datasets\n",
        "# !pip install haversine\n",
        "\n",
        "import requests\n",
        "import pandas as pd\n",
        "import numpy as np\n",
        "\n",
        "from datetime import datetime, timedelta\n",
        "from lxml import etree\n",
        "from haversine import haversine\n",
        "from datasets import load_dataset"
      ]
    },
    {
      "cell_type": "markdown",
      "source": [
        "# 함수 정의\n",
        "반드시 순서대로 호출할 것"
      ],
      "metadata": {
        "id": "UCodh0Iduex3"
      }
    },
    {
      "cell_type": "markdown",
      "source": [
        "오늘 날짜 불러와서 문자열로 나타내는 함수"
      ],
      "metadata": {
        "id": "BF2xf_POXPiu"
      }
    },
    {
      "cell_type": "code",
      "source": [
        "def whats_the_date():\n",
        "  what_date = datetime.now().strftime(\"%Y%m%d\")\n",
        "  what_time = datetime.now().strftime(\"%H%M\")\n",
        "  return what_date, what_time"
      ],
      "metadata": {
        "id": "OujJj4kKIHhe"
      },
      "execution_count": 144,
      "outputs": []
    },
    {
      "cell_type": "markdown",
      "source": [
        "기상청 좌표 데이터 전처리함수"
      ],
      "metadata": {
        "id": "x9xMkv7pNaeL"
      }
    },
    {
      "cell_type": "code",
      "source": [
        "# 데이터셋 라이브러리를 사용하여 기상청 데이터셋 로드 - 로컬에서 안불러와도됨\n",
        "def bring_weather_coor():\n",
        "  dataset = load_dataset(\"hscrown/weather_api_info\")\n",
        "  kor_loc = pd.DataFrame(dataset['train'])\n",
        "  # kor_loc = pd.read_csv('dataset.csv')\n",
        "  kor_loc = kor_loc.iloc[:,:15] # 필요한 컬럼만 추출\n",
        "  kor_loc = kor_loc.dropna() # 2단계와 3단계가 모두 존재하는 행만 추출\n",
        "\n",
        "  return kor_loc"
      ],
      "metadata": {
        "id": "FCao_sDCNe8U"
      },
      "execution_count": 145,
      "outputs": []
    },
    {
      "cell_type": "markdown",
      "source": [
        "내 좌표를 넣으면 가장 가까운 기상청 x,y좌표로 변환하는 함수"
      ],
      "metadata": {
        "id": "MrEfS7B0LrrA"
      }
    },
    {
      "cell_type": "code",
      "source": [
        "# 내 좌표를 기상청 x,y좌표로 변환\n",
        "\n",
        "def find_nearest_grid(my_loc,kor_loc):\n",
        "  grid = None\n",
        "  min_distance = float('inf')  # 무한대 값으로 초기화\n",
        "\n",
        "  for index, row in kor_loc.iterrows():\n",
        "      # 각 격자 지점에 대한 튜플 (위도, 경도)을 생성\n",
        "      grid_point = (row['위도(초/100)'], row['경도(초/100)'])\n",
        "\n",
        "      # haversine 공식을 사용하여 거리계산\n",
        "      distance = haversine(my_loc, grid_point)\n",
        "\n",
        "      # 가장 가까운 거리를 찾으면 정보를 업데이트\n",
        "      if distance < min_distance:\n",
        "          min_distance = distance\n",
        "          grid = row\n",
        "          nx = grid['격자 X']\n",
        "          ny = grid['격자 Y']\n",
        "\n",
        "      return grid,nx,ny"
      ],
      "metadata": {
        "id": "2BpuRLU0LxEZ"
      },
      "execution_count": 146,
      "outputs": []
    },
    {
      "cell_type": "markdown",
      "source": [
        "내 위치와 가장가까운 공원, 박물관 찾아주는 함수정의"
      ],
      "metadata": {
        "id": "WoCmrcpCNAKE"
      }
    },
    {
      "cell_type": "code",
      "source": [
        "def find_nearest_place(my_loc, df):\n",
        "    min_distance = float('inf')  # 무한대 값으로 초기화\n",
        "    lat, long = None, None  # 초기 위치 변수 선언\n",
        "\n",
        "    for index, row in df.iterrows():\n",
        "        # 각 격자 지점에 대한 튜플 (위도, 경도)을 생성\n",
        "        grid_point = (row['LATITUDE'], row['LONGITUDE'])\n",
        "\n",
        "        # haversine 공식을 사용하여 거리 계산\n",
        "        distance = haversine(my_loc, grid_point)\n",
        "\n",
        "        # 가장 가까운 거리를 찾으면 정보를 업데이트\n",
        "        if distance < min_distance:\n",
        "            min_distance = distance\n",
        "            lat = row['LATITUDE']\n",
        "            long = row['LONGITUDE']\n",
        "            name = row['NAME']\n",
        "            adres = row['ADRES']\n",
        "\n",
        "    return name, lat, long, adres"
      ],
      "metadata": {
        "id": "xbWhep2gNHHr"
      },
      "execution_count": 147,
      "outputs": []
    },
    {
      "cell_type": "markdown",
      "source": [
        "좌표와 시간을 넣으면 기상정보를 제공하는 *함수*"
      ],
      "metadata": {
        "id": "T8N5rKgGP9TJ"
      }
    },
    {
      "cell_type": "code",
      "source": [
        "def get_weather_info(base_date,base_time,nx,ny):\n",
        "\n",
        "  # 초단기실황데이터\n",
        "  url = 'http://apis.data.go.kr/1360000/VilageFcstInfoService_2.0/getUltraSrtNcst'\n",
        "  params ={\n",
        "      'serviceKey': 'sX3JWddMWHJxC43fx9mqgcqSsbmAlTpoFTUPbnrE1Db5uVnEAs7gJIL4Z3tzW1u2S6UC+8/go3xYCnG2wDctAQ==',\n",
        "      'pageNo': '1',\n",
        "      'numOfRows': '1000',\n",
        "      'dataType': 'XML',\n",
        "      'base_date': base_date,\n",
        "      'base_time': base_time,\n",
        "      'nx': nx,\n",
        "      'ny': ny\n",
        "  }\n",
        "\n",
        "  response = requests.get(url, params=params)\n",
        "  root = etree.fromstring(response.content)\n",
        "\n",
        "  # 데이터 파싱 및 추출\n",
        "  # category = root.xpath('//category/text()')[0] # 0:강수형태, 2:습도, 3:기온, 4:풍속\n",
        "  rain = root.xpath('//obsrValue/text()')[0] # 강수\n",
        "  temp = root.xpath('//obsrValue/text()')[3] # 기온\n",
        "\n",
        "  mapping = {\n",
        "    '0': \"비가 오고 있지 않습니다.\",\n",
        "    '1': \"비 소식이 있습니다.\",\n",
        "    '2': \"비 또는 눈이 내립니다.\",\n",
        "    '3': \"눈이 오고 있습니다.\",\n",
        "    '4': \"소나기가 옵니다.\",\n",
        "    '5': \"빗방울이 떨어집니다.\",\n",
        "    '6': \"빗방울과 눈날림이 있습니다.\",\n",
        "    '7': \"눈날림이 있습니다.\"\n",
        "  }\n",
        "\n",
        "  rain = mapping.get(rain)\n",
        "\n",
        "    # 초단기예보데이터\n",
        "  url2 = 'http://apis.data.go.kr/1360000/VilageFcstInfoService_2.0/getUltraSrtFcst'\n",
        "\n",
        "\n",
        "  response2 = requests.get(url2, params=params)\n",
        "  root2 = etree.fromstring(response2.content)\n",
        "\n",
        "  # 엘리먼트 선택\n",
        "  items = root2.xpath('//item')\n",
        "\n",
        "  # 딕셔너리로 만들기\n",
        "  data = [{\n",
        "      \"baseDate\": item.findtext(\"baseDate\"),\n",
        "      \"baseTime\": item.findtext(\"baseTime\"),\n",
        "      \"category\": item.findtext(\"category\"),\n",
        "      \"fcstDate\": item.findtext(\"fcstDate\"),\n",
        "      \"fcstTime\": item.findtext(\"fcstTime\"),\n",
        "      \"fcstValue\": item.findtext(\"fcstValue\"),\n",
        "      \"nx\": item.findtext(\"nx\"),\n",
        "      \"ny\": item.findtext(\"ny\")\n",
        "  } for item in items]\n",
        "\n",
        "  # 데이터프레임으로 만들기\n",
        "  df = pd.DataFrame(data)\n",
        "  df = df[df['fcstDate'] == df['baseDate']] # 오늘 예측 값만\n",
        "  # df = df[df['fcstTime'] == df['baseTime']]\n",
        "  df\n",
        "\n",
        "  sky_dict = {\n",
        "      '1': \"맑음\",\n",
        "      '2': \"구름조금\",\n",
        "      '3': \"구름많음\",\n",
        "      '4': \"흐림\"\n",
        "  }\n",
        "\n",
        "  # 30분뒤 하늘상태는\n",
        "  df = df[df['category'] == 'SKY']['fcstValue'].map(sky_dict)\n",
        "  sky = df.values[0]\n",
        "\n",
        "\n",
        "  return rain,temp,sky\n",
        "\n",
        "# print(f\"Result Code: {resultCode}, Message: {resultMsg}\")\n",
        "# print(f\"Number of Rows: {numOfRows}, Page Number: {pageNo}, Total Count: {totalCount}\")\n",
        "# print(f\"Data Type: {dataType}, Base Date: {base_date}, Base Time: {base_time}\")\n",
        "# print(f\"Coordinates: ({nx}, {ny}), Category: {category}, Observed Value: {obsrValue}\")"
      ],
      "metadata": {
        "id": "jsnPRaeiXcce"
      },
      "execution_count": 148,
      "outputs": []
    },
    {
      "cell_type": "markdown",
      "source": [
        "공원데이터 전처리 코드"
      ],
      "metadata": {
        "id": "dINX05YtR4HI"
      }
    },
    {
      "cell_type": "code",
      "source": [
        "def get_park_data():\n",
        "  # API 요청\n",
        "  start_point = 1\n",
        "  end_point = 1000 # 최대 1000개까지만 호출 할 수 있음\n",
        "  seoul_key = '57524f76506d656e3732636a52457a'\n",
        "\n",
        "\n",
        "  url = f'http://openAPI.seoul.go.kr:8088/{seoul_key}/json/SearchParkInfoService/{start_point}/{end_point}/'\n",
        "\n",
        "  park = requests.get(url).json()\n",
        "  park.keys() # ['SearchParkInfoService']\n",
        "\n",
        "  park = pd.DataFrame(park['SearchParkInfoService']['row'])\n",
        "  # 컬럼명 변경\n",
        "  park.rename(columns={'P_PARK':\"NAME\",'P_ADDR':\"ADRES\",'XCNTS':'LATITUDE','YDNTS':\"LONGITUDE\"},inplace=True)\n",
        "  # ['LATITUDE'] 컬럼을 실수로 변경\n",
        "  # 결측행 삭제\n",
        "  park['LATITUDE'].replace('', np.nan, inplace=True)\n",
        "  park['LONGITUDE'].replace('', np.nan, inplace=True)\n",
        "  park = park.dropna()\n",
        "\n",
        "  # ['LATITUDE'] 컬럼을 실수로 변경\n",
        "  park['LATITUDE'] = park['LATITUDE'].astype(float)\n",
        "\n",
        "  # ['LONGITUDE'] 컬럼을 실수로 변경\n",
        "  park['LONGITUDE'] = park['LONGITUDE'].astype(float)\n",
        "\n",
        "  return park"
      ],
      "metadata": {
        "id": "0UTfJf9G_CU_"
      },
      "execution_count": 149,
      "outputs": []
    },
    {
      "cell_type": "markdown",
      "source": [
        "도서관 데이터 전처리 코드"
      ],
      "metadata": {
        "id": "dhzFbwKjz3om"
      }
    },
    {
      "cell_type": "code",
      "source": [
        "def get_lib_data():\n",
        "  start_point = 1\n",
        "  end_point = 1000 # 최대 1000개까지만 호출 할 수 있음\n",
        "  api_key = '57524f76506d656e3732636a52457a'\n",
        "\n",
        "  url = f'http://openAPI.seoul.go.kr:8088/{api_key}/json/SeoulLibraryTimeInfo/{start_point}/{end_point}/'\n",
        "  url2 = f'http://openAPI.seoul.go.kr:8088/{api_key}/json/SeoulLibraryTimeInfo/1001/2000/'\n",
        "\n",
        "  data = requests.get(url).json()\n",
        "  data2 = requests.get(url2).json()\n",
        "\n",
        "  data = pd.DataFrame(data['SeoulLibraryTimeInfo']['row'])\n",
        "  data2 = pd.DataFrame(data2['SeoulLibraryTimeInfo']['row'])\n",
        "\n",
        "  lib = pd.concat([data, data2])\n",
        "  # 컬럼명 변경\n",
        "  lib.rename(columns={'LBRRY_NAME':\"NAME\",'ADRES':\"ADRES\",'XCNTS':'LATITUDE','YDNTS':\"LONGITUDE\"},inplace=True)\n",
        "\n",
        "  # ['LATITUDE'] 컬럼을 실수로 변경\n",
        "  lib['LATITUDE'] = lib['LATITUDE'].astype(float)\n",
        "\n",
        "  # ['LONGITUDE'] 컬럼을 실수로 변경\n",
        "  lib['LONGITUDE'] = lib['LONGITUDE'].astype(float)\n",
        "\n",
        "  return lib\n"
      ],
      "metadata": {
        "id": "8sZ1sTaezsN_"
      },
      "execution_count": 150,
      "outputs": []
    },
    {
      "cell_type": "markdown",
      "source": [
        "박물관 데이터 전처리코드"
      ],
      "metadata": {
        "id": "QxU7gNmdf6jm"
      }
    },
    {
      "cell_type": "code",
      "source": [
        "\n",
        "\"\"\"박물관 데이터 전처리 코드\"\"\"\n",
        "\n",
        "def get_muse_data():\n",
        "  muse = load_dataset(\"hscrown/seoul_museums\")\n",
        "  muse = pd.DataFrame(muse['train'])\n",
        "\n",
        "  # 컬럼명 변경\n",
        "  muse.rename(columns={'시설명':\"NAME\",'주소':\"ADRES\",'위도':'LATITUDE','경도':'LONGITUDE'},inplace=True)\n",
        "\n",
        "  # ['LATITUDE'] 컬럼을 실수로 변경\n",
        "  # 결측행 삭제\n",
        "  muse['LATITUDE'].replace('', np.nan, inplace=True)\n",
        "  muse['LONGITUDE'].replace('', np.nan, inplace=True)\n",
        "  muse = muse.dropna()\n",
        "\n",
        "  # ['LATITUDE'] 컬럼을 실수로 변경\n",
        "  muse['LATITUDE'] = muse['LATITUDE'].astype(float)\n",
        "\n",
        "  # ['LONGITUDE'] 컬럼을 실수로 변경\n",
        "  muse['LONGITUDE'] = muse['LONGITUDE'].astype(float)\n",
        "\n",
        "  return muse"
      ],
      "metadata": {
        "id": "1De9R_37f8gc"
      },
      "execution_count": 151,
      "outputs": []
    },
    {
      "cell_type": "markdown",
      "source": [
        "# 실행 코드"
      ],
      "metadata": {
        "id": "WXr_7rWhJY90"
      }
    },
    {
      "cell_type": "code",
      "source": [
        "# 변수에 오늘날짜 담기\n",
        "base_date, base_time = whats_the_date()\n",
        "base_date, base_time"
      ],
      "metadata": {
        "id": "xltwrjNtualB",
        "colab": {
          "base_uri": "https://localhost:8080/"
        },
        "outputId": "03b92b75-11c8-4fbd-eac1-ecdd80dc3b5c"
      },
      "execution_count": 152,
      "outputs": [
        {
          "output_type": "execute_result",
          "data": {
            "text/plain": [
              "('20240504', '1819')"
            ]
          },
          "metadata": {},
          "execution_count": 152
        }
      ]
    },
    {
      "cell_type": "code",
      "source": [
        "# 변수에 내 위치 담기\n",
        "my_loc = (37.566, 126.9784)"
      ],
      "metadata": {
        "id": "ppBJROz7HXSz"
      },
      "execution_count": 153,
      "outputs": []
    },
    {
      "cell_type": "code",
      "source": [
        "# 기상청 x,y좌표 데이터 불러오기\n",
        "kor_loc = bring_weather_coor()"
      ],
      "metadata": {
        "colab": {
          "base_uri": "https://localhost:8080/"
        },
        "id": "YTSFsKv_oXcR",
        "outputId": "f1886600-e0a4-4b53-efd5-9347230fb85e"
      },
      "execution_count": 154,
      "outputs": [
        {
          "output_type": "stream",
          "name": "stderr",
          "text": [
            "Repo card metadata block was not found. Setting CardData to empty.\n",
            "WARNING:huggingface_hub.repocard:Repo card metadata block was not found. Setting CardData to empty.\n"
          ]
        }
      ]
    },
    {
      "cell_type": "code",
      "source": [
        "# 내 위치와 가장 가까운 위치 찾기\n",
        "grid,nx,ny = find_nearest_grid(my_loc,kor_loc)"
      ],
      "metadata": {
        "id": "T2ULmnAUugF_"
      },
      "execution_count": 155,
      "outputs": []
    },
    {
      "cell_type": "code",
      "source": [
        "# 내 위치는\n",
        "grid[['1단계','2단계','3단계']]"
      ],
      "metadata": {
        "colab": {
          "base_uri": "https://localhost:8080/"
        },
        "id": "-vmAKXwk76V5",
        "outputId": "d863f2c1-c746-4715-b9b0-873d60eb225b"
      },
      "execution_count": 156,
      "outputs": [
        {
          "output_type": "execute_result",
          "data": {
            "text/plain": [
              "1단계    서울특별시\n",
              "2단계      종로구\n",
              "3단계    청운효자동\n",
              "Name: 2, dtype: object"
            ]
          },
          "metadata": {},
          "execution_count": 156
        }
      ]
    },
    {
      "cell_type": "code",
      "source": [
        "# 기상청 좌표\n",
        "nx,ny"
      ],
      "metadata": {
        "colab": {
          "base_uri": "https://localhost:8080/"
        },
        "id": "CluG-Vwf4xC1",
        "outputId": "d25259f4-d824-403e-f4d4-016d790958be"
      },
      "execution_count": 157,
      "outputs": [
        {
          "output_type": "execute_result",
          "data": {
            "text/plain": [
              "(60, 127)"
            ]
          },
          "metadata": {},
          "execution_count": 157
        }
      ]
    },
    {
      "cell_type": "code",
      "source": [
        "# 날짜와 시간, 좌표를 넣어서 날씨정보 획득\n",
        "rain, temp, sky= get_weather_info(base_date,base_time,nx,ny)\n",
        "rain, temp, sky"
      ],
      "metadata": {
        "colab": {
          "base_uri": "https://localhost:8080/"
        },
        "id": "YvwrG2uSSebW",
        "outputId": "7b44ab7f-3163-42e8-8fb9-bf7e2b7c814f"
      },
      "execution_count": 158,
      "outputs": [
        {
          "output_type": "execute_result",
          "data": {
            "text/plain": [
              "('비가 오고 있지 않습니다.', '24.1', '맑음')"
            ]
          },
          "metadata": {},
          "execution_count": 158
        }
      ]
    },
    {
      "cell_type": "code",
      "source": [
        "# 박물관정보 불러오기\n",
        "muse = get_muse_data()\n",
        "\n",
        "# 공원정보 불러오기\n",
        "park = get_park_data()\n",
        "\n",
        "# 도서관 정보 불러오기\n",
        "lib = get_lib_data()\n",
        "\n",
        "# 날씨 정보 불러오기\n",
        "weather_info = {\"rain\":rain, \"sky\":sky, \"temp\":temp}"
      ],
      "metadata": {
        "colab": {
          "base_uri": "https://localhost:8080/"
        },
        "id": "pJP92lCDgY6H",
        "outputId": "bd18760e-378d-4cc5-86d6-92d42e064511"
      },
      "execution_count": 159,
      "outputs": [
        {
          "output_type": "stream",
          "name": "stderr",
          "text": [
            "Repo card metadata block was not found. Setting CardData to empty.\n",
            "WARNING:huggingface_hub.repocard:Repo card metadata block was not found. Setting CardData to empty.\n"
          ]
        }
      ]
    },
    {
      "cell_type": "code",
      "source": [
        "# 날씨정보를 넣으면 날씨를 알려주고 장소 추천하는 함수\n",
        "# 강수가 맑음이 아니거나 기온이 30도 이상이면 도서관이나 미술관에 가세요\n",
        "def where_to_go(rain,temp,sky):\n",
        "  if (rain != '비가 오고 있지 않습니다.' or float(temp) >= 30) :\n",
        "    libname, liblat, liblong, libadres = find_nearest_place(my_loc,lib)\n",
        "    musename, muselat, muselong, museadres = find_nearest_place(my_loc,muse)\n",
        "    return weather_info,{\"libname\":libname,\"liblat\":liblat,\"liblong\":liblong,\"libadres\":libadres,\"musename\":musename,\"muselat\":muselat,\"muselong\":muselong,\"museadres\":museadres}\n",
        "  else:\n",
        "    parkname, parklat, parklong, parkadres = find_nearest_place(my_loc,park)\n",
        "    return weather_info,{\"parkname\":parkname,\"parklat\":parklat,\"parklong\":parklong,\"parkadres\":parkadres}"
      ],
      "metadata": {
        "id": "1GLVPrJAix-2"
      },
      "execution_count": 160,
      "outputs": []
    },
    {
      "cell_type": "code",
      "source": [
        "# 장소추천하기\n",
        "where_to_go(rain,temp,sky)"
      ],
      "metadata": {
        "colab": {
          "base_uri": "https://localhost:8080/"
        },
        "id": "Jkv8ERPWWfuT",
        "outputId": "ae8a5ba0-6dbe-4853-a5ed-4804afecbb82"
      },
      "execution_count": 161,
      "outputs": [
        {
          "output_type": "execute_result",
          "data": {
            "text/plain": [
              "({'rain': '비가 오고 있지 않습니다.', 'sky': '맑음', 'temp': '24.1'},\n",
              " {'parkname': '세종로공원',\n",
              "  'parklat': 37.5735,\n",
              "  'parklong': 126.9758875,\n",
              "  'parkadres': '서울특별시 종로구 세종대로 189 (우) 03172'})"
            ]
          },
          "metadata": {},
          "execution_count": 161
        }
      ]
    }
  ]
}