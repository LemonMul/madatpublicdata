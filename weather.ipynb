{
  "nbformat": 4,
  "nbformat_minor": 0,
  "metadata": {
    "colab": {
      "provenance": [],
      "authorship_tag": "ABX9TyNUWJYVCqJ87Q4AzHWnq6Jv",
      "include_colab_link": true
    },
    "kernelspec": {
      "name": "python3",
      "display_name": "Python 3"
    },
    "language_info": {
      "name": "python"
    }
  },
  "cells": [
    {
      "cell_type": "markdown",
      "metadata": {
        "id": "view-in-github",
        "colab_type": "text"
      },
      "source": [
        "<a href=\"https://colab.research.google.com/github/hscrown/seoul_pr/blob/main/weather.ipynb\" target=\"_parent\"><img src=\"https://colab.research.google.com/assets/colab-badge.svg\" alt=\"Open In Colab\"/></a>"
      ]
    },
    {
      "cell_type": "markdown",
      "source": [
        "# 패키지 임포트"
      ],
      "metadata": {
        "id": "L8LhmxMNuVvJ"
      }
    },
    {
      "cell_type": "code",
      "execution_count": 328,
      "metadata": {
        "colab": {
          "base_uri": "https://localhost:8080/"
        },
        "id": "ppHIEgQ6uMbl",
        "outputId": "20dd12e9-7f2a-41e8-fcfe-d894b7427f6a"
      },
      "outputs": [
        {
          "output_type": "stream",
          "name": "stdout",
          "text": [
            "Requirement already satisfied: lxml in /usr/local/lib/python3.10/dist-packages (4.9.4)\n",
            "Requirement already satisfied: datasets in /usr/local/lib/python3.10/dist-packages (2.19.0)\n",
            "Requirement already satisfied: filelock in /usr/local/lib/python3.10/dist-packages (from datasets) (3.13.4)\n",
            "Requirement already satisfied: numpy>=1.17 in /usr/local/lib/python3.10/dist-packages (from datasets) (1.25.2)\n",
            "Requirement already satisfied: pyarrow>=12.0.0 in /usr/local/lib/python3.10/dist-packages (from datasets) (14.0.2)\n",
            "Requirement already satisfied: pyarrow-hotfix in /usr/local/lib/python3.10/dist-packages (from datasets) (0.6)\n",
            "Requirement already satisfied: dill<0.3.9,>=0.3.0 in /usr/local/lib/python3.10/dist-packages (from datasets) (0.3.8)\n",
            "Requirement already satisfied: pandas in /usr/local/lib/python3.10/dist-packages (from datasets) (2.0.3)\n",
            "Requirement already satisfied: requests>=2.19.0 in /usr/local/lib/python3.10/dist-packages (from datasets) (2.31.0)\n",
            "Requirement already satisfied: tqdm>=4.62.1 in /usr/local/lib/python3.10/dist-packages (from datasets) (4.66.2)\n",
            "Requirement already satisfied: xxhash in /usr/local/lib/python3.10/dist-packages (from datasets) (3.4.1)\n",
            "Requirement already satisfied: multiprocess in /usr/local/lib/python3.10/dist-packages (from datasets) (0.70.16)\n",
            "Requirement already satisfied: fsspec[http]<=2024.3.1,>=2023.1.0 in /usr/local/lib/python3.10/dist-packages (from datasets) (2023.6.0)\n",
            "Requirement already satisfied: aiohttp in /usr/local/lib/python3.10/dist-packages (from datasets) (3.9.5)\n",
            "Requirement already satisfied: huggingface-hub>=0.21.2 in /usr/local/lib/python3.10/dist-packages (from datasets) (0.22.2)\n",
            "Requirement already satisfied: packaging in /usr/local/lib/python3.10/dist-packages (from datasets) (24.0)\n",
            "Requirement already satisfied: pyyaml>=5.1 in /usr/local/lib/python3.10/dist-packages (from datasets) (6.0.1)\n",
            "Requirement already satisfied: aiosignal>=1.1.2 in /usr/local/lib/python3.10/dist-packages (from aiohttp->datasets) (1.3.1)\n",
            "Requirement already satisfied: attrs>=17.3.0 in /usr/local/lib/python3.10/dist-packages (from aiohttp->datasets) (23.2.0)\n",
            "Requirement already satisfied: frozenlist>=1.1.1 in /usr/local/lib/python3.10/dist-packages (from aiohttp->datasets) (1.4.1)\n",
            "Requirement already satisfied: multidict<7.0,>=4.5 in /usr/local/lib/python3.10/dist-packages (from aiohttp->datasets) (6.0.5)\n",
            "Requirement already satisfied: yarl<2.0,>=1.0 in /usr/local/lib/python3.10/dist-packages (from aiohttp->datasets) (1.9.4)\n",
            "Requirement already satisfied: async-timeout<5.0,>=4.0 in /usr/local/lib/python3.10/dist-packages (from aiohttp->datasets) (4.0.3)\n",
            "Requirement already satisfied: typing-extensions>=3.7.4.3 in /usr/local/lib/python3.10/dist-packages (from huggingface-hub>=0.21.2->datasets) (4.11.0)\n",
            "Requirement already satisfied: charset-normalizer<4,>=2 in /usr/local/lib/python3.10/dist-packages (from requests>=2.19.0->datasets) (3.3.2)\n",
            "Requirement already satisfied: idna<4,>=2.5 in /usr/local/lib/python3.10/dist-packages (from requests>=2.19.0->datasets) (3.7)\n",
            "Requirement already satisfied: urllib3<3,>=1.21.1 in /usr/local/lib/python3.10/dist-packages (from requests>=2.19.0->datasets) (2.0.7)\n",
            "Requirement already satisfied: certifi>=2017.4.17 in /usr/local/lib/python3.10/dist-packages (from requests>=2.19.0->datasets) (2024.2.2)\n",
            "Requirement already satisfied: python-dateutil>=2.8.2 in /usr/local/lib/python3.10/dist-packages (from pandas->datasets) (2.8.2)\n",
            "Requirement already satisfied: pytz>=2020.1 in /usr/local/lib/python3.10/dist-packages (from pandas->datasets) (2023.4)\n",
            "Requirement already satisfied: tzdata>=2022.1 in /usr/local/lib/python3.10/dist-packages (from pandas->datasets) (2024.1)\n",
            "Requirement already satisfied: six>=1.5 in /usr/local/lib/python3.10/dist-packages (from python-dateutil>=2.8.2->pandas->datasets) (1.16.0)\n",
            "Requirement already satisfied: haversine in /usr/local/lib/python3.10/dist-packages (2.8.1)\n"
          ]
        }
      ],
      "source": [
        "!pip install lxml\n",
        "!pip install datasets\n",
        "!pip install haversine\n",
        "\n",
        "import requests\n",
        "import pandas as pd\n",
        "import numpy as np\n",
        "\n",
        "from datetime import datetime, timedelta\n",
        "from lxml import etree\n",
        "from haversine import haversine"
      ]
    },
    {
      "cell_type": "markdown",
      "source": [
        "# 함수 정의\n",
        "반드시 순서대로 호출할 것"
      ],
      "metadata": {
        "id": "UCodh0Iduex3"
      }
    },
    {
      "cell_type": "markdown",
      "source": [
        "오늘 날짜 불러와서 문자열로 나타내는 함수"
      ],
      "metadata": {
        "id": "BF2xf_POXPiu"
      }
    },
    {
      "cell_type": "code",
      "source": [
        "def whats_the_date():\n",
        "  what_date = datetime.now().strftime(\"%Y%m%d\")\n",
        "  what_time = datetime.now().strftime(\"%H%M\")\n",
        "  return what_date, what_time"
      ],
      "metadata": {
        "id": "OujJj4kKIHhe"
      },
      "execution_count": 329,
      "outputs": []
    },
    {
      "cell_type": "markdown",
      "source": [
        "ip로 현재위치 가져오고 내 위치 정보 출력하기"
      ],
      "metadata": {
        "id": "_b8-5o_slpFW"
      }
    },
    {
      "cell_type": "code",
      "source": [
        "# ip 주소로 내위치가져오기\n",
        "def print_ip_info():\n",
        "  try:\n",
        "      response = requests.get(\"http://ipinfo.io\")\n",
        "      data = response.json()\n",
        "      print(\"Your IP:\", data['ip'])\n",
        "      print(\"Your city:\", data['city'])\n",
        "      print(\"Your region:\", data['region'])\n",
        "      print(\"Your country:\", data['country'])\n",
        "      print(\"Your loc (Latitude and Longitude):\", data['loc'])\n",
        "  except Exception as e:\n",
        "      print(\"Error:\", e)\n",
        "\n",
        "# 파싱한 데이터는 딕셔너리 형태로 좌표 뿐 아니라 ip주소와 국가와 시 까지 불러올 수 있다.\n",
        "\n",
        "# 데이터 형태 :  {'ip': '1.226.221.109', 'city': 'Seoul', 'region': 'Seoul', 'country': 'KR', 'loc': '37.5660,126.9784', 'org': 'AS9318 SK Broadband Co Ltd', 'postal': '03141', 'timezone': 'Asia/Seoul', 'readme': 'https://ipinfo.io/missingauth'}"
      ],
      "metadata": {
        "id": "EgqBGuOXrOLx"
      },
      "execution_count": 330,
      "outputs": []
    },
    {
      "cell_type": "markdown",
      "source": [
        "내 위치정보 딕셔너리에서 내 좌표정보만 가져오기"
      ],
      "metadata": {
        "id": "leXwTwU7Klbb"
      }
    },
    {
      "cell_type": "code",
      "source": [
        "def get_my_loc(info):\n",
        "  my_lat, my_lon = my_coor['loc'].split(',')\n",
        "  my_lat = float(my_lat)\n",
        "  my_lon = float(my_lon)\n",
        "  my_loc = (my_lat, my_lon)\n",
        "\n",
        "  return my_loc"
      ],
      "metadata": {
        "id": "4ddDiQouKgKH"
      },
      "execution_count": 331,
      "outputs": []
    },
    {
      "cell_type": "markdown",
      "source": [
        "기상청 좌표 데이터 전처리함수"
      ],
      "metadata": {
        "id": "x9xMkv7pNaeL"
      }
    },
    {
      "cell_type": "code",
      "source": [
        "# 데이터셋 라이브러리를 사용하여 기상청 데이터셋 로드 - 로컬에서 안불러와도됨\n",
        "def bring_weather_coor():\n",
        "  dataset = load_dataset(\"hscrown/weather_api_info\")\n",
        "  kor_loc = pd.DataFrame(dataset['train'])\n",
        "  # kor_loc = pd.read_csv('dataset.csv')\n",
        "  kor_loc = kor_loc.iloc[:,:15] # 필요한 컬럼만 추출\n",
        "  kor_loc = kor_loc.dropna() # 2단계와 3단계가 모두 존재하는 행만 추출"
      ],
      "metadata": {
        "id": "FCao_sDCNe8U"
      },
      "execution_count": 332,
      "outputs": []
    },
    {
      "cell_type": "markdown",
      "source": [
        "내 좌표를 넣으면 가장 가까운 기상청 x,y좌표로 변환하는 함수"
      ],
      "metadata": {
        "id": "MrEfS7B0LrrA"
      }
    },
    {
      "cell_type": "code",
      "source": [
        "# 내 좌표를 기상청 x,y좌표로 변환\n",
        "\n",
        "def find_nearest_grid(my_loc):\n",
        "  grid = None\n",
        "  min_distance = float('inf')  # 무한대 값으로 초기화\n",
        "\n",
        "  for index, row in kor_loc.iterrows():\n",
        "      # 각 격자 지점에 대한 튜플 (위도, 경도)을 생성\n",
        "      grid_point = (row['위도(초/100)'], row['경도(초/100)'])\n",
        "\n",
        "      # haversine 공식을 사용하여 거리계산\n",
        "      distance = haversine(my_loc, grid_point)\n",
        "\n",
        "      # 가장 가까운 거리를 찾으면 정보를 업데이트\n",
        "      if distance < min_distance:\n",
        "          min_distance = distance\n",
        "          grid = row\n",
        "          nx = grid['격자 X']\n",
        "          ny = grid['격자 Y']\n",
        "\n",
        "      return grid,nx,ny"
      ],
      "metadata": {
        "id": "2BpuRLU0LxEZ"
      },
      "execution_count": 333,
      "outputs": []
    },
    {
      "cell_type": "markdown",
      "source": [
        "내 위치와 가장가까운 공원, 박물관 찾아주는 함수정의"
      ],
      "metadata": {
        "id": "WoCmrcpCNAKE"
      }
    },
    {
      "cell_type": "code",
      "source": [
        "# 내 위치와 가장 가까운 공원찾는 함수 정의\n",
        "def find_nearest_place(my_loc,df):\n",
        "  grid = None\n",
        "  min_distance = float('inf')  # 무한대 값으로 초기화\n",
        "\n",
        "  for index, row in df.iterrows():\n",
        "      # 각 격자 지점에 대한 튜플 (위도, 경도)을 생성\n",
        "      grid_point = (row['LATITUDE'], row['LONGITUDE'])\n",
        "\n",
        "      # haversine 공식을 사용하여 거리계산\n",
        "      distance = haversine(my_loc, grid_point)\n",
        "\n",
        "      # 가장 가까운 거리를 찾으면 정보를 업데이트\n",
        "      if distance < min_distance:\n",
        "          min_distance = distance\n",
        "          result = row\n",
        "\n",
        "      return result"
      ],
      "metadata": {
        "id": "xbWhep2gNHHr"
      },
      "execution_count": 334,
      "outputs": []
    },
    {
      "cell_type": "markdown",
      "source": [
        "# 좌표와 시간을 넣으면 기상정보를 제공하는 함수"
      ],
      "metadata": {
        "id": "T8N5rKgGP9TJ"
      }
    },
    {
      "cell_type": "code",
      "source": [
        "def get_weather_info(base_date,base_time,nx,ny):\n",
        "\n",
        "  # 초단기실황데이터\n",
        "  url = 'http://apis.data.go.kr/1360000/VilageFcstInfoService_2.0/getUltraSrtNcst'\n",
        "  params ={\n",
        "      'ServiceKey': 'sX3JWddMWHJxC43fx9mqgcqSsbmAlTpoFTUPbnrE1Db5uVnEAs7gJIL4Z3tzW1u2S6UC+8/go3xYCnG2wDctAQ==',\n",
        "      'pageNo': '1',\n",
        "      'numOfRows': '1000',\n",
        "      'dataType': 'XML',\n",
        "      'base_date': base_date,\n",
        "      'base_time': base_time,\n",
        "      'nx': nx,\n",
        "      'ny': ny\n",
        "  }\n",
        "\n",
        "  response = requests.get(url, params=params)\n",
        "  root = etree.fromstring(response.content)\n",
        "\n",
        "  # 데이터 파싱 및 추출\n",
        "  # category = root.xpath('//category/text()')[0] # 0:강수형태, 2:습도, 3:기온, 4:풍속\n",
        "  rain = root.xpath('//obsrValue/text()')[0] # 강수\n",
        "  temp = root.xpath('//obsrValue/text()')[3] # 기온\n",
        "\n",
        "  return rain,temp\n",
        "\n",
        "# print(f\"Result Code: {resultCode}, Message: {resultMsg}\")\n",
        "# print(f\"Number of Rows: {numOfRows}, Page Number: {pageNo}, Total Count: {totalCount}\")\n",
        "# print(f\"Data Type: {dataType}, Base Date: {base_date}, Base Time: {base_time}\")\n",
        "# print(f\"Coordinates: ({nx}, {ny}), Category: {category}, Observed Value: {obsrValue}\")"
      ],
      "metadata": {
        "id": "jsnPRaeiXcce"
      },
      "execution_count": 335,
      "outputs": []
    },
    {
      "cell_type": "markdown",
      "source": [
        "# 공원데이터 전처리 코드"
      ],
      "metadata": {
        "id": "dINX05YtR4HI"
      }
    },
    {
      "cell_type": "code",
      "source": [
        "def get_park_data():\n",
        "  # API 요청\n",
        "  start_point = 1\n",
        "  end_point = 1000 # 최대 1000개까지만 호출 할 수 있음\n",
        "  seoul_key = '57524f76506d656e3732636a52457a'\n",
        "\n",
        "\n",
        "  url = f'http://openAPI.seoul.go.kr:8088/{seoul_key}/json/SearchParkInfoService/{start_point}/{end_point}/'\n",
        "\n",
        "  park = requests.get(url).json()\n",
        "  park.keys() # ['SearchParkInfoService']\n",
        "\n",
        "  park = pd.DataFrame(park['SearchParkInfoService']['row'])\n",
        "\n",
        "  # ['LATITUDE'] 컬럼을 실수로 변경\n",
        "  # 결측행 삭제\n",
        "  park['LATITUDE'].replace('', np.nan, inplace=True)\n",
        "  park['LONGITUDE'].replace('', np.nan, inplace=True)\n",
        "  park = park.dropna()\n",
        "\n",
        "  # ['LATITUDE'] 컬럼을 실수로 변경\n",
        "  park['LATITUDE'] = park['LATITUDE'].astype(float)\n",
        "\n",
        "  # ['LONGITUDE'] 컬럼을 실수로 변경\n",
        "  park['LONGITUDE'] = park['LONGITUDE'].astype(float)\n",
        "\n",
        "  return park"
      ],
      "metadata": {
        "id": "0UTfJf9G_CU_"
      },
      "execution_count": 336,
      "outputs": []
    },
    {
      "cell_type": "markdown",
      "source": [
        "# 실행 코드"
      ],
      "metadata": {
        "id": "WXr_7rWhJY90"
      }
    },
    {
      "cell_type": "code",
      "source": [
        "# 변수에 오늘날짜 담기\n",
        "base_date, base_time = whats_the_date()\n",
        "base_date, base_time"
      ],
      "metadata": {
        "id": "xltwrjNtualB",
        "colab": {
          "base_uri": "https://localhost:8080/"
        },
        "outputId": "f1d5e2ef-de38-4384-ca10-a24b77d7c7fe"
      },
      "execution_count": 337,
      "outputs": [
        {
          "output_type": "execute_result",
          "data": {
            "text/plain": [
              "('20240422', '1958')"
            ]
          },
          "metadata": {},
          "execution_count": 337
        }
      ]
    },
    {
      "cell_type": "code",
      "source": [
        "# 내 위치정보\n",
        "my_info = print_ip_info()\n",
        "my_info"
      ],
      "metadata": {
        "colab": {
          "base_uri": "https://localhost:8080/"
        },
        "id": "uA8h5HYaLGhk",
        "outputId": "58010d1b-df03-4315-f0e3-8d080b80547b"
      },
      "execution_count": 338,
      "outputs": [
        {
          "output_type": "stream",
          "name": "stdout",
          "text": [
            "Your IP: 34.168.44.135\n",
            "Your city: The Dalles\n",
            "Your region: Oregon\n",
            "Your country: US\n",
            "Your loc (Latitude and Longitude): 45.5946,-121.1787\n"
          ]
        }
      ]
    },
    {
      "cell_type": "code",
      "source": [
        "# 변수에 내 위치 담기\n",
        "my_info= {'ip': '1.226.221.109', 'city': 'Seoul', 'region': 'Seoul', 'country': 'KR', 'loc': '37.5660,126.9784', 'org': 'AS9318 SK Broadband Co Ltd', 'postal': '03141', 'timezone': 'Asia/Seoul', 'readme': 'https://ipinfo.io/missingauth'}\n",
        "my_info\n",
        "my_loc = get_my_loc(my_info)\n",
        "my_loc"
      ],
      "metadata": {
        "colab": {
          "base_uri": "https://localhost:8080/"
        },
        "id": "ppBJROz7HXSz",
        "outputId": "36763ec3-dbbe-48a4-fbbe-e0fa05575573"
      },
      "execution_count": 339,
      "outputs": [
        {
          "output_type": "execute_result",
          "data": {
            "text/plain": [
              "(37.566, 126.9784)"
            ]
          },
          "metadata": {},
          "execution_count": 339
        }
      ]
    },
    {
      "cell_type": "code",
      "source": [
        "# 내 위치와 가장 가까운 위치 찾기\n",
        "grid,nx,ny = find_nearest_grid(my_loc)"
      ],
      "metadata": {
        "id": "T2ULmnAUugF_"
      },
      "execution_count": 340,
      "outputs": []
    },
    {
      "cell_type": "code",
      "source": [
        "grid[['1단계','2단계','3단계']]"
      ],
      "metadata": {
        "colab": {
          "base_uri": "https://localhost:8080/"
        },
        "id": "-vmAKXwk76V5",
        "outputId": "f6c1c162-6f43-4c79-dee9-55295048a7d5"
      },
      "execution_count": 341,
      "outputs": [
        {
          "output_type": "execute_result",
          "data": {
            "text/plain": [
              "1단계    서울특별시\n",
              "2단계      종로구\n",
              "3단계    청운효자동\n",
              "Name: 2, dtype: object"
            ]
          },
          "metadata": {},
          "execution_count": 341
        }
      ]
    },
    {
      "cell_type": "code",
      "source": [
        "nx,ny"
      ],
      "metadata": {
        "colab": {
          "base_uri": "https://localhost:8080/"
        },
        "id": "CluG-Vwf4xC1",
        "outputId": "0c93ca87-2d02-4d70-b1aa-40bd61558bc2"
      },
      "execution_count": 342,
      "outputs": [
        {
          "output_type": "execute_result",
          "data": {
            "text/plain": [
              "(60, 127)"
            ]
          },
          "metadata": {},
          "execution_count": 342
        }
      ]
    },
    {
      "cell_type": "code",
      "source": [
        "rain, temp = get_weather_info(base_date,base_time,nx,ny)\n",
        "rain, temp"
      ],
      "metadata": {
        "colab": {
          "base_uri": "https://localhost:8080/"
        },
        "id": "YvwrG2uSSebW",
        "outputId": "60755c53-0175-4112-b308-59db80d22320"
      },
      "execution_count": 343,
      "outputs": [
        {
          "output_type": "execute_result",
          "data": {
            "text/plain": [
              "('0', '21.5')"
            ]
          },
          "metadata": {},
          "execution_count": 343
        }
      ]
    },
    {
      "cell_type": "code",
      "source": [
        "park = get_park_data()\n",
        "park.head(1)"
      ],
      "metadata": {
        "colab": {
          "base_uri": "https://localhost:8080/",
          "height": 239
        },
        "id": "4CwwQGMiAeE5",
        "outputId": "a4d4ceb3-eda7-48f6-ef24-2fcbfa3da61a"
      },
      "execution_count": 352,
      "outputs": [
        {
          "output_type": "execute_result",
          "data": {
            "text/plain": [
              "  P_IDX    P_PARK                                     P_LIST_CONTENT  \\\n",
              "0     1  남산도시자연공원  남산공원은 도심에 위치하여 서울시민에게 맑은 공기를 제공하는 자연휴식처이며 산책 꽃...   \n",
              "\n",
              "                                           AREA    OPEN_DT  \\\n",
              "0  2896887㎡ 임 야 : 2454140㎡ 녹지대 및 기타시설 : 442747㎡  1968.9.10   \n",
              "\n",
              "                                          MAIN_EQUIP  \\\n",
              "0  기반시설 : 광장 45950㎡ 도로 108530㎡ 산책로 6.7㎞ (북측:3.7㎞/...   \n",
              "\n",
              "                         MAIN_PLANTS  \\\n",
              "0  소나무 단풍 아카시아 상수리나무 등 191종 2881870주   \n",
              "\n",
              "                                            GUIDANCE  \\\n",
              "0  http://parks.seoul.go.kr/upload/seditorMulti/2...   \n",
              "\n",
              "                                          VISIT_ROAD  \\\n",
              "0  명동역(남산케이블카 와룡묘 서울애니메이션센터 방면) 도보 명동역 3번출구 → 퍼시픽...   \n",
              "\n",
              "                                           USE_REFER  \\\n",
              "0  남산공원 차량통행 금지안내 2005년 5월 1일부터 남산공원에 일반승용차 택시 통행...   \n",
              "\n",
              "                                               P_IMG P_ZONE  \\\n",
              "0  http://parks.seoul.go.kr/file/info/view.do?fId...     중구   \n",
              "\n",
              "                   P_ADDR          P_NAME    P_ADMINTEL G_LONGITUDE  \\\n",
              "0  서울특별시 중구 삼일대로 231(예장동)  서울특별시중부푸른도시사업소  02-3783-5900  198364.107   \n",
              "\n",
              "   G_LATITUDE   LONGITUDE  LATITUDE  \\\n",
              "0  450395.554  126.990377  37.55014   \n",
              "\n",
              "                                      TEMPLATE_URL  \n",
              "0  http://parks.seoul.go.kr/template/sub/namsan.do  "
            ],
            "text/html": [
              "\n",
              "  <div id=\"df-cc5ce8fc-a7e6-419b-9728-5a611067e30e\" class=\"colab-df-container\">\n",
              "    <div>\n",
              "<style scoped>\n",
              "    .dataframe tbody tr th:only-of-type {\n",
              "        vertical-align: middle;\n",
              "    }\n",
              "\n",
              "    .dataframe tbody tr th {\n",
              "        vertical-align: top;\n",
              "    }\n",
              "\n",
              "    .dataframe thead th {\n",
              "        text-align: right;\n",
              "    }\n",
              "</style>\n",
              "<table border=\"1\" class=\"dataframe\">\n",
              "  <thead>\n",
              "    <tr style=\"text-align: right;\">\n",
              "      <th></th>\n",
              "      <th>P_IDX</th>\n",
              "      <th>P_PARK</th>\n",
              "      <th>P_LIST_CONTENT</th>\n",
              "      <th>AREA</th>\n",
              "      <th>OPEN_DT</th>\n",
              "      <th>MAIN_EQUIP</th>\n",
              "      <th>MAIN_PLANTS</th>\n",
              "      <th>GUIDANCE</th>\n",
              "      <th>VISIT_ROAD</th>\n",
              "      <th>USE_REFER</th>\n",
              "      <th>P_IMG</th>\n",
              "      <th>P_ZONE</th>\n",
              "      <th>P_ADDR</th>\n",
              "      <th>P_NAME</th>\n",
              "      <th>P_ADMINTEL</th>\n",
              "      <th>G_LONGITUDE</th>\n",
              "      <th>G_LATITUDE</th>\n",
              "      <th>LONGITUDE</th>\n",
              "      <th>LATITUDE</th>\n",
              "      <th>TEMPLATE_URL</th>\n",
              "    </tr>\n",
              "  </thead>\n",
              "  <tbody>\n",
              "    <tr>\n",
              "      <th>0</th>\n",
              "      <td>1</td>\n",
              "      <td>남산도시자연공원</td>\n",
              "      <td>남산공원은 도심에 위치하여 서울시민에게 맑은 공기를 제공하는 자연휴식처이며 산책 꽃...</td>\n",
              "      <td>2896887㎡ 임 야 : 2454140㎡ 녹지대 및 기타시설 : 442747㎡</td>\n",
              "      <td>1968.9.10</td>\n",
              "      <td>기반시설 : 광장 45950㎡ 도로 108530㎡ 산책로 6.7㎞ (북측:3.7㎞/...</td>\n",
              "      <td>소나무 단풍 아카시아 상수리나무 등 191종 2881870주</td>\n",
              "      <td>http://parks.seoul.go.kr/upload/seditorMulti/2...</td>\n",
              "      <td>명동역(남산케이블카 와룡묘 서울애니메이션센터 방면) 도보 명동역 3번출구 → 퍼시픽...</td>\n",
              "      <td>남산공원 차량통행 금지안내 2005년 5월 1일부터 남산공원에 일반승용차 택시 통행...</td>\n",
              "      <td>http://parks.seoul.go.kr/file/info/view.do?fId...</td>\n",
              "      <td>중구</td>\n",
              "      <td>서울특별시 중구 삼일대로 231(예장동)</td>\n",
              "      <td>서울특별시중부푸른도시사업소</td>\n",
              "      <td>02-3783-5900</td>\n",
              "      <td>198364.107</td>\n",
              "      <td>450395.554</td>\n",
              "      <td>126.990377</td>\n",
              "      <td>37.55014</td>\n",
              "      <td>http://parks.seoul.go.kr/template/sub/namsan.do</td>\n",
              "    </tr>\n",
              "  </tbody>\n",
              "</table>\n",
              "</div>\n",
              "    <div class=\"colab-df-buttons\">\n",
              "\n",
              "  <div class=\"colab-df-container\">\n",
              "    <button class=\"colab-df-convert\" onclick=\"convertToInteractive('df-cc5ce8fc-a7e6-419b-9728-5a611067e30e')\"\n",
              "            title=\"Convert this dataframe to an interactive table.\"\n",
              "            style=\"display:none;\">\n",
              "\n",
              "  <svg xmlns=\"http://www.w3.org/2000/svg\" height=\"24px\" viewBox=\"0 -960 960 960\">\n",
              "    <path d=\"M120-120v-720h720v720H120Zm60-500h600v-160H180v160Zm220 220h160v-160H400v160Zm0 220h160v-160H400v160ZM180-400h160v-160H180v160Zm440 0h160v-160H620v160ZM180-180h160v-160H180v160Zm440 0h160v-160H620v160Z\"/>\n",
              "  </svg>\n",
              "    </button>\n",
              "\n",
              "  <style>\n",
              "    .colab-df-container {\n",
              "      display:flex;\n",
              "      gap: 12px;\n",
              "    }\n",
              "\n",
              "    .colab-df-convert {\n",
              "      background-color: #E8F0FE;\n",
              "      border: none;\n",
              "      border-radius: 50%;\n",
              "      cursor: pointer;\n",
              "      display: none;\n",
              "      fill: #1967D2;\n",
              "      height: 32px;\n",
              "      padding: 0 0 0 0;\n",
              "      width: 32px;\n",
              "    }\n",
              "\n",
              "    .colab-df-convert:hover {\n",
              "      background-color: #E2EBFA;\n",
              "      box-shadow: 0px 1px 2px rgba(60, 64, 67, 0.3), 0px 1px 3px 1px rgba(60, 64, 67, 0.15);\n",
              "      fill: #174EA6;\n",
              "    }\n",
              "\n",
              "    .colab-df-buttons div {\n",
              "      margin-bottom: 4px;\n",
              "    }\n",
              "\n",
              "    [theme=dark] .colab-df-convert {\n",
              "      background-color: #3B4455;\n",
              "      fill: #D2E3FC;\n",
              "    }\n",
              "\n",
              "    [theme=dark] .colab-df-convert:hover {\n",
              "      background-color: #434B5C;\n",
              "      box-shadow: 0px 1px 3px 1px rgba(0, 0, 0, 0.15);\n",
              "      filter: drop-shadow(0px 1px 2px rgba(0, 0, 0, 0.3));\n",
              "      fill: #FFFFFF;\n",
              "    }\n",
              "  </style>\n",
              "\n",
              "    <script>\n",
              "      const buttonEl =\n",
              "        document.querySelector('#df-cc5ce8fc-a7e6-419b-9728-5a611067e30e button.colab-df-convert');\n",
              "      buttonEl.style.display =\n",
              "        google.colab.kernel.accessAllowed ? 'block' : 'none';\n",
              "\n",
              "      async function convertToInteractive(key) {\n",
              "        const element = document.querySelector('#df-cc5ce8fc-a7e6-419b-9728-5a611067e30e');\n",
              "        const dataTable =\n",
              "          await google.colab.kernel.invokeFunction('convertToInteractive',\n",
              "                                                    [key], {});\n",
              "        if (!dataTable) return;\n",
              "\n",
              "        const docLinkHtml = 'Like what you see? Visit the ' +\n",
              "          '<a target=\"_blank\" href=https://colab.research.google.com/notebooks/data_table.ipynb>data table notebook</a>'\n",
              "          + ' to learn more about interactive tables.';\n",
              "        element.innerHTML = '';\n",
              "        dataTable['output_type'] = 'display_data';\n",
              "        await google.colab.output.renderOutput(dataTable, element);\n",
              "        const docLink = document.createElement('div');\n",
              "        docLink.innerHTML = docLinkHtml;\n",
              "        element.appendChild(docLink);\n",
              "      }\n",
              "    </script>\n",
              "  </div>\n",
              "\n",
              "\n",
              "    </div>\n",
              "  </div>\n"
            ],
            "application/vnd.google.colaboratory.intrinsic+json": {
              "type": "dataframe",
              "variable_name": "park",
              "summary": "{\n  \"name\": \"park\",\n  \"rows\": 131,\n  \"fields\": [\n    {\n      \"column\": \"P_IDX\",\n      \"properties\": {\n        \"dtype\": \"string\",\n        \"num_unique_values\": 131,\n        \"samples\": [\n          \"56\",\n          \"41\",\n          \"20\"\n        ],\n        \"semantic_type\": \"\",\n        \"description\": \"\"\n      }\n    },\n    {\n      \"column\": \"P_PARK\",\n      \"properties\": {\n        \"dtype\": \"string\",\n        \"num_unique_values\": 131,\n        \"samples\": [\n          \"\\ubc30\\ubd09\\uc0b0\\uadfc\\ub9b0\\uacf5\\uc6d0\",\n          \"\\ub300\\ubaa8\\uc0b0\\ub3c4\\uc2dc\\uc790\\uc5f0\\uacf5\\uc6d0\",\n          \"\\uc6a9\\uc0b0\\uac00\\uc871\\uacf5\\uc6d0\"\n        ],\n        \"semantic_type\": \"\",\n        \"description\": \"\"\n      }\n    },\n    {\n      \"column\": \"P_LIST_CONTENT\",\n      \"properties\": {\n        \"dtype\": \"string\",\n        \"num_unique_values\": 131,\n        \"samples\": [\n          \"\\uacf5\\uc6d0\\uc774 \\ubd80\\uc871\\ud55c \\ub3d9\\ub300\\ubb38\\uad6c\\uc758 \\uc720\\uc77c\\ud55c \\uc0b0\\uc9c0\\ud615 \\uacf5\\uc6d0\\uc774\\uba74\\uc11c \\uc0c1\\uc9d5\\uacf5\\uc6d0\\uc73c\\ub85c \\uad70\\ubd80\\ub300\\uac00 \\uc8fc\\ub454\\ud558\\uace0 \\ub192\\uc774 15~20m\\uc758 \\uc808\\uac1c\\uc9c0\\uc5d0 \\ub300\\uaddc\\ubaa8 \\uc554\\ubc18\\uc774 \\ub178\\ucd9c\\ub418\\uc5b4 \\uc788\\ub358 \\uacf3\\uc744 1992\\ub144\\uc5d0 \\uacf5\\uc6d0\\uc73c\\ub85c \\uc870\\uc131\\ud558\\uc600\\ub2e4. \\uacf5\\uc6d0 \\ub0b4 50\\ub144 \\ub118\\uac8c \\uacf5\\uc6d0\\uacbd\\uad00\\uc744 \\uc800\\ud574\\ud558\\ub358 \\uc704\\uc0dd \\ubcd1\\uc6d0 \\ub2f4\\uc7a5\\uc744 \\ucca0\\uac70\\ud558\\uace0 \\uadf8 \\uc790\\ub9ac\\uc5d0 \\uc57c\\uc0dd\\ud654 \\ub2e8\\uc9c0 \\uc0dd\\ud0dc\\uc5f0\\ubabb \\uc9c0\\uc555\\ubcf4\\ub3c4 \\ub4f1\\uc744 \\uc124\\uce58\\ud558\\uc5ec \\uc790\\uc5f0\\ud559\\uc2b5\\uc7a5\\uc744 \\ubc0f \\uc8fc\\ubbfc \\ud734\\uc2dd\\uacf5\\uac04\\uc73c\\ub85c \\uc870\\uc131\\ud558\\uc600\\ub2e4. \\uadf8\\ubc16\\uc5d0 \\uc5b4\\ub9b0\\uc774 \\ub180\\uc774\\ud130 \\ubc0f \\uc57c\\uc678\\uacf5\\uc5f0\\uc7a5 \\uac01\\uc885 \\uc6b4\\ub3d9\\uc2dc\\uc124 4km\\uc758 \\uc0b0\\ucc45\\ub85c\\uac00 \\uc788\\uc5b4 \\uc9c0\\uc5ed\\uc8fc\\ubbfc\\uc758 \\uc0dd\\ud65c\\ubb38\\ud654 \\ud5a5\\uc0c1 \\ubc0f \\uc5ec\\uac00\\uc0dd\\ud65c\\uc758 \\uc7a5\\uc73c\\ub85c \\ud65c\\uc6a9\\ub418\\uace0 \\uc788\\uc73c\\uba70 \\ubd80\\uc871\\ud55c \\ub179\\uc9c0\\uacf5\\uac04 \\ud655\\ubcf4\\ub97c \\uc704\\ud574 \\uae30\\uc874 \\uacf5\\uc6d0\\uacfc \\uc911\\ub791\\ucc9c \\uc81c\\ubc29\\uc744 \\uc5f0\\uacc4\\ud55c \\ub179\\uc9c0 \\uc21c\\ud658\\uae38\\uc744 \\uc870\\uc131\\ud558\\uace0\\uc790 \\ubc30\\ubd09\\uc0b0\\uadfc\\ub9b0\\uacf5\\uc6d0 \\ub0b4 \\uc0b0\\ucc45\\ub85c\\ub97c \\ubcf4\\uc644 \\uc815\\ube44\\ud558\\uace0 \\uc911\\ub791\\ucc9c \\uae38\\uacfc \\uc5f0\\uacc4\\ud55c \\ubcf4\\ub3c4 \\uc721\\uad50\\ub97c \\uc5f0\\uacb0\\ud558\\uc5ec \\uba85\\uc2e4\\uacf5\\ud788 \\ub3d9\\ub300\\ubb38\\uad6c\\uc758 \\uccb4\\uacc4\\ud654\\ub41c \\uc911\\uc2ec\\uacf5\\uc6d0\\uc73c\\ub85c \\uac70\\ub4ed\\ub098\\uace0 \\uc788\\ub2e4. \\ub9e4\\ub144 5\\uc6d4\\uc5d0 \\uad6c\\ubbfc \\uac77\\uae30\\ub300\\ud68c\\uac00 \\uc5f4\\ub9ac\\uace0 \\ub610\\ud55c \\uc0ac\\uc0dd\\ub300\\ud68c \\ubb38\\ud654 \\uad00\\ub828 \\uc74c\\uc545\\ud589\\uc0ac \\uccb4\\uc870\\uad50\\uc2e4 \\ub4f1 \\ub2e4\\uc591\\ud55c \\uc774\\uc6a9 \\ud504\\ub85c\\uadf8\\ub7a8\\uc744 \\uc9c4\\ud589\\ud558\\uace0 \\uc788\\uc5b4 \\uacf5\\uc6d0 \\uc774\\uc6a9\\uc774 \\ud65c\\uc131\\ud654\\ub41c \\uacf3\\uc774\\ub2e4. \",\n          \"\\uad6d\\uc218\\ubd09\\uc774\\ub77c\\uace0\\ub3c4 \\ubd88\\ub838\\ub358 \\ub192\\uc774 293m\\uc758 \\ub098\\uc9c0\\ub9c9\\ud55c \\uc0b0\\uc73c\\ub85c \\uc0b0 \\ubaa8\\uc591\\uc774 \\ub299\\uc740 \\ud560\\ubbf8\\uc640 \\uac19\\ub2e4 \\ud558\\uc5ec \\ud560\\ubbf8\\uc0b0\\uc73c\\ub85c \\ubd88\\ub9ac\\ub2e4\\uac00 \\ud0dc\\uc885\\uc758 \\ud5cc\\ub989\\uc744 \\ubaa8\\uc2e0 \\ud6c4 \\uc5b4\\uba85\\uc73c\\ub85c \\ub300\\ubaa8\\uc0b0\\uc73c\\ub85c \\uace0\\ucce4\\ub2e4\\uace0 \\ud55c\\ub2e4. \\uc608\\ubd80\\ud130 \\uc804\\ud574 \\ub0b4\\ub824\\uc624\\ub294 \\uad6c\\uc804\\uc5d0 \\uc758\\ud558\\uba74 \\uc0b0 \\ubaa8\\uc591\\uc774 \\uc5ec\\uc2b9\\uc758 \\uc549\\uc740 \\ubaa8\\uc2b5\\uacfc \\uac19\\ub2e4 \\ud558\\ub294 \\uc124\\uacfc \\uc5ec\\uc790\\uc758 \\uc55e\\uac00\\uc2b4 \\ubaa8\\uc591\\uacfc \\uac19\\ub2e4 \\ud558\\uc5ec \\ub300\\ubaa8\\uc0b0\\uc774\\ub77c\\ub294 \\uc124\\uc774 \\uc788\\uc73c\\uba70 \\uc774 \\uc0b0\\uc5d0\\ub294 \\ubd88\\uad6d\\uc0ac(\\uc57d\\uc0ac\\uc808)\\ub97c \\ube44\\ub86f\\ud558\\uc5ec \\uc218\\uc9c8 \\uc88b\\uc740 \\uc57d\\uc218\\ud130\\uac00 \\uc788\\uace0 \\uc0b0 \\uc785\\uad6c\\uc5d0\\ub294 \\uac01\\uc885 \\ud76c\\uadc0 \\ub098\\ubb34\\ub85c \\uac00\\uafb8\\uc5b4\\uc9c4 \\uc790\\uc5f0 \\ud559\\uc2b5\\uc7a5\\uc774 \\uc788\\uc5b4 \\ud559\\uc0dd\\ub4e4\\uc758 \\uc57c\\uc678 \\uad50\\uc721\\uc7a5 \\ubc0f \\uc8fc\\ubbfc\\ub4e4\\uc758 \\uc0b0\\ucc45\\ub85c\\ub85c \\uc0ac\\ub791\\ubc1b\\uace0 \\uc788\\ub2e4.\",\n          \"\\ub113\\uc740 \\uc794\\ub514\\ubc2d\\uacfc \\uc5f0\\ubabb \\ub4f1 \\uc11c\\uad6c\\ud48d\\uc758 \\uacf5\\uc6d0 \\ubaa8\\uc2b5\\uc744 \\ub290\\ub084 \\uc218 \\uc788\\ub294 \\uacf3\\uc73c\\ub85c \\uc784\\uc9c4\\uc65c\\ub780(1592~1598\\ub144)\\ub54c \\uc65c\\uad70\\uc774 \\ubcd1\\ucc38\\uae30\\uc9c0(\\u5175\\u7ad9\\u57fa\\u5730)\\ub85c \\uc0ac\\uc6a9\\ud558\\uc600\\uace0 \\uc784\\uc624\\uad70\\ub780(1882\\ub144)\\ub54c\\ub294 \\uccad\\ub098\\ub77c \\uad70\\uc0ac\\uac00 \\uc810\\uc720\\ud558\\uc600\\uc73c\\uba70 \\uac11\\uc2e0\\uc815\\ubcc0(1884\\ub144)\\uacfc \\ub7ec\\uc77c\\uc804\\uc7c1(1904\\ub144) \\uadf8\\ub9ac\\uace0 1906\\ub144\\ubd80\\ud130 1945\\ub144 \\ud574\\ubc29 \\uc804 \\uae4c\\uc9c0 \\uc77c\\ubcf8\\uc778\\ub4e4\\uc774 \\uad70 \\uc2dc\\uc124 \\ubc0f \\uac70\\uc8fc\\uc9c0 \\ub4f1\\uc73c\\ub85c \\uc0ac\\uc6a9\\ud558\\uc600\\ub2e4. 6?25 \\ub54c UN\\uad70 \\ubc0f \\uc8fc\\ud55c\\ubbf8\\uad70\\uc0ac\\ub839\\ubd80\\uac00 \\uc124\\uce58\\ub418\\uc5c8\\ub358 \\uac83\\uc744 1992\\ub144 \\uc11c\\uc6b8\\uc2dc\\uc5d0\\uc11c \\uc778\\uc218\\ud558\\uc5ec \\uacf5\\uc6d0\\uc73c\\ub85c \\uc870\\uc131\\ud55c \\uac83\\uc774\\ub2e4. \\ub610 \\ub0a8\\uc0b0\\uacfc \\ud55c\\uac15 \\uc0ac\\uc774\\uc5d0 \\uc704\\uce58\\ud574 \\uc11c\\uc6b8\\uc2dc\\uc758 \\ub0a8\\ubd81 \\ub179\\uc9c0\\ucd95\\uc758 \\uc5f0\\uacb0\\uace0\\ub9ac\\ub85c \\uc11c\\uc6b8\\uc2dc \\ub179\\uc9c0\\uccb4\\uacc4\\uc758 \\uad6c\\uc2ec\\uc810\\uc774 \\ub418\\uba70 \\uc911\\uc559\\uacf5\\uc6d0\\uc758 \\uc131\\uaca9\\uc744 \\ub744\\uace0 \\uc788\\ub2e4. \\uc804\\uccb4 \\uacf5\\uc6d0\\ubd80\\uc9c0\\uc911 \\uace8\\ud504\\uc7a5\\uc774 \\ub4e4\\uc5b4 \\uc11c\\uc788\\ub358 \\uacf3\\uc5d0 \\uc5b8\\ub355 \\uc794\\ub514 \\uad11\\uc7a5 \\uc5f0\\ubabb\\uc744 \\uc704\\uc8fc\\ub85c \\uac1c\\ubc29\\uc801\\uc774\\uace0 \\ub2e8\\ub780\\ud55c \\ubd84\\uc704\\uae30\\uc758 \\uacf5\\uc6d0\\uc774 \\uc870\\uc131\\ub418\\uc5b4 \\uc11c\\uc6b8\\uc2dc\\ubbfc\\ub4e4\\uc758 \\uc790\\uc720\\ub86d\\uace0 \\ud3c9\\ud654\\ub85c\\uc6b4 \\ud734\\uc2dd\\ucc98\\ub85c \\uac01\\uad11\\uc744 \\ubc1b\\uace0 \\uc788\\ub2e4. \"\n        ],\n        \"semantic_type\": \"\",\n        \"description\": \"\"\n      }\n    },\n    {\n      \"column\": \"AREA\",\n      \"properties\": {\n        \"dtype\": \"string\",\n        \"num_unique_values\": 129,\n        \"samples\": [\n          \"265582\\u33a1\",\n          \"2277252\\u33a1 \",\n          \"75900\\u33a1\"\n        ],\n        \"semantic_type\": \"\",\n        \"description\": \"\"\n      }\n    },\n    {\n      \"column\": \"OPEN_DT\",\n      \"properties\": {\n        \"dtype\": \"string\",\n        \"num_unique_values\": 96,\n        \"samples\": [\n          \"2006.3\",\n          \"2006.1.1\",\n          \"2001.6.1\"\n        ],\n        \"semantic_type\": \"\",\n        \"description\": \"\"\n      }\n    },\n    {\n      \"column\": \"MAIN_EQUIP\",\n      \"properties\": {\n        \"dtype\": \"string\",\n        \"num_unique_values\": 124,\n        \"samples\": [\n          \"\\uae30\\ubc18\\uc2dc\\uc124 : \\uad11\\uc7a5 1300\\u33a1 \\uc870\\uacbd\\uc2dc\\uc124 : \\uc5f0\\ubabb 1\\uac1c\\uc18c 888\\u33a1(\\uc74c\\uc545\\ubd84\\uc218 108) \\uc6b4\\ub3d9\\uc2dc\\uc124 : \\ubc30\\ub4dc\\ubbfc\\ud134\\ucf54\\ud2b8 4\\uba74 600\\u33a1(182\\ud3c9) \\ub18d\\uad6c\\ub300 4\\uc870 \\uc871\\uad6c\\uc7a5 442\\u33a1(134\\ud3c9) \\uccb4\\ub825\\ub2e8\\ub828\\uc2dc\\uc124 32\\uc870 \\uccb4\\ub825\\ub2e8\\ub828\\uc2dc\\uc124 \\uc0c1\\uc138 : \\ud5c8\\ub9ac\\ub3cc\\ub9ac\\uae30 4 \\ucca0\\ubd09 3 \\uc606\\ud30c\\ub3c4\\ud0c0\\uae30 3 \\uacf5\\uc911\\uac77\\uae30 2 \\uc624\\uae08\\ud3b4\\uae30 1 \\ub808\\uadf8\\uc775\\uc2a4\\ud150\\uc158 1 \\uc717\\ubab8\\uc77c\\uc73c\\ud0a4\\uae30 1 \\ub85c\\ud504\\ub2f9\\uae30\\uae30 2 \\ud314\\ub0b4\\ub9ac\\uae30\\uc6b4\\ub3d9 1 \\ubca4\\uce58\\ud504\\ub808\\uc2a4 4 \\uccb4\\uc2a4\\ud2b8\\uc6e8\\uc774\\ud2b8 1 \\ub81b\\ud480\\ub2e4\\uc6b4 1 \\ud329\\ub371\\uba38\\uc2e0 1 \\ub178\\uc813\\uae30\\uc6b4\\ub3d9 1 \\uc591\\ub2e4\\ub9ac\\uc6b4\\ub3d9 2 \\uc0c1\\uccb4\\uadfc\\uc721\\ud480\\uae30 2 \\ub2e4\\ub9ac\\uc6b4\\ub3d9 1 \\uc591\\ud68c\\uc804\\uc6b4\\ub3d9 1 \\ub4f1?\\ud5c8\\ub9ac\\uc9c0\\uc555\\uae30 1 \\uc628\\ubab8\\uc5ed\\ub3c4\\uc62c\\ub9ac\\uae30 3 \\ubc84\\ud130\\ud50c\\ub77c\\uc774 1 \\uad50\\uc591\\uc2dc\\uc124 : \\uc57c\\uc678\\ubb34\\ub300 1\\uac1c\\uc18c 213\\u33a1 \\ub3c4\\uc11c\\uad00 473\\u33a1 \\ud3b8\\uc758\\uc2dc\\uc124 : \\ubca4\\uce58(\\ub4f1\\ubc1b\\uc774) 64 \\ubca4\\uce58 40 \\ud314\\uac01\\uc815\\uc790 1\\uac1c\\uc18c \\ud3c9\\uc0c1 17 \\uc6d0\\ud615\\ud14c\\uc774\\ube14 2 \\ud53c\\ud06c\\ub2c9\\ud14c\\uc774\\ube14 27 \\uc74c\\uc218\\ub300 2 \\uad00\\ub9ac\\uc2dc\\uc124 : \\uacf5\\uc6d0\\ub4f1 58\\ubcf8 \\uac10\\uc2dc\\uce74\\uba54\\ub77c 5\\ubcf8 \\uc11c\\uce58\\ub77c\\uc774\\ud2b8 2\\uc870 \\uc2a4\\ud53c\\ucee4 34\\uac1c \\uc74c\\uc545\\ubd84\\uc218\\uc81c\\uc5b4\\uc2e4 1 \",\n          \"\\uac08\\uc0b0\\uc815(\\uc815\\uc0c1) 1\\ub3d9 \\uad50\\ud1b5\\uad50\\uc721\\uad00 \\ubc0f \\uc804\\uc2dc\\ubb3c \\uad50\\ud1b5\\uc548\\uc804\\uad50\\uc721 \\uccb4\\ud5d8\\uc7a5 \\uc5b4\\ub9b0\\uc774\\ub180\\uc774\\ud130 \\uba40\\ud2f0\\ucf54\\ud2b8\\uc7a5 \\ub4f1 \\uc911\\uc2ec\\uad11\\uc7a5 \\uc804\\ub9dd\\ub300 \\uac01\\uc885 \\uc6b4\\ub3d9\\uc2dc\\uc124 \",\n          \"\\uc784\\ub2f9 \\uc815\\uacf5 \\uc2e0\\ub3c4\\ube44 \"\n        ],\n        \"semantic_type\": \"\",\n        \"description\": \"\"\n      }\n    },\n    {\n      \"column\": \"MAIN_PLANTS\",\n      \"properties\": {\n        \"dtype\": \"string\",\n        \"num_unique_values\": 89,\n        \"samples\": [\n          \"\\ubc9a\\ub098\\ubb34 \\uc740\\ud589\\ub098\\ubb34 \\ucc38\\ub098\\ubb34\\ub958   \",\n          \"\\uc18c\\ub098\\ubb34 \\ub290\\ud2f0\\ub098\\ubb34 \\ud5a5\\ub098\\ubb34 \\ud325\\ubc30\\ub098\\ubb34 \\ubb34\\uad81\\ud654 \\uc8fc\\ubaa9 \\uad6c\\uc0c1\\ub098\\ubb34\",\n          \"\\ub9ac\\uae30\\ub2e4\\uc18c\\ub098\\ubb34 \\ub290\\ud2f0\\ub098\\ubb34 \\uc544\\uae4c\\uc2dc\\ub098\\ubb34 \\ub54c\\uc8fd\\ub098\\ubb34 \\uc0c1\\uc218\\ub9ac\\ub098\\ubb34 \"\n        ],\n        \"semantic_type\": \"\",\n        \"description\": \"\"\n      }\n    },\n    {\n      \"column\": \"GUIDANCE\",\n      \"properties\": {\n        \"dtype\": \"string\",\n        \"num_unique_values\": 103,\n        \"samples\": [\n          \"http://parks.seoul.go.kr/template/common/img/park_info/15_goongsan/goongsan_guide.jpg\",\n          \"http://parks.seoul.go.kr/upload/seditorMulti/201605261632050783dda2-895e-4493-a22d-4eb1c6a9b500.png\",\n          \"http://parks.seoul.go.kr/template/common/img/park_info/46_sayuksin/sayuksin_guide.jpg\"\n        ],\n        \"semantic_type\": \"\",\n        \"description\": \"\"\n      }\n    },\n    {\n      \"column\": \"VISIT_ROAD\",\n      \"properties\": {\n        \"dtype\": \"string\",\n        \"num_unique_values\": 115,\n        \"samples\": [\n          \"\\uc9c0\\ud558\\ucca0 4\\ud638\\uc120 \\uc30d\\ubb38\\uc5ed \\u2192 1km\\uac77\\uae30 A \\uc30d\\ubb38\\uadfc\\ub9b0\\uacf5\\uc6d0\\uc785\\uad6c B \\uccad\\uc18c\\ub144\\ubb38\\ud654\\ud68c\\uad00 F \\uc138\\uc2ec\\ucc9c\\uc9c0\\uad6c\\uc785\\uad6c G \\uc138\\uc2ec\\ucc9c\\uc9c0\\uad6c  \\ubc84\\uc2a4(G \\uc9c0\\uc120 B \\uac04\\uc120 R \\uad11\\uc5ed Y \\uc21c\\ud658) G \\ub3c4\\ubd0907 \\ub3c4\\ubd0904 \\ub3c4\\ubd0901 \\uc120\\ub355\\ud559\\uc6d0 \\ud558\\ucc28 G 111911281157  \\uc138\\uadf8\\ub8e8\\ud559\\uc6d0 \\ud558\\ucc28 G \\ub3c4\\ubd0905  \\uc6b0\\uc1311\\ucc28\\uc544\\ud30c\\ud2b8 \\ucd08\\ub2f9\\ucd08\\ub4f1\\ud559\\uad50 \\ud558\\ucc28  \\uc2b9\\uc6a9\\ucc28 \\uc2dc\\uccad \\u2192 \\uc138\\uc885\\ub85c\\uc0ac\\uac70\\ub9ac \\uc6b0\\uce21 \\u2192 \\uc885\\ub85c5\\uac00 \\uc774\\ud654\\uc0ac\\uac70\\ub9ac \\u2192 \\ud61c\\ud654\\ub3d9\\uc0ac\\uac70\\ub9ac \\u2192 \\ubbf8\\uc544\\uc0ac\\uac70\\ub9ac \\u2192 \\uac15\\ubd81\\uad6c\\uccad \\u2192 \\uad11\\uc0b0\\uc0ac\\uac70\\ub9ac \\u2192 \\uc22d\\ubbf8\\ucd08\\ub4f1\\ud559\\uad50 \\u2192 \\uc30d\\ubb38\\uadfc\\ub9b0\\uacf5\\uc6d0  \\uc8fc\\ucc28\\uc7a5 \\uc8fc\\ucc28\\uc7a5\\uc774 \\uc5c6\\uc73c\\ubbc0\\ub85c \\ub300\\uc911\\uad50\\ud1b5\\uc744 \\uc774\\uc6a9\\ud558\\uc2dc\\uae30 \\ubc14\\ub78d\\ub2c8\\ub2e4. \",\n          \"\\uc9c0\\ud558\\ucca0 3\\ud638\\uc120 \\uacbd\\ubcf5\\uad81\\uc5ed 5\\ubc88\\ucd9c\\uad6c 5\\ud638\\uc120 \\uad11\\ud654\\ubb38\\uc5ed 2\\ubc88\\ucd9c\\uad6c \\ubc84\\uc2a4(G \\uc9c0\\uc120 B \\uac04\\uc120 R \\uad11\\uc5ed Y \\uc21c\\ud658) \\uc138\\uc885\\ubb38\\ud654\\ud68c\\uad00 \\ud558\\ucc28 G 0015(\\uc6a9\\uc0b0\\ubc29\\ud5a5) 1(\\uc885\\ub85c) 1011 1711 7018 7022 7023 \\uc0bc\\uccad\\ub9c8\\uc744\\ubc84\\uc2a4(\\uc885\\ub85c) B 150 162 200 401 402 406 R 9602 9710 5001 5500 9401 9402 9601 9702 9706 9713 Y 9602 9710 5001 5500 9401 9402 9601 9702 9706 9713 \\uad50\\ubcf4\\ube4c\\ub529 \\ud558\\ucc28 G 0015(\\ub0a8\\uc0b0\\ubc29\\ud5a5) 0212 1011 1012 1020 1711 7012 7018 7020  R 9711 9712 \\uc8fc\\ucc28\\uc7a5 \\uad11\\ud654\\ubb38 \\uc2dc\\ubbfc\\uc5f4\\ub9b0\\ub9c8\\ub2f9\\uc5d0\\ub294 \\uc8fc\\ucc28\\uc7a5\\uc774 \\uc5c6\\uc2b5\\ub2c8\\ub2e4. \\ub300\\uc911\\uad50\\ud1b5\\uc744 \\uc774\\uc6a9\\ud558\\uc5ec \\uc8fc\\uc2dc\\uae30 \\ubc14\\ub78d\\ub2c8\\ub2e4.\",\n          \"\\uc9c0\\ud558\\ucca0 1\\ud638\\uc120 \\uc885\\ub85c3\\uac00\\uc5ed 3\\ud638\\uc120 \\uc885\\ub85c3\\uac00\\uc5ed  \\ubc84\\uc2a4(G \\uc9c0\\uc120 B \\uac04\\uc120 R \\uad11\\uc5ed Y \\uc21c\\ud658)\"\n        ],\n        \"semantic_type\": \"\",\n        \"description\": \"\"\n      }\n    },\n    {\n      \"column\": \"USE_REFER\",\n      \"properties\": {\n        \"dtype\": \"category\",\n        \"num_unique_values\": 32,\n        \"samples\": [\n          \" ? \\uc77c\\ubc18\\uc0ac\\ud56d  - \\uacf5\\uc6d0\\uc740 \\uc5f0\\uc911\\ubb34\\ud734\\uc774\\ub098 \\uc804\\uc2dc\\uad00\\uc740 \\uc6d4\\uc694\\uc77c \\ud734\\uad00\\uc785\\ub2c8\\ub2e4.   - \\uacf5\\uc6d0\\uc744 \\uae68\\ub057\\ud558\\uac8c \\uc774\\uc6a9\\ud574 \\uc8fc\\uc2dc\\uae30 \\ubc14\\ub78d\\ub2c8\\ub2e4.  - \\ub300\\uc911\\uad50\\ud1b5\\uc744 \\uc774\\uc6a9\\ud574 \\uc8fc\\uc2dc\\uae30 \\ubc14\\ub78d\\ub2c8\\ub2e4.   - \\uae30\\ub150\\ubb3c \\uc2dc\\uc124\\ubb3c \\ud480\\uacfc \\ub098\\ubb34\\ub97c \\ubcf4\\ud638\\ud569\\ub2c8\\ub2e4.  - \\uc57c\\uc0dd\\ub3d9\\ubb3c\\ubcf4\\ud638\\ub97c \\uc704\\ud574 \\uc74c\\uc2dd\\ubb3c \\ubc18\\uc785\\uc744 \\uae08\\uc9c0\\ud569\\ub2c8\\ub2e4.   - \\uc57c\\uc601 \\ucde8\\uc0ac\\ud589\\uc704 \\ubc0f \\ubd88\\uc744 \\ud53c\\uc6b0\\uc9c0 \\uc54a\\uc2b5\\ub2c8\\ub2e4.  - \\uc74c\\uc8fc/\\uac00\\ubb34/\\uc18c\\ub780\\ud589\\uc704\\ub97c \\ud558\\uc9c0 \\uc54a\\uc2b5\\ub2c8\\ub2e4.  - \\uc4f0\\ub808\\uae30\\ub294 \\ub418\\uac00\\uc838 \\uac00\\uc2dc\\uae30 \\ubc14\\ub78d\\ub2c8\\ub2e4.\",\n          \"\\uc77c\\ubc18\\uc0ac\\ud56d \\uacf5\\uc6d0\\uc744 \\uae68\\ub057\\ud558\\uac8c \\uc774\\uc6a9\\ud569\\ub2c8\\ub2e4. \\ub300\\uc911\\uad50\\ud1b5\\uc744 \\uc774\\uc6a9\\ud574 \\uc8fc\\uc138\\uc694. \\uae30\\ub150\\ubb3c \\uc2dc\\uc124\\ubb3c \\ud480\\uacfc \\ub098\\ubb34\\ub97c \\ubcf4\\ud638\\ud569\\ub2c8\\ub2e4. \\uc57c\\uc601 \\ucde8\\uc0ac\\ud589\\uc704 \\ubc0f \\ubd88\\uc744 \\ud53c\\uc6b0\\uc9c0 \\uc54a\\uc2b5\\ub2c8\\ub2e4. \\uc560\\uc644\\ub3d9\\ubb3c\\uc740 \\ubaa9\\uc904\\uc744 \\ucc44\\uc6b0\\uace0 \\ubc30\\uc124\\ubb3c\\uc740 \\uc2a4\\uc2a4\\ub85c \\uce58\\uc6c1\\ub2c8\\ub2e4. \\uc74c\\uc8fc/\\uac00\\ubb34/\\uc18c\\ub780\\ud589\\uc704\\ub97c \\ud558\\uc9c0 \\uc54a\\uc2b5\\ub2c8\\ub2e4. \\uc4f0\\ub808\\uae30\\ub294 \\ub418\\uac00\\uc838 \\uac00\\uc2dc\\uae30 \\ubc14\\ub78d\\ub2c8\\ub2e4. \",\n          \"\\ucf54\\uc2a4\\uc124\\uba85  - 1\\ucf54\\uc2a4 : \\uc11c\\uc6b8\\ud2b9\\ubcc4\\uc2dc\\ub9bd \\uc5b4\\ub9b0\\uc774\\ubcd1\\uc6d0 \\u2192 \\ub0b4\\uace1\\ubcf4\\uae08\\uc790\\ub9ac \\ub4a4(\\ud64d\\uc528\\ub9c8\\uc744) \\u2192 \\uc778\\ub2a5\\uc0b0 \\ud5ec\\uae30\\uc7a5  - 2\\ucf54\\uc2a4 : \\uc0c8\\uc7c1\\uc774\\ub9c8\\uc744 \\u2192 \\ub0b4\\uace1\\ud130\\ub110 \\u2192 \\uc778\\ub2a5\\uc0b0 \\ud5ec\\uae30\\uc7a5 \"\n        ],\n        \"semantic_type\": \"\",\n        \"description\": \"\"\n      }\n    },\n    {\n      \"column\": \"P_IMG\",\n      \"properties\": {\n        \"dtype\": \"string\",\n        \"num_unique_values\": 131,\n        \"samples\": [\n          \"http://parks.seoul.go.kr/file/info/view.do?fIdx=1850\",\n          \"http://parks.seoul.go.kr/file/info/view.do?fIdx=1930\",\n          \"http://parks.seoul.go.kr/file/info/view.do?fIdx=1905\"\n        ],\n        \"semantic_type\": \"\",\n        \"description\": \"\"\n      }\n    },\n    {\n      \"column\": \"P_ZONE\",\n      \"properties\": {\n        \"dtype\": \"category\",\n        \"num_unique_values\": 27,\n        \"samples\": [\n          \"\\uac15\\uc11c\\uad6c\",\n          \"\\uc11c\\ub300\\ubb38\\uad6c\",\n          \"\\ub3d9\\ub300\\ubb38\\uad6c\"\n        ],\n        \"semantic_type\": \"\",\n        \"description\": \"\"\n      }\n    },\n    {\n      \"column\": \"P_ADDR\",\n      \"properties\": {\n        \"dtype\": \"string\",\n        \"num_unique_values\": 131,\n        \"samples\": [\n          \"\\uc11c\\uc6b8\\ud2b9\\ubcc4\\uc2dc \\ub3d9\\ub300\\ubb38\\uad6c \\ud55c\\ucc9c\\ub85c43\\uae38 12-14(\\ubc30\\ubd09\\uc0b0\\uacf5\\uc6d0) \",\n          \"\\uc11c\\uc6b8\\ud2b9\\ubcc4\\uc2dc \\uac15\\ub0a8\\uad6c \\uad11\\ud3c9\\ub85c10\\uae38 30-71(\\ub300\\ubaa8\\uc0b0\\uacf5\\uc6d0) \",\n          \"\\uc11c\\uc6b8\\ud2b9\\ubcc4\\uc2dc \\uc6a9\\uc0b0\\uad6c \\uc11c\\ube59\\uace0\\ub85c 185\"\n        ],\n        \"semantic_type\": \"\",\n        \"description\": \"\"\n      }\n    },\n    {\n      \"column\": \"P_NAME\",\n      \"properties\": {\n        \"dtype\": \"category\",\n        \"num_unique_values\": 57,\n        \"samples\": [\n          \"\\uc11c\\uc6b8\\ud2b9\\ubcc4\\uc2dc\\uc911\\ubd80\\ud478\\ub978\\ub3c4\\uc2dc\\uc0ac\\uc5c5\\uc18c\",\n          \"\\uc885\\ub85c\\uad6c\\uccad \\uacf5\\uc6d0\\ub179\\uc9c0\\uacfc\",\n          \"\\uac15\\ub0a8\\uad6c\\uccad \\uacf5\\uc6d0\\ub179\\uc9c0\\uacfc\"\n        ],\n        \"semantic_type\": \"\",\n        \"description\": \"\"\n      }\n    },\n    {\n      \"column\": \"P_ADMINTEL\",\n      \"properties\": {\n        \"dtype\": \"string\",\n        \"num_unique_values\": 101,\n        \"samples\": [\n          \"02-2600-4183\",\n          \"02-2148-4150\",\n          \"02-2600-4184\"\n        ],\n        \"semantic_type\": \"\",\n        \"description\": \"\"\n      }\n    },\n    {\n      \"column\": \"G_LONGITUDE\",\n      \"properties\": {\n        \"dtype\": \"string\",\n        \"num_unique_values\": 122,\n        \"samples\": [\n          \"211094.883\",\n          \"203095.838\",\n          \"203623.347\"\n        ],\n        \"semantic_type\": \"\",\n        \"description\": \"\"\n      }\n    },\n    {\n      \"column\": \"G_LATITUDE\",\n      \"properties\": {\n        \"dtype\": \"string\",\n        \"num_unique_values\": 122,\n        \"samples\": [\n          \"449373.595\",\n          \"447239.077\",\n          \"461020.286\"\n        ],\n        \"semantic_type\": \"\",\n        \"description\": \"\"\n      }\n    },\n    {\n      \"column\": \"LONGITUDE\",\n      \"properties\": {\n        \"dtype\": \"number\",\n        \"std\": 0.09229934616274016,\n        \"min\": 126.8068278,\n        \"max\": 127.1676703,\n        \"num_unique_values\": 131,\n        \"samples\": [\n          127.0641623,\n          127.0809639,\n          126.983335\n        ],\n        \"semantic_type\": \"\",\n        \"description\": \"\"\n      }\n    },\n    {\n      \"column\": \"LATITUDE\",\n      \"properties\": {\n        \"dtype\": \"number\",\n        \"std\": 0.056408534885385726,\n        \"min\": 37.4224347,\n        \"max\": 37.699232,\n        \"num_unique_values\": 131,\n        \"samples\": [\n          37.5812324,\n          37.4796489,\n          37.522226\n        ],\n        \"semantic_type\": \"\",\n        \"description\": \"\"\n      }\n    },\n    {\n      \"column\": \"TEMPLATE_URL\",\n      \"properties\": {\n        \"dtype\": \"category\",\n        \"num_unique_values\": 19,\n        \"samples\": [\n          \"http://parks.seoul.go.kr/template/sub/namsan.do\",\n          \"\",\n          \"http://parks.seoul.go.kr/template/sub/citizen.do\"\n        ],\n        \"semantic_type\": \"\",\n        \"description\": \"\"\n      }\n    }\n  ]\n}"
            }
          },
          "metadata": {},
          "execution_count": 352
        }
      ]
    },
    {
      "cell_type": "code",
      "source": [
        "# 강수가 맑음이 아니거나 기온이 30도 이상이면 도서관이나 미술관에 가세요\n",
        "def where_to_go(rain,temp):\n",
        "  print(f'오늘 날씨는 \"{rain}\", 기온은 {temp}도 입니다.')\n",
        "  if (temp == 0 or float(rain) >= 30) :\n",
        "     return '도서관이나 미술관에 가세요'\n",
        "  else: return '공원에 가도 좋습니다', find_nearest_place(my_loc,park)['P_PARK']"
      ],
      "metadata": {
        "id": "1GLVPrJAix-2"
      },
      "execution_count": 365,
      "outputs": []
    },
    {
      "cell_type": "code",
      "source": [
        "where_to_go(rain,temp)"
      ],
      "metadata": {
        "colab": {
          "base_uri": "https://localhost:8080/"
        },
        "id": "Jkv8ERPWWfuT",
        "outputId": "6a69a911-901f-4a52-a59c-eb4a1a304fda"
      },
      "execution_count": 364,
      "outputs": [
        {
          "output_type": "stream",
          "name": "stdout",
          "text": [
            "오늘 날씨는 0, 기온은 21.5도 입니다.\n"
          ]
        },
        {
          "output_type": "execute_result",
          "data": {
            "text/plain": [
              "('공원에 가도 좋습니다', '남산도시자연공원')"
            ]
          },
          "metadata": {},
          "execution_count": 364
        }
      ]
    }
  ]
}