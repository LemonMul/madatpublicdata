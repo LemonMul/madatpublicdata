{
  "cells": [
    {
      "cell_type": "markdown",
      "metadata": {
        "id": "view-in-github",
        "colab_type": "text"
      },
      "source": [
        "<a href=\"https://colab.research.google.com/github/hscrown/deploy_test1/blob/main/EDA_test.ipynb\" target=\"_parent\"><img src=\"https://colab.research.google.com/assets/colab-badge.svg\" alt=\"Open In Colab\"/></a>"
      ]
    },
    {
      "cell_type": "markdown",
      "metadata": {
        "id": "tZfbLBQwu145"
      },
      "source": [
        "# 데이터 로드"
      ]
    },
    {
      "cell_type": "code",
      "execution_count": null,
      "metadata": {
        "colab": {
          "base_uri": "https://localhost:8080/"
        },
        "id": "9_FiHY-Btt1w",
        "outputId": "24aba1a3-5345-424e-ee68-3972198d0dde"
      },
      "outputs": [
        {
          "output_type": "stream",
          "name": "stdout",
          "text": [
            "Drive already mounted at /content/drive; to attempt to forcibly remount, call drive.mount(\"/content/drive\", force_remount=True).\n"
          ]
        }
      ],
      "source": [
        "from google.colab import drive\n",
        "drive.mount('/content/drive')"
      ]
    },
    {
      "cell_type": "code",
      "execution_count": null,
      "metadata": {
        "colab": {
          "base_uri": "https://localhost:8080/"
        },
        "id": "yE7B0CSA17L-",
        "outputId": "2b792c2f-1b08-4b7e-8c4a-c8fd0ff33a8e"
      },
      "outputs": [
        {
          "output_type": "stream",
          "name": "stdout",
          "text": [
            "Collecting pandas-profiling\n",
            "  Downloading pandas_profiling-3.6.6-py2.py3-none-any.whl (324 kB)\n",
            "\u001b[2K     \u001b[90m━━━━━━━━━━━━━━━━━━━━━━━━━━━━━━━━━━━━━━━\u001b[0m \u001b[32m324.4/324.4 kB\u001b[0m \u001b[31m4.7 MB/s\u001b[0m eta \u001b[36m0:00:00\u001b[0m\n",
            "\u001b[?25hCollecting ydata-profiling (from pandas-profiling)\n",
            "  Downloading ydata_profiling-4.5.1-py2.py3-none-any.whl (357 kB)\n",
            "\u001b[2K     \u001b[90m━━━━━━━━━━━━━━━━━━━━━━━━━━━━━━━━━━━━━━\u001b[0m \u001b[32m357.3/357.3 kB\u001b[0m \u001b[31m20.0 MB/s\u001b[0m eta \u001b[36m0:00:00\u001b[0m\n",
            "\u001b[?25hRequirement already satisfied: scipy<1.12,>=1.4.1 in /usr/local/lib/python3.10/dist-packages (from ydata-profiling->pandas-profiling) (1.11.2)\n",
            "Requirement already satisfied: pandas!=1.4.0,<2.1,>1.1 in /usr/local/lib/python3.10/dist-packages (from ydata-profiling->pandas-profiling) (1.5.3)\n",
            "Requirement already satisfied: matplotlib<4,>=3.2 in /usr/local/lib/python3.10/dist-packages (from ydata-profiling->pandas-profiling) (3.7.1)\n",
            "Requirement already satisfied: pydantic<2,>=1.8.1 in /usr/local/lib/python3.10/dist-packages (from ydata-profiling->pandas-profiling) (1.10.12)\n",
            "Requirement already satisfied: PyYAML<6.1,>=5.0.0 in /usr/local/lib/python3.10/dist-packages (from ydata-profiling->pandas-profiling) (6.0.1)\n",
            "Requirement already satisfied: jinja2<3.2,>=2.11.1 in /usr/local/lib/python3.10/dist-packages (from ydata-profiling->pandas-profiling) (3.1.2)\n",
            "Collecting visions[type_image_path]==0.7.5 (from ydata-profiling->pandas-profiling)\n",
            "  Downloading visions-0.7.5-py3-none-any.whl (102 kB)\n",
            "\u001b[2K     \u001b[90m━━━━━━━━━━━━━━━━━━━━━━━━━━━━━━━━━━━━━━\u001b[0m \u001b[32m102.7/102.7 kB\u001b[0m \u001b[31m10.8 MB/s\u001b[0m eta \u001b[36m0:00:00\u001b[0m\n",
            "\u001b[?25hRequirement already satisfied: numpy<1.24,>=1.16.0 in /usr/local/lib/python3.10/dist-packages (from ydata-profiling->pandas-profiling) (1.23.5)\n",
            "Collecting htmlmin==0.1.12 (from ydata-profiling->pandas-profiling)\n",
            "  Downloading htmlmin-0.1.12.tar.gz (19 kB)\n",
            "  Preparing metadata (setup.py) ... \u001b[?25l\u001b[?25hdone\n",
            "Collecting phik<0.13,>=0.11.1 (from ydata-profiling->pandas-profiling)\n",
            "  Downloading phik-0.12.3-cp310-cp310-manylinux_2_17_x86_64.manylinux2014_x86_64.whl (679 kB)\n",
            "\u001b[2K     \u001b[90m━━━━━━━━━━━━━━━━━━━━━━━━━━━━━━━━━━━━━━\u001b[0m \u001b[32m679.5/679.5 kB\u001b[0m \u001b[31m47.8 MB/s\u001b[0m eta \u001b[36m0:00:00\u001b[0m\n",
            "\u001b[?25hRequirement already satisfied: requests<3,>=2.24.0 in /usr/local/lib/python3.10/dist-packages (from ydata-profiling->pandas-profiling) (2.31.0)\n",
            "Requirement already satisfied: tqdm<5,>=4.48.2 in /usr/local/lib/python3.10/dist-packages (from ydata-profiling->pandas-profiling) (4.66.1)\n",
            "Requirement already satisfied: seaborn<0.13,>=0.10.1 in /usr/local/lib/python3.10/dist-packages (from ydata-profiling->pandas-profiling) (0.12.2)\n",
            "Collecting multimethod<2,>=1.4 (from ydata-profiling->pandas-profiling)\n",
            "  Downloading multimethod-1.9.1-py3-none-any.whl (10 kB)\n",
            "Requirement already satisfied: statsmodels<1,>=0.13.2 in /usr/local/lib/python3.10/dist-packages (from ydata-profiling->pandas-profiling) (0.14.0)\n",
            "Collecting typeguard<3,>=2.13.2 (from ydata-profiling->pandas-profiling)\n",
            "  Downloading typeguard-2.13.3-py3-none-any.whl (17 kB)\n",
            "Collecting imagehash==4.3.1 (from ydata-profiling->pandas-profiling)\n",
            "  Downloading ImageHash-4.3.1-py2.py3-none-any.whl (296 kB)\n",
            "\u001b[2K     \u001b[90m━━━━━━━━━━━━━━━━━━━━━━━━━━━━━━━━━━━━━━\u001b[0m \u001b[32m296.5/296.5 kB\u001b[0m \u001b[31m29.6 MB/s\u001b[0m eta \u001b[36m0:00:00\u001b[0m\n",
            "\u001b[?25hRequirement already satisfied: wordcloud>=1.9.1 in /usr/local/lib/python3.10/dist-packages (from ydata-profiling->pandas-profiling) (1.9.2)\n",
            "Collecting dacite>=1.8 (from ydata-profiling->pandas-profiling)\n",
            "  Downloading dacite-1.8.1-py3-none-any.whl (14 kB)\n",
            "Requirement already satisfied: PyWavelets in /usr/local/lib/python3.10/dist-packages (from imagehash==4.3.1->ydata-profiling->pandas-profiling) (1.4.1)\n",
            "Requirement already satisfied: pillow in /usr/local/lib/python3.10/dist-packages (from imagehash==4.3.1->ydata-profiling->pandas-profiling) (9.4.0)\n",
            "Requirement already satisfied: attrs>=19.3.0 in /usr/local/lib/python3.10/dist-packages (from visions[type_image_path]==0.7.5->ydata-profiling->pandas-profiling) (23.1.0)\n",
            "Requirement already satisfied: networkx>=2.4 in /usr/local/lib/python3.10/dist-packages (from visions[type_image_path]==0.7.5->ydata-profiling->pandas-profiling) (3.1)\n",
            "Collecting tangled-up-in-unicode>=0.0.4 (from visions[type_image_path]==0.7.5->ydata-profiling->pandas-profiling)\n",
            "  Downloading tangled_up_in_unicode-0.2.0-py3-none-any.whl (4.7 MB)\n",
            "\u001b[2K     \u001b[90m━━━━━━━━━━━━━━━━━━━━━━━━━━━━━━━━━━━━━━━━\u001b[0m \u001b[32m4.7/4.7 MB\u001b[0m \u001b[31m83.3 MB/s\u001b[0m eta \u001b[36m0:00:00\u001b[0m\n",
            "\u001b[?25hRequirement already satisfied: MarkupSafe>=2.0 in /usr/local/lib/python3.10/dist-packages (from jinja2<3.2,>=2.11.1->ydata-profiling->pandas-profiling) (2.1.3)\n",
            "Requirement already satisfied: contourpy>=1.0.1 in /usr/local/lib/python3.10/dist-packages (from matplotlib<4,>=3.2->ydata-profiling->pandas-profiling) (1.1.0)\n",
            "Requirement already satisfied: cycler>=0.10 in /usr/local/lib/python3.10/dist-packages (from matplotlib<4,>=3.2->ydata-profiling->pandas-profiling) (0.11.0)\n",
            "Requirement already satisfied: fonttools>=4.22.0 in /usr/local/lib/python3.10/dist-packages (from matplotlib<4,>=3.2->ydata-profiling->pandas-profiling) (4.42.1)\n",
            "Requirement already satisfied: kiwisolver>=1.0.1 in /usr/local/lib/python3.10/dist-packages (from matplotlib<4,>=3.2->ydata-profiling->pandas-profiling) (1.4.5)\n",
            "Requirement already satisfied: packaging>=20.0 in /usr/local/lib/python3.10/dist-packages (from matplotlib<4,>=3.2->ydata-profiling->pandas-profiling) (23.1)\n",
            "Requirement already satisfied: pyparsing>=2.3.1 in /usr/local/lib/python3.10/dist-packages (from matplotlib<4,>=3.2->ydata-profiling->pandas-profiling) (3.1.1)\n",
            "Requirement already satisfied: python-dateutil>=2.7 in /usr/local/lib/python3.10/dist-packages (from matplotlib<4,>=3.2->ydata-profiling->pandas-profiling) (2.8.2)\n",
            "Requirement already satisfied: pytz>=2020.1 in /usr/local/lib/python3.10/dist-packages (from pandas!=1.4.0,<2.1,>1.1->ydata-profiling->pandas-profiling) (2023.3.post1)\n",
            "Requirement already satisfied: joblib>=0.14.1 in /usr/local/lib/python3.10/dist-packages (from phik<0.13,>=0.11.1->ydata-profiling->pandas-profiling) (1.3.2)\n",
            "Requirement already satisfied: typing-extensions>=4.2.0 in /usr/local/lib/python3.10/dist-packages (from pydantic<2,>=1.8.1->ydata-profiling->pandas-profiling) (4.5.0)\n",
            "Requirement already satisfied: charset-normalizer<4,>=2 in /usr/local/lib/python3.10/dist-packages (from requests<3,>=2.24.0->ydata-profiling->pandas-profiling) (3.2.0)\n",
            "Requirement already satisfied: idna<4,>=2.5 in /usr/local/lib/python3.10/dist-packages (from requests<3,>=2.24.0->ydata-profiling->pandas-profiling) (3.4)\n",
            "Requirement already satisfied: urllib3<3,>=1.21.1 in /usr/local/lib/python3.10/dist-packages (from requests<3,>=2.24.0->ydata-profiling->pandas-profiling) (2.0.4)\n",
            "Requirement already satisfied: certifi>=2017.4.17 in /usr/local/lib/python3.10/dist-packages (from requests<3,>=2.24.0->ydata-profiling->pandas-profiling) (2023.7.22)\n",
            "Requirement already satisfied: patsy>=0.5.2 in /usr/local/lib/python3.10/dist-packages (from statsmodels<1,>=0.13.2->ydata-profiling->pandas-profiling) (0.5.3)\n",
            "Requirement already satisfied: six in /usr/local/lib/python3.10/dist-packages (from patsy>=0.5.2->statsmodels<1,>=0.13.2->ydata-profiling->pandas-profiling) (1.16.0)\n",
            "Building wheels for collected packages: htmlmin\n",
            "  Building wheel for htmlmin (setup.py) ... \u001b[?25l\u001b[?25hdone\n",
            "  Created wheel for htmlmin: filename=htmlmin-0.1.12-py3-none-any.whl size=27081 sha256=1e636b6441aea9f59de70d6e702dd44a902af5a1c6f39f81adbac9d1d884bb8f\n",
            "  Stored in directory: /root/.cache/pip/wheels/dd/91/29/a79cecb328d01739e64017b6fb9a1ab9d8cb1853098ec5966d\n",
            "Successfully built htmlmin\n",
            "Installing collected packages: htmlmin, typeguard, tangled-up-in-unicode, multimethod, dacite, imagehash, visions, phik, ydata-profiling, pandas-profiling\n",
            "Successfully installed dacite-1.8.1 htmlmin-0.1.12 imagehash-4.3.1 multimethod-1.9.1 pandas-profiling-3.6.6 phik-0.12.3 tangled-up-in-unicode-0.2.0 typeguard-2.13.3 visions-0.7.5 ydata-profiling-4.5.1\n",
            "Collecting transformers\n",
            "  Downloading transformers-4.33.2-py3-none-any.whl (7.6 MB)\n",
            "\u001b[2K     \u001b[90m━━━━━━━━━━━━━━━━━━━━━━━━━━━━━━━━━━━━━━━━\u001b[0m \u001b[32m7.6/7.6 MB\u001b[0m \u001b[31m13.6 MB/s\u001b[0m eta \u001b[36m0:00:00\u001b[0m\n",
            "\u001b[?25hRequirement already satisfied: filelock in /usr/local/lib/python3.10/dist-packages (from transformers) (3.12.2)\n",
            "Collecting huggingface-hub<1.0,>=0.15.1 (from transformers)\n",
            "  Downloading huggingface_hub-0.17.1-py3-none-any.whl (294 kB)\n",
            "\u001b[2K     \u001b[90m━━━━━━━━━━━━━━━━━━━━━━━━━━━━━━━━━━━━━━\u001b[0m \u001b[32m294.8/294.8 kB\u001b[0m \u001b[31m27.0 MB/s\u001b[0m eta \u001b[36m0:00:00\u001b[0m\n",
            "\u001b[?25hRequirement already satisfied: numpy>=1.17 in /usr/local/lib/python3.10/dist-packages (from transformers) (1.23.5)\n",
            "Requirement already satisfied: packaging>=20.0 in /usr/local/lib/python3.10/dist-packages (from transformers) (23.1)\n",
            "Requirement already satisfied: pyyaml>=5.1 in /usr/local/lib/python3.10/dist-packages (from transformers) (6.0.1)\n",
            "Requirement already satisfied: regex!=2019.12.17 in /usr/local/lib/python3.10/dist-packages (from transformers) (2023.6.3)\n",
            "Requirement already satisfied: requests in /usr/local/lib/python3.10/dist-packages (from transformers) (2.31.0)\n",
            "Collecting tokenizers!=0.11.3,<0.14,>=0.11.1 (from transformers)\n",
            "  Downloading tokenizers-0.13.3-cp310-cp310-manylinux_2_17_x86_64.manylinux2014_x86_64.whl (7.8 MB)\n",
            "\u001b[2K     \u001b[90m━━━━━━━━━━━━━━━━━━━━━━━━━━━━━━━━━━━━━━━━\u001b[0m \u001b[32m7.8/7.8 MB\u001b[0m \u001b[31m38.3 MB/s\u001b[0m eta \u001b[36m0:00:00\u001b[0m\n",
            "\u001b[?25hCollecting safetensors>=0.3.1 (from transformers)\n",
            "  Downloading safetensors-0.3.3-cp310-cp310-manylinux_2_17_x86_64.manylinux2014_x86_64.whl (1.3 MB)\n",
            "\u001b[2K     \u001b[90m━━━━━━━━━━━━━━━━━━━━━━━━━━━━━━━━━━━━━━━━\u001b[0m \u001b[32m1.3/1.3 MB\u001b[0m \u001b[31m44.8 MB/s\u001b[0m eta \u001b[36m0:00:00\u001b[0m\n",
            "\u001b[?25hRequirement already satisfied: tqdm>=4.27 in /usr/local/lib/python3.10/dist-packages (from transformers) (4.66.1)\n",
            "Requirement already satisfied: fsspec in /usr/local/lib/python3.10/dist-packages (from huggingface-hub<1.0,>=0.15.1->transformers) (2023.6.0)\n",
            "Requirement already satisfied: typing-extensions>=3.7.4.3 in /usr/local/lib/python3.10/dist-packages (from huggingface-hub<1.0,>=0.15.1->transformers) (4.5.0)\n",
            "Requirement already satisfied: charset-normalizer<4,>=2 in /usr/local/lib/python3.10/dist-packages (from requests->transformers) (3.2.0)\n",
            "Requirement already satisfied: idna<4,>=2.5 in /usr/local/lib/python3.10/dist-packages (from requests->transformers) (3.4)\n",
            "Requirement already satisfied: urllib3<3,>=1.21.1 in /usr/local/lib/python3.10/dist-packages (from requests->transformers) (2.0.4)\n",
            "Requirement already satisfied: certifi>=2017.4.17 in /usr/local/lib/python3.10/dist-packages (from requests->transformers) (2023.7.22)\n",
            "Installing collected packages: tokenizers, safetensors, huggingface-hub, transformers\n",
            "Successfully installed huggingface-hub-0.17.1 safetensors-0.3.3 tokenizers-0.13.3 transformers-4.33.2\n"
          ]
        }
      ],
      "source": [
        "!pip install pandas-profiling\n",
        "!pip install transformers"
      ]
    },
    {
      "cell_type": "code",
      "execution_count": null,
      "metadata": {
        "colab": {
          "base_uri": "https://localhost:8080/",
          "height": 671
        },
        "id": "t71Ux9Lw0stJ",
        "outputId": "03a86f53-e935-403b-c02b-9294aa7865b1"
      },
      "outputs": [
        {
          "output_type": "stream",
          "name": "stderr",
          "text": [
            "<ipython-input-6-a6b8743e2d82>:2: DeprecationWarning: `import pandas_profiling` is going to be deprecated by April 1st. Please use `import ydata_profiling` instead.\n",
            "  import pandas_profiling\n"
          ]
        },
        {
          "output_type": "stream",
          "name": "stdout",
          "text": [
            "<class 'pandas.core.frame.DataFrame'>\n",
            "RangeIndex: 2285 entries, 0 to 2284\n",
            "Data columns (total 7 columns):\n",
            " #   Column        Non-Null Count  Dtype \n",
            "---  ------        --------------  ----- \n",
            " 0   caseNo        2285 non-null   object\n",
            " 1   caseNm        2285 non-null   object\n",
            " 2   disposal      2285 non-null   int64 \n",
            " 3   relateLaword  2285 non-null   object\n",
            " 4   bsisFacts     2285 non-null   object\n",
            " 5   courtDcss     2285 non-null   object\n",
            " 6   cnclsns       2285 non-null   object\n",
            "dtypes: int64(1), object(6)\n",
            "memory usage: 125.1+ KB\n"
          ]
        },
        {
          "output_type": "execute_result",
          "data": {
            "text/plain": [
              "                         caseNo  \\\n",
              "0                 (서울)2008노2766   \n",
              "1  (전주)2013노96,(전주)2013전노15(병합)   \n",
              "2                   (제주)2006노29   \n",
              "3           (제주)2012노12,2012전노2   \n",
              "4                   (제주)2012노79   \n",
              "\n",
              "                                              caseNm  disposal  \\\n",
              "0                보건범죄단속에관한특별조치법위반(부정의약품제조등),사기,업무상횡령        10   \n",
              "1  성폭력범죄의 처벌 등에 관한 특례법 위반(친족관계에 의한 강제추행),성폭력범죄의 처...        10   \n",
              "2      공직선거법 위반,폭력행위등처벌에 관한 법률 위반(야간.공동상해)(인정된죄명:상해)        10   \n",
              "3  성폭력범죄의 처벌 등에 관한 특례법 위반(장애인에 대한 준강간등),아동,청소년의 성...        10   \n",
              "4                                  특수공무집행방해치상,공무집행방해        10   \n",
              "\n",
              "                                        relateLaword  \\\n",
              "0  ['형사소송법 제326조', '약사법 제2조', '형사소송법 제364조', '형사소...   \n",
              "1  ['특정 범죄자에 대한 보호관찰 및 전자장치 부착 등에 관한 법률 제9조, 제35조...   \n",
              "2      ['공직선거법 제237조', '공직선거법 제230조', '형사소송법 제364조']   \n",
              "3  ['형사소송법 제364조 ', '형법 제1조', '구 청소년의 성보호에 관한 법률(...   \n",
              "4  ['도로법 제83조 제1호', '도로법 제45조', '도로법 제65조', '형사소송...   \n",
              "\n",
              "                                           bsisFacts  \\\n",
              "0  피고인 1은 2007. 7. 25. 약사법위반죄로 벌금 100만 원의 약식명령을 발...   \n",
              "1  2012. 7. 14. 피고인에게 강제추행을 당할 당시 피고인이 피해자에게 목욕시켜...   \n",
              "2  그런데 이 사건 폭행 경위에 대한 피해자 공소외 2의 진술을 보면, 원래 피해자는 ...   \n",
              "3  피고인은 2009.2.12.청소년대상 성범죄로 징역 2년 6월에 집행유예 3년 등을...   \n",
              "4  피고인 00은 000 회장이고, 피고인 00는 전 000 의장으로 2012. 4. ...   \n",
              "\n",
              "                                           courtDcss  \\\n",
              "0  정보통신망을 이용하여 음란물을 공연히 전시하면 정보통신망 이용촉진 및 정보보호 등에...   \n",
              "1  형사재판에 있어서 유죄로 인정하기 위한 심증형성의 정도는 합리적인 의심을 할 여지가...   \n",
              "2  사전선거운동'이라 함은 특정의 선거에 있어서 선거운동기간 전에 특정한 후보자의 당선...   \n",
              "3  원심이 적법하게 조사·채택한 증거들을 종합하면, 피고인은 2008.11.1.경 청소...   \n",
              "4  검사가 제출한 증거들만으로는 이 사건 당시 천막 철거의 공무집행이 그 법률적인 근거...   \n",
              "\n",
              "                                             cnclsns  \n",
              "0  원심판결 중 피고인 1 에 대한 유죄부분을 파기한다. 피고인 1 을 징역 2년 및 ...  \n",
              "1                          피고인 겸 피부착명령청구자의 항소를 기각한다.  \n",
              "2  원심 판결을 파기한다. 피고인을 판시 공직선거법위반죄에 대하여 벌금 800,000원...  \n",
              "3                           피고인 겸 피부착명령청구자의 항소를 기각한다  \n",
              "4  원심판결을 파기한다. 피고인들은 각 무죄이다. 피고인들에 대한 무죄판결의 요지를 공...  "
            ],
            "text/html": [
              "\n",
              "  <div id=\"df-bb35f611-7599-4076-b295-debdab508553\" class=\"colab-df-container\">\n",
              "    <div>\n",
              "<style scoped>\n",
              "    .dataframe tbody tr th:only-of-type {\n",
              "        vertical-align: middle;\n",
              "    }\n",
              "\n",
              "    .dataframe tbody tr th {\n",
              "        vertical-align: top;\n",
              "    }\n",
              "\n",
              "    .dataframe thead th {\n",
              "        text-align: right;\n",
              "    }\n",
              "</style>\n",
              "<table border=\"1\" class=\"dataframe\">\n",
              "  <thead>\n",
              "    <tr style=\"text-align: right;\">\n",
              "      <th></th>\n",
              "      <th>caseNo</th>\n",
              "      <th>caseNm</th>\n",
              "      <th>disposal</th>\n",
              "      <th>relateLaword</th>\n",
              "      <th>bsisFacts</th>\n",
              "      <th>courtDcss</th>\n",
              "      <th>cnclsns</th>\n",
              "    </tr>\n",
              "  </thead>\n",
              "  <tbody>\n",
              "    <tr>\n",
              "      <th>0</th>\n",
              "      <td>(서울)2008노2766</td>\n",
              "      <td>보건범죄단속에관한특별조치법위반(부정의약품제조등),사기,업무상횡령</td>\n",
              "      <td>10</td>\n",
              "      <td>['형사소송법 제326조', '약사법 제2조', '형사소송법 제364조', '형사소...</td>\n",
              "      <td>피고인 1은 2007. 7. 25. 약사법위반죄로 벌금 100만 원의 약식명령을 발...</td>\n",
              "      <td>정보통신망을 이용하여 음란물을 공연히 전시하면 정보통신망 이용촉진 및 정보보호 등에...</td>\n",
              "      <td>원심판결 중 피고인 1 에 대한 유죄부분을 파기한다. 피고인 1 을 징역 2년 및 ...</td>\n",
              "    </tr>\n",
              "    <tr>\n",
              "      <th>1</th>\n",
              "      <td>(전주)2013노96,(전주)2013전노15(병합)</td>\n",
              "      <td>성폭력범죄의 처벌 등에 관한 특례법 위반(친족관계에 의한 강제추행),성폭력범죄의 처...</td>\n",
              "      <td>10</td>\n",
              "      <td>['특정 범죄자에 대한 보호관찰 및 전자장치 부착 등에 관한 법률 제9조, 제35조...</td>\n",
              "      <td>2012. 7. 14. 피고인에게 강제추행을 당할 당시 피고인이 피해자에게 목욕시켜...</td>\n",
              "      <td>형사재판에 있어서 유죄로 인정하기 위한 심증형성의 정도는 합리적인 의심을 할 여지가...</td>\n",
              "      <td>피고인 겸 피부착명령청구자의 항소를 기각한다.</td>\n",
              "    </tr>\n",
              "    <tr>\n",
              "      <th>2</th>\n",
              "      <td>(제주)2006노29</td>\n",
              "      <td>공직선거법 위반,폭력행위등처벌에 관한 법률 위반(야간.공동상해)(인정된죄명:상해)</td>\n",
              "      <td>10</td>\n",
              "      <td>['공직선거법 제237조', '공직선거법 제230조', '형사소송법 제364조']</td>\n",
              "      <td>그런데 이 사건 폭행 경위에 대한 피해자 공소외 2의 진술을 보면, 원래 피해자는 ...</td>\n",
              "      <td>사전선거운동'이라 함은 특정의 선거에 있어서 선거운동기간 전에 특정한 후보자의 당선...</td>\n",
              "      <td>원심 판결을 파기한다. 피고인을 판시 공직선거법위반죄에 대하여 벌금 800,000원...</td>\n",
              "    </tr>\n",
              "    <tr>\n",
              "      <th>3</th>\n",
              "      <td>(제주)2012노12,2012전노2</td>\n",
              "      <td>성폭력범죄의 처벌 등에 관한 특례법 위반(장애인에 대한 준강간등),아동,청소년의 성...</td>\n",
              "      <td>10</td>\n",
              "      <td>['형사소송법 제364조 ', '형법 제1조', '구 청소년의 성보호에 관한 법률(...</td>\n",
              "      <td>피고인은 2009.2.12.청소년대상 성범죄로 징역 2년 6월에 집행유예 3년 등을...</td>\n",
              "      <td>원심이 적법하게 조사·채택한 증거들을 종합하면, 피고인은 2008.11.1.경 청소...</td>\n",
              "      <td>피고인 겸 피부착명령청구자의 항소를 기각한다</td>\n",
              "    </tr>\n",
              "    <tr>\n",
              "      <th>4</th>\n",
              "      <td>(제주)2012노79</td>\n",
              "      <td>특수공무집행방해치상,공무집행방해</td>\n",
              "      <td>10</td>\n",
              "      <td>['도로법 제83조 제1호', '도로법 제45조', '도로법 제65조', '형사소송...</td>\n",
              "      <td>피고인 00은 000 회장이고, 피고인 00는 전 000 의장으로 2012. 4. ...</td>\n",
              "      <td>검사가 제출한 증거들만으로는 이 사건 당시 천막 철거의 공무집행이 그 법률적인 근거...</td>\n",
              "      <td>원심판결을 파기한다. 피고인들은 각 무죄이다. 피고인들에 대한 무죄판결의 요지를 공...</td>\n",
              "    </tr>\n",
              "  </tbody>\n",
              "</table>\n",
              "</div>\n",
              "    <div class=\"colab-df-buttons\">\n",
              "\n",
              "  <div class=\"colab-df-container\">\n",
              "    <button class=\"colab-df-convert\" onclick=\"convertToInteractive('df-bb35f611-7599-4076-b295-debdab508553')\"\n",
              "            title=\"Convert this dataframe to an interactive table.\"\n",
              "            style=\"display:none;\">\n",
              "\n",
              "  <svg xmlns=\"http://www.w3.org/2000/svg\" height=\"24px\" viewBox=\"0 -960 960 960\">\n",
              "    <path d=\"M120-120v-720h720v720H120Zm60-500h600v-160H180v160Zm220 220h160v-160H400v160Zm0 220h160v-160H400v160ZM180-400h160v-160H180v160Zm440 0h160v-160H620v160ZM180-180h160v-160H180v160Zm440 0h160v-160H620v160Z\"/>\n",
              "  </svg>\n",
              "    </button>\n",
              "\n",
              "  <style>\n",
              "    .colab-df-container {\n",
              "      display:flex;\n",
              "      gap: 12px;\n",
              "    }\n",
              "\n",
              "    .colab-df-convert {\n",
              "      background-color: #E8F0FE;\n",
              "      border: none;\n",
              "      border-radius: 50%;\n",
              "      cursor: pointer;\n",
              "      display: none;\n",
              "      fill: #1967D2;\n",
              "      height: 32px;\n",
              "      padding: 0 0 0 0;\n",
              "      width: 32px;\n",
              "    }\n",
              "\n",
              "    .colab-df-convert:hover {\n",
              "      background-color: #E2EBFA;\n",
              "      box-shadow: 0px 1px 2px rgba(60, 64, 67, 0.3), 0px 1px 3px 1px rgba(60, 64, 67, 0.15);\n",
              "      fill: #174EA6;\n",
              "    }\n",
              "\n",
              "    .colab-df-buttons div {\n",
              "      margin-bottom: 4px;\n",
              "    }\n",
              "\n",
              "    [theme=dark] .colab-df-convert {\n",
              "      background-color: #3B4455;\n",
              "      fill: #D2E3FC;\n",
              "    }\n",
              "\n",
              "    [theme=dark] .colab-df-convert:hover {\n",
              "      background-color: #434B5C;\n",
              "      box-shadow: 0px 1px 3px 1px rgba(0, 0, 0, 0.15);\n",
              "      filter: drop-shadow(0px 1px 2px rgba(0, 0, 0, 0.3));\n",
              "      fill: #FFFFFF;\n",
              "    }\n",
              "  </style>\n",
              "\n",
              "    <script>\n",
              "      const buttonEl =\n",
              "        document.querySelector('#df-bb35f611-7599-4076-b295-debdab508553 button.colab-df-convert');\n",
              "      buttonEl.style.display =\n",
              "        google.colab.kernel.accessAllowed ? 'block' : 'none';\n",
              "\n",
              "      async function convertToInteractive(key) {\n",
              "        const element = document.querySelector('#df-bb35f611-7599-4076-b295-debdab508553');\n",
              "        const dataTable =\n",
              "          await google.colab.kernel.invokeFunction('convertToInteractive',\n",
              "                                                    [key], {});\n",
              "        if (!dataTable) return;\n",
              "\n",
              "        const docLinkHtml = 'Like what you see? Visit the ' +\n",
              "          '<a target=\"_blank\" href=https://colab.research.google.com/notebooks/data_table.ipynb>data table notebook</a>'\n",
              "          + ' to learn more about interactive tables.';\n",
              "        element.innerHTML = '';\n",
              "        dataTable['output_type'] = 'display_data';\n",
              "        await google.colab.output.renderOutput(dataTable, element);\n",
              "        const docLink = document.createElement('div');\n",
              "        docLink.innerHTML = docLinkHtml;\n",
              "        element.appendChild(docLink);\n",
              "      }\n",
              "    </script>\n",
              "  </div>\n",
              "\n",
              "\n",
              "<div id=\"df-43e2e78a-6899-49f5-9ad7-460692d07345\">\n",
              "  <button class=\"colab-df-quickchart\" onclick=\"quickchart('df-43e2e78a-6899-49f5-9ad7-460692d07345')\"\n",
              "            title=\"Suggest charts.\"\n",
              "            style=\"display:none;\">\n",
              "\n",
              "<svg xmlns=\"http://www.w3.org/2000/svg\" height=\"24px\"viewBox=\"0 0 24 24\"\n",
              "     width=\"24px\">\n",
              "    <g>\n",
              "        <path d=\"M19 3H5c-1.1 0-2 .9-2 2v14c0 1.1.9 2 2 2h14c1.1 0 2-.9 2-2V5c0-1.1-.9-2-2-2zM9 17H7v-7h2v7zm4 0h-2V7h2v10zm4 0h-2v-4h2v4z\"/>\n",
              "    </g>\n",
              "</svg>\n",
              "  </button>\n",
              "\n",
              "<style>\n",
              "  .colab-df-quickchart {\n",
              "      --bg-color: #E8F0FE;\n",
              "      --fill-color: #1967D2;\n",
              "      --hover-bg-color: #E2EBFA;\n",
              "      --hover-fill-color: #174EA6;\n",
              "      --disabled-fill-color: #AAA;\n",
              "      --disabled-bg-color: #DDD;\n",
              "  }\n",
              "\n",
              "  [theme=dark] .colab-df-quickchart {\n",
              "      --bg-color: #3B4455;\n",
              "      --fill-color: #D2E3FC;\n",
              "      --hover-bg-color: #434B5C;\n",
              "      --hover-fill-color: #FFFFFF;\n",
              "      --disabled-bg-color: #3B4455;\n",
              "      --disabled-fill-color: #666;\n",
              "  }\n",
              "\n",
              "  .colab-df-quickchart {\n",
              "    background-color: var(--bg-color);\n",
              "    border: none;\n",
              "    border-radius: 50%;\n",
              "    cursor: pointer;\n",
              "    display: none;\n",
              "    fill: var(--fill-color);\n",
              "    height: 32px;\n",
              "    padding: 0;\n",
              "    width: 32px;\n",
              "  }\n",
              "\n",
              "  .colab-df-quickchart:hover {\n",
              "    background-color: var(--hover-bg-color);\n",
              "    box-shadow: 0 1px 2px rgba(60, 64, 67, 0.3), 0 1px 3px 1px rgba(60, 64, 67, 0.15);\n",
              "    fill: var(--button-hover-fill-color);\n",
              "  }\n",
              "\n",
              "  .colab-df-quickchart-complete:disabled,\n",
              "  .colab-df-quickchart-complete:disabled:hover {\n",
              "    background-color: var(--disabled-bg-color);\n",
              "    fill: var(--disabled-fill-color);\n",
              "    box-shadow: none;\n",
              "  }\n",
              "\n",
              "  .colab-df-spinner {\n",
              "    border: 2px solid var(--fill-color);\n",
              "    border-color: transparent;\n",
              "    border-bottom-color: var(--fill-color);\n",
              "    animation:\n",
              "      spin 1s steps(1) infinite;\n",
              "  }\n",
              "\n",
              "  @keyframes spin {\n",
              "    0% {\n",
              "      border-color: transparent;\n",
              "      border-bottom-color: var(--fill-color);\n",
              "      border-left-color: var(--fill-color);\n",
              "    }\n",
              "    20% {\n",
              "      border-color: transparent;\n",
              "      border-left-color: var(--fill-color);\n",
              "      border-top-color: var(--fill-color);\n",
              "    }\n",
              "    30% {\n",
              "      border-color: transparent;\n",
              "      border-left-color: var(--fill-color);\n",
              "      border-top-color: var(--fill-color);\n",
              "      border-right-color: var(--fill-color);\n",
              "    }\n",
              "    40% {\n",
              "      border-color: transparent;\n",
              "      border-right-color: var(--fill-color);\n",
              "      border-top-color: var(--fill-color);\n",
              "    }\n",
              "    60% {\n",
              "      border-color: transparent;\n",
              "      border-right-color: var(--fill-color);\n",
              "    }\n",
              "    80% {\n",
              "      border-color: transparent;\n",
              "      border-right-color: var(--fill-color);\n",
              "      border-bottom-color: var(--fill-color);\n",
              "    }\n",
              "    90% {\n",
              "      border-color: transparent;\n",
              "      border-bottom-color: var(--fill-color);\n",
              "    }\n",
              "  }\n",
              "</style>\n",
              "\n",
              "  <script>\n",
              "    async function quickchart(key) {\n",
              "      const quickchartButtonEl =\n",
              "        document.querySelector('#' + key + ' button');\n",
              "      quickchartButtonEl.disabled = true;  // To prevent multiple clicks.\n",
              "      quickchartButtonEl.classList.add('colab-df-spinner');\n",
              "      try {\n",
              "        const charts = await google.colab.kernel.invokeFunction(\n",
              "            'suggestCharts', [key], {});\n",
              "      } catch (error) {\n",
              "        console.error('Error during call to suggestCharts:', error);\n",
              "      }\n",
              "      quickchartButtonEl.classList.remove('colab-df-spinner');\n",
              "      quickchartButtonEl.classList.add('colab-df-quickchart-complete');\n",
              "    }\n",
              "    (() => {\n",
              "      let quickchartButtonEl =\n",
              "        document.querySelector('#df-43e2e78a-6899-49f5-9ad7-460692d07345 button');\n",
              "      quickchartButtonEl.style.display =\n",
              "        google.colab.kernel.accessAllowed ? 'block' : 'none';\n",
              "    })();\n",
              "  </script>\n",
              "</div>\n",
              "    </div>\n",
              "  </div>\n"
            ]
          },
          "metadata": {},
          "execution_count": 6
        }
      ],
      "source": [
        "import pandas as pd\n",
        "import pandas_profiling\n",
        "df = pd.read_csv('/content/drive/MyDrive/Colab Notebooks/sumarry_train.csv', dtype={'courtDcss': str})\n",
        "train_data = pd.read_csv('/content/drive/MyDrive/Colab Notebooks/sumarry_train.csv', dtype={'courtDcss': str})\n",
        "train_data.info()\n",
        "train_data.head()"
      ]
    },
    {
      "cell_type": "markdown",
      "source": [
        "# 토큰화\n",
        "\n"
      ],
      "metadata": {
        "id": "YlOZMvno6hVB"
      }
    },
    {
      "cell_type": "code",
      "source": [
        "!pip install torch"
      ],
      "metadata": {
        "colab": {
          "base_uri": "https://localhost:8080/"
        },
        "id": "VHBWuUsmD_WR",
        "outputId": "838b78cc-d698-4a35-dc63-89ca94120054"
      },
      "execution_count": null,
      "outputs": [
        {
          "output_type": "stream",
          "name": "stdout",
          "text": [
            "Requirement already satisfied: torch in /usr/local/lib/python3.10/dist-packages (2.0.1+cu118)\n",
            "Requirement already satisfied: filelock in /usr/local/lib/python3.10/dist-packages (from torch) (3.12.2)\n",
            "Requirement already satisfied: typing-extensions in /usr/local/lib/python3.10/dist-packages (from torch) (4.5.0)\n",
            "Requirement already satisfied: sympy in /usr/local/lib/python3.10/dist-packages (from torch) (1.12)\n",
            "Requirement already satisfied: networkx in /usr/local/lib/python3.10/dist-packages (from torch) (3.1)\n",
            "Requirement already satisfied: jinja2 in /usr/local/lib/python3.10/dist-packages (from torch) (3.1.2)\n",
            "Requirement already satisfied: triton==2.0.0 in /usr/local/lib/python3.10/dist-packages (from torch) (2.0.0)\n",
            "Requirement already satisfied: cmake in /usr/local/lib/python3.10/dist-packages (from triton==2.0.0->torch) (3.27.4.1)\n",
            "Requirement already satisfied: lit in /usr/local/lib/python3.10/dist-packages (from triton==2.0.0->torch) (16.0.6)\n",
            "Requirement already satisfied: MarkupSafe>=2.0 in /usr/local/lib/python3.10/dist-packages (from jinja2->torch) (2.1.3)\n",
            "Requirement already satisfied: mpmath>=0.19 in /usr/local/lib/python3.10/dist-packages (from sympy->torch) (1.3.0)\n"
          ]
        }
      ]
    },
    {
      "cell_type": "code",
      "source": [
        "import torch\n",
        "from transformers import PreTrainedTokenizerFast, BartForConditionalGeneration\n",
        "import pandas as pd\n",
        "import re\n",
        "\n",
        "# BART 모델 및 토크나이저 로드\n",
        "tokenizer = PreTrainedTokenizerFast.from_pretrained('digit82/kobart-summarization')\n",
        "model = BartForConditionalGeneration.from_pretrained('digit82/kobart-summarization')\n",
        "\n",
        "# 불용어 리스트 정의\n",
        "stop_words = ['두', '텍스트', '입니다']  # 사용자가 제공하는 불용어 리스트\n",
        "\n",
        "# 데이터 전처리 (불용어 제거 및 데이터 정제)\n",
        "def preprocess_text(text):\n",
        "    # 불용어 제거\n",
        "    for stop_word in stop_words:\n",
        "        text = text.replace(stop_word, '')\n",
        "\n",
        "    # 특수 문자 및 숫자 제거 (정제)\n",
        "    text = re.sub(r'[^가-힣\\s0-9]', '', text)\n",
        "\n",
        "    return text\n",
        "\n",
        "# 데이터프레임의 각 행을 전처리하고 새로운 컬럼에 추가\n",
        "train_data['preprocessed_courtDcss'] = train_data['courtDcss'].apply(preprocess_text)\n",
        "\n"
      ],
      "metadata": {
        "id": "GZn4b_lL65CC",
        "outputId": "ca6a8663-e82d-40b0-eda7-70bebd07e452",
        "colab": {
          "base_uri": "https://localhost:8080/"
        }
      },
      "execution_count": null,
      "outputs": [
        {
          "output_type": "stream",
          "name": "stderr",
          "text": [
            "You passed along `num_labels=3` with an incompatible id to label map: {'0': 'NEGATIVE', '1': 'POSITIVE'}. The number of labels wil be overwritten to 2.\n"
          ]
        }
      ]
    },
    {
      "cell_type": "code",
      "source": [
        "pd.set_option('display.max_colwidth', -1)\n",
        "display(train_data[['preprocessed_courtDcss','courtDcss']].iloc[1000])"
      ],
      "metadata": {
        "colab": {
          "base_uri": "https://localhost:8080/",
          "height": 728
        },
        "id": "R8cfTfQ5N35a",
        "outputId": "d57ddcf1-6384-4c79-a852-e7ab222a5a01"
      },
      "execution_count": null,
      "outputs": [
        {
          "output_type": "stream",
          "name": "stderr",
          "text": [
            "<ipython-input-45-5bc70dd97508>:1: FutureWarning: Passing a negative integer is deprecated in version 1.0 and will not be supported in future version. Instead, use None to not limit the column width.\n",
            "  pd.set_option('display.max_colwidth', -1)\n"
          ]
        },
        {
          "output_type": "display_data",
          "data": {
            "text/plain": [
              "preprocessed_courtDcss    그러므로 그와 같은 증거가 없다면 설령 피고인에게 유죄의 의심이 간다 하더라도 피고인의 이익으로 판단할 수밖에 없다대법원 1991813선고 91도1385 판결 대법원 20021224선고 2002도5662 판결 등 참조 배임죄에 있어서 재산상의 손해를 가한 때라 함은 현실적인인 손해를 가한 경우뿐만 아니라 재산상 실해 발생의 위험을 초래한 경우도 포함되고 일단 손해의 위험성을 발생시킨 이상 사후에 피해가 회복되었다 하여도 배임죄의 성립에 영향을 주는 것은 아니다대법원 2000128선고 99도3338 판결 대법원 2004722선고 2002도4229 판결 대법원 201099선고 2010도5972 판결 등 참조 위 법리에 비추어 살펴보면 피고인이 판시 제1항 기재와 같이 공소외 00 등이 위 영농규모화사업에 따라 지원금을 받을 수 있는 요건을 갖추지 못하였음을 알면서도 지원금을 지급한 이상 피해자 공사에게 재산상 실해 발생의 위험을 초래하였다고 봄이 상당하므로 피고인 00 및 그 변호인의 위 주장은 받아들이지 아니한다 특정경제범죄 가중처벌 등에 관한 법률 제3조 제1항 은 특정재산범죄를 범한 자가 범죄행위로 인하여 취득하거나 제3자로 하여금 취득하게 한 재물 또는 재산상 이익의 가액이하 이득액이라 한다이 5억 원 이상인 때 가중처벌하고 있는데 여기서 말하는 이득액은 단순일죄의 이득액이나 혹은 포괄일죄가 성립되는 경우 이득액의 합산액을 의미한다 경합범으로 처벌될 수 죄에서 이득액을 합한 금액을 의미하는 것은 아니다한편 수개의 업무상 배임행위가 포괄하여 1개의 죄에 해당하기 위하여는 피해법익이 단일하고 범죄의 태양이 동일할 뿐만 아니라 그 수개의 배임행위가 단일한 범의에 기한 일련의 행위라고 볼 수 있어야 한다 당원 19931012선고 93도1512 판결 1985813선고 85도1275 판결 1984814선고 84도1139 판결 등 참조위 공소사실을 위 법리에 비추어 보면 피고인의 별지 범죄일람표 기재 범행들은 모 피해자 공사를 대상으로 한 것이다 지원의 상대방이나 지원 대상 농지 내부 업무지침의 위반 내용 및 정도 범행일시 등이 모 상이한 점 등 여러 사정에 비추어 보면 검사가 제출한 증거만으로 피고인의 위 각 범죄의 태양이 동일하다거나 단일한 범의에 기한 것이라고 인정하기에 부족하고 달리 이를 인정할 만한 증거가 없다 따라서 위 각 죄는 포괄일죄가 아니라 각 경합범 관계에 있다고 봄이 상당하다그런데 위 각 죄로 인한 이득액은 각 5억 원에 미달한다 그렇다면 피고인에 대한 특정경제범죄 가중처벌 등에 관한 법률 위반배임죄는 범죄사실의 증명이 없는 경우에 해당하여 형사소송법 제325조 후단에 따라 무죄를 선고하여야 할 것이나 이와 동일한 공소사실의 범위 내에서 피고인의 행위에 대하여 판시 각 업무상 배임죄를 유죄로 인정한 이상 주문에서 따로 무죄를 선고하지 아니한다 무릇 형사재판에서 공소가 제기된 범죄사실에 대한 입증책임은 검사에게 있고 유죄의 인정은 법관으로 하여금 합리적인 의심을 할 여지가 없을 정도로 공소사실이 진실한 것이라는 확신을 가지게 하는 증명력을 가진 증거에 의하여야 한다 위 인정사실에 의하여 알 수 있는 다음과 같은 사정 즉 피고인은 사건 당시 피해자 공사 000에 발령받아 위 영농규모화사업을 담당한지 얼마 되지 않았고 피고인 00 피고인 00 피고인 00 공소외 00 등 사건 관련자들과 아무런 친분관계가 없었다 달리 피고인이 피고인 00에게 위 사업에 따른 자금을 대출받는 재산상 이익을 취득하게 해둘 동기나 이유가 없어 보이는 점 피고인 00는 허위의 내용이기는 하나 주민등록지 농지원부 등 농지매입신청서에 첨부된 서류상 연령 재배경력 경영규모 등 전업농육성대상자 선정요건이나 이 사건 토지의 매입조건을 모 갖추고 있었던 점이 있다 피고인은 공문서인 위 서류들을 심사하고 현지조사를 하였으며 현지조사서에 이장의 확인서명을 받은 점 피해자 공사의 위 업무지침에는 주소지의 거주기간에 대한 제한규정이 없는 점 피고인 00의 면세유류대장이 0000에서 발급된 것이기는 하나 피고인이 0000에서도 논농사를 실제 하고 있었던 점이 있다 임의경매절차에서 이 사건 토지의 감정평가액이 매매가격 이상으로 나온 점 등 여러 사정을 종합하여 보면 검사가 제출한 증거들만으로는 피고인이 피고인 00로 하여금 이익을 취득하게 하고 피해자 공사에게 손해를 가한다는 인식하에 의도적으로 피고인 00에게 농지매매지원금을 지원하였다고 인정하기에는 부족하고 달리 이를 인정할 만한 증거가 없다 그렇다면 이 부분 공소사실은 범죄사실의 증명이 없는 경우에 해당하므로 형사소송법 제325조 후단에 의하여 무죄를 선고한다                                                                                        \n",
              "courtDcss                 그러므로, 그와 같은 증거가 없다면 설령 피고인에게 유죄의 의심이 간다 하더라도 피고인의 이익으로 판단할 수밖에 없다(대법원 1991.8.13.선고 91도1385 판결, 대법원 2002.12.24.선고 2002도5662 판결 등 참조). 배임죄에 있어서 재산상의 손해를 가한 때’라 함은 현실적인인 손해를 가한 경우뿐만 아니라 재산상 실해 발생의 위험을 초래한 경우도 포함되고 일단 손해의 위험성을 발생시킨 이상 사후에 피해가 회복되었다 하여도 배임죄의 성립에 영향을 주는 것은 아니다(대법원 2000.12.8.선고 99도3338 판결, 대법원 2004.7.22.선고 2002도4229 판결, 대법원 2010.9.9.선고 2010도5972 판결 등 참조). 위 법리에 비추어 살펴보면, 피고인이 판시 제1항 기재와 같이 공소외 00 등이 위 영농규모화사업에 따라 지원금을 받을 수 있는 요건을 갖추지 못하였음을 알면서도 지원금을 지급한 이상 피해자 공사에게 재산상 실해 발생의 위험을 초래하였다고 봄이 상당하므로, 피고인 00 및 그 변호인의 위 주장은 받아들이지 아니한다. 특정경제범죄 가중처벌 등에 관한 법률 제3조 제1항 은 특정재산범죄를 범한 자가 범죄행위로 인하여 취득하거나 제3자로 하여금 취득하게 한 재물 또는 재산상 이익의 가액(이하 '이득액'이라 한다)이 5억 원 이상인 때 가중처벌하고 있는데, 여기서 말하는 '이득액'은 단순일죄의 이득액이나 혹은 포괄일죄가 성립되는 경우 이득액의 합산액을 의미한다. 경합범으로 처벌될 수 죄에서 이득액을 합한 금액을 의미하는 것은 아니다.한편 수개의 업무상 배임행위가 포괄하여 1개의 죄에 해당하기 위하여는 피해법익이 단일하고 범죄의 태양이 동일할 뿐만 아니라, 그 수개의 배임행위가 단일한 범의에 기한 일련의 행위라고 볼 수 있어야 한다 (당원 1993.10.12.선고 93도1512 판결, 1985.8.13.선고 85도1275 판결, 1984.8.14.선고 84도1139 판결 등 참조).위 공소사실을 위 법리에 비추어 보면, 피고인의 별지 범죄일람표 기재 범행들은 모두 피해자 공사를 대상으로 한 것이다. 지원의 상대방이나 지원 대상 농지, 내부 업무지침의 위반 내용 및 정도, 범행일시 등이 모두 상이한 점 등 여러 사정에 비추어 보면, 검사가 제출한 증거만으로 피고인의 위 각 범죄의 태양이 동일하다거나 단일한 범의에 기한 것이라고 인정하기에 부족하고, 달리 이를 인정할 만한 증거가 없다. 따라서 위 각 죄는 포괄일죄가 아니라 각 경합범 관계에 있다고 봄이 상당하다.그런데 위 각 죄로 인한 이득액은 각 5억 원에 미달한다. 그렇다면 피고인에 대한 특정경제범죄 가중처벌 등에 관한 법률 위반(배임)죄는 범죄사실의 증명이 없는 경우에 해당하여 형사소송법 제325조 후단에 따라 무죄를 선고하여야 할 것이나, 이와 동일한 공소사실의 범위 내에서 피고인의 행위에 대하여 판시 각 업무상 배임죄를 유죄로 인정한 이상 주문에서 따로 무죄를 선고하지 아니한다. 무릇 형사재판에서 공소가 제기된 범죄사실에 대한 입증책임은 검사에게 있고, 유죄의 인정은 법관으로 하여금 합리적인 의심을 할 여지가 없을 정도로 공소사실이 진실한 것이라는 확신을 가지게 하는 증명력을 가진 증거에 의하여야 한다. 위 인정사실에 의하여 알 수 있는 다음과 같은 사정, 즉 피고인은 사건 당시 피해자 공사 000에 발령받아 위 영농규모화사업을 담당한지 얼마 되지 않았고 피고인 00, 피고인 00, 피고인 00, 공소외 00 등 사건 관련자들과 아무런 친분관계가 없었다. 달리 피고인이 피고인 00에게 위 사업에 따른 자금을 대출받는 재산상 이익을 취득하게 해둘 동기나 이유가 없어 보이는 점, 피고인 00는 허위의 내용이기는 하나 주민등록지, 농지원부 등 농지매입신청서에 첨부된 서류상 연령, 재배경력, 경영규모 등 전업농육성대상자 선정요건이나 이 사건 토지의 매입조건을 모두 갖추고 있었던 점이 있다. 피고인은 공문서인 위 서류들을 심사하고 현지조사를 하였으며 현지조사서에 이장의 확인서명을 받은 점, 피해자 공사의 위 업무지침에는 주소지의 거주기간에 대한 제한규정이 없는 점, 피고인 00의 면세유류대장이 0000에서 발급된 것이기는 하나 피고인이 0000에서도 논농사를 실제 하고 있었던 점이 있다. 임의경매절차에서 이 사건 토지의 감정평가액이 매매가격 이상으로 나온 점 등 여러 사정을 종합하여 보면, 검사가 제출한 증거들만으로는 피고인이 피고인 00로 하여금 이익을 취득하게 하고 피해자 공사에게 손해를 가한다는 인식하에 의도적으로 피고인 00에게 농지매매지원금을 지원하였다고 인정하기에는 부족하고, 달리 이를 인정할 만한 증거가 없다. 그렇다면 이 부분 공소사실은 범죄사실의 증명이 없는 경우에 해당하므로 형사소송법 제325조 후단에 의하여 무죄를 선고한다.\n",
              "Name: 1000, dtype: object"
            ]
          },
          "metadata": {}
        }
      ]
    },
    {
      "cell_type": "code",
      "source": [
        "text= '그러므로 그와 같은 증거가 없다면 설령 피고인에게 유죄의 의심이 간다 하더라도 피고인의 이익으로 판단할 수밖에 없다대법원 1991813선고 91도1385 판결 대법원 20021224선고 2002도5662 판결 등 참조 배임죄에 있어서 재산상의 손해를 가한 때라 함은 현실적인인 손해를 가한 경우뿐만 아니라 재산상 실해 발생의 위험을 초래한 경우도 포함되고 일단 손해의 위험성을 발생시킨 이상 사후에 피해가 회복되었다 하여도 배임죄의 성립에 영향을 주는 것은 아니다대법원 2000128선고 99도3338 판결 대법원 2004722선고 2002도4229 판결 대법원 201099선고 2010도5972 판결 등 참조 위 법리에 비추어 살펴보면 피고인이 판시 제1항 기재와 같이 공소외 00 등이 위 영농규모화사업에 따라 지원금을 받을 수 있는 요건을 갖추지 못하였음을 알면서도 지원금을 지급한 이상 피해자 공사에게 재산상 실해 발생의 위험을 초래하였다고 봄이 상당하므로 피고인 00 및 그 변호인의 위 주장은 받아들이지 아니한다 특정경제범죄 가중처벌 등에 관한 법률 제3조 제1항 은 특정재산범죄를 범한 자가 범죄행위로 인하여 취득하거나 제3자로 하여금 취득하게 한 재물 또는 재산상 이익의 가액이하 이득액이라 한다이 5억 원 이상인 때 가중처벌하고 있는데 여기서 말하는 이득액은 단순일죄의 이득액이나 혹은 포괄일죄가 성립되는 경우 이득액의 합산액을 의미한다 경합범으로 처벌될 수 죄에서 이득액을 합한 금액을 의미하는 것은 아니다한편 수개의 업무상 배임행위가 포괄하여 1개의 죄에 해당하기 위하여는 피해법익이 단일하고 범죄의 태양이 동일할 뿐만 아니라 그 수개의 배임행위가 단일한 범의에 기한 일련의 행위라고 볼 수 있어야 한다 당원 19931012선고 93도1512 판결 1985813선고 85도1275 판결 1984814선고 84도1139 판결 등 참조위 공소사실을 위 법리에 비추어 보면 피고인의 별지 범죄일람표 기재 범행들은 모 피해자 공사를 대상으로 한 것이다 지원의 상대방이나 지원 대상 농지 내부 업무지침의 위반 내용 및 정도 범행일시 등이 모 상이한 점 등 여러 사정에 비추어 보면 검사가 제출한 증거만으로 피고인의 위 각 범죄의 태양이 동일하다거나 단일한 범의에 기한 것이라고 인정하기에 부족하고 달리 이를 인정할 만한 증거가 없다 따라서 위 각 죄는 포괄일죄가 아니라 각 경합범 관계에 있다고 봄이 상당하다그런데 위 각 죄로 인한 이득액은 각 5억 원에 미달한다 그렇다면 피고인에 대한 특정경제범죄 가중처벌 등에 관한 법률 위반배임죄는 범죄사실의 증명이 없는 경우에 해당하여 형사소송법 제325조 후단에 따라 무죄를 선고하여야 할 것이나 이와 동일한 공소사실의 범위 내에서 피고인의 행위에 대하여 판시 각 업무상 배임죄를 유죄로 인정한 이상 주문에서 따로 무죄를 선고하지 아니한다 무릇 형사재판에서 공소가 제기된 범죄사실에 대한 입증책임은 검사에게 있고 유죄의 인정은 법관으로 하여금 합리적인 의심을 할 여지가 없을 정도로 공소사실이 진실한 것이라는 확신을 가지게 하는 증명력을 가진 증거에 의하여야 한다 위 인정사실에 의하여 알 수 있는 다음과 같은 사정 즉 피고인은 사건 당시 피해자 공사 000에 발령받아 위 영농규모화사업을 담당한지 얼마 되지 않았고 피고인 00 피고인 00 피고인 00 공소외 00 등 사건 관련자들과 아무런 친분관계가 없었다 달리 피고인이 피고인 00에게 위 사업에 따른 자금을 대출받는 재산상 이익을 취득하게 해둘 동기나 이유가 없어 보이는 점 피고인 00는 허위의 내용이기는 하나 주민등록지 농지원부 등 농지매입신청서에 첨부된 서류상 연령 재배경력 경영규모 등 전업농육성대상자 선정요건이나 이 사건 토지의 매입조건을 모 갖추고 있었던 점이 있다 피고인은 공문서인 위 서류들을 심사하고 현지조사를 하였으며 현지조사서에 이장의 확인서명을 받은 점 피해자 공사의 위 업무지침에는 주소지의 거주기간에 대한 제한규정이 없는 점 피고인 00의 면세유류대장이 0000에서 발급된 것이기는 하나 피고인이 0000에서도 논농사를 실제 하고 있었던 점이 있다 임의경매절차에서 이 사건 토지의 감정평가액이 매매가격 이상으로 나온 점 등 여러 사정을 종합하여 보면 검사가 제출한 증거들만으로는 피고인이 피고인 00로 하여금 이익을 취득하게 하고 피해자 공사에게 손해를 가한다는 인식하에 의도적으로 피고인 00에게 농지매매지원금을 지원하였다고 인정하기에는 부족하고 달리 이를 인정할 만한 증거가 없다 그렇다면 이 부분 공소사실은 범죄사실의 증명이 없는 경우에 해당하므로 형사소송법 제325조 후단에 의하여 무죄를 선고한다     '\n",
        "# 입력 토큰 ID로 변환\n",
        "raw_input_ids = tokenizer.encode(text, max_length=400, return_tensors=\"pt\", truncation=True)\n",
        "input_ids = raw_input_ids.to(model.device)\n",
        "\n",
        "# 다양한 옵션 설정\n",
        "summary_ids = model.generate(\n",
        "    input_ids,\n",
        "    max_length=200,         # 최대 요약 길이\n",
        "    num_beams=100,            # 빔 검색을 사용하여 후보 요약 생성\n",
        "    length_penalty=2.0,     # 길이 패널티 조정\n",
        "    early_stopping=True,    # 조기 종료 활성화\n",
        "    temperature=0.7,        # 온도 설정 (창의성 조절)\n",
        "    num_return_sequences=3,  # 후보 요약 3개 생성\n",
        "    no_repeat_ngram_size=1,\n",
        "    top_p=0.85\n",
        ")\n",
        "\n",
        "# 각 후보 요약 디코딩 및 출력\n",
        "for i, summary_id in enumerate(summary_ids):\n",
        "    summary = tokenizer.decode(summary_id, skip_special_tokens=True)\n",
        "    print(f\"요약 {i+1}: {summary}\")\n",
        "\n"
      ],
      "metadata": {
        "colab": {
          "base_uri": "https://localhost:8080/"
        },
        "id": "gMVFmqhKP_h2",
        "outputId": "825d4254-c2f7-4f2e-bf66-e33cff7c9bc9"
      },
      "execution_count": null,
      "outputs": [
        {
          "output_type": "stream",
          "name": "stdout",
          "text": [
            "요약 1: 특정경제범죄 가중처벌 등에 관한 법률 제3조 제1항에 따르면 공소외 00 등이 위 영농규모화사업에 따라 지원금을 지급한 이상 피해자 공사에게 재산상 실해 발생의 위험을 초래하였다고 봄이 상당하므로 피고인의 이익으로 판단할 수밖에 없다\n",
            "요약 2: 특정경제범죄 가중처벌 등에 관한 법률 제3조 제1항에 의하면 공소외 00 등이 위 영농규모화사업에 따라 지원금을 지급한 이상 피해자 공사에게 재산상 실해 발생의 위험을 초래하였다고 봄이 상당하므로 피고인의 이익으로 판단할 수밖에 없다\n",
            "요약 3: 특정경제범죄 가중처벌 등에 관한 법률 제3조 제1항에 따르면 공소외 00 등이 위 영농규모화사업에 따라 지원금을 지급한 이상 피해자 공사에게 재산상 실해 발생의 위험을 초래하였다고 봄이 상당하므로, 피고인의 이익으로 판단할 수밖에 없다\n"
          ]
        }
      ]
    },
    {
      "cell_type": "code",
      "source": [
        "text= '그러므로 그와 같은 증거가 없다면 설령 피고인에게 유죄의 의심이 간다 하더라도 피고인의 이익으로 판단할 수밖에 없다대법원 1991813선고 91도1385 판결 대법원 20021224선고 2002도5662 판결 등 참조 배임죄에 있어서 재산상의 손해를 가한 때라 함은 현실적인인 손해를 가한 경우뿐만 아니라 재산상 실해 발생의 위험을 초래한 경우도 포함되고 일단 손해의 위험성을 발생시킨 이상 사후에 피해가 회복되었다 하여도 배임죄의 성립에 영향을 주는 것은 아니다대법원 2000128선고 99도3338 판결 대법원 2004722선고 2002도4229 판결 대법원 201099선고 2010도5972 판결 등 참조 위 법리에 비추어 살펴보면 피고인이 판시 제1항 기재와 같이 공소외 00 등이 위 영농규모화사업에 따라 지원금을 받을 수 있는 요건을 갖추지 못하였음을 알면서도 지원금을 지급한 이상 피해자 공사에게 재산상 실해 발생의 위험을 초래하였다고 봄이 상당하므로 피고인 00 및 그 변호인의 위 주장은 받아들이지 아니한다 특정경제범죄 가중처벌 등에 관한 법률 제3조 제1항 은 특정재산범죄를 범한 자가 범죄행위로 인하여 취득하거나 제3자로 하여금 취득하게 한 재물 또는 재산상 이익의 가액이하 이득액이라 한다이 5억 원 이상인 때 가중처벌하고 있는데 여기서 말하는 이득액은 단순일죄의 이득액이나 혹은 포괄일죄가 성립되는 경우 이득액의 합산액을 의미한다 경합범으로 처벌될 수 죄에서 이득액을 합한 금액을 의미하는 것은 아니다한편 수개의 업무상 배임행위가 포괄하여 1개의 죄에 해당하기 위하여는 피해법익이 단일하고 범죄의 태양이 동일할 뿐만 아니라 그 수개의 배임행위가 단일한 범의에 기한 일련의 행위라고 볼 수 있어야 한다 당원 19931012선고 93도1512 판결 1985813선고 85도1275 판결 1984814선고 84도1139 판결 등 참조위 공소사실을 위 법리에 비추어 보면 피고인의 별지 범죄일람표 기재 범행들은 모 피해자 공사를 대상으로 한 것이다 지원의 상대방이나 지원 대상 농지 내부 업무지침의 위반 내용 및 정도 범행일시 등이 모 상이한 점 등 여러 사정에 비추어 보면 검사가 제출한 증거만으로 피고인의 위 각 범죄의 태양이 동일하다거나 단일한 범의에 기한 것이라고 인정하기에 부족하고 달리 이를 인정할 만한 증거가 없다 따라서 위 각 죄는 포괄일죄가 아니라 각 경합범 관계에 있다고 봄이 상당하다그런데 위 각 죄로 인한 이득액은 각 5억 원에 미달한다 그렇다면 피고인에 대한 특정경제범죄 가중처벌 등에 관한 법률 위반배임죄는 범죄사실의 증명이 없는 경우에 해당하여 형사소송법 제325조 후단에 따라 무죄를 선고하여야 할 것이나 이와 동일한 공소사실의 범위 내에서 피고인의 행위에 대하여 판시 각 업무상 배임죄를 유죄로 인정한 이상 주문에서 따로 무죄를 선고하지 아니한다 무릇 형사재판에서 공소가 제기된 범죄사실에 대한 입증책임은 검사에게 있고 유죄의 인정은 법관으로 하여금 합리적인 의심을 할 여지가 없을 정도로 공소사실이 진실한 것이라는 확신을 가지게 하는 증명력을 가진 증거에 의하여야 한다 위 인정사실에 의하여 알 수 있는 다음과 같은 사정 즉 피고인은 사건 당시 피해자 공사 000에 발령받아 위 영농규모화사업을 담당한지 얼마 되지 않았고 피고인 00 피고인 00 피고인 00 공소외 00 등 사건 관련자들과 아무런 친분관계가 없었다 달리 피고인이 피고인 00에게 위 사업에 따른 자금을 대출받는 재산상 이익을 취득하게 해둘 동기나 이유가 없어 보이는 점 피고인 00는 허위의 내용이기는 하나 주민등록지 농지원부 등 농지매입신청서에 첨부된 서류상 연령 재배경력 경영규모 등 전업농육성대상자 선정요건이나 이 사건 토지의 매입조건을 모 갖추고 있었던 점이 있다 피고인은 공문서인 위 서류들을 심사하고 현지조사를 하였으며 현지조사서에 이장의 확인서명을 받은 점 피해자 공사의 위 업무지침에는 주소지의 거주기간에 대한 제한규정이 없는 점 피고인 00의 면세유류대장이 0000에서 발급된 것이기는 하나 피고인이 0000에서도 논농사를 실제 하고 있었던 점이 있다 임의경매절차에서 이 사건 토지의 감정평가액이 매매가격 이상으로 나온 점 등 여러 사정을 종합하여 보면 검사가 제출한 증거들만으로는 피고인이 피고인 00로 하여금 이익을 취득하게 하고 피해자 공사에게 손해를 가한다는 인식하에 의도적으로 피고인 00에게 농지매매지원금을 지원하였다고 인정하기에는 부족하고 달리 이를 인정할 만한 증거가 없다 그렇다면 이 부분 공소사실은 범죄사실의 증명이 없는 경우에 해당하므로 형사소송법 제325조 후단에 의하여 무죄를 선고한다     '\n",
        "# 입력 토큰 ID로 변환\n",
        "raw_input_ids = tokenizer.encode(text, max_length=400, return_tensors=\"pt\", truncation=True)\n",
        "input_ids = raw_input_ids.to(model.device)\n",
        "\n",
        "# 다양한 옵션 설정\n",
        "summary_ids = model.generate(\n",
        "    input_ids,\n",
        "    max_length=200,         # 최대 요약 길이\n",
        "    num_beams=4,            # 빔 검색을 사용하여 후보 요약 생성\n",
        "    length_penalty=2.0,     # 길이 패널티 조정\n",
        "    early_stopping=True,    # 조기 종료 활성화\n",
        "   # temperature=0.7,        # 온도 설정 (창의성 조절)\n",
        "    num_return_sequences=3,  # 후보 요약 3개 생성\n",
        "    no_repeat_ngram_size=2,\n",
        "    top_p=0.85\n",
        ")\n",
        "\n",
        "# 각 후보 요약 디코딩 및 출력\n",
        "for i, summary_id in enumerate(summary_ids):\n",
        "    summary = tokenizer.decode(summary_id, skip_special_tokens=True)\n",
        "    print(f\"요약 {i+1}: {summary}\")\n",
        "\n"
      ],
      "metadata": {
        "colab": {
          "base_uri": "https://localhost:8080/"
        },
        "id": "8j1WUBIzrhff",
        "outputId": "167a4685-ab88-415b-948d-50b7eb0da333"
      },
      "execution_count": null,
      "outputs": [
        {
          "output_type": "stream",
          "name": "stdout",
          "text": [
            "요약 1: 특정경제범죄 가중처벌 등에 관한 법률 제3조 제1항은 특정재산범죄를 범한 자가 범죄행위로 인하여 취득하거나 제3자로 하여금 취득하게 한 재물 또는 재산상 이익의 가액이하 이득액이라 한다\n",
            "요약 2: 특정경제범죄 가중처벌 등에 관한 법률 제3조 제1항은 특정재산범죄를 범한 자가 범죄행위로 취득하거나 제3자로 하여금 취득하게 한 재물 또는 재산상 이익의 가액이하 이득액이라 한다\n",
            "요약 3: 특정경제범죄 가중처벌 등에 관한 법률 제3조 제1항은 특정재산범죄를 범한 자가 취득하거나 제3자로 하여금 취득하게 한 재물 또는 재산상 이익의 가액이하 이득액이라 한다\n"
          ]
        }
      ]
    },
    {
      "cell_type": "code",
      "source": [
        "# # 텍스트 요약을 각 행에 적용\n",
        "# def summarize_text(text):\n",
        "#     raw_input_ids = tokenizer.encode(text, max_length=1024, return_tensors=\"pt\", truncation=True)\n",
        "#     input_ids = raw_input_ids.to(model.device)\n",
        "#     summary_ids = model.generate(input_ids, num_beams=4, max_length=100, length_penalty=2.0, early_stopping=True)\n",
        "#     summary = tokenizer.decode(summary_ids.squeeze().tolist(), skip_special_tokens=True)\n",
        "#     return summary\n",
        "\n",
        "# train_data['summary'] = train_data['preprocessed_courtDcss'].apply(summarize_text)\n",
        "\n",
        "# # 결과 출력\n",
        "# print(train_data)"
      ],
      "metadata": {
        "id": "UYtftLvgNxQg"
      },
      "execution_count": null,
      "outputs": []
    }
  ],
  "metadata": {
    "colab": {
      "provenance": [],
      "include_colab_link": true
    },
    "kernelspec": {
      "display_name": "Python 3",
      "name": "python3"
    },
    "language_info": {
      "name": "python"
    }
  },
  "nbformat": 4,
  "nbformat_minor": 0
}
