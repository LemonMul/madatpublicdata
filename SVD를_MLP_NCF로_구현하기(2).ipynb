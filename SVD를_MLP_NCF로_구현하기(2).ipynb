{
  "nbformat": 4,
  "nbformat_minor": 0,
  "metadata": {
    "colab": {
      "provenance": [],
      "gpuType": "T4",
      "machine_shape": "hm",
      "authorship_tag": "ABX9TyMAlxg6k9J+ov1n9AbqGkMg",
      "include_colab_link": true
    },
    "kernelspec": {
      "name": "python3",
      "display_name": "Python 3"
    },
    "language_info": {
      "name": "python"
    },
    "accelerator": "GPU"
  },
  "cells": [
    {
      "cell_type": "markdown",
      "metadata": {
        "id": "view-in-github",
        "colab_type": "text"
      },
      "source": [
        "<a href=\"https://colab.research.google.com/github/hscrown/madatpublicdata/blob/main/SVD%EB%A5%BC_MLP_NCF%EB%A1%9C_%EA%B5%AC%ED%98%84%ED%95%98%EA%B8%B0(2).ipynb\" target=\"_parent\"><img src=\"https://colab.research.google.com/assets/colab-badge.svg\" alt=\"Open In Colab\"/></a>"
      ]
    },
    {
      "cell_type": "code",
      "source": [
        "import numpy as np\n",
        "import pandas as pd\n",
        "import matplotlib.pyplot as plt\n",
        "import seaborn as sns\n",
        "import tensorflow as tf\n",
        "from sklearn.model_selection import train_test_split\n",
        "from tensorflow.keras.models import Model\n",
        "from tensorflow.keras.layers import Input, Embedding, Flatten, Concatenate, Dense, Dropout\n",
        "from tensorflow.keras.optimizers import Adam\n",
        "from tensorflow.keras.callbacks import EarlyStopping\n",
        "from tensorflow.keras.metrics import RootMeanSquaredError\n",
        "!pip install datasets\n",
        "from datasets import load_dataset"
      ],
      "metadata": {
        "id": "Fzow5bxUF_Wd",
        "colab": {
          "base_uri": "https://localhost:8080/"
        },
        "outputId": "6a3e2062-30fe-47b1-eee1-1142ec9de071"
      },
      "execution_count": 6,
      "outputs": [
        {
          "output_type": "stream",
          "name": "stdout",
          "text": [
            "Collecting datasets\n",
            "  Downloading datasets-2.19.0-py3-none-any.whl (542 kB)\n",
            "\u001b[2K     \u001b[90m━━━━━━━━━━━━━━━━━━━━━━━━━━━━━━━━━━━━━━━━\u001b[0m \u001b[32m542.0/542.0 kB\u001b[0m \u001b[31m9.6 MB/s\u001b[0m eta \u001b[36m0:00:00\u001b[0m\n",
            "\u001b[?25hRequirement already satisfied: filelock in /usr/local/lib/python3.10/dist-packages (from datasets) (3.13.4)\n",
            "Requirement already satisfied: numpy>=1.17 in /usr/local/lib/python3.10/dist-packages (from datasets) (1.25.2)\n",
            "Requirement already satisfied: pyarrow>=12.0.0 in /usr/local/lib/python3.10/dist-packages (from datasets) (14.0.2)\n",
            "Requirement already satisfied: pyarrow-hotfix in /usr/local/lib/python3.10/dist-packages (from datasets) (0.6)\n",
            "Collecting dill<0.3.9,>=0.3.0 (from datasets)\n",
            "  Downloading dill-0.3.8-py3-none-any.whl (116 kB)\n",
            "\u001b[2K     \u001b[90m━━━━━━━━━━━━━━━━━━━━━━━━━━━━━━━━━━━━━━━━\u001b[0m \u001b[32m116.3/116.3 kB\u001b[0m \u001b[31m10.4 MB/s\u001b[0m eta \u001b[36m0:00:00\u001b[0m\n",
            "\u001b[?25hRequirement already satisfied: pandas in /usr/local/lib/python3.10/dist-packages (from datasets) (2.0.3)\n",
            "Requirement already satisfied: requests>=2.19.0 in /usr/local/lib/python3.10/dist-packages (from datasets) (2.31.0)\n",
            "Requirement already satisfied: tqdm>=4.62.1 in /usr/local/lib/python3.10/dist-packages (from datasets) (4.66.2)\n",
            "Collecting xxhash (from datasets)\n",
            "  Downloading xxhash-3.4.1-cp310-cp310-manylinux_2_17_x86_64.manylinux2014_x86_64.whl (194 kB)\n",
            "\u001b[2K     \u001b[90m━━━━━━━━━━━━━━━━━━━━━━━━━━━━━━━━━━━━━━━━\u001b[0m \u001b[32m194.1/194.1 kB\u001b[0m \u001b[31m13.2 MB/s\u001b[0m eta \u001b[36m0:00:00\u001b[0m\n",
            "\u001b[?25hCollecting multiprocess (from datasets)\n",
            "  Downloading multiprocess-0.70.16-py310-none-any.whl (134 kB)\n",
            "\u001b[2K     \u001b[90m━━━━━━━━━━━━━━━━━━━━━━━━━━━━━━━━━━━━━━━━\u001b[0m \u001b[32m134.8/134.8 kB\u001b[0m \u001b[31m13.0 MB/s\u001b[0m eta \u001b[36m0:00:00\u001b[0m\n",
            "\u001b[?25hRequirement already satisfied: fsspec[http]<=2024.3.1,>=2023.1.0 in /usr/local/lib/python3.10/dist-packages (from datasets) (2023.6.0)\n",
            "Requirement already satisfied: aiohttp in /usr/local/lib/python3.10/dist-packages (from datasets) (3.9.5)\n",
            "Collecting huggingface-hub>=0.21.2 (from datasets)\n",
            "  Downloading huggingface_hub-0.22.2-py3-none-any.whl (388 kB)\n",
            "\u001b[2K     \u001b[90m━━━━━━━━━━━━━━━━━━━━━━━━━━━━━━━━━━━━━━━━\u001b[0m \u001b[32m388.9/388.9 kB\u001b[0m \u001b[31m18.5 MB/s\u001b[0m eta \u001b[36m0:00:00\u001b[0m\n",
            "\u001b[?25hRequirement already satisfied: packaging in /usr/local/lib/python3.10/dist-packages (from datasets) (24.0)\n",
            "Requirement already satisfied: pyyaml>=5.1 in /usr/local/lib/python3.10/dist-packages (from datasets) (6.0.1)\n",
            "Requirement already satisfied: aiosignal>=1.1.2 in /usr/local/lib/python3.10/dist-packages (from aiohttp->datasets) (1.3.1)\n",
            "Requirement already satisfied: attrs>=17.3.0 in /usr/local/lib/python3.10/dist-packages (from aiohttp->datasets) (23.2.0)\n",
            "Requirement already satisfied: frozenlist>=1.1.1 in /usr/local/lib/python3.10/dist-packages (from aiohttp->datasets) (1.4.1)\n",
            "Requirement already satisfied: multidict<7.0,>=4.5 in /usr/local/lib/python3.10/dist-packages (from aiohttp->datasets) (6.0.5)\n",
            "Requirement already satisfied: yarl<2.0,>=1.0 in /usr/local/lib/python3.10/dist-packages (from aiohttp->datasets) (1.9.4)\n",
            "Requirement already satisfied: async-timeout<5.0,>=4.0 in /usr/local/lib/python3.10/dist-packages (from aiohttp->datasets) (4.0.3)\n",
            "Requirement already satisfied: typing-extensions>=3.7.4.3 in /usr/local/lib/python3.10/dist-packages (from huggingface-hub>=0.21.2->datasets) (4.11.0)\n",
            "Requirement already satisfied: charset-normalizer<4,>=2 in /usr/local/lib/python3.10/dist-packages (from requests>=2.19.0->datasets) (3.3.2)\n",
            "Requirement already satisfied: idna<4,>=2.5 in /usr/local/lib/python3.10/dist-packages (from requests>=2.19.0->datasets) (3.7)\n",
            "Requirement already satisfied: urllib3<3,>=1.21.1 in /usr/local/lib/python3.10/dist-packages (from requests>=2.19.0->datasets) (2.0.7)\n",
            "Requirement already satisfied: certifi>=2017.4.17 in /usr/local/lib/python3.10/dist-packages (from requests>=2.19.0->datasets) (2024.2.2)\n",
            "Requirement already satisfied: python-dateutil>=2.8.2 in /usr/local/lib/python3.10/dist-packages (from pandas->datasets) (2.8.2)\n",
            "Requirement already satisfied: pytz>=2020.1 in /usr/local/lib/python3.10/dist-packages (from pandas->datasets) (2023.4)\n",
            "Requirement already satisfied: tzdata>=2022.1 in /usr/local/lib/python3.10/dist-packages (from pandas->datasets) (2024.1)\n",
            "Requirement already satisfied: six>=1.5 in /usr/local/lib/python3.10/dist-packages (from python-dateutil>=2.8.2->pandas->datasets) (1.16.0)\n",
            "Installing collected packages: xxhash, dill, multiprocess, huggingface-hub, datasets\n",
            "  Attempting uninstall: huggingface-hub\n",
            "    Found existing installation: huggingface-hub 0.20.3\n",
            "    Uninstalling huggingface-hub-0.20.3:\n",
            "      Successfully uninstalled huggingface-hub-0.20.3\n",
            "Successfully installed datasets-2.19.0 dill-0.3.8 huggingface-hub-0.22.2 multiprocess-0.70.16 xxhash-3.4.1\n"
          ]
        }
      ]
    },
    {
      "source": [
        "# 데이터 로드\n",
        "\n",
        "dataset = load_dataset(\"hscrown/Rating1000\")\n",
        "df = pd.DataFrame(dataset['train'])"
      ],
      "cell_type": "code",
      "metadata": {
        "id": "dFahyBLXJIYZ"
      },
      "execution_count": 25,
      "outputs": []
    },
    {
      "cell_type": "markdown",
      "source": [
        "# Swish 함수 사용\n"
      ],
      "metadata": {
        "id": "sDHsU_iuIyHb"
      }
    },
    {
      "cell_type": "code",
      "source": [
        "from tensorflow.keras.layers import Activation\n",
        "\n",
        "# Swish 함수 정의\n",
        "def swish(x):\n",
        "    return x * tf.sigmoid(x)\n",
        "\n",
        "# 데이터 전처리\n",
        "non_zero_df = df[df['rating'] != 0]\n",
        "pivot_table = non_zero_df.pivot(index='user_id', columns='place_id', values='rating').fillna(0)\n",
        "train, test = train_test_split(pivot_table, test_size=0.2, random_state=42)\n",
        "\n",
        "train_users, train_items = np.where(train > 0)\n",
        "train_ratings = train.values[train > 0]\n",
        "\n",
        "test_users, test_items = np.where(test > 0)\n",
        "test_ratings = test.values[test > 0]\n",
        "\n",
        "# 모델 입력\n",
        "user_input = Input(shape=(1,), dtype='int32')\n",
        "item_input = Input(shape=(1,), dtype='int32')\n",
        "\n",
        "# 임베딩 레이어\n",
        "user_embedding = Embedding(input_dim=pivot_table.shape[0], output_dim=15, input_length=1)(user_input)\n",
        "item_embedding = Embedding(input_dim=pivot_table.shape[1], output_dim=15, input_length=1)(item_input)\n",
        "\n",
        "# 임베딩 벡터 평탄화\n",
        "user_vector = Flatten()(user_embedding)\n",
        "item_vector = Flatten()(item_embedding)\n",
        "\n",
        "# 임베딩 벡터의 연결\n",
        "concatenated = Concatenate()([user_vector, item_vector])\n",
        "\n",
        "# MLP 레이어\n",
        "mlp_layer = Dense(128, activation=swish)(concatenated)\n",
        "mlp_layer = Dropout(0.2)(mlp_layer)\n",
        "mlp_layer = Dense(64, activation=swish)(mlp_layer)\n",
        "mlp_layer = Dropout(0.2)(mlp_layer)\n",
        "mlp_layer = Dense(32, activation=swish)(mlp_layer)\n",
        "\n",
        "# 출력층\n",
        "mlp_output = Dense(1, activation='sigmoid')(mlp_layer)\n",
        "\n",
        "# 반올림 함수 정의\n",
        "def round_to_nearest_half(x):\n",
        "    return round(x * 2) / 2\n",
        "\n",
        "# 모델 생성\n",
        "model = Model(inputs=[user_input, item_input], outputs=mlp_output)\n",
        "\n",
        "# 손실 함수와 최적화 알고리즘 설정\n",
        "model.compile(optimizer=Adam(0.001), loss='mean_squared_error', metrics=[RootMeanSquaredError()])\n",
        "\n",
        "# 모델 요약 출력\n",
        "model.summary()\n",
        "\n",
        "# 얼리스타핑 설정\n",
        "early_stopping = EarlyStopping(\n",
        "    monitor='val_root_mean_squared_error',\n",
        "    patience=5,\n",
        "    verbose=1,\n",
        "    mode='min',\n",
        "    restore_best_weights=True\n",
        ")\n",
        "\n",
        "# 모델 학습\n",
        "history = model.fit(\n",
        "    [train_users, train_items], train_ratings,\n",
        "    validation_data=([test_users, test_items], test_ratings),\n",
        "    epochs=20,\n",
        "    verbose=1,\n",
        "    callbacks=[early_stopping]\n",
        ")\n"
      ],
      "metadata": {
        "id": "Zy6BogXmLH7l",
        "colab": {
          "base_uri": "https://localhost:8080/"
        },
        "outputId": "745b5aeb-00c4-4fba-f3cc-35216fbf3c10"
      },
      "execution_count": 8,
      "outputs": [
        {
          "output_type": "stream",
          "name": "stdout",
          "text": [
            "Model: \"model\"\n",
            "__________________________________________________________________________________________________\n",
            " Layer (type)                Output Shape                 Param #   Connected to                  \n",
            "==================================================================================================\n",
            " input_1 (InputLayer)        [(None, 1)]                  0         []                            \n",
            "                                                                                                  \n",
            " input_2 (InputLayer)        [(None, 1)]                  0         []                            \n",
            "                                                                                                  \n",
            " embedding (Embedding)       (None, 1, 15)                15000     ['input_1[0][0]']             \n",
            "                                                                                                  \n",
            " embedding_1 (Embedding)     (None, 1, 15)                24945     ['input_2[0][0]']             \n",
            "                                                                                                  \n",
            " flatten (Flatten)           (None, 15)                   0         ['embedding[0][0]']           \n",
            "                                                                                                  \n",
            " flatten_1 (Flatten)         (None, 15)                   0         ['embedding_1[0][0]']         \n",
            "                                                                                                  \n",
            " concatenate (Concatenate)   (None, 30)                   0         ['flatten[0][0]',             \n",
            "                                                                     'flatten_1[0][0]']           \n",
            "                                                                                                  \n",
            " dense (Dense)               (None, 128)                  3968      ['concatenate[0][0]']         \n",
            "                                                                                                  \n",
            " dropout (Dropout)           (None, 128)                  0         ['dense[0][0]']               \n",
            "                                                                                                  \n",
            " dense_1 (Dense)             (None, 64)                   8256      ['dropout[0][0]']             \n",
            "                                                                                                  \n",
            " dropout_1 (Dropout)         (None, 64)                   0         ['dense_1[0][0]']             \n",
            "                                                                                                  \n",
            " dense_2 (Dense)             (None, 32)                   2080      ['dropout_1[0][0]']           \n",
            "                                                                                                  \n",
            " dense_3 (Dense)             (None, 1)                    33        ['dense_2[0][0]']             \n",
            "                                                                                                  \n",
            "==================================================================================================\n",
            "Total params: 54282 (212.04 KB)\n",
            "Trainable params: 54282 (212.04 KB)\n",
            "Non-trainable params: 0 (0.00 Byte)\n",
            "__________________________________________________________________________________________________\n",
            "Epoch 1/20\n",
            "40123/40123 [==============================] - 174s 4ms/step - loss: 7.4867 - root_mean_squared_error: 2.7362 - val_loss: 7.4922 - val_root_mean_squared_error: 2.7372\n",
            "Epoch 2/20\n",
            "40123/40123 [==============================] - 166s 4ms/step - loss: 7.4846 - root_mean_squared_error: 2.7358 - val_loss: 7.4922 - val_root_mean_squared_error: 2.7372\n",
            "Epoch 3/20\n",
            "40123/40123 [==============================] - 166s 4ms/step - loss: 7.4846 - root_mean_squared_error: 2.7358 - val_loss: 7.4922 - val_root_mean_squared_error: 2.7372\n",
            "Epoch 4/20\n",
            "40123/40123 [==============================] - 165s 4ms/step - loss: 7.4847 - root_mean_squared_error: 2.7358 - val_loss: 7.4922 - val_root_mean_squared_error: 2.7372\n",
            "Epoch 5/20\n",
            "40123/40123 [==============================] - 166s 4ms/step - loss: 7.4846 - root_mean_squared_error: 2.7358 - val_loss: 7.4922 - val_root_mean_squared_error: 2.7372\n",
            "Epoch 6/20\n",
            "40113/40123 [============================>.] - ETA: 0s - loss: 7.4846 - root_mean_squared_error: 2.7358Restoring model weights from the end of the best epoch: 1.\n",
            "40123/40123 [==============================] - 165s 4ms/step - loss: 7.4846 - root_mean_squared_error: 2.7358 - val_loss: 7.4922 - val_root_mean_squared_error: 2.7372\n",
            "Epoch 6: early stopping\n"
          ]
        }
      ]
    },
    {
      "cell_type": "code",
      "source": [
        "# 시각화\n",
        "plt.plot(history.history['root_mean_squared_error'])\n",
        "plt.plot(history.history['val_root_mean_squared_error'])"
      ],
      "metadata": {
        "colab": {
          "base_uri": "https://localhost:8080/",
          "height": 448
        },
        "id": "f2nlfwotSCOU",
        "outputId": "b1ec7698-9062-40ab-e5fe-65d60bec428b"
      },
      "execution_count": 9,
      "outputs": [
        {
          "output_type": "execute_result",
          "data": {
            "text/plain": [
              "[<matplotlib.lines.Line2D at 0x7e1f5639d750>]"
            ]
          },
          "metadata": {},
          "execution_count": 9
        },
        {
          "output_type": "display_data",
          "data": {
            "text/plain": [
              "<Figure size 640x480 with 1 Axes>"
            ],
            "image/png": "[encoded data removed]"
          },
          "metadata": {}
        }
      ]
    },
    {
      "cell_type": "markdown",
      "source": [
        "# L2정규화 적용"
      ],
      "metadata": {
        "id": "VpZjkBxqRw-k"
      }
    },
    {
      "cell_type": "markdown",
      "source": [
        "시그모이드, swish함수가 오차값이 커서 relu함수로 돌아갓다."
      ],
      "metadata": {
        "id": "BDHIT6CrSHAT"
      }
    },
    {
      "cell_type": "code",
      "source": [
        "from tensorflow.keras.layers import Activation\n",
        "from tensorflow.keras.regularizers import l2\n",
        "from tensorflow.keras.layers import Lambda\n",
        "\n",
        "# 데이터 전처리\n",
        "non_zero_df = df[df['rating'] != 0]\n",
        "pivot_table = non_zero_df.pivot(index='user_id', columns='place_id', values='rating').fillna(0)\n",
        "train, test = train_test_split(pivot_table, test_size=0.2, random_state=42)\n",
        "\n",
        "train_users, train_items = np.where(train > 0)\n",
        "train_ratings = train.values[train > 0]\n",
        "\n",
        "test_users, test_items = np.where(test > 0)\n",
        "test_ratings = test.values[test > 0]\n",
        "\n",
        "# 모델 입력\n",
        "user_input = Input(shape=(1,), dtype='int32')\n",
        "item_input = Input(shape=(1,), dtype='int32')\n",
        "\n",
        "# 임베딩 레이어\n",
        "user_embedding = Embedding(input_dim=pivot_table.shape[0], output_dim=15, input_length=1)(user_input)\n",
        "item_embedding = Embedding(input_dim=pivot_table.shape[1], output_dim=15, input_length=1)(item_input)\n",
        "\n",
        "# 임베딩 벡터 평탄화\n",
        "user_vector = Flatten()(user_embedding)\n",
        "item_vector = Flatten()(item_embedding)\n",
        "\n",
        "# 임베딩 벡터의 연결\n",
        "concatenated = Concatenate()([user_vector, item_vector])\n",
        "\n",
        "# MLP 레이어\n",
        "mlp_layer = Dense(128, activation='relu', kernel_regularizer=l2(1e-4))(concatenated)\n",
        "mlp_layer = Dropout(0.2)(mlp_layer)\n",
        "mlp_layer = Dense(64, activation='relu', kernel_regularizer=l2(1e-4))(mlp_layer)\n",
        "mlp_layer = Dropout(0.2)(mlp_layer)\n",
        "mlp_layer = Dense(32, activation='relu', kernel_regularizer=l2(1e-4))(mlp_layer)\n",
        "\n",
        "# 출력층에 활성화 함수 적용 (Swish 함수)\n",
        "def swish(x):\n",
        "    return x * tf.keras.activations.sigmoid(x)\n",
        "\n",
        "mlp_output = Dense(1, activation=swish)(mlp_layer)\n",
        "mlp_output = Lambda(lambda x: x * 5)(mlp_output)  # 출력값을 0과 5 사이로 제한\n",
        "mlp_output = Lambda(lambda x: tf.round(x * 2) / 2)(mlp_output)  # 평점 데이터가 0.5 단위로 되도록 반올림\n",
        "\n",
        "# 모델 생성\n",
        "model = Model(inputs=[user_input, item_input], outputs=mlp_output)\n",
        "\n",
        "# 손실 함수와 최적화 알고리즘 설정\n",
        "model.compile(optimizer=Adam(0.001), loss='mean_squared_error', metrics=[RootMeanSquaredError()])\n",
        "\n",
        "# 모델 요약 출력\n",
        "model.summary()\n",
        "\n",
        "# 얼리스타핑 설정\n",
        "early_stopping = EarlyStopping(\n",
        "    monitor='val_root_mean_squared_error',\n",
        "    patience=3,\n",
        "    verbose=1,\n",
        "    mode='min',\n",
        "    restore_best_weights=True\n",
        ")\n",
        "\n",
        "# 모델 학습\n",
        "history = model.fit(\n",
        "    [train_users, train_items], train_ratings,\n",
        "    validation_data=([test_users, test_items], test_ratings),\n",
        "    epochs=20,\n",
        "    verbose=1,\n",
        "    callbacks=[early_stopping]\n",
        ")"
      ],
      "metadata": {
        "colab": {
          "base_uri": "https://localhost:8080/"
        },
        "id": "GDpzJCqhRkDR",
        "outputId": "6dfd1f03-562d-4ebc-ae15-27c8437b244d"
      },
      "execution_count": 14,
      "outputs": [
        {
          "output_type": "stream",
          "name": "stdout",
          "text": [
            "Model: \"model_3\"\n",
            "__________________________________________________________________________________________________\n",
            " Layer (type)                Output Shape                 Param #   Connected to                  \n",
            "==================================================================================================\n",
            " input_11 (InputLayer)       [(None, 1)]                  0         []                            \n",
            "                                                                                                  \n",
            " input_12 (InputLayer)       [(None, 1)]                  0         []                            \n",
            "                                                                                                  \n",
            " embedding_10 (Embedding)    (None, 1, 15)                15000     ['input_11[0][0]']            \n",
            "                                                                                                  \n",
            " embedding_11 (Embedding)    (None, 1, 15)                24945     ['input_12[0][0]']            \n",
            "                                                                                                  \n",
            " flatten_10 (Flatten)        (None, 15)                   0         ['embedding_10[0][0]']        \n",
            "                                                                                                  \n",
            " flatten_11 (Flatten)        (None, 15)                   0         ['embedding_11[0][0]']        \n",
            "                                                                                                  \n",
            " concatenate_5 (Concatenate  (None, 30)                   0         ['flatten_10[0][0]',          \n",
            " )                                                                   'flatten_11[0][0]']          \n",
            "                                                                                                  \n",
            " dense_16 (Dense)            (None, 128)                  3968      ['concatenate_5[0][0]']       \n",
            "                                                                                                  \n",
            " dropout_8 (Dropout)         (None, 128)                  0         ['dense_16[0][0]']            \n",
            "                                                                                                  \n",
            " dense_17 (Dense)            (None, 64)                   8256      ['dropout_8[0][0]']           \n",
            "                                                                                                  \n",
            " dropout_9 (Dropout)         (None, 64)                   0         ['dense_17[0][0]']            \n",
            "                                                                                                  \n",
            " dense_18 (Dense)            (None, 32)                   2080      ['dropout_9[0][0]']           \n",
            "                                                                                                  \n",
            " dense_19 (Dense)            (None, 1)                    33        ['dense_18[0][0]']            \n",
            "                                                                                                  \n",
            " lambda_4 (Lambda)           (None, 1)                    0         ['dense_19[0][0]']            \n",
            "                                                                                                  \n",
            " lambda_5 (Lambda)           (None, 1)                    0         ['lambda_4[0][0]']            \n",
            "                                                                                                  \n",
            "==================================================================================================\n",
            "Total params: 54282 (212.04 KB)\n",
            "Trainable params: 54282 (212.04 KB)\n",
            "Non-trainable params: 0 (0.00 Byte)\n",
            "__________________________________________________________________________________________________\n",
            "Epoch 1/20\n"
          ]
        },
        {
          "output_type": "stream",
          "name": "stderr",
          "text": [
            "WARNING:tensorflow:Gradients do not exist for variables ['embedding_10/embeddings:0', 'embedding_11/embeddings:0', 'dense_16/bias:0', 'dense_17/bias:0', 'dense_18/bias:0', 'dense_19/kernel:0', 'dense_19/bias:0'] when minimizing the loss. If you're using `model.compile()`, did you forget to provide a `loss` argument?\n",
            "WARNING:tensorflow:Gradients do not exist for variables ['embedding_10/embeddings:0', 'embedding_11/embeddings:0', 'dense_16/bias:0', 'dense_17/bias:0', 'dense_18/bias:0', 'dense_19/kernel:0', 'dense_19/bias:0'] when minimizing the loss. If you're using `model.compile()`, did you forget to provide a `loss` argument?\n",
            "WARNING:tensorflow:Gradients do not exist for variables ['embedding_10/embeddings:0', 'embedding_11/embeddings:0', 'dense_16/bias:0', 'dense_17/bias:0', 'dense_18/bias:0', 'dense_19/kernel:0', 'dense_19/bias:0'] when minimizing the loss. If you're using `model.compile()`, did you forget to provide a `loss` argument?\n",
            "WARNING:tensorflow:Gradients do not exist for variables ['embedding_10/embeddings:0', 'embedding_11/embeddings:0', 'dense_16/bias:0', 'dense_17/bias:0', 'dense_18/bias:0', 'dense_19/kernel:0', 'dense_19/bias:0'] when minimizing the loss. If you're using `model.compile()`, did you forget to provide a `loss` argument?\n"
          ]
        },
        {
          "output_type": "stream",
          "name": "stdout",
          "text": [
            "40123/40123 [==============================] - 109s 3ms/step - loss: 13.2832 - root_mean_squared_error: 3.6446 - val_loss: 13.2910 - val_root_mean_squared_error: 3.6457\n",
            "Epoch 2/20\n",
            "40123/40123 [==============================] - 107s 3ms/step - loss: 13.2831 - root_mean_squared_error: 3.6446 - val_loss: 13.2910 - val_root_mean_squared_error: 3.6457\n",
            "Epoch 3/20\n",
            "40123/40123 [==============================] - 109s 3ms/step - loss: 13.2831 - root_mean_squared_error: 3.6446 - val_loss: 13.2910 - val_root_mean_squared_error: 3.6457\n",
            "Epoch 4/20\n",
            "40123/40123 [==============================] - ETA: 0s - loss: 13.2831 - root_mean_squared_error: 3.6446Restoring model weights from the end of the best epoch: 1.\n",
            "40123/40123 [==============================] - 108s 3ms/step - loss: 13.2831 - root_mean_squared_error: 3.6446 - val_loss: 13.2910 - val_root_mean_squared_error: 3.6457\n",
            "Epoch 4: early stopping\n"
          ]
        }
      ]
    },
    {
      "cell_type": "code",
      "source": [
        "# 시각화\n",
        "plt.plot(history.history['root_mean_squared_error'])\n",
        "plt.plot(history.history['val_root_mean_squared_error'])"
      ],
      "metadata": {
        "colab": {
          "base_uri": "https://localhost:8080/",
          "height": 448
        },
        "id": "XZnHjvtvVupD",
        "outputId": "52f2f4e1-7458-473a-a2da-cc7f76848c21"
      },
      "execution_count": 15,
      "outputs": [
        {
          "output_type": "execute_result",
          "data": {
            "text/plain": [
              "[<matplotlib.lines.Line2D at 0x7e1f572d2830>]"
            ]
          },
          "metadata": {},
          "execution_count": 15
        },
        {
          "output_type": "display_data",
          "data": {
            "text/plain": [
              "<Figure size 640x480 with 1 Axes>"
            ],
            "image/png": "[encoded data removed]"
          },
          "metadata": {}
        }
      ]
    },
    {
      "cell_type": "markdown",
      "source": [
        "bias가 0이 되는 이유는 L2 정규화를 적용했기 때문입니다. L2 정규화는 가중치에 제곱항을 추가하여 모델의 복잡도를 줄이고 오버피팅을 방지하는 기술입니다. 이는 모델이 데이터에 너무 맞춰져서 일반화되지 않는 것을 방지하고, 모델이 훈련 데이터뿐만 아니라 테스트 데이터에도 더 일반화되도록 도와줍니다.\n",
        "\n",
        "가중치에 대한 L2 정규화 항은 다음과 같이 계산됩니다:\n",
        "regularization_loss\n",
        "=\n",
        "𝜆\n",
        "2\n",
        "∑\n",
        "𝑖\n",
        "𝑤\n",
        "𝑖\n",
        "2\n",
        "regularization_loss=\n",
        "2\n",
        "λ\n",
        "​\n",
        " ∑\n",
        "i\n",
        "​\n",
        " w\n",
        "i\n",
        "2\n",
        "​\n",
        "\n",
        "\n",
        "여기서\n",
        "𝜆\n",
        "λ는 정규화 강도를 조절하는 하이퍼파라미터이고,\n",
        "𝑤\n",
        "𝑖\n",
        "w\n",
        "i\n",
        "​\n",
        " 는 각 가중치입니다.\n",
        "𝑤\n",
        "𝑖\n",
        "2\n",
        "w\n",
        "i\n",
        "2\n",
        "​\n",
        "  항이 모델의 가중치에 추가되므로, 이는 학습 중에 가중치가 작아지도록 유도합니다. 따라서 가중치가 0에 가까워지면서 편향(bias)도 0으로 수렴하게 됩니다."
      ],
      "metadata": {
        "id": "XulznuHVT15b"
      }
    },
    {
      "cell_type": "markdown",
      "source": [
        "# l1정규화"
      ],
      "metadata": {
        "id": "4R5gfDthU7dL"
      }
    },
    {
      "cell_type": "code",
      "source": [
        "from tensorflow.keras.layers import Activation\n",
        "from tensorflow.keras.regularizers import l1\n",
        "from tensorflow.keras.layers import Lambda\n",
        "\n",
        "# 데이터 전처리\n",
        "non_zero_df = df[df['rating'] != 0]\n",
        "pivot_table = non_zero_df.pivot(index='user_id', columns='place_id', values='rating').fillna(0)\n",
        "train, test = train_test_split(pivot_table, test_size=0.2, random_state=42)\n",
        "\n",
        "train_users, train_items = np.where(train > 0)\n",
        "train_ratings = train.values[train > 0]\n",
        "\n",
        "test_users, test_items = np.where(test > 0)\n",
        "test_ratings = test.values[test > 0]\n",
        "\n",
        "# 모델 입력\n",
        "user_input = Input(shape=(1,), dtype='int32')\n",
        "item_input = Input(shape=(1,), dtype='int32')\n",
        "\n",
        "# 임베딩 레이어\n",
        "user_embedding = Embedding(input_dim=pivot_table.shape[0], output_dim=15, input_length=1)(user_input)\n",
        "item_embedding = Embedding(input_dim=pivot_table.shape[1], output_dim=15, input_length=1)(item_input)\n",
        "\n",
        "# 임베딩 벡터 평탄화\n",
        "user_vector = Flatten()(user_embedding)\n",
        "item_vector = Flatten()(item_embedding)\n",
        "\n",
        "# 임베딩 벡터의 연결\n",
        "concatenated = Concatenate()([user_vector, item_vector])\n",
        "\n",
        "# MLP 레이어\n",
        "mlp_layer = Dense(128, activation='relu', kernel_regularizer=l1(1e-4))(concatenated)\n",
        "mlp_layer = Dropout(0.2)(mlp_layer)\n",
        "mlp_layer = Dense(64, activation='relu', kernel_regularizer=l1(1e-4))(mlp_layer)\n",
        "mlp_layer = Dropout(0.2)(mlp_layer)\n",
        "mlp_layer = Dense(32, activation='relu', kernel_regularizer=l1(1e-4))(mlp_layer)\n",
        "\n",
        "# 출력층에 활성화 함수 적용 (Swish 함수)\n",
        "def swish(x):\n",
        "    return x * tf.keras.activations.sigmoid(x)\n",
        "\n",
        "mlp_output = Dense(1, activation=swish)(mlp_layer)\n",
        "mlp_output = Lambda(lambda x: x * 5)(mlp_output)  # 출력값을 0과 5 사이로 제한\n",
        "mlp_output = Lambda(lambda x: tf.round(x * 2) / 2)(mlp_output)  # 평점 데이터가 0.5 단위로 되도록 반올림\n",
        "\n",
        "# 모델 생성\n",
        "model = Model(inputs=[user_input, item_input], outputs=mlp_output)\n",
        "\n",
        "# 손실 함수와 최적화 알고리즘 설정\n",
        "model.compile(optimizer=Adam(0.001), loss='mean_squared_error', metrics=[RootMeanSquaredError()])\n",
        "\n",
        "# 모델 요약 출력\n",
        "model.summary()\n",
        "\n",
        "# 얼리스타핑 설정\n",
        "early_stopping = EarlyStopping(\n",
        "    monitor='val_root_mean_squared_error',\n",
        "    patience=3,\n",
        "    verbose=1,\n",
        "    mode='min',\n",
        "    restore_best_weights=True\n",
        ")\n",
        "\n",
        "# 모델 학습\n",
        "history = model.fit(\n",
        "    [train_users, train_items], train_ratings,\n",
        "    validation_data=([test_users, test_items], test_ratings),\n",
        "    epochs=20,\n",
        "    verbose=1,\n",
        "    callbacks=[early_stopping]\n",
        ")"
      ],
      "metadata": {
        "colab": {
          "base_uri": "https://localhost:8080/"
        },
        "id": "Ge-ZU3gzU8-q",
        "outputId": "b815f6b8-9aa0-4263-cc91-25d70918f577"
      },
      "execution_count": 16,
      "outputs": [
        {
          "output_type": "stream",
          "name": "stdout",
          "text": [
            "Model: \"model_4\"\n",
            "__________________________________________________________________________________________________\n",
            " Layer (type)                Output Shape                 Param #   Connected to                  \n",
            "==================================================================================================\n",
            " input_13 (InputLayer)       [(None, 1)]                  0         []                            \n",
            "                                                                                                  \n",
            " input_14 (InputLayer)       [(None, 1)]                  0         []                            \n",
            "                                                                                                  \n",
            " embedding_12 (Embedding)    (None, 1, 15)                15000     ['input_13[0][0]']            \n",
            "                                                                                                  \n",
            " embedding_13 (Embedding)    (None, 1, 15)                24945     ['input_14[0][0]']            \n",
            "                                                                                                  \n",
            " flatten_12 (Flatten)        (None, 15)                   0         ['embedding_12[0][0]']        \n",
            "                                                                                                  \n",
            " flatten_13 (Flatten)        (None, 15)                   0         ['embedding_13[0][0]']        \n",
            "                                                                                                  \n",
            " concatenate_6 (Concatenate  (None, 30)                   0         ['flatten_12[0][0]',          \n",
            " )                                                                   'flatten_13[0][0]']          \n",
            "                                                                                                  \n",
            " dense_20 (Dense)            (None, 128)                  3968      ['concatenate_6[0][0]']       \n",
            "                                                                                                  \n",
            " dropout_10 (Dropout)        (None, 128)                  0         ['dense_20[0][0]']            \n",
            "                                                                                                  \n",
            " dense_21 (Dense)            (None, 64)                   8256      ['dropout_10[0][0]']          \n",
            "                                                                                                  \n",
            " dropout_11 (Dropout)        (None, 64)                   0         ['dense_21[0][0]']            \n",
            "                                                                                                  \n",
            " dense_22 (Dense)            (None, 32)                   2080      ['dropout_11[0][0]']          \n",
            "                                                                                                  \n",
            " dense_23 (Dense)            (None, 1)                    33        ['dense_22[0][0]']            \n",
            "                                                                                                  \n",
            " lambda_6 (Lambda)           (None, 1)                    0         ['dense_23[0][0]']            \n",
            "                                                                                                  \n",
            " lambda_7 (Lambda)           (None, 1)                    0         ['lambda_6[0][0]']            \n",
            "                                                                                                  \n",
            "==================================================================================================\n",
            "Total params: 54282 (212.04 KB)\n",
            "Trainable params: 54282 (212.04 KB)\n",
            "Non-trainable params: 0 (0.00 Byte)\n",
            "__________________________________________________________________________________________________\n",
            "Epoch 1/20\n"
          ]
        },
        {
          "output_type": "stream",
          "name": "stderr",
          "text": [
            "WARNING:tensorflow:Gradients do not exist for variables ['embedding_12/embeddings:0', 'embedding_13/embeddings:0', 'dense_20/bias:0', 'dense_21/bias:0', 'dense_22/bias:0', 'dense_23/kernel:0', 'dense_23/bias:0'] when minimizing the loss. If you're using `model.compile()`, did you forget to provide a `loss` argument?\n",
            "WARNING:tensorflow:Gradients do not exist for variables ['embedding_12/embeddings:0', 'embedding_13/embeddings:0', 'dense_20/bias:0', 'dense_21/bias:0', 'dense_22/bias:0', 'dense_23/kernel:0', 'dense_23/bias:0'] when minimizing the loss. If you're using `model.compile()`, did you forget to provide a `loss` argument?\n",
            "WARNING:tensorflow:Gradients do not exist for variables ['embedding_12/embeddings:0', 'embedding_13/embeddings:0', 'dense_20/bias:0', 'dense_21/bias:0', 'dense_22/bias:0', 'dense_23/kernel:0', 'dense_23/bias:0'] when minimizing the loss. If you're using `model.compile()`, did you forget to provide a `loss` argument?\n",
            "WARNING:tensorflow:Gradients do not exist for variables ['embedding_12/embeddings:0', 'embedding_13/embeddings:0', 'dense_20/bias:0', 'dense_21/bias:0', 'dense_22/bias:0', 'dense_23/kernel:0', 'dense_23/bias:0'] when minimizing the loss. If you're using `model.compile()`, did you forget to provide a `loss` argument?\n"
          ]
        },
        {
          "output_type": "stream",
          "name": "stdout",
          "text": [
            "40123/40123 [==============================] - 109s 3ms/step - loss: 13.2863 - root_mean_squared_error: 3.6446 - val_loss: 13.2910 - val_root_mean_squared_error: 3.6457\n",
            "Epoch 2/20\n",
            "40123/40123 [==============================] - 108s 3ms/step - loss: 13.2861 - root_mean_squared_error: 3.6446 - val_loss: 13.2910 - val_root_mean_squared_error: 3.6457\n",
            "Epoch 3/20\n",
            "40123/40123 [==============================] - 108s 3ms/step - loss: 13.2861 - root_mean_squared_error: 3.6446 - val_loss: 13.2910 - val_root_mean_squared_error: 3.6457\n",
            "Epoch 4/20\n",
            "40121/40123 [============================>.] - ETA: 0s - loss: 13.2860 - root_mean_squared_error: 3.6446Restoring model weights from the end of the best epoch: 1.\n",
            "40123/40123 [==============================] - 107s 3ms/step - loss: 13.2861 - root_mean_squared_error: 3.6446 - val_loss: 13.2910 - val_root_mean_squared_error: 3.6457\n",
            "Epoch 4: early stopping\n"
          ]
        }
      ]
    },
    {
      "cell_type": "code",
      "source": [
        "# 시각화\n",
        "plt.plot(history.history['root_mean_squared_error'])\n",
        "plt.plot(history.history['val_root_mean_squared_error'])"
      ],
      "metadata": {
        "colab": {
          "base_uri": "https://localhost:8080/",
          "height": 448
        },
        "id": "VZEaJsQqXfJx",
        "outputId": "2c8a76ca-2695-43f9-9bbe-8319c91be1e6"
      },
      "execution_count": 17,
      "outputs": [
        {
          "output_type": "execute_result",
          "data": {
            "text/plain": [
              "[<matplotlib.lines.Line2D at 0x7e1f6ab13400>]"
            ]
          },
          "metadata": {},
          "execution_count": 17
        },
        {
          "output_type": "display_data",
          "data": {
            "text/plain": [
              "<Figure size 640x480 with 1 Axes>"
            ],
            "image/png": "[encoded data removed]"
          },
          "metadata": {}
        }
      ]
    },
    {
      "cell_type": "markdown",
      "source": [
        "# 학습률 줄여보기"
      ],
      "metadata": {
        "id": "NHNisrFlWSlx"
      }
    },
    {
      "cell_type": "code",
      "source": [
        "from tensorflow.keras.layers import Activation\n",
        "\n",
        "# Swish 함수 정의\n",
        "def swish(x):\n",
        "    return x * tf.sigmoid(x)\n",
        "\n",
        "# 데이터 전처리\n",
        "non_zero_df = df[df['rating'] != 0]\n",
        "pivot_table = non_zero_df.pivot(index='user_id', columns='place_id', values='rating').fillna(0)\n",
        "train, test = train_test_split(pivot_table, test_size=0.2, random_state=42)\n",
        "\n",
        "train_users, train_items = np.where(train > 0)\n",
        "train_ratings = train.values[train > 0]\n",
        "\n",
        "test_users, test_items = np.where(test > 0)\n",
        "test_ratings = test.values[test > 0]\n",
        "\n",
        "# 모델 입력\n",
        "user_input = Input(shape=(1,), dtype='int32')\n",
        "item_input = Input(shape=(1,), dtype='int32')\n",
        "\n",
        "# 임베딩 레이어\n",
        "user_embedding = Embedding(input_dim=pivot_table.shape[0], output_dim=15, input_length=1)(user_input)\n",
        "item_embedding = Embedding(input_dim=pivot_table.shape[1], output_dim=15, input_length=1)(item_input)\n",
        "\n",
        "# 임베딩 벡터 평탄화\n",
        "user_vector = Flatten()(user_embedding)\n",
        "item_vector = Flatten()(item_embedding)\n",
        "\n",
        "# 임베딩 벡터의 연결\n",
        "concatenated = Concatenate()([user_vector, item_vector])\n",
        "\n",
        "# MLP 레이어\n",
        "mlp_layer = Dense(128, activation=swish)(concatenated)\n",
        "mlp_layer = Dropout(0.2)(mlp_layer)\n",
        "mlp_layer = Dense(64, activation=swish)(mlp_layer)\n",
        "mlp_layer = Dropout(0.2)(mlp_layer)\n",
        "mlp_layer = Dense(32, activation=swish)(mlp_layer)\n",
        "\n",
        "# 출력층\n",
        "mlp_output = Dense(1, activation='sigmoid')(mlp_layer)\n",
        "\n",
        "# 반올림 함수 정의\n",
        "def round_to_nearest_half(x):\n",
        "    return round(x * 2) / 2\n",
        "\n",
        "# 모델 생성\n",
        "model = Model(inputs=[user_input, item_input], outputs=mlp_output)\n",
        "\n",
        "# 손실 함수와 최적화 알고리즘 설정\n",
        "model.compile(optimizer=Adam(0.0001), loss='mean_squared_error', metrics=[RootMeanSquaredError()])\n",
        "\n",
        "# 모델 요약 출력\n",
        "model.summary()\n",
        "\n",
        "# 얼리스타핑 설정\n",
        "early_stopping = EarlyStopping(\n",
        "    monitor='val_root_mean_squared_error',\n",
        "    patience=5,\n",
        "    verbose=1,\n",
        "    mode='min',\n",
        "    restore_best_weights=True\n",
        ")\n",
        "\n",
        "# 모델 학습\n",
        "history = model.fit(\n",
        "    [train_users, train_items], train_ratings,\n",
        "    validation_data=([test_users, test_items], test_ratings),\n",
        "    epochs=20,\n",
        "    verbose=1,\n",
        "    callbacks=[early_stopping]\n",
        ")\n"
      ],
      "metadata": {
        "colab": {
          "base_uri": "https://localhost:8080/",
          "height": 1000
        },
        "id": "znZhjwngWUAN",
        "outputId": "9fa353dc-6a6e-456c-862c-4c973b01f1a5"
      },
      "execution_count": 21,
      "outputs": [
        {
          "output_type": "stream",
          "name": "stdout",
          "text": [
            "Model: \"model_7\"\n",
            "__________________________________________________________________________________________________\n",
            " Layer (type)                Output Shape                 Param #   Connected to                  \n",
            "==================================================================================================\n",
            " input_19 (InputLayer)       [(None, 1)]                  0         []                            \n",
            "                                                                                                  \n",
            " input_20 (InputLayer)       [(None, 1)]                  0         []                            \n",
            "                                                                                                  \n",
            " embedding_18 (Embedding)    (None, 1, 15)                15000     ['input_19[0][0]']            \n",
            "                                                                                                  \n",
            " embedding_19 (Embedding)    (None, 1, 15)                24945     ['input_20[0][0]']            \n",
            "                                                                                                  \n",
            " flatten_18 (Flatten)        (None, 15)                   0         ['embedding_18[0][0]']        \n",
            "                                                                                                  \n",
            " flatten_19 (Flatten)        (None, 15)                   0         ['embedding_19[0][0]']        \n",
            "                                                                                                  \n",
            " concatenate_9 (Concatenate  (None, 30)                   0         ['flatten_18[0][0]',          \n",
            " )                                                                   'flatten_19[0][0]']          \n",
            "                                                                                                  \n",
            " dense_32 (Dense)            (None, 128)                  3968      ['concatenate_9[0][0]']       \n",
            "                                                                                                  \n",
            " dropout_16 (Dropout)        (None, 128)                  0         ['dense_32[0][0]']            \n",
            "                                                                                                  \n",
            " dense_33 (Dense)            (None, 64)                   8256      ['dropout_16[0][0]']          \n",
            "                                                                                                  \n",
            " dropout_17 (Dropout)        (None, 64)                   0         ['dense_33[0][0]']            \n",
            "                                                                                                  \n",
            " dense_34 (Dense)            (None, 32)                   2080      ['dropout_17[0][0]']          \n",
            "                                                                                                  \n",
            " dense_35 (Dense)            (None, 1)                    33        ['dense_34[0][0]']            \n",
            "                                                                                                  \n",
            "==================================================================================================\n",
            "Total params: 54282 (212.04 KB)\n",
            "Trainable params: 54282 (212.04 KB)\n",
            "Non-trainable params: 0 (0.00 Byte)\n",
            "__________________________________________________________________________________________________\n",
            "Epoch 1/20\n",
            "40123/40123 [==============================] - 168s 4ms/step - loss: 7.5010 - root_mean_squared_error: 2.7388 - val_loss: 7.4922 - val_root_mean_squared_error: 2.7372\n",
            "Epoch 2/20\n",
            "40123/40123 [==============================] - 167s 4ms/step - loss: 7.4846 - root_mean_squared_error: 2.7358 - val_loss: 7.4922 - val_root_mean_squared_error: 2.7372\n",
            "Epoch 3/20\n",
            "40123/40123 [==============================] - 166s 4ms/step - loss: 7.4846 - root_mean_squared_error: 2.7358 - val_loss: 7.4922 - val_root_mean_squared_error: 2.7372\n",
            "Epoch 4/20\n",
            "40123/40123 [==============================] - 165s 4ms/step - loss: 7.4846 - root_mean_squared_error: 2.7358 - val_loss: 7.4922 - val_root_mean_squared_error: 2.7372\n",
            "Epoch 5/20\n",
            "40123/40123 [==============================] - 164s 4ms/step - loss: 7.4846 - root_mean_squared_error: 2.7358 - val_loss: 7.4922 - val_root_mean_squared_error: 2.7372\n",
            "Epoch 6/20\n",
            " 5851/40123 [===>..........................] - ETA: 2:10 - loss: 7.4775 - root_mean_squared_error: 2.7345"
          ]
        },
        {
          "output_type": "error",
          "ename": "KeyboardInterrupt",
          "evalue": "",
          "traceback": [
            "\u001b[0;31m---------------------------------------------------------------------------\u001b[0m",
            "\u001b[0;31mKeyboardInterrupt\u001b[0m                         Traceback (most recent call last)",
            "\u001b[0;32m<ipython-input-21-0ab164f74b37>\u001b[0m in \u001b[0;36m<cell line: 66>\u001b[0;34m()\u001b[0m\n\u001b[1;32m     64\u001b[0m \u001b[0;34m\u001b[0m\u001b[0m\n\u001b[1;32m     65\u001b[0m \u001b[0;31m# 모델 학습\u001b[0m\u001b[0;34m\u001b[0m\u001b[0;34m\u001b[0m\u001b[0m\n\u001b[0;32m---> 66\u001b[0;31m history = model.fit(\n\u001b[0m\u001b[1;32m     67\u001b[0m     \u001b[0;34m[\u001b[0m\u001b[0mtrain_users\u001b[0m\u001b[0;34m,\u001b[0m \u001b[0mtrain_items\u001b[0m\u001b[0;34m]\u001b[0m\u001b[0;34m,\u001b[0m \u001b[0mtrain_ratings\u001b[0m\u001b[0;34m,\u001b[0m\u001b[0;34m\u001b[0m\u001b[0;34m\u001b[0m\u001b[0m\n\u001b[1;32m     68\u001b[0m     \u001b[0mvalidation_data\u001b[0m\u001b[0;34m=\u001b[0m\u001b[0;34m(\u001b[0m\u001b[0;34m[\u001b[0m\u001b[0mtest_users\u001b[0m\u001b[0;34m,\u001b[0m \u001b[0mtest_items\u001b[0m\u001b[0;34m]\u001b[0m\u001b[0;34m,\u001b[0m \u001b[0mtest_ratings\u001b[0m\u001b[0;34m)\u001b[0m\u001b[0;34m,\u001b[0m\u001b[0;34m\u001b[0m\u001b[0;34m\u001b[0m\u001b[0m\n",
            "\u001b[0;32m/usr/local/lib/python3.10/dist-packages/keras/src/utils/traceback_utils.py\u001b[0m in \u001b[0;36merror_handler\u001b[0;34m(*args, **kwargs)\u001b[0m\n\u001b[1;32m     63\u001b[0m         \u001b[0mfiltered_tb\u001b[0m \u001b[0;34m=\u001b[0m \u001b[0;32mNone\u001b[0m\u001b[0;34m\u001b[0m\u001b[0;34m\u001b[0m\u001b[0m\n\u001b[1;32m     64\u001b[0m         \u001b[0;32mtry\u001b[0m\u001b[0;34m:\u001b[0m\u001b[0;34m\u001b[0m\u001b[0;34m\u001b[0m\u001b[0m\n\u001b[0;32m---> 65\u001b[0;31m             \u001b[0;32mreturn\u001b[0m \u001b[0mfn\u001b[0m\u001b[0;34m(\u001b[0m\u001b[0;34m*\u001b[0m\u001b[0margs\u001b[0m\u001b[0;34m,\u001b[0m \u001b[0;34m**\u001b[0m\u001b[0mkwargs\u001b[0m\u001b[0;34m)\u001b[0m\u001b[0;34m\u001b[0m\u001b[0;34m\u001b[0m\u001b[0m\n\u001b[0m\u001b[1;32m     66\u001b[0m         \u001b[0;32mexcept\u001b[0m \u001b[0mException\u001b[0m \u001b[0;32mas\u001b[0m \u001b[0me\u001b[0m\u001b[0;34m:\u001b[0m\u001b[0;34m\u001b[0m\u001b[0;34m\u001b[0m\u001b[0m\n\u001b[1;32m     67\u001b[0m             \u001b[0mfiltered_tb\u001b[0m \u001b[0;34m=\u001b[0m \u001b[0m_process_traceback_frames\u001b[0m\u001b[0;34m(\u001b[0m\u001b[0me\u001b[0m\u001b[0;34m.\u001b[0m\u001b[0m__traceback__\u001b[0m\u001b[0;34m)\u001b[0m\u001b[0;34m\u001b[0m\u001b[0;34m\u001b[0m\u001b[0m\n",
            "\u001b[0;32m/usr/local/lib/python3.10/dist-packages/keras/src/engine/training.py\u001b[0m in \u001b[0;36mfit\u001b[0;34m(self, x, y, batch_size, epochs, verbose, callbacks, validation_split, validation_data, shuffle, class_weight, sample_weight, initial_epoch, steps_per_epoch, validation_steps, validation_batch_size, validation_freq, max_queue_size, workers, use_multiprocessing)\u001b[0m\n\u001b[1;32m   1796\u001b[0m                 \u001b[0mcallbacks\u001b[0m\u001b[0;34m.\u001b[0m\u001b[0mon_epoch_begin\u001b[0m\u001b[0;34m(\u001b[0m\u001b[0mepoch\u001b[0m\u001b[0;34m)\u001b[0m\u001b[0;34m\u001b[0m\u001b[0;34m\u001b[0m\u001b[0m\n\u001b[1;32m   1797\u001b[0m                 \u001b[0;32mwith\u001b[0m \u001b[0mdata_handler\u001b[0m\u001b[0;34m.\u001b[0m\u001b[0mcatch_stop_iteration\u001b[0m\u001b[0;34m(\u001b[0m\u001b[0;34m)\u001b[0m\u001b[0;34m:\u001b[0m\u001b[0;34m\u001b[0m\u001b[0;34m\u001b[0m\u001b[0m\n\u001b[0;32m-> 1798\u001b[0;31m                     \u001b[0;32mfor\u001b[0m \u001b[0mstep\u001b[0m \u001b[0;32min\u001b[0m \u001b[0mdata_handler\u001b[0m\u001b[0;34m.\u001b[0m\u001b[0msteps\u001b[0m\u001b[0;34m(\u001b[0m\u001b[0;34m)\u001b[0m\u001b[0;34m:\u001b[0m\u001b[0;34m\u001b[0m\u001b[0;34m\u001b[0m\u001b[0m\n\u001b[0m\u001b[1;32m   1799\u001b[0m                         with tf.profiler.experimental.Trace(\n\u001b[1;32m   1800\u001b[0m                             \u001b[0;34m\"train\"\u001b[0m\u001b[0;34m,\u001b[0m\u001b[0;34m\u001b[0m\u001b[0;34m\u001b[0m\u001b[0m\n",
            "\u001b[0;32m/usr/local/lib/python3.10/dist-packages/keras/src/engine/data_adapter.py\u001b[0m in \u001b[0;36msteps\u001b[0;34m(self)\u001b[0m\n\u001b[1;32m   1409\u001b[0m             \u001b[0;32mif\u001b[0m \u001b[0mself\u001b[0m\u001b[0;34m.\u001b[0m\u001b[0m_insufficient_data\u001b[0m\u001b[0;34m:\u001b[0m  \u001b[0;31m# Set by `catch_stop_iteration`.\u001b[0m\u001b[0;34m\u001b[0m\u001b[0;34m\u001b[0m\u001b[0m\n\u001b[1;32m   1410\u001b[0m                 \u001b[0;32mbreak\u001b[0m\u001b[0;34m\u001b[0m\u001b[0;34m\u001b[0m\u001b[0m\n\u001b[0;32m-> 1411\u001b[0;31m             \u001b[0moriginal_spe\u001b[0m \u001b[0;34m=\u001b[0m \u001b[0mself\u001b[0m\u001b[0;34m.\u001b[0m\u001b[0m_steps_per_execution\u001b[0m\u001b[0;34m.\u001b[0m\u001b[0mnumpy\u001b[0m\u001b[0;34m(\u001b[0m\u001b[0;34m)\u001b[0m\u001b[0;34m.\u001b[0m\u001b[0mitem\u001b[0m\u001b[0;34m(\u001b[0m\u001b[0;34m)\u001b[0m\u001b[0;34m\u001b[0m\u001b[0;34m\u001b[0m\u001b[0m\n\u001b[0m\u001b[1;32m   1412\u001b[0m             can_run_full_execution = (\n\u001b[1;32m   1413\u001b[0m                 \u001b[0moriginal_spe\u001b[0m \u001b[0;34m==\u001b[0m \u001b[0;36m1\u001b[0m\u001b[0;34m\u001b[0m\u001b[0;34m\u001b[0m\u001b[0m\n",
            "\u001b[0;32m/usr/local/lib/python3.10/dist-packages/tensorflow/python/ops/resource_variable_ops.py\u001b[0m in \u001b[0;36mnumpy\u001b[0;34m(self)\u001b[0m\n\u001b[1;32m    686\u001b[0m \u001b[0;34m\u001b[0m\u001b[0m\n\u001b[1;32m    687\u001b[0m   \u001b[0;32mdef\u001b[0m \u001b[0mnumpy\u001b[0m\u001b[0;34m(\u001b[0m\u001b[0mself\u001b[0m\u001b[0;34m)\u001b[0m\u001b[0;34m:\u001b[0m\u001b[0;34m\u001b[0m\u001b[0;34m\u001b[0m\u001b[0m\n\u001b[0;32m--> 688\u001b[0;31m     \u001b[0;32mif\u001b[0m \u001b[0mcontext\u001b[0m\u001b[0;34m.\u001b[0m\u001b[0mexecuting_eagerly\u001b[0m\u001b[0;34m(\u001b[0m\u001b[0;34m)\u001b[0m\u001b[0;34m:\u001b[0m\u001b[0;34m\u001b[0m\u001b[0;34m\u001b[0m\u001b[0m\n\u001b[0m\u001b[1;32m    689\u001b[0m       \u001b[0;32mreturn\u001b[0m \u001b[0mself\u001b[0m\u001b[0;34m.\u001b[0m\u001b[0mread_value\u001b[0m\u001b[0;34m(\u001b[0m\u001b[0;34m)\u001b[0m\u001b[0;34m.\u001b[0m\u001b[0mnumpy\u001b[0m\u001b[0;34m(\u001b[0m\u001b[0;34m)\u001b[0m\u001b[0;34m\u001b[0m\u001b[0;34m\u001b[0m\u001b[0m\n\u001b[1;32m    690\u001b[0m     raise NotImplementedError(\n",
            "\u001b[0;32m/usr/local/lib/python3.10/dist-packages/tensorflow/python/eager/context.py\u001b[0m in \u001b[0;36mexecuting_eagerly\u001b[0;34m()\u001b[0m\n\u001b[1;32m   2291\u001b[0m \u001b[0;34m\u001b[0m\u001b[0m\n\u001b[1;32m   2292\u001b[0m \u001b[0;34m\u001b[0m\u001b[0m\n\u001b[0;32m-> 2293\u001b[0;31m \u001b[0;34m@\u001b[0m\u001b[0mtf_export\u001b[0m\u001b[0;34m(\u001b[0m\u001b[0;34m\"executing_eagerly\"\u001b[0m\u001b[0;34m,\u001b[0m \u001b[0mv1\u001b[0m\u001b[0;34m=\u001b[0m\u001b[0;34m[\u001b[0m\u001b[0;34m]\u001b[0m\u001b[0;34m)\u001b[0m\u001b[0;34m\u001b[0m\u001b[0;34m\u001b[0m\u001b[0m\n\u001b[0m\u001b[1;32m   2294\u001b[0m \u001b[0;32mdef\u001b[0m \u001b[0mexecuting_eagerly\u001b[0m\u001b[0;34m(\u001b[0m\u001b[0;34m)\u001b[0m\u001b[0;34m:\u001b[0m\u001b[0;34m\u001b[0m\u001b[0;34m\u001b[0m\u001b[0m\n\u001b[1;32m   2295\u001b[0m   \"\"\"Checks whether the current thread has eager execution enabled.\n",
            "\u001b[0;31mKeyboardInterrupt\u001b[0m: "
          ]
        }
      ]
    },
    {
      "cell_type": "markdown",
      "source": [
        "# 데이터 표준화 및 스케일링 진행\n",
        "StandartScaler 사용"
      ],
      "metadata": {
        "id": "hVc_zfAkaXt_"
      }
    },
    {
      "cell_type": "code",
      "source": [
        "from tensorflow.keras.layers import Activation\n",
        "\n",
        "# Swish 함수 정의\n",
        "def swish(x):\n",
        "    return x * tf.sigmoid(x)\n",
        "\n",
        "# 데이터 전처리\n",
        "non_zero_df = df[df['rating'] != 0]\n",
        "pivot_table = non_zero_df.pivot(index='user_id', columns='place_id', values='rating').fillna(0)\n",
        "train, test = train_test_split(pivot_table, test_size=0.2, random_state=42)\n",
        "\n",
        "train_users, train_items = np.where(train > 0)\n",
        "train_ratings = train.values[train > 0]\n",
        "\n",
        "test_users, test_items = np.where(test > 0)\n",
        "test_ratings = test.values[test > 0]\n",
        "\n",
        "# 데이터 표준화 및 스케일링\n",
        "scaler = StandardScaler()\n",
        "train_ratings_scaled = scaler.fit_transform(train_ratings.reshape(-1, 1))\n",
        "test_ratings_scaled = scaler.transform(test_ratings.reshape(-1, 1))\n",
        "\n",
        "# 모델 입력\n",
        "user_input = Input(shape=(1,), dtype='int32')\n",
        "item_input = Input(shape=(1,), dtype='int32')\n",
        "\n",
        "# 임베딩 레이어\n",
        "user_embedding = Embedding(input_dim=pivot_table.shape[0], output_dim=15, input_length=1)(user_input)\n",
        "item_embedding = Embedding(input_dim=pivot_table.shape[1], output_dim=15, input_length=1)(item_input)\n",
        "\n",
        "# 임베딩 벡터 평탄화\n",
        "user_vector = Flatten()(user_embedding)\n",
        "item_vector = Flatten()(item_embedding)\n",
        "\n",
        "# 임베딩 벡터의 연결\n",
        "concatenated = Concatenate()([user_vector, item_vector])\n",
        "\n",
        "# MLP 레이어\n",
        "mlp_layer = Dense(128, activation=swish)(concatenated)\n",
        "mlp_layer = Dropout(0.2)(mlp_layer)\n",
        "mlp_layer = Dense(64, activation=swish)(mlp_layer)\n",
        "mlp_layer = Dropout(0.2)(mlp_layer)\n",
        "mlp_layer = Dense(32, activation=swish)(mlp_layer)\n",
        "\n",
        "# 출력층\n",
        "mlp_output = Dense(1, activation='swish')(mlp_layer)\n",
        "\n",
        "# 반올림 함수 정의\n",
        "def round_to_nearest_half(x):\n",
        "    return round(x * 2) / 2\n",
        "\n",
        "# 모델 생성\n",
        "model = Model(inputs=[user_input, item_input], outputs=mlp_output)\n",
        "\n",
        "# 손실 함수와 최적화 알고리즘 설정\n",
        "model.compile(optimizer=Adam(0.0001), loss='mean_squared_error', metrics=[RootMeanSquaredError()])\n",
        "\n",
        "# 모델 요약 출력\n",
        "model.summary()\n",
        "\n",
        "# 얼리스타핑 설정\n",
        "early_stopping = EarlyStopping(\n",
        "    monitor='val_root_mean_squared_error',\n",
        "    patience=3,\n",
        "    verbose=1,\n",
        "    mode='min',\n",
        "    restore_best_weights=True\n",
        ")\n",
        "\n",
        "# 모델 학습\n",
        "history = model.fit(\n",
        "    [train_users, train_items], train_ratings,\n",
        "    validation_data=([test_users, test_items], test_ratings),\n",
        "    epochs=20,\n",
        "    verbose=1,\n",
        "    callbacks=[early_stopping]\n",
        ")\n"
      ],
      "metadata": {
        "colab": {
          "base_uri": "https://localhost:8080/"
        },
        "id": "8QVpLA3aaZ9w",
        "outputId": "39bf12a3-a229-4c66-d216-a0fbd3d07940"
      },
      "execution_count": 32,
      "outputs": [
        {
          "output_type": "stream",
          "name": "stdout",
          "text": [
            "Model: \"model_10\"\n",
            "__________________________________________________________________________________________________\n",
            " Layer (type)                Output Shape                 Param #   Connected to                  \n",
            "==================================================================================================\n",
            " input_25 (InputLayer)       [(None, 1)]                  0         []                            \n",
            "                                                                                                  \n",
            " input_26 (InputLayer)       [(None, 1)]                  0         []                            \n",
            "                                                                                                  \n",
            " embedding_24 (Embedding)    (None, 1, 15)                15000     ['input_25[0][0]']            \n",
            "                                                                                                  \n",
            " embedding_25 (Embedding)    (None, 1, 15)                24945     ['input_26[0][0]']            \n",
            "                                                                                                  \n",
            " flatten_24 (Flatten)        (None, 15)                   0         ['embedding_24[0][0]']        \n",
            "                                                                                                  \n",
            " flatten_25 (Flatten)        (None, 15)                   0         ['embedding_25[0][0]']        \n",
            "                                                                                                  \n",
            " concatenate_12 (Concatenat  (None, 30)                   0         ['flatten_24[0][0]',          \n",
            " e)                                                                  'flatten_25[0][0]']          \n",
            "                                                                                                  \n",
            " dense_44 (Dense)            (None, 128)                  3968      ['concatenate_12[0][0]']      \n",
            "                                                                                                  \n",
            " dropout_22 (Dropout)        (None, 128)                  0         ['dense_44[0][0]']            \n",
            "                                                                                                  \n",
            " dense_45 (Dense)            (None, 64)                   8256      ['dropout_22[0][0]']          \n",
            "                                                                                                  \n",
            " dropout_23 (Dropout)        (None, 64)                   0         ['dense_45[0][0]']            \n",
            "                                                                                                  \n",
            " dense_46 (Dense)            (None, 32)                   2080      ['dropout_23[0][0]']          \n",
            "                                                                                                  \n",
            " dense_47 (Dense)            (None, 1)                    33        ['dense_46[0][0]']            \n",
            "                                                                                                  \n",
            "==================================================================================================\n",
            "Total params: 54282 (212.04 KB)\n",
            "Trainable params: 54282 (212.04 KB)\n",
            "Non-trainable params: 0 (0.00 Byte)\n",
            "__________________________________________________________________________________________________\n",
            "Epoch 1/20\n",
            "40123/40123 [==============================] - 170s 4ms/step - loss: 1.8195 - root_mean_squared_error: 1.3489 - val_loss: 1.7355 - val_root_mean_squared_error: 1.3174\n",
            "Epoch 2/20\n",
            "40123/40123 [==============================] - 170s 4ms/step - loss: 1.7296 - root_mean_squared_error: 1.3151 - val_loss: 1.7358 - val_root_mean_squared_error: 1.3175\n",
            "Epoch 3/20\n",
            "40123/40123 [==============================] - 167s 4ms/step - loss: 1.7281 - root_mean_squared_error: 1.3146 - val_loss: 1.7361 - val_root_mean_squared_error: 1.3176\n",
            "Epoch 4/20\n",
            "40112/40123 [============================>.] - ETA: 0s - loss: 1.7274 - root_mean_squared_error: 1.3143Restoring model weights from the end of the best epoch: 1.\n",
            "40123/40123 [==============================] - 167s 4ms/step - loss: 1.7274 - root_mean_squared_error: 1.3143 - val_loss: 1.7370 - val_root_mean_squared_error: 1.3179\n",
            "Epoch 4: early stopping\n"
          ]
        }
      ]
    },
    {
      "cell_type": "markdown",
      "source": [
        "MinMax스케일러사용"
      ],
      "metadata": {
        "id": "HQV121rwd4T0"
      }
    },
    {
      "cell_type": "code",
      "source": [
        "from tensorflow.keras.layers import Activation\n",
        "from sklearn.preprocessing import MinMaxScaler\n",
        "\n",
        "# Swish 함수 정의\n",
        "def swish(x):\n",
        "    return x * tf.sigmoid(x)\n",
        "\n",
        "# 데이터 전처리\n",
        "non_zero_df = df[df['rating'] != 0]\n",
        "pivot_table = non_zero_df.pivot(index='user_id', columns='place_id', values='rating').fillna(0)\n",
        "train, test = train_test_split(pivot_table, test_size=0.2, random_state=42)\n",
        "\n",
        "train_users, train_items = np.where(train > 0)\n",
        "train_ratings = train.values[train > 0]\n",
        "\n",
        "test_users, test_items = np.where(test > 0)\n",
        "test_ratings = test.values[test > 0]\n",
        "\n",
        "# 데이터 표준화 및 스케일링\n",
        "# MinMax 스케일러 사용\n",
        "\n",
        "scaler = MinMaxScaler()\n",
        "train_ratings_scaled = scaler.fit_transform(train_ratings.reshape(-1, 1))\n",
        "test_ratings_scaled = scaler.transform(test_ratings.reshape(-1, 1))\n",
        "\n",
        "# 모델 입력\n",
        "user_input = Input(shape=(1,), dtype='int32')\n",
        "item_input = Input(shape=(1,), dtype='int32')\n",
        "\n",
        "# 임베딩 레이어\n",
        "user_embedding = Embedding(input_dim=pivot_table.shape[0], output_dim=15, input_length=1)(user_input)\n",
        "item_embedding = Embedding(input_dim=pivot_table.shape[1], output_dim=15, input_length=1)(item_input)\n",
        "\n",
        "# 임베딩 벡터 평탄화\n",
        "user_vector = Flatten()(user_embedding)\n",
        "item_vector = Flatten()(item_embedding)\n",
        "\n",
        "# 임베딩 벡터의 연결\n",
        "concatenated = Concatenate()([user_vector, item_vector])\n",
        "\n",
        "# MLP 레이어\n",
        "mlp_layer = Dense(128, activation=swish)(concatenated)\n",
        "mlp_layer = Dropout(0.2)(mlp_layer)\n",
        "mlp_layer = Dense(64, activation=swish)(mlp_layer)\n",
        "mlp_layer = Dropout(0.2)(mlp_layer)\n",
        "mlp_layer = Dense(32, activation=swish)(mlp_layer)\n",
        "\n",
        "# 출력층\n",
        "mlp_output = Dense(1, activation=swish)(mlp_layer)\n",
        "\n",
        "# 반올림 함수 정의\n",
        "def round_to_nearest_half(x):\n",
        "    return round(x * 2) / 2\n",
        "\n",
        "# 모델 생성\n",
        "model = Model(inputs=[user_input, item_input], outputs=mlp_output)\n",
        "\n",
        "# 손실 함수와 최적화 알고리즘 설정\n",
        "model.compile(optimizer=Adam(0.0001), loss='mean_squared_error', metrics=[RootMeanSquaredError()])\n",
        "\n",
        "# 모델 요약 출력\n",
        "model.summary()\n",
        "\n",
        "# 얼리스타핑 설정\n",
        "early_stopping = EarlyStopping(\n",
        "    monitor='val_root_mean_squared_error',\n",
        "    patience=3,\n",
        "    verbose=1,\n",
        "    mode='min',\n",
        "    restore_best_weights=True\n",
        ")\n",
        "\n",
        "# 모델 학습\n",
        "history = model.fit(\n",
        "    [train_users, train_items], train_ratings,\n",
        "    validation_data=([test_users, test_items], test_ratings),\n",
        "    epochs=20,\n",
        "    verbose=1,\n",
        "    callbacks=[early_stopping]\n",
        ")\n"
      ],
      "metadata": {
        "colab": {
          "base_uri": "https://localhost:8080/",
          "height": 1000
        },
        "id": "zWAccnK9d68t",
        "outputId": "35a068c0-a094-4b9d-954f-5e5c1b08618f"
      },
      "execution_count": 34,
      "outputs": [
        {
          "output_type": "stream",
          "name": "stdout",
          "text": [
            "Model: \"model_11\"\n",
            "__________________________________________________________________________________________________\n",
            " Layer (type)                Output Shape                 Param #   Connected to                  \n",
            "==================================================================================================\n",
            " input_27 (InputLayer)       [(None, 1)]                  0         []                            \n",
            "                                                                                                  \n",
            " input_28 (InputLayer)       [(None, 1)]                  0         []                            \n",
            "                                                                                                  \n",
            " embedding_26 (Embedding)    (None, 1, 15)                15000     ['input_27[0][0]']            \n",
            "                                                                                                  \n",
            " embedding_27 (Embedding)    (None, 1, 15)                24945     ['input_28[0][0]']            \n",
            "                                                                                                  \n",
            " flatten_26 (Flatten)        (None, 15)                   0         ['embedding_26[0][0]']        \n",
            "                                                                                                  \n",
            " flatten_27 (Flatten)        (None, 15)                   0         ['embedding_27[0][0]']        \n",
            "                                                                                                  \n",
            " concatenate_13 (Concatenat  (None, 30)                   0         ['flatten_26[0][0]',          \n",
            " e)                                                                  'flatten_27[0][0]']          \n",
            "                                                                                                  \n",
            " dense_48 (Dense)            (None, 128)                  3968      ['concatenate_13[0][0]']      \n",
            "                                                                                                  \n",
            " dropout_24 (Dropout)        (None, 128)                  0         ['dense_48[0][0]']            \n",
            "                                                                                                  \n",
            " dense_49 (Dense)            (None, 64)                   8256      ['dropout_24[0][0]']          \n",
            "                                                                                                  \n",
            " dropout_25 (Dropout)        (None, 64)                   0         ['dense_49[0][0]']            \n",
            "                                                                                                  \n",
            " dense_50 (Dense)            (None, 32)                   2080      ['dropout_25[0][0]']          \n",
            "                                                                                                  \n",
            " dense_51 (Dense)            (None, 1)                    33        ['dense_50[0][0]']            \n",
            "                                                                                                  \n",
            "==================================================================================================\n",
            "Total params: 54282 (212.04 KB)\n",
            "Trainable params: 54282 (212.04 KB)\n",
            "Non-trainable params: 0 (0.00 Byte)\n",
            "__________________________________________________________________________________________________\n",
            "Epoch 1/20\n",
            "40123/40123 [==============================] - 169s 4ms/step - loss: 1.8128 - root_mean_squared_error: 1.3464 - val_loss: 1.7355 - val_root_mean_squared_error: 1.3174\n",
            "Epoch 2/20\n",
            "40123/40123 [==============================] - 170s 4ms/step - loss: 1.7292 - root_mean_squared_error: 1.3150 - val_loss: 1.7359 - val_root_mean_squared_error: 1.3175\n",
            "Epoch 3/20\n",
            "40123/40123 [==============================] - 166s 4ms/step - loss: 1.7281 - root_mean_squared_error: 1.3146 - val_loss: 1.7363 - val_root_mean_squared_error: 1.3177\n",
            "Epoch 4/20\n",
            "13009/40123 [========>.....................] - ETA: 1:41 - loss: 1.7266 - root_mean_squared_error: 1.3140"
          ]
        },
        {
          "output_type": "error",
          "ename": "KeyboardInterrupt",
          "evalue": "",
          "traceback": [
            "\u001b[0;31m---------------------------------------------------------------------------\u001b[0m",
            "\u001b[0;31mKeyboardInterrupt\u001b[0m                         Traceback (most recent call last)",
            "\u001b[0;32m<ipython-input-34-af9b636fbbe6>\u001b[0m in \u001b[0;36m<cell line: 74>\u001b[0;34m()\u001b[0m\n\u001b[1;32m     72\u001b[0m \u001b[0;34m\u001b[0m\u001b[0m\n\u001b[1;32m     73\u001b[0m \u001b[0;31m# 모델 학습\u001b[0m\u001b[0;34m\u001b[0m\u001b[0;34m\u001b[0m\u001b[0m\n\u001b[0;32m---> 74\u001b[0;31m history = model.fit(\n\u001b[0m\u001b[1;32m     75\u001b[0m     \u001b[0;34m[\u001b[0m\u001b[0mtrain_users\u001b[0m\u001b[0;34m,\u001b[0m \u001b[0mtrain_items\u001b[0m\u001b[0;34m]\u001b[0m\u001b[0;34m,\u001b[0m \u001b[0mtrain_ratings\u001b[0m\u001b[0;34m,\u001b[0m\u001b[0;34m\u001b[0m\u001b[0;34m\u001b[0m\u001b[0m\n\u001b[1;32m     76\u001b[0m     \u001b[0mvalidation_data\u001b[0m\u001b[0;34m=\u001b[0m\u001b[0;34m(\u001b[0m\u001b[0;34m[\u001b[0m\u001b[0mtest_users\u001b[0m\u001b[0;34m,\u001b[0m \u001b[0mtest_items\u001b[0m\u001b[0;34m]\u001b[0m\u001b[0;34m,\u001b[0m \u001b[0mtest_ratings\u001b[0m\u001b[0;34m)\u001b[0m\u001b[0;34m,\u001b[0m\u001b[0;34m\u001b[0m\u001b[0;34m\u001b[0m\u001b[0m\n",
            "\u001b[0;32m/usr/local/lib/python3.10/dist-packages/keras/src/utils/traceback_utils.py\u001b[0m in \u001b[0;36merror_handler\u001b[0;34m(*args, **kwargs)\u001b[0m\n\u001b[1;32m     63\u001b[0m         \u001b[0mfiltered_tb\u001b[0m \u001b[0;34m=\u001b[0m \u001b[0;32mNone\u001b[0m\u001b[0;34m\u001b[0m\u001b[0;34m\u001b[0m\u001b[0m\n\u001b[1;32m     64\u001b[0m         \u001b[0;32mtry\u001b[0m\u001b[0;34m:\u001b[0m\u001b[0;34m\u001b[0m\u001b[0;34m\u001b[0m\u001b[0m\n\u001b[0;32m---> 65\u001b[0;31m             \u001b[0;32mreturn\u001b[0m \u001b[0mfn\u001b[0m\u001b[0;34m(\u001b[0m\u001b[0;34m*\u001b[0m\u001b[0margs\u001b[0m\u001b[0;34m,\u001b[0m \u001b[0;34m**\u001b[0m\u001b[0mkwargs\u001b[0m\u001b[0;34m)\u001b[0m\u001b[0;34m\u001b[0m\u001b[0;34m\u001b[0m\u001b[0m\n\u001b[0m\u001b[1;32m     66\u001b[0m         \u001b[0;32mexcept\u001b[0m \u001b[0mException\u001b[0m \u001b[0;32mas\u001b[0m \u001b[0me\u001b[0m\u001b[0;34m:\u001b[0m\u001b[0;34m\u001b[0m\u001b[0;34m\u001b[0m\u001b[0m\n\u001b[1;32m     67\u001b[0m             \u001b[0mfiltered_tb\u001b[0m \u001b[0;34m=\u001b[0m \u001b[0m_process_traceback_frames\u001b[0m\u001b[0;34m(\u001b[0m\u001b[0me\u001b[0m\u001b[0;34m.\u001b[0m\u001b[0m__traceback__\u001b[0m\u001b[0;34m)\u001b[0m\u001b[0;34m\u001b[0m\u001b[0;34m\u001b[0m\u001b[0m\n",
            "\u001b[0;32m/usr/local/lib/python3.10/dist-packages/keras/src/engine/training.py\u001b[0m in \u001b[0;36mfit\u001b[0;34m(self, x, y, batch_size, epochs, verbose, callbacks, validation_split, validation_data, shuffle, class_weight, sample_weight, initial_epoch, steps_per_epoch, validation_steps, validation_batch_size, validation_freq, max_queue_size, workers, use_multiprocessing)\u001b[0m\n\u001b[1;32m   1805\u001b[0m                         ):\n\u001b[1;32m   1806\u001b[0m                             \u001b[0mcallbacks\u001b[0m\u001b[0;34m.\u001b[0m\u001b[0mon_train_batch_begin\u001b[0m\u001b[0;34m(\u001b[0m\u001b[0mstep\u001b[0m\u001b[0;34m)\u001b[0m\u001b[0;34m\u001b[0m\u001b[0;34m\u001b[0m\u001b[0m\n\u001b[0;32m-> 1807\u001b[0;31m                             \u001b[0mtmp_logs\u001b[0m \u001b[0;34m=\u001b[0m \u001b[0mself\u001b[0m\u001b[0;34m.\u001b[0m\u001b[0mtrain_function\u001b[0m\u001b[0;34m(\u001b[0m\u001b[0miterator\u001b[0m\u001b[0;34m)\u001b[0m\u001b[0;34m\u001b[0m\u001b[0;34m\u001b[0m\u001b[0m\n\u001b[0m\u001b[1;32m   1808\u001b[0m                             \u001b[0;32mif\u001b[0m \u001b[0mdata_handler\u001b[0m\u001b[0;34m.\u001b[0m\u001b[0mshould_sync\u001b[0m\u001b[0;34m:\u001b[0m\u001b[0;34m\u001b[0m\u001b[0;34m\u001b[0m\u001b[0m\n\u001b[1;32m   1809\u001b[0m                                 \u001b[0mcontext\u001b[0m\u001b[0;34m.\u001b[0m\u001b[0masync_wait\u001b[0m\u001b[0;34m(\u001b[0m\u001b[0;34m)\u001b[0m\u001b[0;34m\u001b[0m\u001b[0;34m\u001b[0m\u001b[0m\n",
            "\u001b[0;32m/usr/local/lib/python3.10/dist-packages/tensorflow/python/util/traceback_utils.py\u001b[0m in \u001b[0;36merror_handler\u001b[0;34m(*args, **kwargs)\u001b[0m\n\u001b[1;32m    148\u001b[0m     \u001b[0mfiltered_tb\u001b[0m \u001b[0;34m=\u001b[0m \u001b[0;32mNone\u001b[0m\u001b[0;34m\u001b[0m\u001b[0;34m\u001b[0m\u001b[0m\n\u001b[1;32m    149\u001b[0m     \u001b[0;32mtry\u001b[0m\u001b[0;34m:\u001b[0m\u001b[0;34m\u001b[0m\u001b[0;34m\u001b[0m\u001b[0m\n\u001b[0;32m--> 150\u001b[0;31m       \u001b[0;32mreturn\u001b[0m \u001b[0mfn\u001b[0m\u001b[0;34m(\u001b[0m\u001b[0;34m*\u001b[0m\u001b[0margs\u001b[0m\u001b[0;34m,\u001b[0m \u001b[0;34m**\u001b[0m\u001b[0mkwargs\u001b[0m\u001b[0;34m)\u001b[0m\u001b[0;34m\u001b[0m\u001b[0;34m\u001b[0m\u001b[0m\n\u001b[0m\u001b[1;32m    151\u001b[0m     \u001b[0;32mexcept\u001b[0m \u001b[0mException\u001b[0m \u001b[0;32mas\u001b[0m \u001b[0me\u001b[0m\u001b[0;34m:\u001b[0m\u001b[0;34m\u001b[0m\u001b[0;34m\u001b[0m\u001b[0m\n\u001b[1;32m    152\u001b[0m       \u001b[0mfiltered_tb\u001b[0m \u001b[0;34m=\u001b[0m \u001b[0m_process_traceback_frames\u001b[0m\u001b[0;34m(\u001b[0m\u001b[0me\u001b[0m\u001b[0;34m.\u001b[0m\u001b[0m__traceback__\u001b[0m\u001b[0;34m)\u001b[0m\u001b[0;34m\u001b[0m\u001b[0;34m\u001b[0m\u001b[0m\n",
            "\u001b[0;32m/usr/local/lib/python3.10/dist-packages/tensorflow/python/eager/polymorphic_function/polymorphic_function.py\u001b[0m in \u001b[0;36m__call__\u001b[0;34m(self, *args, **kwds)\u001b[0m\n\u001b[1;32m    830\u001b[0m \u001b[0;34m\u001b[0m\u001b[0m\n\u001b[1;32m    831\u001b[0m       \u001b[0;32mwith\u001b[0m \u001b[0mOptionalXlaContext\u001b[0m\u001b[0;34m(\u001b[0m\u001b[0mself\u001b[0m\u001b[0;34m.\u001b[0m\u001b[0m_jit_compile\u001b[0m\u001b[0;34m)\u001b[0m\u001b[0;34m:\u001b[0m\u001b[0;34m\u001b[0m\u001b[0;34m\u001b[0m\u001b[0m\n\u001b[0;32m--> 832\u001b[0;31m         \u001b[0mresult\u001b[0m \u001b[0;34m=\u001b[0m \u001b[0mself\u001b[0m\u001b[0;34m.\u001b[0m\u001b[0m_call\u001b[0m\u001b[0;34m(\u001b[0m\u001b[0;34m*\u001b[0m\u001b[0margs\u001b[0m\u001b[0;34m,\u001b[0m \u001b[0;34m**\u001b[0m\u001b[0mkwds\u001b[0m\u001b[0;34m)\u001b[0m\u001b[0;34m\u001b[0m\u001b[0;34m\u001b[0m\u001b[0m\n\u001b[0m\u001b[1;32m    833\u001b[0m \u001b[0;34m\u001b[0m\u001b[0m\n\u001b[1;32m    834\u001b[0m       \u001b[0mnew_tracing_count\u001b[0m \u001b[0;34m=\u001b[0m \u001b[0mself\u001b[0m\u001b[0;34m.\u001b[0m\u001b[0mexperimental_get_tracing_count\u001b[0m\u001b[0;34m(\u001b[0m\u001b[0;34m)\u001b[0m\u001b[0;34m\u001b[0m\u001b[0;34m\u001b[0m\u001b[0m\n",
            "\u001b[0;32m/usr/local/lib/python3.10/dist-packages/tensorflow/python/eager/polymorphic_function/polymorphic_function.py\u001b[0m in \u001b[0;36m_call\u001b[0;34m(self, *args, **kwds)\u001b[0m\n\u001b[1;32m    866\u001b[0m       \u001b[0;31m# In this case we have created variables on the first call, so we run the\u001b[0m\u001b[0;34m\u001b[0m\u001b[0;34m\u001b[0m\u001b[0m\n\u001b[1;32m    867\u001b[0m       \u001b[0;31m# defunned version which is guaranteed to never create variables.\u001b[0m\u001b[0;34m\u001b[0m\u001b[0;34m\u001b[0m\u001b[0m\n\u001b[0;32m--> 868\u001b[0;31m       return tracing_compilation.call_function(\n\u001b[0m\u001b[1;32m    869\u001b[0m           \u001b[0margs\u001b[0m\u001b[0;34m,\u001b[0m \u001b[0mkwds\u001b[0m\u001b[0;34m,\u001b[0m \u001b[0mself\u001b[0m\u001b[0;34m.\u001b[0m\u001b[0m_no_variable_creation_config\u001b[0m\u001b[0;34m\u001b[0m\u001b[0;34m\u001b[0m\u001b[0m\n\u001b[1;32m    870\u001b[0m       )\n",
            "\u001b[0;32m/usr/local/lib/python3.10/dist-packages/tensorflow/python/eager/polymorphic_function/tracing_compilation.py\u001b[0m in \u001b[0;36mcall_function\u001b[0;34m(args, kwargs, tracing_options)\u001b[0m\n\u001b[1;32m    137\u001b[0m   \u001b[0mbound_args\u001b[0m \u001b[0;34m=\u001b[0m \u001b[0mfunction\u001b[0m\u001b[0;34m.\u001b[0m\u001b[0mfunction_type\u001b[0m\u001b[0;34m.\u001b[0m\u001b[0mbind\u001b[0m\u001b[0;34m(\u001b[0m\u001b[0;34m*\u001b[0m\u001b[0margs\u001b[0m\u001b[0;34m,\u001b[0m \u001b[0;34m**\u001b[0m\u001b[0mkwargs\u001b[0m\u001b[0;34m)\u001b[0m\u001b[0;34m\u001b[0m\u001b[0;34m\u001b[0m\u001b[0m\n\u001b[1;32m    138\u001b[0m   \u001b[0mflat_inputs\u001b[0m \u001b[0;34m=\u001b[0m \u001b[0mfunction\u001b[0m\u001b[0;34m.\u001b[0m\u001b[0mfunction_type\u001b[0m\u001b[0;34m.\u001b[0m\u001b[0munpack_inputs\u001b[0m\u001b[0;34m(\u001b[0m\u001b[0mbound_args\u001b[0m\u001b[0;34m)\u001b[0m\u001b[0;34m\u001b[0m\u001b[0;34m\u001b[0m\u001b[0m\n\u001b[0;32m--> 139\u001b[0;31m   return function._call_flat(  # pylint: disable=protected-access\n\u001b[0m\u001b[1;32m    140\u001b[0m       \u001b[0mflat_inputs\u001b[0m\u001b[0;34m,\u001b[0m \u001b[0mcaptured_inputs\u001b[0m\u001b[0;34m=\u001b[0m\u001b[0mfunction\u001b[0m\u001b[0;34m.\u001b[0m\u001b[0mcaptured_inputs\u001b[0m\u001b[0;34m\u001b[0m\u001b[0;34m\u001b[0m\u001b[0m\n\u001b[1;32m    141\u001b[0m   )\n",
            "\u001b[0;32m/usr/local/lib/python3.10/dist-packages/tensorflow/python/eager/polymorphic_function/concrete_function.py\u001b[0m in \u001b[0;36m_call_flat\u001b[0;34m(self, tensor_inputs, captured_inputs)\u001b[0m\n\u001b[1;32m   1321\u001b[0m         and executing_eagerly):\n\u001b[1;32m   1322\u001b[0m       \u001b[0;31m# No tape is watching; skip to running the function.\u001b[0m\u001b[0;34m\u001b[0m\u001b[0;34m\u001b[0m\u001b[0m\n\u001b[0;32m-> 1323\u001b[0;31m       \u001b[0;32mreturn\u001b[0m \u001b[0mself\u001b[0m\u001b[0;34m.\u001b[0m\u001b[0m_inference_function\u001b[0m\u001b[0;34m.\u001b[0m\u001b[0mcall_preflattened\u001b[0m\u001b[0;34m(\u001b[0m\u001b[0margs\u001b[0m\u001b[0;34m)\u001b[0m\u001b[0;34m\u001b[0m\u001b[0;34m\u001b[0m\u001b[0m\n\u001b[0m\u001b[1;32m   1324\u001b[0m     forward_backward = self._select_forward_and_backward_functions(\n\u001b[1;32m   1325\u001b[0m         \u001b[0margs\u001b[0m\u001b[0;34m,\u001b[0m\u001b[0;34m\u001b[0m\u001b[0;34m\u001b[0m\u001b[0m\n",
            "\u001b[0;32m/usr/local/lib/python3.10/dist-packages/tensorflow/python/eager/polymorphic_function/atomic_function.py\u001b[0m in \u001b[0;36mcall_preflattened\u001b[0;34m(self, args)\u001b[0m\n\u001b[1;32m    214\u001b[0m   \u001b[0;32mdef\u001b[0m \u001b[0mcall_preflattened\u001b[0m\u001b[0;34m(\u001b[0m\u001b[0mself\u001b[0m\u001b[0;34m,\u001b[0m \u001b[0margs\u001b[0m\u001b[0;34m:\u001b[0m \u001b[0mSequence\u001b[0m\u001b[0;34m[\u001b[0m\u001b[0mcore\u001b[0m\u001b[0;34m.\u001b[0m\u001b[0mTensor\u001b[0m\u001b[0;34m]\u001b[0m\u001b[0;34m)\u001b[0m \u001b[0;34m->\u001b[0m \u001b[0mAny\u001b[0m\u001b[0;34m:\u001b[0m\u001b[0;34m\u001b[0m\u001b[0;34m\u001b[0m\u001b[0m\n\u001b[1;32m    215\u001b[0m     \u001b[0;34m\"\"\"Calls with flattened tensor inputs and returns the structured output.\"\"\"\u001b[0m\u001b[0;34m\u001b[0m\u001b[0;34m\u001b[0m\u001b[0m\n\u001b[0;32m--> 216\u001b[0;31m     \u001b[0mflat_outputs\u001b[0m \u001b[0;34m=\u001b[0m \u001b[0mself\u001b[0m\u001b[0;34m.\u001b[0m\u001b[0mcall_flat\u001b[0m\u001b[0;34m(\u001b[0m\u001b[0;34m*\u001b[0m\u001b[0margs\u001b[0m\u001b[0;34m)\u001b[0m\u001b[0;34m\u001b[0m\u001b[0;34m\u001b[0m\u001b[0m\n\u001b[0m\u001b[1;32m    217\u001b[0m     \u001b[0;32mreturn\u001b[0m \u001b[0mself\u001b[0m\u001b[0;34m.\u001b[0m\u001b[0mfunction_type\u001b[0m\u001b[0;34m.\u001b[0m\u001b[0mpack_output\u001b[0m\u001b[0;34m(\u001b[0m\u001b[0mflat_outputs\u001b[0m\u001b[0;34m)\u001b[0m\u001b[0;34m\u001b[0m\u001b[0;34m\u001b[0m\u001b[0m\n\u001b[1;32m    218\u001b[0m \u001b[0;34m\u001b[0m\u001b[0m\n",
            "\u001b[0;32m/usr/local/lib/python3.10/dist-packages/tensorflow/python/eager/polymorphic_function/atomic_function.py\u001b[0m in \u001b[0;36mcall_flat\u001b[0;34m(self, *args)\u001b[0m\n\u001b[1;32m    249\u001b[0m         \u001b[0;32mwith\u001b[0m \u001b[0mrecord\u001b[0m\u001b[0;34m.\u001b[0m\u001b[0mstop_recording\u001b[0m\u001b[0;34m(\u001b[0m\u001b[0;34m)\u001b[0m\u001b[0;34m:\u001b[0m\u001b[0;34m\u001b[0m\u001b[0;34m\u001b[0m\u001b[0m\n\u001b[1;32m    250\u001b[0m           \u001b[0;32mif\u001b[0m \u001b[0mself\u001b[0m\u001b[0;34m.\u001b[0m\u001b[0m_bound_context\u001b[0m\u001b[0;34m.\u001b[0m\u001b[0mexecuting_eagerly\u001b[0m\u001b[0;34m(\u001b[0m\u001b[0;34m)\u001b[0m\u001b[0;34m:\u001b[0m\u001b[0;34m\u001b[0m\u001b[0;34m\u001b[0m\u001b[0m\n\u001b[0;32m--> 251\u001b[0;31m             outputs = self._bound_context.call_function(\n\u001b[0m\u001b[1;32m    252\u001b[0m                 \u001b[0mself\u001b[0m\u001b[0;34m.\u001b[0m\u001b[0mname\u001b[0m\u001b[0;34m,\u001b[0m\u001b[0;34m\u001b[0m\u001b[0;34m\u001b[0m\u001b[0m\n\u001b[1;32m    253\u001b[0m                 \u001b[0mlist\u001b[0m\u001b[0;34m(\u001b[0m\u001b[0margs\u001b[0m\u001b[0;34m)\u001b[0m\u001b[0;34m,\u001b[0m\u001b[0;34m\u001b[0m\u001b[0;34m\u001b[0m\u001b[0m\n",
            "\u001b[0;32m/usr/local/lib/python3.10/dist-packages/tensorflow/python/eager/context.py\u001b[0m in \u001b[0;36mcall_function\u001b[0;34m(self, name, tensor_inputs, num_outputs)\u001b[0m\n\u001b[1;32m   1484\u001b[0m     \u001b[0mcancellation_context\u001b[0m \u001b[0;34m=\u001b[0m \u001b[0mcancellation\u001b[0m\u001b[0;34m.\u001b[0m\u001b[0mcontext\u001b[0m\u001b[0;34m(\u001b[0m\u001b[0;34m)\u001b[0m\u001b[0;34m\u001b[0m\u001b[0;34m\u001b[0m\u001b[0m\n\u001b[1;32m   1485\u001b[0m     \u001b[0;32mif\u001b[0m \u001b[0mcancellation_context\u001b[0m \u001b[0;32mis\u001b[0m \u001b[0;32mNone\u001b[0m\u001b[0;34m:\u001b[0m\u001b[0;34m\u001b[0m\u001b[0;34m\u001b[0m\u001b[0m\n\u001b[0;32m-> 1486\u001b[0;31m       outputs = execute.execute(\n\u001b[0m\u001b[1;32m   1487\u001b[0m           \u001b[0mname\u001b[0m\u001b[0;34m.\u001b[0m\u001b[0mdecode\u001b[0m\u001b[0;34m(\u001b[0m\u001b[0;34m\"utf-8\"\u001b[0m\u001b[0;34m)\u001b[0m\u001b[0;34m,\u001b[0m\u001b[0;34m\u001b[0m\u001b[0;34m\u001b[0m\u001b[0m\n\u001b[1;32m   1488\u001b[0m           \u001b[0mnum_outputs\u001b[0m\u001b[0;34m=\u001b[0m\u001b[0mnum_outputs\u001b[0m\u001b[0;34m,\u001b[0m\u001b[0;34m\u001b[0m\u001b[0;34m\u001b[0m\u001b[0m\n",
            "\u001b[0;32m/usr/local/lib/python3.10/dist-packages/tensorflow/python/eager/execute.py\u001b[0m in \u001b[0;36mquick_execute\u001b[0;34m(op_name, num_outputs, inputs, attrs, ctx, name)\u001b[0m\n\u001b[1;32m     51\u001b[0m   \u001b[0;32mtry\u001b[0m\u001b[0;34m:\u001b[0m\u001b[0;34m\u001b[0m\u001b[0;34m\u001b[0m\u001b[0m\n\u001b[1;32m     52\u001b[0m     \u001b[0mctx\u001b[0m\u001b[0;34m.\u001b[0m\u001b[0mensure_initialized\u001b[0m\u001b[0;34m(\u001b[0m\u001b[0;34m)\u001b[0m\u001b[0;34m\u001b[0m\u001b[0;34m\u001b[0m\u001b[0m\n\u001b[0;32m---> 53\u001b[0;31m     tensors = pywrap_tfe.TFE_Py_Execute(ctx._handle, device_name, op_name,\n\u001b[0m\u001b[1;32m     54\u001b[0m                                         inputs, attrs, num_outputs)\n\u001b[1;32m     55\u001b[0m   \u001b[0;32mexcept\u001b[0m \u001b[0mcore\u001b[0m\u001b[0;34m.\u001b[0m\u001b[0m_NotOkStatusException\u001b[0m \u001b[0;32mas\u001b[0m \u001b[0me\u001b[0m\u001b[0;34m:\u001b[0m\u001b[0;34m\u001b[0m\u001b[0;34m\u001b[0m\u001b[0m\n",
            "\u001b[0;31mKeyboardInterrupt\u001b[0m: "
          ]
        }
      ]
    },
    {
      "cell_type": "markdown",
      "source": [
        "# StandardScaler + 학습률 낮추기 + weight에 노이즈 추가"
      ],
      "metadata": {
        "id": "dXckvU4ggNvZ"
      }
    },
    {
      "cell_type": "code",
      "source": [
        "# 데이터 전처리\n",
        "non_zero_df = df[df['rating'] != 0]\n",
        "pivot_table = non_zero_df.pivot(index='user_id', columns='place_id', values='rating').fillna(0)\n",
        "train, test = train_test_split(pivot_table, test_size=0.2, random_state=42)\n",
        "\n",
        "train_users, train_items = np.where(train > 0)\n",
        "train_ratings = train.values[train > 0]\n",
        "\n",
        "test_users, test_items = np.where(test > 0)\n",
        "test_ratings = test.values[test > 0]\n",
        "\n",
        "# 데이터 표준화 및 스케일링\n",
        "scaler = StandardScaler()\n",
        "train_ratings_scaled = scaler.fit_transform(train_ratings.reshape(-1, 1))\n",
        "test_ratings_scaled = scaler.transform(test_ratings.reshape(-1, 1))\n",
        "\n",
        "# Swish 함수 정의\n",
        "def swish(x):\n",
        "    return x * tf.sigmoid(x)\n",
        "\n",
        "# 모델 입력\n",
        "user_input = Input(shape=(1,), dtype='int32')\n",
        "item_input = Input(shape=(1,), dtype='int32')\n",
        "\n",
        "# 임베딩 레이어\n",
        "user_embedding = Embedding(input_dim=pivot_table.shape[0], output_dim=15, input_length=1)(user_input)\n",
        "item_embedding = Embedding(input_dim=pivot_table.shape[1], output_dim=15, input_length=1)(item_input)\n",
        "\n",
        "# 임베딩 벡터 평탄화\n",
        "user_vector = Flatten()(user_embedding)\n",
        "item_vector = Flatten()(item_embedding)\n",
        "\n",
        "# 임베딩 벡터의 연결\n",
        "concatenated = Concatenate()([user_vector, item_vector])\n",
        "\n",
        "# MLP 레이어\n",
        "mlp_layer = Dense(128, activation=swish)(concatenated)\n",
        "mlp_layer = Dropout(0.2)(mlp_layer)\n",
        "mlp_layer = Dense(64, activation=swish)(mlp_layer)\n",
        "mlp_layer = Dropout(0.2)(mlp_layer)\n",
        "mlp_layer = Dense(32, activation=swish)(mlp_layer)\n",
        "\n",
        "# 출력층\n",
        "mlp_output = Dense(1, activation=swish)(mlp_layer)\n",
        "\n",
        "# 반올림 함수 정의\n",
        "def round_to_nearest_half(x):\n",
        "    return round(x * 2) / 2\n",
        "\n",
        "# 모델 생성\n",
        "model = Model(inputs=[user_input, item_input], outputs=mlp_output)\n",
        "\n",
        "# 손실 함수와 최적화 알고리즘 설정\n",
        "model.compile(optimizer=Adam(0.0001), loss='mean_squared_error', metrics=[RootMeanSquaredError()])\n",
        "\n",
        "# 모델 가중치에 노이즈 추가\n",
        "noise_factor = 0.5  # 노이즈의 크기를 조절할 수 있는 하이퍼파라미터\n",
        "for layer in model.layers:\n",
        "    if isinstance(layer, Dense):  # Dense 레이어인 경우에만 노이즈 추가\n",
        "        weights = layer.get_weights()\n",
        "        noisy_weights = [w + noise_factor * np.random.normal(size=w.shape) for w in weights]\n",
        "        layer.set_weights(noisy_weights)\n",
        "\n",
        "# 모델 요약 출력\n",
        "model.summary()\n",
        "\n",
        "# 얼리스타핑 설정\n",
        "early_stopping = EarlyStopping(\n",
        "    monitor='val_root_mean_squared_error',\n",
        "    patience=3,\n",
        "    verbose=1,\n",
        "    mode='min',\n",
        "    restore_best_weights=True\n",
        ")\n",
        "\n",
        "# 모델 학습\n",
        "history = model.fit(\n",
        "    [train_users, train_items], train_ratings_scaled,\n",
        "    validation_data=([test_users, test_items], test_ratings_scaled),\n",
        "    epochs=20,\n",
        "    verbose=1,\n",
        "    callbacks=[early_stopping]\n",
        ")"
      ],
      "metadata": {
        "colab": {
          "base_uri": "https://localhost:8080/"
        },
        "id": "289rl0jFgTbL",
        "outputId": "6d066dc9-5268-4435-ce67-dc86b21aa42c"
      },
      "execution_count": 36,
      "outputs": [
        {
          "output_type": "stream",
          "name": "stdout",
          "text": [
            "Model: \"model_13\"\n",
            "__________________________________________________________________________________________________\n",
            " Layer (type)                Output Shape                 Param #   Connected to                  \n",
            "==================================================================================================\n",
            " input_31 (InputLayer)       [(None, 1)]                  0         []                            \n",
            "                                                                                                  \n",
            " input_32 (InputLayer)       [(None, 1)]                  0         []                            \n",
            "                                                                                                  \n",
            " embedding_30 (Embedding)    (None, 1, 15)                15000     ['input_31[0][0]']            \n",
            "                                                                                                  \n",
            " embedding_31 (Embedding)    (None, 1, 15)                24945     ['input_32[0][0]']            \n",
            "                                                                                                  \n",
            " flatten_30 (Flatten)        (None, 15)                   0         ['embedding_30[0][0]']        \n",
            "                                                                                                  \n",
            " flatten_31 (Flatten)        (None, 15)                   0         ['embedding_31[0][0]']        \n",
            "                                                                                                  \n",
            " concatenate_15 (Concatenat  (None, 30)                   0         ['flatten_30[0][0]',          \n",
            " e)                                                                  'flatten_31[0][0]']          \n",
            "                                                                                                  \n",
            " dense_56 (Dense)            (None, 128)                  3968      ['concatenate_15[0][0]']      \n",
            "                                                                                                  \n",
            " dropout_28 (Dropout)        (None, 128)                  0         ['dense_56[0][0]']            \n",
            "                                                                                                  \n",
            " dense_57 (Dense)            (None, 64)                   8256      ['dropout_28[0][0]']          \n",
            "                                                                                                  \n",
            " dropout_29 (Dropout)        (None, 64)                   0         ['dense_57[0][0]']            \n",
            "                                                                                                  \n",
            " dense_58 (Dense)            (None, 32)                   2080      ['dropout_29[0][0]']          \n",
            "                                                                                                  \n",
            " dense_59 (Dense)            (None, 1)                    33        ['dense_58[0][0]']            \n",
            "                                                                                                  \n",
            "==================================================================================================\n",
            "Total params: 54282 (212.04 KB)\n",
            "Trainable params: 54282 (212.04 KB)\n",
            "Non-trainable params: 0 (0.00 Byte)\n",
            "__________________________________________________________________________________________________\n",
            "Epoch 1/20\n",
            "40123/40123 [==============================] - 170s 4ms/step - loss: 1.0065 - root_mean_squared_error: 1.0032 - val_loss: 1.0041 - val_root_mean_squared_error: 1.0020\n",
            "Epoch 2/20\n",
            "40123/40123 [==============================] - 168s 4ms/step - loss: 1.0000 - root_mean_squared_error: 1.0000 - val_loss: 1.0041 - val_root_mean_squared_error: 1.0020\n",
            "Epoch 3/20\n",
            "40123/40123 [==============================] - 169s 4ms/step - loss: 1.0000 - root_mean_squared_error: 1.0000 - val_loss: 1.0041 - val_root_mean_squared_error: 1.0020\n",
            "Epoch 4/20\n",
            "40117/40123 [============================>.] - ETA: 0s - loss: 1.0000 - root_mean_squared_error: 1.0000Restoring model weights from the end of the best epoch: 1.\n",
            "40123/40123 [==============================] - 170s 4ms/step - loss: 1.0000 - root_mean_squared_error: 1.0000 - val_loss: 1.0041 - val_root_mean_squared_error: 1.0020\n",
            "Epoch 4: early stopping\n"
          ]
        }
      ]
    },
    {
      "cell_type": "markdown",
      "source": [
        "노이즈가 0.1이엇을땐 조기종료함\n",
        "User\n",
        "__________________________________________________________________________________________________\n",
        "Epoch 1/20\n",
        "40123/40123 [==============================] - 178s 4ms/step - loss: 1.0002 - root_mean_squared_error: 1.0001 - val_loss: 1.0041 - val_root_mean_squared_error: 1.0020\n",
        "Epoch 2/20\n",
        "40123/40123 [==============================] - 168s 4ms/step - loss: 0.9998 - root_mean_squared_error: 0.9999 - val_loss: 1.0046 - val_root_mean_squared_error: 1.0023\n",
        "Epoch 3/20\n",
        "40123/40123 [==============================] - 166s 4ms/step - loss: 0.9992 - root_mean_squared_error: 0.9996 - val_loss: 1.0043 - val_root_mean_squared_error: 1.0021\n",
        "Epoch 4/20\n",
        "40119/40123 [============================>.] - ETA: 0s - loss: 0.9990 - root_mean_squared_error: 0.9995Restoring model weights from the end of the best epoch: 1.\n",
        "40123/40123 [==============================] - 169s 4ms/step - loss: 0.9990 - root_mean_squared_error: 0.9995 - val_loss: 1.0055 - val_root_mean_squared_error: 1.0027\n",
        "Epoch 4: early stopping\n"
      ],
      "metadata": {
        "id": "_cJ85KXvk2iA"
      }
    },
    {
      "cell_type": "markdown",
      "source": [
        "# dropout 비율 높임."
      ],
      "metadata": {
        "id": "ADkDyb9knFcQ"
      }
    },
    {
      "cell_type": "code",
      "source": [
        "# 데이터 전처리\n",
        "non_zero_df = df[df['rating'] != 0]\n",
        "pivot_table = non_zero_df.pivot(index='user_id', columns='place_id', values='rating').fillna(0)\n",
        "train, test = train_test_split(pivot_table, test_size=0.2, random_state=42)\n",
        "\n",
        "train_users, train_items = np.where(train > 0)\n",
        "train_ratings = train.values[train > 0]\n",
        "\n",
        "test_users, test_items = np.where(test > 0)\n",
        "test_ratings = test.values[test > 0]\n",
        "\n",
        "# 데이터 표준화 및 스케일링\n",
        "scaler = StandardScaler()\n",
        "train_ratings_scaled = scaler.fit_transform(train_ratings.reshape(-1, 1))\n",
        "test_ratings_scaled = scaler.transform(test_ratings.reshape(-1, 1))\n",
        "\n",
        "# Swish 함수 정의\n",
        "def swish(x):\n",
        "    return x * tf.sigmoid(x)\n",
        "\n",
        "# 모델 입력\n",
        "user_input = Input(shape=(1,), dtype='int32')\n",
        "item_input = Input(shape=(1,), dtype='int32')\n",
        "\n",
        "# 임베딩 레이어\n",
        "user_embedding = Embedding(input_dim=pivot_table.shape[0], output_dim=15, input_length=1)(user_input)\n",
        "item_embedding = Embedding(input_dim=pivot_table.shape[1], output_dim=15, input_length=1)(item_input)\n",
        "\n",
        "# 임베딩 벡터 평탄화\n",
        "user_vector = Flatten()(user_embedding)\n",
        "item_vector = Flatten()(item_embedding)\n",
        "\n",
        "# 임베딩 벡터의 연결\n",
        "concatenated = Concatenate()([user_vector, item_vector])\n",
        "\n",
        "# MLP 레이어\n",
        "mlp_layer = Dense(128, activation=swish)(concatenated)\n",
        "mlp_layer = Dropout(0.5)(mlp_layer)\n",
        "mlp_layer = Dense(64, activation=swish)(mlp_layer)\n",
        "mlp_layer = Dropout(0.5)(mlp_layer)\n",
        "mlp_layer = Dense(32, activation=swish)(mlp_layer)\n",
        "\n",
        "# 출력층\n",
        "mlp_output = Dense(1, activation=swish)(mlp_layer)\n",
        "\n",
        "# 반올림 함수 정의\n",
        "def round_to_nearest_half(x):\n",
        "    return round(x * 2) / 2\n",
        "\n",
        "# 모델 생성\n",
        "model = Model(inputs=[user_input, item_input], outputs=mlp_output)\n",
        "\n",
        "# 손실 함수와 최적화 알고리즘 설정\n",
        "model.compile(optimizer=Adam(0.0001), loss='mean_squared_error', metrics=[RootMeanSquaredError()])\n",
        "\n",
        "# 모델 가중치에 노이즈 추가\n",
        "noise_factor = 0.5  # 노이즈의 크기를 조절할 수 있는 하이퍼파라미터\n",
        "for layer in model.layers:\n",
        "    if isinstance(layer, Dense):  # Dense 레이어인 경우에만 노이즈 추가\n",
        "        weights = layer.get_weights()\n",
        "        noisy_weights = [w + noise_factor * np.random.normal(size=w.shape) for w in weights]\n",
        "        layer.set_weights(noisy_weights)\n",
        "\n",
        "# 모델 요약 출력\n",
        "model.summary()\n",
        "\n",
        "# 얼리스타핑 설정\n",
        "early_stopping = EarlyStopping(\n",
        "    monitor='val_root_mean_squared_error',\n",
        "    patience=3,\n",
        "    verbose=1,\n",
        "    mode='min',\n",
        "    restore_best_weights=True\n",
        ")\n",
        "\n",
        "# 모델 학습\n",
        "history = model.fit(\n",
        "    [train_users, train_items], train_ratings_scaled,\n",
        "    validation_data=([test_users, test_items], test_ratings_scaled),\n",
        "    epochs=20,\n",
        "    verbose=1,\n",
        "    callbacks=[early_stopping]\n",
        ")"
      ],
      "metadata": {
        "colab": {
          "base_uri": "https://localhost:8080/",
          "height": 1000
        },
        "id": "jZLMd6aunIFf",
        "outputId": "ab8038c9-02c1-43f1-d544-07307905bc87"
      },
      "execution_count": 37,
      "outputs": [
        {
          "output_type": "stream",
          "name": "stdout",
          "text": [
            "Model: \"model_14\"\n",
            "__________________________________________________________________________________________________\n",
            " Layer (type)                Output Shape                 Param #   Connected to                  \n",
            "==================================================================================================\n",
            " input_33 (InputLayer)       [(None, 1)]                  0         []                            \n",
            "                                                                                                  \n",
            " input_34 (InputLayer)       [(None, 1)]                  0         []                            \n",
            "                                                                                                  \n",
            " embedding_32 (Embedding)    (None, 1, 15)                15000     ['input_33[0][0]']            \n",
            "                                                                                                  \n",
            " embedding_33 (Embedding)    (None, 1, 15)                24945     ['input_34[0][0]']            \n",
            "                                                                                                  \n",
            " flatten_32 (Flatten)        (None, 15)                   0         ['embedding_32[0][0]']        \n",
            "                                                                                                  \n",
            " flatten_33 (Flatten)        (None, 15)                   0         ['embedding_33[0][0]']        \n",
            "                                                                                                  \n",
            " concatenate_16 (Concatenat  (None, 30)                   0         ['flatten_32[0][0]',          \n",
            " e)                                                                  'flatten_33[0][0]']          \n",
            "                                                                                                  \n",
            " dense_60 (Dense)            (None, 128)                  3968      ['concatenate_16[0][0]']      \n",
            "                                                                                                  \n",
            " dropout_30 (Dropout)        (None, 128)                  0         ['dense_60[0][0]']            \n",
            "                                                                                                  \n",
            " dense_61 (Dense)            (None, 64)                   8256      ['dropout_30[0][0]']          \n",
            "                                                                                                  \n",
            " dropout_31 (Dropout)        (None, 64)                   0         ['dense_61[0][0]']            \n",
            "                                                                                                  \n",
            " dense_62 (Dense)            (None, 32)                   2080      ['dropout_31[0][0]']          \n",
            "                                                                                                  \n",
            " dense_63 (Dense)            (None, 1)                    33        ['dense_62[0][0]']            \n",
            "                                                                                                  \n",
            "==================================================================================================\n",
            "Total params: 54282 (212.04 KB)\n",
            "Trainable params: 54282 (212.04 KB)\n",
            "Non-trainable params: 0 (0.00 Byte)\n",
            "__________________________________________________________________________________________________\n",
            "Epoch 1/20\n",
            "40123/40123 [==============================] - 171s 4ms/step - loss: 1.0616 - root_mean_squared_error: 1.0303 - val_loss: 1.0041 - val_root_mean_squared_error: 1.0020\n",
            "Epoch 2/20\n",
            "40123/40123 [==============================] - 169s 4ms/step - loss: 1.0000 - root_mean_squared_error: 1.0000 - val_loss: 1.0041 - val_root_mean_squared_error: 1.0020\n",
            "Epoch 3/20\n",
            "40123/40123 [==============================] - 169s 4ms/step - loss: 1.0000 - root_mean_squared_error: 1.0000 - val_loss: 1.0041 - val_root_mean_squared_error: 1.0020\n",
            "Epoch 4/20\n",
            " 3205/40123 [=>............................] - ETA: 2:16 - loss: 1.0013 - root_mean_squared_error: 1.0007"
          ]
        },
        {
          "output_type": "error",
          "ename": "KeyboardInterrupt",
          "evalue": "",
          "traceback": [
            "\u001b[0;31m---------------------------------------------------------------------------\u001b[0m",
            "\u001b[0;31mKeyboardInterrupt\u001b[0m                         Traceback (most recent call last)",
            "\u001b[0;32m<ipython-input-37-ac97cde50b73>\u001b[0m in \u001b[0;36m<cell line: 77>\u001b[0;34m()\u001b[0m\n\u001b[1;32m     75\u001b[0m \u001b[0;34m\u001b[0m\u001b[0m\n\u001b[1;32m     76\u001b[0m \u001b[0;31m# 모델 학습\u001b[0m\u001b[0;34m\u001b[0m\u001b[0;34m\u001b[0m\u001b[0m\n\u001b[0;32m---> 77\u001b[0;31m history = model.fit(\n\u001b[0m\u001b[1;32m     78\u001b[0m     \u001b[0;34m[\u001b[0m\u001b[0mtrain_users\u001b[0m\u001b[0;34m,\u001b[0m \u001b[0mtrain_items\u001b[0m\u001b[0;34m]\u001b[0m\u001b[0;34m,\u001b[0m \u001b[0mtrain_ratings_scaled\u001b[0m\u001b[0;34m,\u001b[0m\u001b[0;34m\u001b[0m\u001b[0;34m\u001b[0m\u001b[0m\n\u001b[1;32m     79\u001b[0m     \u001b[0mvalidation_data\u001b[0m\u001b[0;34m=\u001b[0m\u001b[0;34m(\u001b[0m\u001b[0;34m[\u001b[0m\u001b[0mtest_users\u001b[0m\u001b[0;34m,\u001b[0m \u001b[0mtest_items\u001b[0m\u001b[0;34m]\u001b[0m\u001b[0;34m,\u001b[0m \u001b[0mtest_ratings_scaled\u001b[0m\u001b[0;34m)\u001b[0m\u001b[0;34m,\u001b[0m\u001b[0;34m\u001b[0m\u001b[0;34m\u001b[0m\u001b[0m\n",
            "\u001b[0;32m/usr/local/lib/python3.10/dist-packages/keras/src/utils/traceback_utils.py\u001b[0m in \u001b[0;36merror_handler\u001b[0;34m(*args, **kwargs)\u001b[0m\n\u001b[1;32m     63\u001b[0m         \u001b[0mfiltered_tb\u001b[0m \u001b[0;34m=\u001b[0m \u001b[0;32mNone\u001b[0m\u001b[0;34m\u001b[0m\u001b[0;34m\u001b[0m\u001b[0m\n\u001b[1;32m     64\u001b[0m         \u001b[0;32mtry\u001b[0m\u001b[0;34m:\u001b[0m\u001b[0;34m\u001b[0m\u001b[0;34m\u001b[0m\u001b[0m\n\u001b[0;32m---> 65\u001b[0;31m             \u001b[0;32mreturn\u001b[0m \u001b[0mfn\u001b[0m\u001b[0;34m(\u001b[0m\u001b[0;34m*\u001b[0m\u001b[0margs\u001b[0m\u001b[0;34m,\u001b[0m \u001b[0;34m**\u001b[0m\u001b[0mkwargs\u001b[0m\u001b[0;34m)\u001b[0m\u001b[0;34m\u001b[0m\u001b[0;34m\u001b[0m\u001b[0m\n\u001b[0m\u001b[1;32m     66\u001b[0m         \u001b[0;32mexcept\u001b[0m \u001b[0mException\u001b[0m \u001b[0;32mas\u001b[0m \u001b[0me\u001b[0m\u001b[0;34m:\u001b[0m\u001b[0;34m\u001b[0m\u001b[0;34m\u001b[0m\u001b[0m\n\u001b[1;32m     67\u001b[0m             \u001b[0mfiltered_tb\u001b[0m \u001b[0;34m=\u001b[0m \u001b[0m_process_traceback_frames\u001b[0m\u001b[0;34m(\u001b[0m\u001b[0me\u001b[0m\u001b[0;34m.\u001b[0m\u001b[0m__traceback__\u001b[0m\u001b[0;34m)\u001b[0m\u001b[0;34m\u001b[0m\u001b[0;34m\u001b[0m\u001b[0m\n",
            "\u001b[0;32m/usr/local/lib/python3.10/dist-packages/keras/src/engine/training.py\u001b[0m in \u001b[0;36mfit\u001b[0;34m(self, x, y, batch_size, epochs, verbose, callbacks, validation_split, validation_data, shuffle, class_weight, sample_weight, initial_epoch, steps_per_epoch, validation_steps, validation_batch_size, validation_freq, max_queue_size, workers, use_multiprocessing)\u001b[0m\n\u001b[1;32m   1805\u001b[0m                         ):\n\u001b[1;32m   1806\u001b[0m                             \u001b[0mcallbacks\u001b[0m\u001b[0;34m.\u001b[0m\u001b[0mon_train_batch_begin\u001b[0m\u001b[0;34m(\u001b[0m\u001b[0mstep\u001b[0m\u001b[0;34m)\u001b[0m\u001b[0;34m\u001b[0m\u001b[0;34m\u001b[0m\u001b[0m\n\u001b[0;32m-> 1807\u001b[0;31m                             \u001b[0mtmp_logs\u001b[0m \u001b[0;34m=\u001b[0m \u001b[0mself\u001b[0m\u001b[0;34m.\u001b[0m\u001b[0mtrain_function\u001b[0m\u001b[0;34m(\u001b[0m\u001b[0miterator\u001b[0m\u001b[0;34m)\u001b[0m\u001b[0;34m\u001b[0m\u001b[0;34m\u001b[0m\u001b[0m\n\u001b[0m\u001b[1;32m   1808\u001b[0m                             \u001b[0;32mif\u001b[0m \u001b[0mdata_handler\u001b[0m\u001b[0;34m.\u001b[0m\u001b[0mshould_sync\u001b[0m\u001b[0;34m:\u001b[0m\u001b[0;34m\u001b[0m\u001b[0;34m\u001b[0m\u001b[0m\n\u001b[1;32m   1809\u001b[0m                                 \u001b[0mcontext\u001b[0m\u001b[0;34m.\u001b[0m\u001b[0masync_wait\u001b[0m\u001b[0;34m(\u001b[0m\u001b[0;34m)\u001b[0m\u001b[0;34m\u001b[0m\u001b[0;34m\u001b[0m\u001b[0m\n",
            "\u001b[0;32m/usr/local/lib/python3.10/dist-packages/tensorflow/python/util/traceback_utils.py\u001b[0m in \u001b[0;36merror_handler\u001b[0;34m(*args, **kwargs)\u001b[0m\n\u001b[1;32m    148\u001b[0m     \u001b[0mfiltered_tb\u001b[0m \u001b[0;34m=\u001b[0m \u001b[0;32mNone\u001b[0m\u001b[0;34m\u001b[0m\u001b[0;34m\u001b[0m\u001b[0m\n\u001b[1;32m    149\u001b[0m     \u001b[0;32mtry\u001b[0m\u001b[0;34m:\u001b[0m\u001b[0;34m\u001b[0m\u001b[0;34m\u001b[0m\u001b[0m\n\u001b[0;32m--> 150\u001b[0;31m       \u001b[0;32mreturn\u001b[0m \u001b[0mfn\u001b[0m\u001b[0;34m(\u001b[0m\u001b[0;34m*\u001b[0m\u001b[0margs\u001b[0m\u001b[0;34m,\u001b[0m \u001b[0;34m**\u001b[0m\u001b[0mkwargs\u001b[0m\u001b[0;34m)\u001b[0m\u001b[0;34m\u001b[0m\u001b[0;34m\u001b[0m\u001b[0m\n\u001b[0m\u001b[1;32m    151\u001b[0m     \u001b[0;32mexcept\u001b[0m \u001b[0mException\u001b[0m \u001b[0;32mas\u001b[0m \u001b[0me\u001b[0m\u001b[0;34m:\u001b[0m\u001b[0;34m\u001b[0m\u001b[0;34m\u001b[0m\u001b[0m\n\u001b[1;32m    152\u001b[0m       \u001b[0mfiltered_tb\u001b[0m \u001b[0;34m=\u001b[0m \u001b[0m_process_traceback_frames\u001b[0m\u001b[0;34m(\u001b[0m\u001b[0me\u001b[0m\u001b[0;34m.\u001b[0m\u001b[0m__traceback__\u001b[0m\u001b[0;34m)\u001b[0m\u001b[0;34m\u001b[0m\u001b[0;34m\u001b[0m\u001b[0m\n",
            "\u001b[0;32m/usr/local/lib/python3.10/dist-packages/tensorflow/python/eager/polymorphic_function/polymorphic_function.py\u001b[0m in \u001b[0;36m__call__\u001b[0;34m(self, *args, **kwds)\u001b[0m\n\u001b[1;32m    830\u001b[0m \u001b[0;34m\u001b[0m\u001b[0m\n\u001b[1;32m    831\u001b[0m       \u001b[0;32mwith\u001b[0m \u001b[0mOptionalXlaContext\u001b[0m\u001b[0;34m(\u001b[0m\u001b[0mself\u001b[0m\u001b[0;34m.\u001b[0m\u001b[0m_jit_compile\u001b[0m\u001b[0;34m)\u001b[0m\u001b[0;34m:\u001b[0m\u001b[0;34m\u001b[0m\u001b[0;34m\u001b[0m\u001b[0m\n\u001b[0;32m--> 832\u001b[0;31m         \u001b[0mresult\u001b[0m \u001b[0;34m=\u001b[0m \u001b[0mself\u001b[0m\u001b[0;34m.\u001b[0m\u001b[0m_call\u001b[0m\u001b[0;34m(\u001b[0m\u001b[0;34m*\u001b[0m\u001b[0margs\u001b[0m\u001b[0;34m,\u001b[0m \u001b[0;34m**\u001b[0m\u001b[0mkwds\u001b[0m\u001b[0;34m)\u001b[0m\u001b[0;34m\u001b[0m\u001b[0;34m\u001b[0m\u001b[0m\n\u001b[0m\u001b[1;32m    833\u001b[0m \u001b[0;34m\u001b[0m\u001b[0m\n\u001b[1;32m    834\u001b[0m       \u001b[0mnew_tracing_count\u001b[0m \u001b[0;34m=\u001b[0m \u001b[0mself\u001b[0m\u001b[0;34m.\u001b[0m\u001b[0mexperimental_get_tracing_count\u001b[0m\u001b[0;34m(\u001b[0m\u001b[0;34m)\u001b[0m\u001b[0;34m\u001b[0m\u001b[0;34m\u001b[0m\u001b[0m\n",
            "\u001b[0;32m/usr/local/lib/python3.10/dist-packages/tensorflow/python/eager/polymorphic_function/polymorphic_function.py\u001b[0m in \u001b[0;36m_call\u001b[0;34m(self, *args, **kwds)\u001b[0m\n\u001b[1;32m    866\u001b[0m       \u001b[0;31m# In this case we have created variables on the first call, so we run the\u001b[0m\u001b[0;34m\u001b[0m\u001b[0;34m\u001b[0m\u001b[0m\n\u001b[1;32m    867\u001b[0m       \u001b[0;31m# defunned version which is guaranteed to never create variables.\u001b[0m\u001b[0;34m\u001b[0m\u001b[0;34m\u001b[0m\u001b[0m\n\u001b[0;32m--> 868\u001b[0;31m       return tracing_compilation.call_function(\n\u001b[0m\u001b[1;32m    869\u001b[0m           \u001b[0margs\u001b[0m\u001b[0;34m,\u001b[0m \u001b[0mkwds\u001b[0m\u001b[0;34m,\u001b[0m \u001b[0mself\u001b[0m\u001b[0;34m.\u001b[0m\u001b[0m_no_variable_creation_config\u001b[0m\u001b[0;34m\u001b[0m\u001b[0;34m\u001b[0m\u001b[0m\n\u001b[1;32m    870\u001b[0m       )\n",
            "\u001b[0;32m/usr/local/lib/python3.10/dist-packages/tensorflow/python/eager/polymorphic_function/tracing_compilation.py\u001b[0m in \u001b[0;36mcall_function\u001b[0;34m(args, kwargs, tracing_options)\u001b[0m\n\u001b[1;32m    137\u001b[0m   \u001b[0mbound_args\u001b[0m \u001b[0;34m=\u001b[0m \u001b[0mfunction\u001b[0m\u001b[0;34m.\u001b[0m\u001b[0mfunction_type\u001b[0m\u001b[0;34m.\u001b[0m\u001b[0mbind\u001b[0m\u001b[0;34m(\u001b[0m\u001b[0;34m*\u001b[0m\u001b[0margs\u001b[0m\u001b[0;34m,\u001b[0m \u001b[0;34m**\u001b[0m\u001b[0mkwargs\u001b[0m\u001b[0;34m)\u001b[0m\u001b[0;34m\u001b[0m\u001b[0;34m\u001b[0m\u001b[0m\n\u001b[1;32m    138\u001b[0m   \u001b[0mflat_inputs\u001b[0m \u001b[0;34m=\u001b[0m \u001b[0mfunction\u001b[0m\u001b[0;34m.\u001b[0m\u001b[0mfunction_type\u001b[0m\u001b[0;34m.\u001b[0m\u001b[0munpack_inputs\u001b[0m\u001b[0;34m(\u001b[0m\u001b[0mbound_args\u001b[0m\u001b[0;34m)\u001b[0m\u001b[0;34m\u001b[0m\u001b[0;34m\u001b[0m\u001b[0m\n\u001b[0;32m--> 139\u001b[0;31m   return function._call_flat(  # pylint: disable=protected-access\n\u001b[0m\u001b[1;32m    140\u001b[0m       \u001b[0mflat_inputs\u001b[0m\u001b[0;34m,\u001b[0m \u001b[0mcaptured_inputs\u001b[0m\u001b[0;34m=\u001b[0m\u001b[0mfunction\u001b[0m\u001b[0;34m.\u001b[0m\u001b[0mcaptured_inputs\u001b[0m\u001b[0;34m\u001b[0m\u001b[0;34m\u001b[0m\u001b[0m\n\u001b[1;32m    141\u001b[0m   )\n",
            "\u001b[0;32m/usr/local/lib/python3.10/dist-packages/tensorflow/python/eager/polymorphic_function/concrete_function.py\u001b[0m in \u001b[0;36m_call_flat\u001b[0;34m(self, tensor_inputs, captured_inputs)\u001b[0m\n\u001b[1;32m   1321\u001b[0m         and executing_eagerly):\n\u001b[1;32m   1322\u001b[0m       \u001b[0;31m# No tape is watching; skip to running the function.\u001b[0m\u001b[0;34m\u001b[0m\u001b[0;34m\u001b[0m\u001b[0m\n\u001b[0;32m-> 1323\u001b[0;31m       \u001b[0;32mreturn\u001b[0m \u001b[0mself\u001b[0m\u001b[0;34m.\u001b[0m\u001b[0m_inference_function\u001b[0m\u001b[0;34m.\u001b[0m\u001b[0mcall_preflattened\u001b[0m\u001b[0;34m(\u001b[0m\u001b[0margs\u001b[0m\u001b[0;34m)\u001b[0m\u001b[0;34m\u001b[0m\u001b[0;34m\u001b[0m\u001b[0m\n\u001b[0m\u001b[1;32m   1324\u001b[0m     forward_backward = self._select_forward_and_backward_functions(\n\u001b[1;32m   1325\u001b[0m         \u001b[0margs\u001b[0m\u001b[0;34m,\u001b[0m\u001b[0;34m\u001b[0m\u001b[0;34m\u001b[0m\u001b[0m\n",
            "\u001b[0;32m/usr/local/lib/python3.10/dist-packages/tensorflow/python/eager/polymorphic_function/atomic_function.py\u001b[0m in \u001b[0;36mcall_preflattened\u001b[0;34m(self, args)\u001b[0m\n\u001b[1;32m    214\u001b[0m   \u001b[0;32mdef\u001b[0m \u001b[0mcall_preflattened\u001b[0m\u001b[0;34m(\u001b[0m\u001b[0mself\u001b[0m\u001b[0;34m,\u001b[0m \u001b[0margs\u001b[0m\u001b[0;34m:\u001b[0m \u001b[0mSequence\u001b[0m\u001b[0;34m[\u001b[0m\u001b[0mcore\u001b[0m\u001b[0;34m.\u001b[0m\u001b[0mTensor\u001b[0m\u001b[0;34m]\u001b[0m\u001b[0;34m)\u001b[0m \u001b[0;34m->\u001b[0m \u001b[0mAny\u001b[0m\u001b[0;34m:\u001b[0m\u001b[0;34m\u001b[0m\u001b[0;34m\u001b[0m\u001b[0m\n\u001b[1;32m    215\u001b[0m     \u001b[0;34m\"\"\"Calls with flattened tensor inputs and returns the structured output.\"\"\"\u001b[0m\u001b[0;34m\u001b[0m\u001b[0;34m\u001b[0m\u001b[0m\n\u001b[0;32m--> 216\u001b[0;31m     \u001b[0mflat_outputs\u001b[0m \u001b[0;34m=\u001b[0m \u001b[0mself\u001b[0m\u001b[0;34m.\u001b[0m\u001b[0mcall_flat\u001b[0m\u001b[0;34m(\u001b[0m\u001b[0;34m*\u001b[0m\u001b[0margs\u001b[0m\u001b[0;34m)\u001b[0m\u001b[0;34m\u001b[0m\u001b[0;34m\u001b[0m\u001b[0m\n\u001b[0m\u001b[1;32m    217\u001b[0m     \u001b[0;32mreturn\u001b[0m \u001b[0mself\u001b[0m\u001b[0;34m.\u001b[0m\u001b[0mfunction_type\u001b[0m\u001b[0;34m.\u001b[0m\u001b[0mpack_output\u001b[0m\u001b[0;34m(\u001b[0m\u001b[0mflat_outputs\u001b[0m\u001b[0;34m)\u001b[0m\u001b[0;34m\u001b[0m\u001b[0;34m\u001b[0m\u001b[0m\n\u001b[1;32m    218\u001b[0m \u001b[0;34m\u001b[0m\u001b[0m\n",
            "\u001b[0;32m/usr/local/lib/python3.10/dist-packages/tensorflow/python/eager/polymorphic_function/atomic_function.py\u001b[0m in \u001b[0;36mcall_flat\u001b[0;34m(self, *args)\u001b[0m\n\u001b[1;32m    249\u001b[0m         \u001b[0;32mwith\u001b[0m \u001b[0mrecord\u001b[0m\u001b[0;34m.\u001b[0m\u001b[0mstop_recording\u001b[0m\u001b[0;34m(\u001b[0m\u001b[0;34m)\u001b[0m\u001b[0;34m:\u001b[0m\u001b[0;34m\u001b[0m\u001b[0;34m\u001b[0m\u001b[0m\n\u001b[1;32m    250\u001b[0m           \u001b[0;32mif\u001b[0m \u001b[0mself\u001b[0m\u001b[0;34m.\u001b[0m\u001b[0m_bound_context\u001b[0m\u001b[0;34m.\u001b[0m\u001b[0mexecuting_eagerly\u001b[0m\u001b[0;34m(\u001b[0m\u001b[0;34m)\u001b[0m\u001b[0;34m:\u001b[0m\u001b[0;34m\u001b[0m\u001b[0;34m\u001b[0m\u001b[0m\n\u001b[0;32m--> 251\u001b[0;31m             outputs = self._bound_context.call_function(\n\u001b[0m\u001b[1;32m    252\u001b[0m                 \u001b[0mself\u001b[0m\u001b[0;34m.\u001b[0m\u001b[0mname\u001b[0m\u001b[0;34m,\u001b[0m\u001b[0;34m\u001b[0m\u001b[0;34m\u001b[0m\u001b[0m\n\u001b[1;32m    253\u001b[0m                 \u001b[0mlist\u001b[0m\u001b[0;34m(\u001b[0m\u001b[0margs\u001b[0m\u001b[0;34m)\u001b[0m\u001b[0;34m,\u001b[0m\u001b[0;34m\u001b[0m\u001b[0;34m\u001b[0m\u001b[0m\n",
            "\u001b[0;32m/usr/local/lib/python3.10/dist-packages/tensorflow/python/eager/context.py\u001b[0m in \u001b[0;36mcall_function\u001b[0;34m(self, name, tensor_inputs, num_outputs)\u001b[0m\n\u001b[1;32m   1484\u001b[0m     \u001b[0mcancellation_context\u001b[0m \u001b[0;34m=\u001b[0m \u001b[0mcancellation\u001b[0m\u001b[0;34m.\u001b[0m\u001b[0mcontext\u001b[0m\u001b[0;34m(\u001b[0m\u001b[0;34m)\u001b[0m\u001b[0;34m\u001b[0m\u001b[0;34m\u001b[0m\u001b[0m\n\u001b[1;32m   1485\u001b[0m     \u001b[0;32mif\u001b[0m \u001b[0mcancellation_context\u001b[0m \u001b[0;32mis\u001b[0m \u001b[0;32mNone\u001b[0m\u001b[0;34m:\u001b[0m\u001b[0;34m\u001b[0m\u001b[0;34m\u001b[0m\u001b[0m\n\u001b[0;32m-> 1486\u001b[0;31m       outputs = execute.execute(\n\u001b[0m\u001b[1;32m   1487\u001b[0m           \u001b[0mname\u001b[0m\u001b[0;34m.\u001b[0m\u001b[0mdecode\u001b[0m\u001b[0;34m(\u001b[0m\u001b[0;34m\"utf-8\"\u001b[0m\u001b[0;34m)\u001b[0m\u001b[0;34m,\u001b[0m\u001b[0;34m\u001b[0m\u001b[0;34m\u001b[0m\u001b[0m\n\u001b[1;32m   1488\u001b[0m           \u001b[0mnum_outputs\u001b[0m\u001b[0;34m=\u001b[0m\u001b[0mnum_outputs\u001b[0m\u001b[0;34m,\u001b[0m\u001b[0;34m\u001b[0m\u001b[0;34m\u001b[0m\u001b[0m\n",
            "\u001b[0;32m/usr/local/lib/python3.10/dist-packages/tensorflow/python/eager/execute.py\u001b[0m in \u001b[0;36mquick_execute\u001b[0;34m(op_name, num_outputs, inputs, attrs, ctx, name)\u001b[0m\n\u001b[1;32m     51\u001b[0m   \u001b[0;32mtry\u001b[0m\u001b[0;34m:\u001b[0m\u001b[0;34m\u001b[0m\u001b[0;34m\u001b[0m\u001b[0m\n\u001b[1;32m     52\u001b[0m     \u001b[0mctx\u001b[0m\u001b[0;34m.\u001b[0m\u001b[0mensure_initialized\u001b[0m\u001b[0;34m(\u001b[0m\u001b[0;34m)\u001b[0m\u001b[0;34m\u001b[0m\u001b[0;34m\u001b[0m\u001b[0m\n\u001b[0;32m---> 53\u001b[0;31m     tensors = pywrap_tfe.TFE_Py_Execute(ctx._handle, device_name, op_name,\n\u001b[0m\u001b[1;32m     54\u001b[0m                                         inputs, attrs, num_outputs)\n\u001b[1;32m     55\u001b[0m   \u001b[0;32mexcept\u001b[0m \u001b[0mcore\u001b[0m\u001b[0;34m.\u001b[0m\u001b[0m_NotOkStatusException\u001b[0m \u001b[0;32mas\u001b[0m \u001b[0me\u001b[0m\u001b[0;34m:\u001b[0m\u001b[0;34m\u001b[0m\u001b[0;34m\u001b[0m\u001b[0m\n",
            "\u001b[0;31mKeyboardInterrupt\u001b[0m: "
          ]
        }
      ]
    },
    {
      "cell_type": "markdown",
      "source": [
        "# gridSearch로 최적의 파라미터 찾기"
      ],
      "metadata": {
        "id": "NleLrOiCo4AZ"
      }
    },
    {
      "cell_type": "code",
      "source": [
        "!pip install tensorflow-addons"
      ],
      "metadata": {
        "colab": {
          "base_uri": "https://localhost:8080/"
        },
        "id": "M8c1QDXIqZZ1",
        "outputId": "1554fd64-08c8-4d0e-a071-377e6f2f1e98"
      },
      "execution_count": 49,
      "outputs": [
        {
          "output_type": "stream",
          "name": "stdout",
          "text": [
            "Collecting tensorflow-addons\n",
            "  Downloading tensorflow_addons-0.23.0-cp310-cp310-manylinux_2_17_x86_64.manylinux2014_x86_64.whl (611 kB)\n",
            "\u001b[?25l     \u001b[90m━━━━━━━━━━━━━━━━━━━━━━━━━━━━━━━━━━━━━━━━\u001b[0m \u001b[32m0.0/611.8 kB\u001b[0m \u001b[31m?\u001b[0m eta \u001b[36m-:--:--\u001b[0m\r\u001b[2K     \u001b[91m━━━━━━━━━━━━━━━━━━━━━━\u001b[0m\u001b[91m╸\u001b[0m\u001b[90m━━━━━━━━━━━━━━━━━\u001b[0m \u001b[32m348.2/611.8 kB\u001b[0m \u001b[31m10.4 MB/s\u001b[0m eta \u001b[36m0:00:01\u001b[0m\r\u001b[2K     \u001b[90m━━━━━━━━━━━━━━━━━━━━━━━━━━━━━━━━━━━━━━━━\u001b[0m \u001b[32m611.8/611.8 kB\u001b[0m \u001b[31m10.3 MB/s\u001b[0m eta \u001b[36m0:00:00\u001b[0m\n",
            "\u001b[?25hRequirement already satisfied: packaging in /usr/local/lib/python3.10/dist-packages (from tensorflow-addons) (24.0)\n",
            "Collecting typeguard<3.0.0,>=2.7 (from tensorflow-addons)\n",
            "  Downloading typeguard-2.13.3-py3-none-any.whl (17 kB)\n",
            "Installing collected packages: typeguard, tensorflow-addons\n",
            "Successfully installed tensorflow-addons-0.23.0 typeguard-2.13.3\n"
          ]
        }
      ]
    },
    {
      "cell_type": "code",
      "source": [
        "# 모델 저장\n",
        "model.save('model0426_2311.h5')"
      ],
      "metadata": {
        "id": "lRyPqI4v2SJe"
      },
      "execution_count": null,
      "outputs": []
    },
    {
      "cell_type": "code",
      "source": [
        "# user_id==11의 평점이 0인데이터, 그린까 아직 평점을 매기지 않은 장소 구하기\n",
        "unrated_places = pivot_table.loc[11].loc[pivot_table.loc[11] == 0].index\n",
        "from tensorflow.keras.models import load_model\n",
        "\n",
        "# 모델 불러오기\n",
        "model = load_model('model0425_2200.h5')\n",
        "\n",
        "df2 = df.copy()\n",
        "\n",
        "# 모델 예측\n",
        "predictions = model.predict([df2['user_id'], df2['place_id']])\n",
        "\n",
        "# 예측 평점 출력\n",
        "print(predictions)\n",
        "\n",
        "# df2에 'predict_rating' 컬럼추가하기\n",
        "df2['predict_rating'] = predictions"
      ],
      "metadata": {
        "colab": {
          "base_uri": "https://localhost:8080/",
          "height": 386
        },
        "id": "amB_jEZX2VLA",
        "outputId": "26705219-9f55-4ca9-8774-fbf9c52616d9"
      },
      "execution_count": null,
      "outputs": [
        {
          "output_type": "stream",
          "name": "stdout",
          "text": [
            "51969/51969 [==============================] - 100s 2ms/step\n"
          ]
        },
        {
          "output_type": "error",
          "ename": "KeyboardInterrupt",
          "evalue": "",
          "traceback": [
            "\u001b[0;31m---------------------------------------------------------------------------\u001b[0m",
            "\u001b[0;31mKeyboardInterrupt\u001b[0m                         Traceback (most recent call last)",
            "\u001b[0;32m<ipython-input-15-247943104401>\u001b[0m in \u001b[0;36m<cell line: 11>\u001b[0;34m()\u001b[0m\n\u001b[1;32m      9\u001b[0m \u001b[0;34m\u001b[0m\u001b[0m\n\u001b[1;32m     10\u001b[0m \u001b[0;31m# 모델 예측\u001b[0m\u001b[0;34m\u001b[0m\u001b[0;34m\u001b[0m\u001b[0m\n\u001b[0;32m---> 11\u001b[0;31m \u001b[0mpredictions\u001b[0m \u001b[0;34m=\u001b[0m \u001b[0mmodel\u001b[0m\u001b[0;34m.\u001b[0m\u001b[0mpredict\u001b[0m\u001b[0;34m(\u001b[0m\u001b[0;34m[\u001b[0m\u001b[0mdf2\u001b[0m\u001b[0;34m[\u001b[0m\u001b[0;34m'user_id'\u001b[0m\u001b[0;34m]\u001b[0m\u001b[0;34m,\u001b[0m \u001b[0mdf2\u001b[0m\u001b[0;34m[\u001b[0m\u001b[0;34m'place_id'\u001b[0m\u001b[0;34m]\u001b[0m\u001b[0;34m]\u001b[0m\u001b[0;34m)\u001b[0m\u001b[0;34m\u001b[0m\u001b[0;34m\u001b[0m\u001b[0m\n\u001b[0m\u001b[1;32m     12\u001b[0m \u001b[0;34m\u001b[0m\u001b[0m\n\u001b[1;32m     13\u001b[0m \u001b[0;31m# 예측 평점 출력\u001b[0m\u001b[0;34m\u001b[0m\u001b[0;34m\u001b[0m\u001b[0m\n",
            "\u001b[0;32m/usr/local/lib/python3.10/dist-packages/keras/src/utils/traceback_utils.py\u001b[0m in \u001b[0;36merror_handler\u001b[0;34m(*args, **kwargs)\u001b[0m\n\u001b[1;32m     63\u001b[0m         \u001b[0mfiltered_tb\u001b[0m \u001b[0;34m=\u001b[0m \u001b[0;32mNone\u001b[0m\u001b[0;34m\u001b[0m\u001b[0;34m\u001b[0m\u001b[0m\n\u001b[1;32m     64\u001b[0m         \u001b[0;32mtry\u001b[0m\u001b[0;34m:\u001b[0m\u001b[0;34m\u001b[0m\u001b[0;34m\u001b[0m\u001b[0m\n\u001b[0;32m---> 65\u001b[0;31m             \u001b[0;32mreturn\u001b[0m \u001b[0mfn\u001b[0m\u001b[0;34m(\u001b[0m\u001b[0;34m*\u001b[0m\u001b[0margs\u001b[0m\u001b[0;34m,\u001b[0m \u001b[0;34m**\u001b[0m\u001b[0mkwargs\u001b[0m\u001b[0;34m)\u001b[0m\u001b[0;34m\u001b[0m\u001b[0;34m\u001b[0m\u001b[0m\n\u001b[0m\u001b[1;32m     66\u001b[0m         \u001b[0;32mexcept\u001b[0m \u001b[0mException\u001b[0m \u001b[0;32mas\u001b[0m \u001b[0me\u001b[0m\u001b[0;34m:\u001b[0m\u001b[0;34m\u001b[0m\u001b[0;34m\u001b[0m\u001b[0m\n\u001b[1;32m     67\u001b[0m             \u001b[0mfiltered_tb\u001b[0m \u001b[0;34m=\u001b[0m \u001b[0m_process_traceback_frames\u001b[0m\u001b[0;34m(\u001b[0m\u001b[0me\u001b[0m\u001b[0;34m.\u001b[0m\u001b[0m__traceback__\u001b[0m\u001b[0;34m)\u001b[0m\u001b[0;34m\u001b[0m\u001b[0;34m\u001b[0m\u001b[0m\n",
            "\u001b[0;32m/usr/local/lib/python3.10/dist-packages/keras/src/engine/training.py\u001b[0m in \u001b[0;36mpredict\u001b[0;34m(self, x, batch_size, verbose, steps, callbacks, max_queue_size, workers, use_multiprocessing)\u001b[0m\n\u001b[1;32m   2689\u001b[0m                 \u001b[0mself\u001b[0m\u001b[0;34m.\u001b[0m\u001b[0m_steps_per_execution_tuner\u001b[0m\u001b[0;34m.\u001b[0m\u001b[0mstop\u001b[0m\u001b[0;34m(\u001b[0m\u001b[0;34m)\u001b[0m\u001b[0;34m\u001b[0m\u001b[0;34m\u001b[0m\u001b[0m\n\u001b[1;32m   2690\u001b[0m             \u001b[0mcallbacks\u001b[0m\u001b[0;34m.\u001b[0m\u001b[0mon_predict_end\u001b[0m\u001b[0;34m(\u001b[0m\u001b[0;34m)\u001b[0m\u001b[0;34m\u001b[0m\u001b[0;34m\u001b[0m\u001b[0m\n\u001b[0;32m-> 2691\u001b[0;31m         all_outputs = tf.__internal__.nest.map_structure_up_to(\n\u001b[0m\u001b[1;32m   2692\u001b[0m             \u001b[0mbatch_outputs\u001b[0m\u001b[0;34m,\u001b[0m \u001b[0mpotentially_ragged_concat\u001b[0m\u001b[0;34m,\u001b[0m \u001b[0moutputs\u001b[0m\u001b[0;34m\u001b[0m\u001b[0;34m\u001b[0m\u001b[0m\n\u001b[1;32m   2693\u001b[0m         )\n",
            "\u001b[0;32m/usr/local/lib/python3.10/dist-packages/tensorflow/python/util/nest.py\u001b[0m in \u001b[0;36mmap_structure_up_to\u001b[0;34m(shallow_tree, func, *inputs, **kwargs)\u001b[0m\n\u001b[1;32m   1035\u001b[0m     \u001b[0;31m`\u001b[0m\u001b[0mshallow_tree\u001b[0m\u001b[0;31m`\u001b[0m\u001b[0;34m.\u001b[0m\u001b[0;34m\u001b[0m\u001b[0;34m\u001b[0m\u001b[0m\n\u001b[1;32m   1036\u001b[0m   \"\"\"\n\u001b[0;32m-> 1037\u001b[0;31m   return nest_util.map_structure_up_to(\n\u001b[0m\u001b[1;32m   1038\u001b[0m       \u001b[0mnest_util\u001b[0m\u001b[0;34m.\u001b[0m\u001b[0mModality\u001b[0m\u001b[0;34m.\u001b[0m\u001b[0mCORE\u001b[0m\u001b[0;34m,\u001b[0m\u001b[0;34m\u001b[0m\u001b[0;34m\u001b[0m\u001b[0m\n\u001b[1;32m   1039\u001b[0m       \u001b[0mshallow_tree\u001b[0m\u001b[0;34m,\u001b[0m\u001b[0;34m\u001b[0m\u001b[0;34m\u001b[0m\u001b[0m\n",
            "\u001b[0;32m/usr/local/lib/python3.10/dist-packages/tensorflow/python/util/nest_util.py\u001b[0m in \u001b[0;36mmap_structure_up_to\u001b[0;34m(modality, shallow_tree, func, *inputs, **kwargs)\u001b[0m\n\u001b[1;32m   1648\u001b[0m   \"\"\"\n\u001b[1;32m   1649\u001b[0m   \u001b[0;32mif\u001b[0m \u001b[0mmodality\u001b[0m \u001b[0;34m==\u001b[0m \u001b[0mModality\u001b[0m\u001b[0;34m.\u001b[0m\u001b[0mCORE\u001b[0m\u001b[0;34m:\u001b[0m\u001b[0;34m\u001b[0m\u001b[0;34m\u001b[0m\u001b[0m\n\u001b[0;32m-> 1650\u001b[0;31m     return _tf_core_map_structure_with_tuple_paths_up_to(\n\u001b[0m\u001b[1;32m   1651\u001b[0m         \u001b[0mshallow_tree\u001b[0m\u001b[0;34m,\u001b[0m \u001b[0mfunc\u001b[0m\u001b[0;34m,\u001b[0m \u001b[0;34m*\u001b[0m\u001b[0minputs\u001b[0m\u001b[0;34m,\u001b[0m \u001b[0;34m**\u001b[0m\u001b[0mkwargs\u001b[0m\u001b[0;34m\u001b[0m\u001b[0;34m\u001b[0m\u001b[0m\n\u001b[1;32m   1652\u001b[0m     )\n",
            "\u001b[0;32m/usr/local/lib/python3.10/dist-packages/tensorflow/python/util/nest_util.py\u001b[0m in \u001b[0;36m_tf_core_map_structure_with_tuple_paths_up_to\u001b[0;34m(shallow_tree, func, *inputs, **kwargs)\u001b[0m\n\u001b[1;32m   1697\u001b[0m       )\n\u001b[1;32m   1698\u001b[0m   )\n\u001b[0;32m-> 1699\u001b[0;31m   results = [\n\u001b[0m\u001b[1;32m   1700\u001b[0m       \u001b[0mfunc\u001b[0m\u001b[0;34m(\u001b[0m\u001b[0;34m*\u001b[0m\u001b[0margs\u001b[0m\u001b[0;34m,\u001b[0m \u001b[0;34m**\u001b[0m\u001b[0mkwargs\u001b[0m\u001b[0;34m)\u001b[0m \u001b[0;32mfor\u001b[0m \u001b[0margs\u001b[0m \u001b[0;32min\u001b[0m \u001b[0mzip\u001b[0m\u001b[0;34m(\u001b[0m\u001b[0mflat_path_gen\u001b[0m\u001b[0;34m,\u001b[0m \u001b[0;34m*\u001b[0m\u001b[0mflat_value_gen\u001b[0m\u001b[0;34m)\u001b[0m\u001b[0;34m\u001b[0m\u001b[0;34m\u001b[0m\u001b[0m\n\u001b[1;32m   1701\u001b[0m   ]\n",
            "\u001b[0;32m/usr/local/lib/python3.10/dist-packages/tensorflow/python/util/nest_util.py\u001b[0m in \u001b[0;36m<listcomp>\u001b[0;34m(.0)\u001b[0m\n\u001b[1;32m   1698\u001b[0m   )\n\u001b[1;32m   1699\u001b[0m   results = [\n\u001b[0;32m-> 1700\u001b[0;31m       \u001b[0mfunc\u001b[0m\u001b[0;34m(\u001b[0m\u001b[0;34m*\u001b[0m\u001b[0margs\u001b[0m\u001b[0;34m,\u001b[0m \u001b[0;34m**\u001b[0m\u001b[0mkwargs\u001b[0m\u001b[0;34m)\u001b[0m \u001b[0;32mfor\u001b[0m \u001b[0margs\u001b[0m \u001b[0;32min\u001b[0m \u001b[0mzip\u001b[0m\u001b[0;34m(\u001b[0m\u001b[0mflat_path_gen\u001b[0m\u001b[0;34m,\u001b[0m \u001b[0;34m*\u001b[0m\u001b[0mflat_value_gen\u001b[0m\u001b[0;34m)\u001b[0m\u001b[0;34m\u001b[0m\u001b[0;34m\u001b[0m\u001b[0m\n\u001b[0m\u001b[1;32m   1701\u001b[0m   ]\n\u001b[1;32m   1702\u001b[0m   return _tf_core_pack_sequence_as(\n",
            "\u001b[0;32m/usr/local/lib/python3.10/dist-packages/tensorflow/python/util/nest.py\u001b[0m in \u001b[0;36m<lambda>\u001b[0;34m(_, *values)\u001b[0m\n\u001b[1;32m   1038\u001b[0m       \u001b[0mnest_util\u001b[0m\u001b[0;34m.\u001b[0m\u001b[0mModality\u001b[0m\u001b[0;34m.\u001b[0m\u001b[0mCORE\u001b[0m\u001b[0;34m,\u001b[0m\u001b[0;34m\u001b[0m\u001b[0;34m\u001b[0m\u001b[0m\n\u001b[1;32m   1039\u001b[0m       \u001b[0mshallow_tree\u001b[0m\u001b[0;34m,\u001b[0m\u001b[0;34m\u001b[0m\u001b[0;34m\u001b[0m\u001b[0m\n\u001b[0;32m-> 1040\u001b[0;31m       \u001b[0;32mlambda\u001b[0m \u001b[0m_\u001b[0m\u001b[0;34m,\u001b[0m \u001b[0;34m*\u001b[0m\u001b[0mvalues\u001b[0m\u001b[0;34m:\u001b[0m \u001b[0mfunc\u001b[0m\u001b[0;34m(\u001b[0m\u001b[0;34m*\u001b[0m\u001b[0mvalues\u001b[0m\u001b[0;34m)\u001b[0m\u001b[0;34m,\u001b[0m  \u001b[0;31m# Discards the path arg.\u001b[0m\u001b[0;34m\u001b[0m\u001b[0;34m\u001b[0m\u001b[0m\n\u001b[0m\u001b[1;32m   1041\u001b[0m       \u001b[0;34m*\u001b[0m\u001b[0minputs\u001b[0m\u001b[0;34m,\u001b[0m\u001b[0;34m\u001b[0m\u001b[0;34m\u001b[0m\u001b[0m\n\u001b[1;32m   1042\u001b[0m       \u001b[0;34m**\u001b[0m\u001b[0mkwargs\u001b[0m\u001b[0;34m,\u001b[0m\u001b[0;34m\u001b[0m\u001b[0;34m\u001b[0m\u001b[0m\n",
            "\u001b[0;32m/usr/local/lib/python3.10/dist-packages/keras/src/engine/training.py\u001b[0m in \u001b[0;36mpotentially_ragged_concat\u001b[0;34m(tensors)\u001b[0m\n\u001b[1;32m   4246\u001b[0m         \u001b[0;32mreturn\u001b[0m \u001b[0mtf\u001b[0m\u001b[0;34m.\u001b[0m\u001b[0mconcat\u001b[0m\u001b[0;34m(\u001b[0m\u001b[0mtensors\u001b[0m\u001b[0;34m,\u001b[0m \u001b[0maxis\u001b[0m\u001b[0;34m=\u001b[0m\u001b[0;36m0\u001b[0m\u001b[0;34m)\u001b[0m\u001b[0;34m\u001b[0m\u001b[0;34m\u001b[0m\u001b[0m\n\u001b[1;32m   4247\u001b[0m \u001b[0;34m\u001b[0m\u001b[0m\n\u001b[0;32m-> 4248\u001b[0;31m     \u001b[0mnon_batch_shapes\u001b[0m \u001b[0;34m=\u001b[0m \u001b[0mtf\u001b[0m\u001b[0;34m.\u001b[0m\u001b[0mstack\u001b[0m\u001b[0;34m(\u001b[0m\u001b[0;34m[\u001b[0m\u001b[0mtf\u001b[0m\u001b[0;34m.\u001b[0m\u001b[0mshape\u001b[0m\u001b[0;34m(\u001b[0m\u001b[0mtensor\u001b[0m\u001b[0;34m)\u001b[0m\u001b[0;34m[\u001b[0m\u001b[0;36m1\u001b[0m\u001b[0;34m:\u001b[0m\u001b[0;34m]\u001b[0m \u001b[0;32mfor\u001b[0m \u001b[0mtensor\u001b[0m \u001b[0;32min\u001b[0m \u001b[0mtensors\u001b[0m\u001b[0;34m]\u001b[0m\u001b[0;34m)\u001b[0m\u001b[0;34m\u001b[0m\u001b[0;34m\u001b[0m\u001b[0m\n\u001b[0m\u001b[1;32m   4249\u001b[0m     constant_dims = tf.math.reduce_all(\n\u001b[1;32m   4250\u001b[0m         \u001b[0mnon_batch_shapes\u001b[0m \u001b[0;34m==\u001b[0m \u001b[0mnon_batch_shapes\u001b[0m\u001b[0;34m[\u001b[0m\u001b[0;34m:\u001b[0m\u001b[0;36m1\u001b[0m\u001b[0;34m]\u001b[0m\u001b[0;34m,\u001b[0m \u001b[0maxis\u001b[0m\u001b[0;34m=\u001b[0m\u001b[0;36m0\u001b[0m\u001b[0;34m\u001b[0m\u001b[0;34m\u001b[0m\u001b[0m\n",
            "\u001b[0;32m/usr/local/lib/python3.10/dist-packages/keras/src/engine/training.py\u001b[0m in \u001b[0;36m<listcomp>\u001b[0;34m(.0)\u001b[0m\n\u001b[1;32m   4246\u001b[0m         \u001b[0;32mreturn\u001b[0m \u001b[0mtf\u001b[0m\u001b[0;34m.\u001b[0m\u001b[0mconcat\u001b[0m\u001b[0;34m(\u001b[0m\u001b[0mtensors\u001b[0m\u001b[0;34m,\u001b[0m \u001b[0maxis\u001b[0m\u001b[0;34m=\u001b[0m\u001b[0;36m0\u001b[0m\u001b[0;34m)\u001b[0m\u001b[0;34m\u001b[0m\u001b[0;34m\u001b[0m\u001b[0m\n\u001b[1;32m   4247\u001b[0m \u001b[0;34m\u001b[0m\u001b[0m\n\u001b[0;32m-> 4248\u001b[0;31m     \u001b[0mnon_batch_shapes\u001b[0m \u001b[0;34m=\u001b[0m \u001b[0mtf\u001b[0m\u001b[0;34m.\u001b[0m\u001b[0mstack\u001b[0m\u001b[0;34m(\u001b[0m\u001b[0;34m[\u001b[0m\u001b[0mtf\u001b[0m\u001b[0;34m.\u001b[0m\u001b[0mshape\u001b[0m\u001b[0;34m(\u001b[0m\u001b[0mtensor\u001b[0m\u001b[0;34m)\u001b[0m\u001b[0;34m[\u001b[0m\u001b[0;36m1\u001b[0m\u001b[0;34m:\u001b[0m\u001b[0;34m]\u001b[0m \u001b[0;32mfor\u001b[0m \u001b[0mtensor\u001b[0m \u001b[0;32min\u001b[0m \u001b[0mtensors\u001b[0m\u001b[0;34m]\u001b[0m\u001b[0;34m)\u001b[0m\u001b[0;34m\u001b[0m\u001b[0;34m\u001b[0m\u001b[0m\n\u001b[0m\u001b[1;32m   4249\u001b[0m     constant_dims = tf.math.reduce_all(\n\u001b[1;32m   4250\u001b[0m         \u001b[0mnon_batch_shapes\u001b[0m \u001b[0;34m==\u001b[0m \u001b[0mnon_batch_shapes\u001b[0m\u001b[0;34m[\u001b[0m\u001b[0;34m:\u001b[0m\u001b[0;36m1\u001b[0m\u001b[0;34m]\u001b[0m\u001b[0;34m,\u001b[0m \u001b[0maxis\u001b[0m\u001b[0;34m=\u001b[0m\u001b[0;36m0\u001b[0m\u001b[0;34m\u001b[0m\u001b[0;34m\u001b[0m\u001b[0m\n",
            "\u001b[0;32m/usr/local/lib/python3.10/dist-packages/tensorflow/python/util/traceback_utils.py\u001b[0m in \u001b[0;36merror_handler\u001b[0;34m(*args, **kwargs)\u001b[0m\n\u001b[1;32m    148\u001b[0m     \u001b[0mfiltered_tb\u001b[0m \u001b[0;34m=\u001b[0m \u001b[0;32mNone\u001b[0m\u001b[0;34m\u001b[0m\u001b[0;34m\u001b[0m\u001b[0m\n\u001b[1;32m    149\u001b[0m     \u001b[0;32mtry\u001b[0m\u001b[0;34m:\u001b[0m\u001b[0;34m\u001b[0m\u001b[0;34m\u001b[0m\u001b[0m\n\u001b[0;32m--> 150\u001b[0;31m       \u001b[0;32mreturn\u001b[0m \u001b[0mfn\u001b[0m\u001b[0;34m(\u001b[0m\u001b[0;34m*\u001b[0m\u001b[0margs\u001b[0m\u001b[0;34m,\u001b[0m \u001b[0;34m**\u001b[0m\u001b[0mkwargs\u001b[0m\u001b[0;34m)\u001b[0m\u001b[0;34m\u001b[0m\u001b[0;34m\u001b[0m\u001b[0m\n\u001b[0m\u001b[1;32m    151\u001b[0m     \u001b[0;32mexcept\u001b[0m \u001b[0mException\u001b[0m \u001b[0;32mas\u001b[0m \u001b[0me\u001b[0m\u001b[0;34m:\u001b[0m\u001b[0;34m\u001b[0m\u001b[0;34m\u001b[0m\u001b[0m\n\u001b[1;32m    152\u001b[0m       \u001b[0mfiltered_tb\u001b[0m \u001b[0;34m=\u001b[0m \u001b[0m_process_traceback_frames\u001b[0m\u001b[0;34m(\u001b[0m\u001b[0me\u001b[0m\u001b[0;34m.\u001b[0m\u001b[0m__traceback__\u001b[0m\u001b[0;34m)\u001b[0m\u001b[0;34m\u001b[0m\u001b[0;34m\u001b[0m\u001b[0m\n",
            "\u001b[0;32m/usr/local/lib/python3.10/dist-packages/tensorflow/python/util/dispatch.py\u001b[0m in \u001b[0;36mop_dispatch_handler\u001b[0;34m(*args, **kwargs)\u001b[0m\n\u001b[1;32m   1258\u001b[0m       \u001b[0;31m# Fallback dispatch system (dispatch v1):\u001b[0m\u001b[0;34m\u001b[0m\u001b[0;34m\u001b[0m\u001b[0m\n\u001b[1;32m   1259\u001b[0m       \u001b[0;32mtry\u001b[0m\u001b[0;34m:\u001b[0m\u001b[0;34m\u001b[0m\u001b[0;34m\u001b[0m\u001b[0m\n\u001b[0;32m-> 1260\u001b[0;31m         \u001b[0;32mreturn\u001b[0m \u001b[0mdispatch_target\u001b[0m\u001b[0;34m(\u001b[0m\u001b[0;34m*\u001b[0m\u001b[0margs\u001b[0m\u001b[0;34m,\u001b[0m \u001b[0;34m**\u001b[0m\u001b[0mkwargs\u001b[0m\u001b[0;34m)\u001b[0m\u001b[0;34m\u001b[0m\u001b[0;34m\u001b[0m\u001b[0m\n\u001b[0m\u001b[1;32m   1261\u001b[0m       \u001b[0;32mexcept\u001b[0m \u001b[0;34m(\u001b[0m\u001b[0mTypeError\u001b[0m\u001b[0;34m,\u001b[0m \u001b[0mValueError\u001b[0m\u001b[0;34m)\u001b[0m\u001b[0;34m:\u001b[0m\u001b[0;34m\u001b[0m\u001b[0;34m\u001b[0m\u001b[0m\n\u001b[1;32m   1262\u001b[0m         \u001b[0;31m# Note: convert_to_eager_tensor currently raises a ValueError, not a\u001b[0m\u001b[0;34m\u001b[0m\u001b[0;34m\u001b[0m\u001b[0m\n",
            "\u001b[0;32m/usr/local/lib/python3.10/dist-packages/tensorflow/python/ops/array_ops.py\u001b[0m in \u001b[0;36m_slice_helper\u001b[0;34m(tensor, slice_spec, var)\u001b[0m\n\u001b[1;32m   1036\u001b[0m       \u001b[0mtf\u001b[0m\u001b[0;34m.\u001b[0m\u001b[0mnewaxis\u001b[0m \u001b[0;32mor\u001b[0m \u001b[0mscalar\u001b[0m \u001b[0mint32\u001b[0m\u001b[0;34m/\u001b[0m\u001b[0mint64\u001b[0m \u001b[0mtensors\u001b[0m\u001b[0;34m.\u001b[0m\u001b[0;34m\u001b[0m\u001b[0;34m\u001b[0m\u001b[0m\n\u001b[1;32m   1037\u001b[0m   \"\"\"\n\u001b[0;32m-> 1038\u001b[0;31m   \u001b[0mtensor\u001b[0m \u001b[0;34m=\u001b[0m \u001b[0mops\u001b[0m\u001b[0;34m.\u001b[0m\u001b[0mconvert_to_tensor\u001b[0m\u001b[0;34m(\u001b[0m\u001b[0mtensor\u001b[0m\u001b[0;34m)\u001b[0m\u001b[0;34m\u001b[0m\u001b[0;34m\u001b[0m\u001b[0m\n\u001b[0m\u001b[1;32m   1039\u001b[0m   \u001b[0;31m# TODO(wangpeng): Consider supporting var\u001b[0m\u001b[0;34m\u001b[0m\u001b[0;34m\u001b[0m\u001b[0m\n\u001b[1;32m   1040\u001b[0m   \u001b[0;32mif\u001b[0m \u001b[0mvar\u001b[0m \u001b[0;32mis\u001b[0m \u001b[0;32mNone\u001b[0m \u001b[0;32mand\u001b[0m \u001b[0mops\u001b[0m\u001b[0;34m.\u001b[0m\u001b[0m_numpy_style_slicing\u001b[0m\u001b[0;34m:\u001b[0m  \u001b[0;31m# pylint: disable=protected-access\u001b[0m\u001b[0;34m\u001b[0m\u001b[0;34m\u001b[0m\u001b[0m\n",
            "\u001b[0;32m/usr/local/lib/python3.10/dist-packages/tensorflow/python/profiler/trace.py\u001b[0m in \u001b[0;36mwrapped\u001b[0;34m(*args, **kwargs)\u001b[0m\n\u001b[1;32m    178\u001b[0m     \u001b[0;34m@\u001b[0m\u001b[0mfunctools\u001b[0m\u001b[0;34m.\u001b[0m\u001b[0mwraps\u001b[0m\u001b[0;34m(\u001b[0m\u001b[0mfunc\u001b[0m\u001b[0;34m)\u001b[0m\u001b[0;34m\u001b[0m\u001b[0;34m\u001b[0m\u001b[0m\n\u001b[1;32m    179\u001b[0m     \u001b[0;32mdef\u001b[0m \u001b[0mwrapped\u001b[0m\u001b[0;34m(\u001b[0m\u001b[0;34m*\u001b[0m\u001b[0margs\u001b[0m\u001b[0;34m,\u001b[0m \u001b[0;34m**\u001b[0m\u001b[0mkwargs\u001b[0m\u001b[0;34m)\u001b[0m\u001b[0;34m:\u001b[0m\u001b[0;34m\u001b[0m\u001b[0;34m\u001b[0m\u001b[0m\n\u001b[0;32m--> 180\u001b[0;31m       \u001b[0;32mif\u001b[0m \u001b[0menabled\u001b[0m\u001b[0;34m:\u001b[0m\u001b[0;34m\u001b[0m\u001b[0;34m\u001b[0m\u001b[0m\n\u001b[0m\u001b[1;32m    181\u001b[0m         \u001b[0;32mwith\u001b[0m \u001b[0mTrace\u001b[0m\u001b[0;34m(\u001b[0m\u001b[0mtrace_name\u001b[0m\u001b[0;34m,\u001b[0m \u001b[0;34m**\u001b[0m\u001b[0mtrace_kwargs\u001b[0m\u001b[0;34m)\u001b[0m\u001b[0;34m:\u001b[0m\u001b[0;34m\u001b[0m\u001b[0;34m\u001b[0m\u001b[0m\n\u001b[1;32m    182\u001b[0m           \u001b[0;32mreturn\u001b[0m \u001b[0mfunc\u001b[0m\u001b[0;34m(\u001b[0m\u001b[0;34m*\u001b[0m\u001b[0margs\u001b[0m\u001b[0;34m,\u001b[0m \u001b[0;34m**\u001b[0m\u001b[0mkwargs\u001b[0m\u001b[0;34m)\u001b[0m\u001b[0;34m\u001b[0m\u001b[0;34m\u001b[0m\u001b[0m\n",
            "\u001b[0;31mKeyboardInterrupt\u001b[0m: "
          ]
        }
      ]
    },
    {
      "cell_type": "code",
      "source": [
        "# user아이디가 11인 사람의 실제 평점과 예측평점\n",
        "df2[df2['user_id'] == 11].sort_values(by='rating', ascending=False)"
      ],
      "metadata": {
        "id": "h2Zri7wK7fy-"
      },
      "execution_count": null,
      "outputs": []
    },
    {
      "cell_type": "code",
      "source": [
        "# user아이디가 11인 사람의 예측평점구하기\n",
        "df2[df2['user_id'] == 11][df2['rating']== 0].sort_values(by='predict_rating', ascending=False).head(10)"
      ],
      "metadata": {
        "id": "sVRtCiUC6-y1"
      },
      "execution_count": null,
      "outputs": []
    },
    {
      "cell_type": "code",
      "source": [
        "df.info()"
      ],
      "metadata": {
        "id": "yT4qcVBeGHUc"
      },
      "execution_count": null,
      "outputs": []
    }
  ]
}