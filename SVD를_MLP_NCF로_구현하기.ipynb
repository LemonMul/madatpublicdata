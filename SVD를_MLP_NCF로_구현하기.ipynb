{
  "nbformat": 4,
  "nbformat_minor": 0,
  "metadata": {
    "colab": {
      "provenance": [],
      "gpuType": "T4",
      "authorship_tag": "ABX9TyNWkjxRkjjpf+en03xUguAF",
      "include_colab_link": true
    },
    "kernelspec": {
      "name": "python3",
      "display_name": "Python 3"
    },
    "language_info": {
      "name": "python"
    },
    "accelerator": "GPU"
  },
  "cells": [
    {
      "cell_type": "markdown",
      "metadata": {
        "id": "view-in-github",
        "colab_type": "text"
      },
      "source": [
        "<a href=\"https://colab.research.google.com/github/hscrown/madatpublicdata/blob/main/SVD%EB%A5%BC_MLP_NCF%EB%A1%9C_%EA%B5%AC%ED%98%84%ED%95%98%EA%B8%B0.ipynb\" target=\"_parent\"><img src=\"https://colab.research.google.com/assets/colab-badge.svg\" alt=\"Open In Colab\"/></a>"
      ]
    },
    {
      "cell_type": "code",
      "source": [
        "import numpy as np\n",
        "import pandas as pd\n",
        "import matplotlib.pyplot as plt\n",
        "import seaborn as sns\n",
        "import tensorflow as tf\n",
        "from sklearn.model_selection import train_test_split\n",
        "from tensorflow.keras.models import Model\n",
        "from tensorflow.keras.layers import Input, Embedding, Flatten, Concatenate, Dense, Dropout\n",
        "from tensorflow.keras.optimizers import Adam\n",
        "from tensorflow.keras.callbacks import EarlyStopping\n",
        "from tensorflow.keras.metrics import RootMeanSquaredError"
      ],
      "metadata": {
        "id": "Fzow5bxUF_Wd"
      },
      "execution_count": 10,
      "outputs": []
    },
    {
      "source": [
        "#json불러오기\n",
        "df = pd.read_json('user_rating_1000.json')\n"
      ],
      "cell_type": "code",
      "metadata": {
        "id": "dFahyBLXJIYZ"
      },
      "execution_count": 11,
      "outputs": []
    },
    {
      "cell_type": "markdown",
      "source": [
        "# ReLu 사용"
      ],
      "metadata": {
        "id": "nBUQ1gQvxHGE"
      }
    },
    {
      "cell_type": "code",
      "source": [
        "\n",
        "\n",
        "# 데이터 전처리\n",
        "non_zero_df = df[df['rating'] != 0]\n",
        "pivot_table = non_zero_df.pivot(index='user_id', columns='place_id', values='rating').fillna(0)\n",
        "train, test = train_test_split(pivot_table, test_size=0.2, random_state=42)\n",
        "\n",
        "train_users, train_items = np.where(train > 0)\n",
        "train_ratings = train.values[train > 0]\n",
        "\n",
        "test_users, test_items = np.where(test > 0)\n",
        "test_ratings = test.values[test > 0]\n",
        "\n",
        "# 모델 입력\n",
        "user_input = Input(shape=(1,), dtype='int32')\n",
        "item_input = Input(shape=(1,), dtype='int32')\n",
        "\n",
        "# 임베딩 레이어\n",
        "user_embedding = Embedding(input_dim=pivot_table.shape[0], output_dim=15, input_length=1)(user_input)\n",
        "item_embedding = Embedding(input_dim=pivot_table.shape[1], output_dim=15, input_length=1)(item_input)\n",
        "\n",
        "# 임베딩 벡터 평탄화\n",
        "user_vector = Flatten()(user_embedding)\n",
        "item_vector = Flatten()(item_embedding)\n",
        "\n",
        "# 임베딩 벡터의 연결\n",
        "concatenated = Concatenate()([user_vector, item_vector])\n",
        "\n",
        "# MLP 레이어\n",
        "mlp_layer = Dense(128, activation='relu')(concatenated)\n",
        "mlp_layer = Dropout(0.2)(mlp_layer)\n",
        "mlp_layer = Dense(64, activation='relu')(mlp_layer)\n",
        "mlp_layer = Dropout(0.2)(mlp_layer)\n",
        "mlp_layer = Dense(32, activation='relu')(mlp_layer)\n",
        "mlp_layer = Dense(1)(mlp_layer)  # 평점 예측\n",
        "\n",
        "# 모델 생성 및 컴파일\n",
        "model = Model(inputs=[user_input, item_input], outputs=mlp_layer)\n",
        "model.compile(optimizer=Adam(0.001), loss='mean_squared_error', metrics=[RootMeanSquaredError()])\n",
        "\n",
        "# 모델 요약\n",
        "model.summary()\n",
        "\n",
        "# 얼리스타핑 설정\n",
        "early_stopping = EarlyStopping(\n",
        "    monitor='val_root_mean_squared_error',\n",
        "    patience=5,\n",
        "    verbose=1,\n",
        "    mode='min',\n",
        "    restore_best_weights=True\n",
        ")\n",
        "\n",
        "# 모델 학습\n",
        "history = model.fit(\n",
        "    [train_users, train_items], train_ratings,\n",
        "    validation_data=([test_users, test_items], test_ratings),\n",
        "    epochs=20,\n",
        "    verbose=1,\n",
        "    callbacks=[early_stopping]\n",
        ")\n"
      ],
      "metadata": {
        "colab": {
          "base_uri": "https://localhost:8080/",
          "height": 0
        },
        "id": "rHpMbB8hF48O",
        "outputId": "de981cd6-1b3f-497c-cd6b-25a9326ac50c"
      },
      "execution_count": 12,
      "outputs": [
        {
          "output_type": "stream",
          "name": "stdout",
          "text": [
            "Model: \"model\"\n",
            "__________________________________________________________________________________________________\n",
            " Layer (type)                Output Shape                 Param #   Connected to                  \n",
            "==================================================================================================\n",
            " input_1 (InputLayer)        [(None, 1)]                  0         []                            \n",
            "                                                                                                  \n",
            " input_2 (InputLayer)        [(None, 1)]                  0         []                            \n",
            "                                                                                                  \n",
            " embedding (Embedding)       (None, 1, 15)                15000     ['input_1[0][0]']             \n",
            "                                                                                                  \n",
            " embedding_1 (Embedding)     (None, 1, 15)                24945     ['input_2[0][0]']             \n",
            "                                                                                                  \n",
            " flatten (Flatten)           (None, 15)                   0         ['embedding[0][0]']           \n",
            "                                                                                                  \n",
            " flatten_1 (Flatten)         (None, 15)                   0         ['embedding_1[0][0]']         \n",
            "                                                                                                  \n",
            " concatenate (Concatenate)   (None, 30)                   0         ['flatten[0][0]',             \n",
            "                                                                     'flatten_1[0][0]']           \n",
            "                                                                                                  \n",
            " dense (Dense)               (None, 128)                  3968      ['concatenate[0][0]']         \n",
            "                                                                                                  \n",
            " dropout (Dropout)           (None, 128)                  0         ['dense[0][0]']               \n",
            "                                                                                                  \n",
            " dense_1 (Dense)             (None, 64)                   8256      ['dropout[0][0]']             \n",
            "                                                                                                  \n",
            " dropout_1 (Dropout)         (None, 64)                   0         ['dense_1[0][0]']             \n",
            "                                                                                                  \n",
            " dense_2 (Dense)             (None, 32)                   2080      ['dropout_1[0][0]']           \n",
            "                                                                                                  \n",
            " dense_3 (Dense)             (None, 1)                    33        ['dense_2[0][0]']             \n",
            "                                                                                                  \n",
            "==================================================================================================\n",
            "Total params: 54282 (212.04 KB)\n",
            "Trainable params: 54282 (212.04 KB)\n",
            "Non-trainable params: 0 (0.00 Byte)\n",
            "__________________________________________________________________________________________________\n",
            "Epoch 1/20\n",
            "40123/40123 [==============================] - 263s 6ms/step - loss: 1.7478 - root_mean_squared_error: 1.3220 - val_loss: 1.7408 - val_root_mean_squared_error: 1.3194\n",
            "Epoch 2/20\n",
            "40123/40123 [==============================] - 250s 6ms/step - loss: 1.7297 - root_mean_squared_error: 1.3152 - val_loss: 1.7354 - val_root_mean_squared_error: 1.3173\n",
            "Epoch 3/20\n",
            "40123/40123 [==============================] - 232s 6ms/step - loss: 1.7297 - root_mean_squared_error: 1.3152 - val_loss: 1.7353 - val_root_mean_squared_error: 1.3173\n",
            "Epoch 4/20\n",
            "40123/40123 [==============================] - 252s 6ms/step - loss: 1.7296 - root_mean_squared_error: 1.3151 - val_loss: 1.7353 - val_root_mean_squared_error: 1.3173\n",
            "Epoch 5/20\n",
            "40123/40123 [==============================] - 230s 6ms/step - loss: 1.7297 - root_mean_squared_error: 1.3152 - val_loss: 1.7367 - val_root_mean_squared_error: 1.3179\n",
            "Epoch 6/20\n",
            "40123/40123 [==============================] - 256s 6ms/step - loss: 1.7296 - root_mean_squared_error: 1.3152 - val_loss: 1.7358 - val_root_mean_squared_error: 1.3175\n",
            "Epoch 7/20\n",
            "40123/40123 [==============================] - 249s 6ms/step - loss: 1.7297 - root_mean_squared_error: 1.3152 - val_loss: 1.7355 - val_root_mean_squared_error: 1.3174\n",
            "Epoch 8/20\n",
            "40121/40123 [============================>.] - ETA: 0s - loss: 1.7296 - root_mean_squared_error: 1.3151Restoring model weights from the end of the best epoch: 3.\n",
            "40123/40123 [==============================] - 236s 6ms/step - loss: 1.7296 - root_mean_squared_error: 1.3151 - val_loss: 1.7354 - val_root_mean_squared_error: 1.3173\n",
            "Epoch 8: early stopping\n"
          ]
        }
      ]
    },
    {
      "cell_type": "code",
      "source": [
        "# train loss와 val loss 같이 시각화\n",
        "# plt.plot(history.history['root_mean_squared_error'])\n",
        "# plt.plot(history.history['val_root_mean_squared_error'])\n",
        "\n",
        "# # train mse와 val mse 시각화\n",
        "plt.plot(history.history['loss'])\n",
        "plt.plot(history.history['val_loss'])"
      ],
      "metadata": {
        "colab": {
          "base_uri": "https://localhost:8080/",
          "height": 448
        },
        "id": "w0egMGuJ1uM1",
        "outputId": "87d9a084-8971-4b16-ad89-97ba0126d6ff"
      },
      "execution_count": 20,
      "outputs": [
        {
          "output_type": "execute_result",
          "data": {
            "text/plain": [
              "[<matplotlib.lines.Line2D at 0x7b1b3fa6cb80>]"
            ]
          },
          "metadata": {},
          "execution_count": 20
        },
        {
          "output_type": "display_data",
          "data": {
            "text/plain": [
              "<Figure size 640x480 with 1 Axes>"
            ],
            "image/png": "[encoded data removed]"
          },
          "metadata": {}
        }
      ]
    },
    {
      "cell_type": "markdown",
      "source": [
        "모델이 특정 수준의 성능에 도달한 후 추가적인 학습으로 크게 개선되지 않았음."
      ],
      "metadata": {
        "id": "8ZgpnKt9v3EK"
      }
    },
    {
      "cell_type": "markdown",
      "source": [
        "# LeakyReLu 사용"
      ],
      "metadata": {
        "id": "s4jlATyexPvC"
      }
    },
    {
      "cell_type": "code",
      "source": [
        "from tensorflow.keras.layers import LeakyReLU\n",
        "\n",
        "# 데이터 전처리\n",
        "non_zero_df = df[df['rating'] != 0]\n",
        "pivot_table = non_zero_df.pivot(index='user_id', columns='place_id', values='rating').fillna(0)\n",
        "train, test = train_test_split(pivot_table, test_size=0.2, random_state=42)\n",
        "\n",
        "train_users, train_items = np.where(train > 0)\n",
        "train_ratings = train.values[train > 0]\n",
        "\n",
        "test_users, test_items = np.where(test > 0)\n",
        "test_ratings = test.values[test > 0]\n",
        "\n",
        "# 모델 입력\n",
        "user_input = Input(shape=(1,), dtype='int32')\n",
        "item_input = Input(shape=(1,), dtype='int32')\n",
        "\n",
        "# 임베딩 레이어\n",
        "user_embedding = Embedding(input_dim=pivot_table.shape[0], output_dim=15, input_length=1)(user_input)\n",
        "item_embedding = Embedding(input_dim=pivot_table.shape[1], output_dim=15, input_length=1)(item_input)\n",
        "\n",
        "# 임베딩 벡터 평탄화\n",
        "user_vector = Flatten()(user_embedding)\n",
        "item_vector = Flatten()(item_embedding)\n",
        "\n",
        "# 임베딩 벡터의 연결\n",
        "concatenated = Concatenate()([user_vector, item_vector])\n",
        "\n",
        "# MLP 레이어\n",
        "mlp_layer = Dense(128)(concatenated)\n",
        "mlp_layer = LeakyReLU(alpha=0.01)(mlp_layer)\n",
        "mlp_layer = Dropout(0.2)(mlp_layer)\n",
        "mlp_layer = Dense(64)(mlp_layer)\n",
        "mlp_layer = LeakyReLU(alpha=0.01)(mlp_layer)\n",
        "mlp_layer = Dropout(0.2)(mlp_layer)\n",
        "mlp_layer = Dense(32)(mlp_layer)\n",
        "mlp_layer = LeakyReLU(alpha=0.01)(mlp_layer)\n",
        "mlp_layer = Dense(1)(mlp_layer)  # 최종 출력은 활성화 함수 없음\n",
        "\n",
        "\n",
        "# 모델 생성 및 컴파일\n",
        "model = Model(inputs=[user_input, item_input], outputs=mlp_layer)\n",
        "model.compile(optimizer=Adam(0.001), loss='mean_squared_error', metrics=[RootMeanSquaredError()])\n",
        "\n",
        "# 모델 요약\n",
        "model.summary()\n",
        "\n",
        "# 얼리스타핑 설정\n",
        "early_stopping = EarlyStopping(\n",
        "    monitor='val_root_mean_squared_error',\n",
        "    patience=5,\n",
        "    verbose=1,\n",
        "    mode='min',\n",
        "    restore_best_weights=True\n",
        ")\n",
        "\n",
        "# 모델 학습\n",
        "history = model.fit(\n",
        "    [train_users, train_items], train_ratings,\n",
        "    validation_data=([test_users, test_items], test_ratings),\n",
        "    epochs=20,\n",
        "    verbose=1,\n",
        "    callbacks=[early_stopping]\n",
        ")\n"
      ],
      "metadata": {
        "colab": {
          "base_uri": "https://localhost:8080/",
          "height": 0
        },
        "id": "UgDPeN7CxS8M",
        "outputId": "8b3f0249-6ae2-4585-bef1-92e48559c2e9"
      },
      "execution_count": 24,
      "outputs": [
        {
          "output_type": "stream",
          "name": "stdout",
          "text": [
            "Model: \"model_2\"\n",
            "__________________________________________________________________________________________________\n",
            " Layer (type)                Output Shape                 Param #   Connected to                  \n",
            "==================================================================================================\n",
            " input_7 (InputLayer)        [(None, 1)]                  0         []                            \n",
            "                                                                                                  \n",
            " input_8 (InputLayer)        [(None, 1)]                  0         []                            \n",
            "                                                                                                  \n",
            " embedding_6 (Embedding)     (None, 1, 15)                15000     ['input_7[0][0]']             \n",
            "                                                                                                  \n",
            " embedding_7 (Embedding)     (None, 1, 15)                24945     ['input_8[0][0]']             \n",
            "                                                                                                  \n",
            " flatten_6 (Flatten)         (None, 15)                   0         ['embedding_6[0][0]']         \n",
            "                                                                                                  \n",
            " flatten_7 (Flatten)         (None, 15)                   0         ['embedding_7[0][0]']         \n",
            "                                                                                                  \n",
            " concatenate_3 (Concatenate  (None, 30)                   0         ['flatten_6[0][0]',           \n",
            " )                                                                   'flatten_7[0][0]']           \n",
            "                                                                                                  \n",
            " dense_9 (Dense)             (None, 128)                  3968      ['concatenate_3[0][0]']       \n",
            "                                                                                                  \n",
            " leaky_re_lu (LeakyReLU)     (None, 128)                  0         ['dense_9[0][0]']             \n",
            "                                                                                                  \n",
            " dropout_4 (Dropout)         (None, 128)                  0         ['leaky_re_lu[0][0]']         \n",
            "                                                                                                  \n",
            " dense_10 (Dense)            (None, 64)                   8256      ['dropout_4[0][0]']           \n",
            "                                                                                                  \n",
            " leaky_re_lu_1 (LeakyReLU)   (None, 64)                   0         ['dense_10[0][0]']            \n",
            "                                                                                                  \n",
            " dropout_5 (Dropout)         (None, 64)                   0         ['leaky_re_lu_1[0][0]']       \n",
            "                                                                                                  \n",
            " dense_11 (Dense)            (None, 32)                   2080      ['dropout_5[0][0]']           \n",
            "                                                                                                  \n",
            " leaky_re_lu_2 (LeakyReLU)   (None, 32)                   0         ['dense_11[0][0]']            \n",
            "                                                                                                  \n",
            " dense_12 (Dense)            (None, 1)                    33        ['leaky_re_lu_2[0][0]']       \n",
            "                                                                                                  \n",
            "==================================================================================================\n",
            "Total params: 54282 (212.04 KB)\n",
            "Trainable params: 54282 (212.04 KB)\n",
            "Non-trainable params: 0 (0.00 Byte)\n",
            "__________________________________________________________________________________________________\n",
            "Epoch 1/20\n",
            "40123/40123 [==============================] - 238s 6ms/step - loss: 1.7478 - root_mean_squared_error: 1.3220 - val_loss: 1.7455 - val_root_mean_squared_error: 1.3212\n",
            "Epoch 2/20\n",
            "40123/40123 [==============================] - 254s 6ms/step - loss: 1.7304 - root_mean_squared_error: 1.3154 - val_loss: 1.7383 - val_root_mean_squared_error: 1.3184\n",
            "Epoch 3/20\n",
            "40123/40123 [==============================] - 236s 6ms/step - loss: 1.7302 - root_mean_squared_error: 1.3154 - val_loss: 1.7358 - val_root_mean_squared_error: 1.3175\n",
            "Epoch 4/20\n",
            "40123/40123 [==============================] - 258s 6ms/step - loss: 1.7297 - root_mean_squared_error: 1.3152 - val_loss: 1.7531 - val_root_mean_squared_error: 1.3241\n",
            "Epoch 5/20\n",
            "40123/40123 [==============================] - 253s 6ms/step - loss: 1.7290 - root_mean_squared_error: 1.3149 - val_loss: 1.7363 - val_root_mean_squared_error: 1.3177\n",
            "Epoch 6/20\n",
            "40123/40123 [==============================] - 252s 6ms/step - loss: 1.7282 - root_mean_squared_error: 1.3146 - val_loss: 1.7378 - val_root_mean_squared_error: 1.3182\n",
            "Epoch 7/20\n",
            "40123/40123 [==============================] - 265s 7ms/step - loss: 1.7270 - root_mean_squared_error: 1.3141 - val_loss: 1.7389 - val_root_mean_squared_error: 1.3187\n",
            "Epoch 8/20\n",
            "40119/40123 [============================>.] - ETA: 0s - loss: 1.7252 - root_mean_squared_error: 1.3135Restoring model weights from the end of the best epoch: 3.\n",
            "40123/40123 [==============================] - 264s 7ms/step - loss: 1.7252 - root_mean_squared_error: 1.3135 - val_loss: 1.7403 - val_root_mean_squared_error: 1.3192\n",
            "Epoch 8: early stopping\n"
          ]
        }
      ]
    },
    {
      "cell_type": "code",
      "source": [
        "# # train mse와 val mse 시각화\n",
        "plt.plot(history.history['loss'])\n",
        "plt.plot(history.history['val_loss'])"
      ],
      "metadata": {
        "colab": {
          "base_uri": "https://localhost:8080/",
          "height": 448
        },
        "id": "DjDC22No6ke2",
        "outputId": "f281996f-f972-48d9-9a87-3d8b7cf05feb"
      },
      "execution_count": 26,
      "outputs": [
        {
          "output_type": "execute_result",
          "data": {
            "text/plain": [
              "[<matplotlib.lines.Line2D at 0x7b1b3fb086d0>]"
            ]
          },
          "metadata": {},
          "execution_count": 26
        },
        {
          "output_type": "display_data",
          "data": {
            "text/plain": [
              "<Figure size 640x480 with 1 Axes>"
            ],
            "image/png": "[encoded data removed]"
          },
          "metadata": {}
        }
      ]
    },
    {
      "cell_type": "code",
      "source": [
        "# 시각화\n",
        "plt.plot(history.history['root_mean_squared_error'])\n",
        "plt.plot(history.history['val_root_mean_squared_error'])"
      ],
      "metadata": {
        "colab": {
          "base_uri": "https://localhost:8080/",
          "height": 448
        },
        "id": "gDBxGhok5Wu7",
        "outputId": "3bb41148-f3cf-4453-dadb-e710b60c6842"
      },
      "execution_count": 25,
      "outputs": [
        {
          "output_type": "execute_result",
          "data": {
            "text/plain": [
              "[<matplotlib.lines.Line2D at 0x7b1b8c8a2d10>]"
            ]
          },
          "metadata": {},
          "execution_count": 25
        },
        {
          "output_type": "display_data",
          "data": {
            "text/plain": [
              "<Figure size 640x480 with 1 Axes>"
            ],
            "image/png": "[encoded data removed]"
          },
          "metadata": {}
        }
      ]
    },
    {
      "cell_type": "markdown",
      "source": [
        "ReLu를 LeakyReLu 로 바꿨지만 큰 차이가 없음. ReLu는 음수출력값은 0으로, 양수출력값은 선형으로 바꿔줌."
      ],
      "metadata": {
        "id": "3t7oC8Xf3-c4"
      }
    },
    {
      "cell_type": "markdown",
      "source": [
        "# 출력층 재설계\n",
        "평점데이터의 특성을 반영하여 모델의 출력층을 재설계하여 예측 결과를 0.5의 배수로 반올림하도록 수정. 평점의 최고값이 5이고 최저값이 0임을 고려하여 출력층의 활성화 함수와 손실 함수를 조정함"
      ],
      "metadata": {
        "id": "1emonwYx7OrW"
      }
    },
    {
      "cell_type": "markdown",
      "source": [
        "## 출력층에 Sigmoid 함수사용\n",
        "sigmoid는 값을 0-1사이로 반환하기때문에 원래 음수값이 없는 평점데이터에 더 적합하다고 보았음. 평점이 0.5 단위로 주어지기 때문에 출력층을 재설계해서 예측 결과를 0.5의 배수로 반올림하도록 함."
      ],
      "metadata": {
        "id": "VqXWjDbk4K9D"
      }
    },
    {
      "cell_type": "code",
      "source": [
        "from tensorflow.keras.layers import Activation\n",
        "\n",
        "# 데이터 전처리\n",
        "non_zero_df = df[df['rating'] != 0]\n",
        "pivot_table = non_zero_df.pivot(index='user_id', columns='place_id', values='rating').fillna(0)\n",
        "train, test = train_test_split(pivot_table, test_size=0.2, random_state=42)\n",
        "\n",
        "train_users, train_items = np.where(train > 0)\n",
        "train_ratings = train.values[train > 0]\n",
        "\n",
        "test_users, test_items = np.where(test > 0)\n",
        "test_ratings = test.values[test > 0]\n",
        "\n",
        "# 모델 입력\n",
        "user_input = Input(shape=(1,), dtype='int32')\n",
        "item_input = Input(shape=(1,), dtype='int32')\n",
        "\n",
        "# 임베딩 레이어\n",
        "user_embedding = Embedding(input_dim=pivot_table.shape[0], output_dim=15, input_length=1)(user_input)\n",
        "item_embedding = Embedding(input_dim=pivot_table.shape[1], output_dim=15, input_length=1)(item_input)\n",
        "\n",
        "# 임베딩 벡터 평탄화\n",
        "user_vector = Flatten()(user_embedding)\n",
        "item_vector = Flatten()(item_embedding)\n",
        "\n",
        "# 임베딩 벡터의 연결\n",
        "concatenated = Concatenate()([user_vector, item_vector])\n",
        "\n",
        "# MLP 레이어\n",
        "mlp_layer = Dense(128, activation='relu')(concatenated)\n",
        "mlp_layer = Dropout(0.2)(mlp_layer)\n",
        "mlp_layer = Dense(64, activation='relu')(mlp_layer)\n",
        "mlp_layer = Dropout(0.2)(mlp_layer)\n",
        "mlp_layer = Dense(32, activation='relu')(mlp_layer)\n",
        "\n",
        "# 출력층에 활성화 함수 적용\n",
        "mlp_output = Dense(1, activation='sigmoid')(mlp_layer)\n",
        "mlp_output = Activation('sigmoid')(mlp_output)\n",
        "\n",
        "# 반올림 함수 정의\n",
        "def round_to_nearest_half(x):\n",
        "    return round(x * 2) / 2\n",
        "\n",
        "# 모델 생성\n",
        "model = Model(inputs=[user_input, item_input], outputs=mlp_output)\n",
        "\n",
        "# 손실 함수와 최적화 알고리즘 설정\n",
        "model.compile(optimizer=Adam(0.001), loss='mean_squared_error', metrics=[RootMeanSquaredError()])\n",
        "\n",
        "# 모델 요약 출력\n",
        "model.summary()\n",
        "\n",
        "# 얼리스타핑 설정\n",
        "early_stopping = EarlyStopping(\n",
        "    monitor='val_root_mean_squared_error',\n",
        "    patience=5,\n",
        "    verbose=1,\n",
        "    mode='min',\n",
        "    restore_best_weights=True\n",
        ")\n",
        "\n",
        "# 모델 학습\n",
        "history = model.fit(\n",
        "    [train_users, train_items], train_ratings,\n",
        "    validation_data=([test_users, test_items], test_ratings),\n",
        "    epochs=20,\n",
        "    verbose=1,\n",
        "    callbacks=[early_stopping]\n",
        ")\n"
      ],
      "metadata": {
        "colab": {
          "base_uri": "https://localhost:8080/",
          "height": 1236
        },
        "id": "uYwk6QK_7LEP",
        "outputId": "f4e19b35-b843-421d-b210-68b2e84b5996"
      },
      "execution_count": 32,
      "outputs": [
        {
          "output_type": "stream",
          "name": "stdout",
          "text": [
            "Model: \"model_6\"\n",
            "__________________________________________________________________________________________________\n",
            " Layer (type)                Output Shape                 Param #   Connected to                  \n",
            "==================================================================================================\n",
            " input_17 (InputLayer)       [(None, 1)]                  0         []                            \n",
            "                                                                                                  \n",
            " input_18 (InputLayer)       [(None, 1)]                  0         []                            \n",
            "                                                                                                  \n",
            " embedding_16 (Embedding)    (None, 1, 15)                15000     ['input_17[0][0]']            \n",
            "                                                                                                  \n",
            " embedding_17 (Embedding)    (None, 1, 15)                24945     ['input_18[0][0]']            \n",
            "                                                                                                  \n",
            " flatten_16 (Flatten)        (None, 15)                   0         ['embedding_16[0][0]']        \n",
            "                                                                                                  \n",
            " flatten_17 (Flatten)        (None, 15)                   0         ['embedding_17[0][0]']        \n",
            "                                                                                                  \n",
            " concatenate_8 (Concatenate  (None, 30)                   0         ['flatten_16[0][0]',          \n",
            " )                                                                   'flatten_17[0][0]']          \n",
            "                                                                                                  \n",
            " dense_29 (Dense)            (None, 128)                  3968      ['concatenate_8[0][0]']       \n",
            "                                                                                                  \n",
            " dropout_14 (Dropout)        (None, 128)                  0         ['dense_29[0][0]']            \n",
            "                                                                                                  \n",
            " dense_30 (Dense)            (None, 64)                   8256      ['dropout_14[0][0]']          \n",
            "                                                                                                  \n",
            " dropout_15 (Dropout)        (None, 64)                   0         ['dense_30[0][0]']            \n",
            "                                                                                                  \n",
            " dense_31 (Dense)            (None, 32)                   2080      ['dropout_15[0][0]']          \n",
            "                                                                                                  \n",
            " dense_32 (Dense)            (None, 1)                    33        ['dense_31[0][0]']            \n",
            "                                                                                                  \n",
            " activation_4 (Activation)   (None, 1)                    0         ['dense_32[0][0]']            \n",
            "                                                                                                  \n",
            "==================================================================================================\n",
            "Total params: 54282 (212.04 KB)\n",
            "Trainable params: 54282 (212.04 KB)\n",
            "Non-trainable params: 0 (0.00 Byte)\n",
            "__________________________________________________________________________________________________\n",
            "Epoch 1/20\n",
            "40123/40123 [==============================] - 262s 6ms/step - loss: 8.8480 - root_mean_squared_error: 2.9746 - val_loss: 8.8552 - val_root_mean_squared_error: 2.9758\n",
            "Epoch 2/20\n",
            "40123/40123 [==============================] - 260s 6ms/step - loss: 8.8475 - root_mean_squared_error: 2.9745 - val_loss: 8.8552 - val_root_mean_squared_error: 2.9758\n",
            "Epoch 3/20\n",
            "40123/40123 [==============================] - 258s 6ms/step - loss: 8.8476 - root_mean_squared_error: 2.9745 - val_loss: 8.8552 - val_root_mean_squared_error: 2.9758\n",
            "Epoch 4/20\n",
            "40123/40123 [==============================] - 249s 6ms/step - loss: 8.8475 - root_mean_squared_error: 2.9745 - val_loss: 8.8552 - val_root_mean_squared_error: 2.9758\n",
            "Epoch 5/20\n",
            "10388/40123 [======>.......................] - ETA: 2:43 - loss: 8.8224 - root_mean_squared_error: 2.9703"
          ]
        },
        {
          "output_type": "error",
          "ename": "KeyboardInterrupt",
          "evalue": "",
          "traceback": [
            "\u001b[0;31m---------------------------------------------------------------------------\u001b[0m",
            "\u001b[0;31mKeyboardInterrupt\u001b[0m                         Traceback (most recent call last)",
            "\u001b[0;32m<ipython-input-32-7d68708aac9a>\u001b[0m in \u001b[0;36m<cell line: 63>\u001b[0;34m()\u001b[0m\n\u001b[1;32m     61\u001b[0m \u001b[0;34m\u001b[0m\u001b[0m\n\u001b[1;32m     62\u001b[0m \u001b[0;31m# 모델 학습\u001b[0m\u001b[0;34m\u001b[0m\u001b[0;34m\u001b[0m\u001b[0m\n\u001b[0;32m---> 63\u001b[0;31m history = model.fit(\n\u001b[0m\u001b[1;32m     64\u001b[0m     \u001b[0;34m[\u001b[0m\u001b[0mtrain_users\u001b[0m\u001b[0;34m,\u001b[0m \u001b[0mtrain_items\u001b[0m\u001b[0;34m]\u001b[0m\u001b[0;34m,\u001b[0m \u001b[0mtrain_ratings\u001b[0m\u001b[0;34m,\u001b[0m\u001b[0;34m\u001b[0m\u001b[0;34m\u001b[0m\u001b[0m\n\u001b[1;32m     65\u001b[0m     \u001b[0mvalidation_data\u001b[0m\u001b[0;34m=\u001b[0m\u001b[0;34m(\u001b[0m\u001b[0;34m[\u001b[0m\u001b[0mtest_users\u001b[0m\u001b[0;34m,\u001b[0m \u001b[0mtest_items\u001b[0m\u001b[0;34m]\u001b[0m\u001b[0;34m,\u001b[0m \u001b[0mtest_ratings\u001b[0m\u001b[0;34m)\u001b[0m\u001b[0;34m,\u001b[0m\u001b[0;34m\u001b[0m\u001b[0;34m\u001b[0m\u001b[0m\n",
            "\u001b[0;32m/usr/local/lib/python3.10/dist-packages/keras/src/utils/traceback_utils.py\u001b[0m in \u001b[0;36merror_handler\u001b[0;34m(*args, **kwargs)\u001b[0m\n\u001b[1;32m     63\u001b[0m         \u001b[0mfiltered_tb\u001b[0m \u001b[0;34m=\u001b[0m \u001b[0;32mNone\u001b[0m\u001b[0;34m\u001b[0m\u001b[0;34m\u001b[0m\u001b[0m\n\u001b[1;32m     64\u001b[0m         \u001b[0;32mtry\u001b[0m\u001b[0;34m:\u001b[0m\u001b[0;34m\u001b[0m\u001b[0;34m\u001b[0m\u001b[0m\n\u001b[0;32m---> 65\u001b[0;31m             \u001b[0;32mreturn\u001b[0m \u001b[0mfn\u001b[0m\u001b[0;34m(\u001b[0m\u001b[0;34m*\u001b[0m\u001b[0margs\u001b[0m\u001b[0;34m,\u001b[0m \u001b[0;34m**\u001b[0m\u001b[0mkwargs\u001b[0m\u001b[0;34m)\u001b[0m\u001b[0;34m\u001b[0m\u001b[0;34m\u001b[0m\u001b[0m\n\u001b[0m\u001b[1;32m     66\u001b[0m         \u001b[0;32mexcept\u001b[0m \u001b[0mException\u001b[0m \u001b[0;32mas\u001b[0m \u001b[0me\u001b[0m\u001b[0;34m:\u001b[0m\u001b[0;34m\u001b[0m\u001b[0;34m\u001b[0m\u001b[0m\n\u001b[1;32m     67\u001b[0m             \u001b[0mfiltered_tb\u001b[0m \u001b[0;34m=\u001b[0m \u001b[0m_process_traceback_frames\u001b[0m\u001b[0;34m(\u001b[0m\u001b[0me\u001b[0m\u001b[0;34m.\u001b[0m\u001b[0m__traceback__\u001b[0m\u001b[0;34m)\u001b[0m\u001b[0;34m\u001b[0m\u001b[0;34m\u001b[0m\u001b[0m\n",
            "\u001b[0;32m/usr/local/lib/python3.10/dist-packages/keras/src/engine/training.py\u001b[0m in \u001b[0;36mfit\u001b[0;34m(self, x, y, batch_size, epochs, verbose, callbacks, validation_split, validation_data, shuffle, class_weight, sample_weight, initial_epoch, steps_per_epoch, validation_steps, validation_batch_size, validation_freq, max_queue_size, workers, use_multiprocessing)\u001b[0m\n\u001b[1;32m   1805\u001b[0m                         ):\n\u001b[1;32m   1806\u001b[0m                             \u001b[0mcallbacks\u001b[0m\u001b[0;34m.\u001b[0m\u001b[0mon_train_batch_begin\u001b[0m\u001b[0;34m(\u001b[0m\u001b[0mstep\u001b[0m\u001b[0;34m)\u001b[0m\u001b[0;34m\u001b[0m\u001b[0;34m\u001b[0m\u001b[0m\n\u001b[0;32m-> 1807\u001b[0;31m                             \u001b[0mtmp_logs\u001b[0m \u001b[0;34m=\u001b[0m \u001b[0mself\u001b[0m\u001b[0;34m.\u001b[0m\u001b[0mtrain_function\u001b[0m\u001b[0;34m(\u001b[0m\u001b[0miterator\u001b[0m\u001b[0;34m)\u001b[0m\u001b[0;34m\u001b[0m\u001b[0;34m\u001b[0m\u001b[0m\n\u001b[0m\u001b[1;32m   1808\u001b[0m                             \u001b[0;32mif\u001b[0m \u001b[0mdata_handler\u001b[0m\u001b[0;34m.\u001b[0m\u001b[0mshould_sync\u001b[0m\u001b[0;34m:\u001b[0m\u001b[0;34m\u001b[0m\u001b[0;34m\u001b[0m\u001b[0m\n\u001b[1;32m   1809\u001b[0m                                 \u001b[0mcontext\u001b[0m\u001b[0;34m.\u001b[0m\u001b[0masync_wait\u001b[0m\u001b[0;34m(\u001b[0m\u001b[0;34m)\u001b[0m\u001b[0;34m\u001b[0m\u001b[0;34m\u001b[0m\u001b[0m\n",
            "\u001b[0;32m/usr/local/lib/python3.10/dist-packages/tensorflow/python/util/traceback_utils.py\u001b[0m in \u001b[0;36merror_handler\u001b[0;34m(*args, **kwargs)\u001b[0m\n\u001b[1;32m    148\u001b[0m     \u001b[0mfiltered_tb\u001b[0m \u001b[0;34m=\u001b[0m \u001b[0;32mNone\u001b[0m\u001b[0;34m\u001b[0m\u001b[0;34m\u001b[0m\u001b[0m\n\u001b[1;32m    149\u001b[0m     \u001b[0;32mtry\u001b[0m\u001b[0;34m:\u001b[0m\u001b[0;34m\u001b[0m\u001b[0;34m\u001b[0m\u001b[0m\n\u001b[0;32m--> 150\u001b[0;31m       \u001b[0;32mreturn\u001b[0m \u001b[0mfn\u001b[0m\u001b[0;34m(\u001b[0m\u001b[0;34m*\u001b[0m\u001b[0margs\u001b[0m\u001b[0;34m,\u001b[0m \u001b[0;34m**\u001b[0m\u001b[0mkwargs\u001b[0m\u001b[0;34m)\u001b[0m\u001b[0;34m\u001b[0m\u001b[0;34m\u001b[0m\u001b[0m\n\u001b[0m\u001b[1;32m    151\u001b[0m     \u001b[0;32mexcept\u001b[0m \u001b[0mException\u001b[0m \u001b[0;32mas\u001b[0m \u001b[0me\u001b[0m\u001b[0;34m:\u001b[0m\u001b[0;34m\u001b[0m\u001b[0;34m\u001b[0m\u001b[0m\n\u001b[1;32m    152\u001b[0m       \u001b[0mfiltered_tb\u001b[0m \u001b[0;34m=\u001b[0m \u001b[0m_process_traceback_frames\u001b[0m\u001b[0;34m(\u001b[0m\u001b[0me\u001b[0m\u001b[0;34m.\u001b[0m\u001b[0m__traceback__\u001b[0m\u001b[0;34m)\u001b[0m\u001b[0;34m\u001b[0m\u001b[0;34m\u001b[0m\u001b[0m\n",
            "\u001b[0;32m/usr/local/lib/python3.10/dist-packages/tensorflow/python/eager/polymorphic_function/polymorphic_function.py\u001b[0m in \u001b[0;36m__call__\u001b[0;34m(self, *args, **kwds)\u001b[0m\n\u001b[1;32m    830\u001b[0m \u001b[0;34m\u001b[0m\u001b[0m\n\u001b[1;32m    831\u001b[0m       \u001b[0;32mwith\u001b[0m \u001b[0mOptionalXlaContext\u001b[0m\u001b[0;34m(\u001b[0m\u001b[0mself\u001b[0m\u001b[0;34m.\u001b[0m\u001b[0m_jit_compile\u001b[0m\u001b[0;34m)\u001b[0m\u001b[0;34m:\u001b[0m\u001b[0;34m\u001b[0m\u001b[0;34m\u001b[0m\u001b[0m\n\u001b[0;32m--> 832\u001b[0;31m         \u001b[0mresult\u001b[0m \u001b[0;34m=\u001b[0m \u001b[0mself\u001b[0m\u001b[0;34m.\u001b[0m\u001b[0m_call\u001b[0m\u001b[0;34m(\u001b[0m\u001b[0;34m*\u001b[0m\u001b[0margs\u001b[0m\u001b[0;34m,\u001b[0m \u001b[0;34m**\u001b[0m\u001b[0mkwds\u001b[0m\u001b[0;34m)\u001b[0m\u001b[0;34m\u001b[0m\u001b[0;34m\u001b[0m\u001b[0m\n\u001b[0m\u001b[1;32m    833\u001b[0m \u001b[0;34m\u001b[0m\u001b[0m\n\u001b[1;32m    834\u001b[0m       \u001b[0mnew_tracing_count\u001b[0m \u001b[0;34m=\u001b[0m \u001b[0mself\u001b[0m\u001b[0;34m.\u001b[0m\u001b[0mexperimental_get_tracing_count\u001b[0m\u001b[0;34m(\u001b[0m\u001b[0;34m)\u001b[0m\u001b[0;34m\u001b[0m\u001b[0;34m\u001b[0m\u001b[0m\n",
            "\u001b[0;32m/usr/local/lib/python3.10/dist-packages/tensorflow/python/eager/polymorphic_function/polymorphic_function.py\u001b[0m in \u001b[0;36m_call\u001b[0;34m(self, *args, **kwds)\u001b[0m\n\u001b[1;32m    866\u001b[0m       \u001b[0;31m# In this case we have created variables on the first call, so we run the\u001b[0m\u001b[0;34m\u001b[0m\u001b[0;34m\u001b[0m\u001b[0m\n\u001b[1;32m    867\u001b[0m       \u001b[0;31m# defunned version which is guaranteed to never create variables.\u001b[0m\u001b[0;34m\u001b[0m\u001b[0;34m\u001b[0m\u001b[0m\n\u001b[0;32m--> 868\u001b[0;31m       return tracing_compilation.call_function(\n\u001b[0m\u001b[1;32m    869\u001b[0m           \u001b[0margs\u001b[0m\u001b[0;34m,\u001b[0m \u001b[0mkwds\u001b[0m\u001b[0;34m,\u001b[0m \u001b[0mself\u001b[0m\u001b[0;34m.\u001b[0m\u001b[0m_no_variable_creation_config\u001b[0m\u001b[0;34m\u001b[0m\u001b[0;34m\u001b[0m\u001b[0m\n\u001b[1;32m    870\u001b[0m       )\n",
            "\u001b[0;32m/usr/local/lib/python3.10/dist-packages/tensorflow/python/eager/polymorphic_function/tracing_compilation.py\u001b[0m in \u001b[0;36mcall_function\u001b[0;34m(args, kwargs, tracing_options)\u001b[0m\n\u001b[1;32m    137\u001b[0m   \u001b[0mbound_args\u001b[0m \u001b[0;34m=\u001b[0m \u001b[0mfunction\u001b[0m\u001b[0;34m.\u001b[0m\u001b[0mfunction_type\u001b[0m\u001b[0;34m.\u001b[0m\u001b[0mbind\u001b[0m\u001b[0;34m(\u001b[0m\u001b[0;34m*\u001b[0m\u001b[0margs\u001b[0m\u001b[0;34m,\u001b[0m \u001b[0;34m**\u001b[0m\u001b[0mkwargs\u001b[0m\u001b[0;34m)\u001b[0m\u001b[0;34m\u001b[0m\u001b[0;34m\u001b[0m\u001b[0m\n\u001b[1;32m    138\u001b[0m   \u001b[0mflat_inputs\u001b[0m \u001b[0;34m=\u001b[0m \u001b[0mfunction\u001b[0m\u001b[0;34m.\u001b[0m\u001b[0mfunction_type\u001b[0m\u001b[0;34m.\u001b[0m\u001b[0munpack_inputs\u001b[0m\u001b[0;34m(\u001b[0m\u001b[0mbound_args\u001b[0m\u001b[0;34m)\u001b[0m\u001b[0;34m\u001b[0m\u001b[0;34m\u001b[0m\u001b[0m\n\u001b[0;32m--> 139\u001b[0;31m   return function._call_flat(  # pylint: disable=protected-access\n\u001b[0m\u001b[1;32m    140\u001b[0m       \u001b[0mflat_inputs\u001b[0m\u001b[0;34m,\u001b[0m \u001b[0mcaptured_inputs\u001b[0m\u001b[0;34m=\u001b[0m\u001b[0mfunction\u001b[0m\u001b[0;34m.\u001b[0m\u001b[0mcaptured_inputs\u001b[0m\u001b[0;34m\u001b[0m\u001b[0;34m\u001b[0m\u001b[0m\n\u001b[1;32m    141\u001b[0m   )\n",
            "\u001b[0;32m/usr/local/lib/python3.10/dist-packages/tensorflow/python/eager/polymorphic_function/concrete_function.py\u001b[0m in \u001b[0;36m_call_flat\u001b[0;34m(self, tensor_inputs, captured_inputs)\u001b[0m\n\u001b[1;32m   1321\u001b[0m         and executing_eagerly):\n\u001b[1;32m   1322\u001b[0m       \u001b[0;31m# No tape is watching; skip to running the function.\u001b[0m\u001b[0;34m\u001b[0m\u001b[0;34m\u001b[0m\u001b[0m\n\u001b[0;32m-> 1323\u001b[0;31m       \u001b[0;32mreturn\u001b[0m \u001b[0mself\u001b[0m\u001b[0;34m.\u001b[0m\u001b[0m_inference_function\u001b[0m\u001b[0;34m.\u001b[0m\u001b[0mcall_preflattened\u001b[0m\u001b[0;34m(\u001b[0m\u001b[0margs\u001b[0m\u001b[0;34m)\u001b[0m\u001b[0;34m\u001b[0m\u001b[0;34m\u001b[0m\u001b[0m\n\u001b[0m\u001b[1;32m   1324\u001b[0m     forward_backward = self._select_forward_and_backward_functions(\n\u001b[1;32m   1325\u001b[0m         \u001b[0margs\u001b[0m\u001b[0;34m,\u001b[0m\u001b[0;34m\u001b[0m\u001b[0;34m\u001b[0m\u001b[0m\n",
            "\u001b[0;32m/usr/local/lib/python3.10/dist-packages/tensorflow/python/eager/polymorphic_function/atomic_function.py\u001b[0m in \u001b[0;36mcall_preflattened\u001b[0;34m(self, args)\u001b[0m\n\u001b[1;32m    214\u001b[0m   \u001b[0;32mdef\u001b[0m \u001b[0mcall_preflattened\u001b[0m\u001b[0;34m(\u001b[0m\u001b[0mself\u001b[0m\u001b[0;34m,\u001b[0m \u001b[0margs\u001b[0m\u001b[0;34m:\u001b[0m \u001b[0mSequence\u001b[0m\u001b[0;34m[\u001b[0m\u001b[0mcore\u001b[0m\u001b[0;34m.\u001b[0m\u001b[0mTensor\u001b[0m\u001b[0;34m]\u001b[0m\u001b[0;34m)\u001b[0m \u001b[0;34m->\u001b[0m \u001b[0mAny\u001b[0m\u001b[0;34m:\u001b[0m\u001b[0;34m\u001b[0m\u001b[0;34m\u001b[0m\u001b[0m\n\u001b[1;32m    215\u001b[0m     \u001b[0;34m\"\"\"Calls with flattened tensor inputs and returns the structured output.\"\"\"\u001b[0m\u001b[0;34m\u001b[0m\u001b[0;34m\u001b[0m\u001b[0m\n\u001b[0;32m--> 216\u001b[0;31m     \u001b[0mflat_outputs\u001b[0m \u001b[0;34m=\u001b[0m \u001b[0mself\u001b[0m\u001b[0;34m.\u001b[0m\u001b[0mcall_flat\u001b[0m\u001b[0;34m(\u001b[0m\u001b[0;34m*\u001b[0m\u001b[0margs\u001b[0m\u001b[0;34m)\u001b[0m\u001b[0;34m\u001b[0m\u001b[0;34m\u001b[0m\u001b[0m\n\u001b[0m\u001b[1;32m    217\u001b[0m     \u001b[0;32mreturn\u001b[0m \u001b[0mself\u001b[0m\u001b[0;34m.\u001b[0m\u001b[0mfunction_type\u001b[0m\u001b[0;34m.\u001b[0m\u001b[0mpack_output\u001b[0m\u001b[0;34m(\u001b[0m\u001b[0mflat_outputs\u001b[0m\u001b[0;34m)\u001b[0m\u001b[0;34m\u001b[0m\u001b[0;34m\u001b[0m\u001b[0m\n\u001b[1;32m    218\u001b[0m \u001b[0;34m\u001b[0m\u001b[0m\n",
            "\u001b[0;32m/usr/local/lib/python3.10/dist-packages/tensorflow/python/eager/polymorphic_function/atomic_function.py\u001b[0m in \u001b[0;36mcall_flat\u001b[0;34m(self, *args)\u001b[0m\n\u001b[1;32m    249\u001b[0m         \u001b[0;32mwith\u001b[0m \u001b[0mrecord\u001b[0m\u001b[0;34m.\u001b[0m\u001b[0mstop_recording\u001b[0m\u001b[0;34m(\u001b[0m\u001b[0;34m)\u001b[0m\u001b[0;34m:\u001b[0m\u001b[0;34m\u001b[0m\u001b[0;34m\u001b[0m\u001b[0m\n\u001b[1;32m    250\u001b[0m           \u001b[0;32mif\u001b[0m \u001b[0mself\u001b[0m\u001b[0;34m.\u001b[0m\u001b[0m_bound_context\u001b[0m\u001b[0;34m.\u001b[0m\u001b[0mexecuting_eagerly\u001b[0m\u001b[0;34m(\u001b[0m\u001b[0;34m)\u001b[0m\u001b[0;34m:\u001b[0m\u001b[0;34m\u001b[0m\u001b[0;34m\u001b[0m\u001b[0m\n\u001b[0;32m--> 251\u001b[0;31m             outputs = self._bound_context.call_function(\n\u001b[0m\u001b[1;32m    252\u001b[0m                 \u001b[0mself\u001b[0m\u001b[0;34m.\u001b[0m\u001b[0mname\u001b[0m\u001b[0;34m,\u001b[0m\u001b[0;34m\u001b[0m\u001b[0;34m\u001b[0m\u001b[0m\n\u001b[1;32m    253\u001b[0m                 \u001b[0mlist\u001b[0m\u001b[0;34m(\u001b[0m\u001b[0margs\u001b[0m\u001b[0;34m)\u001b[0m\u001b[0;34m,\u001b[0m\u001b[0;34m\u001b[0m\u001b[0;34m\u001b[0m\u001b[0m\n",
            "\u001b[0;32m/usr/local/lib/python3.10/dist-packages/tensorflow/python/eager/context.py\u001b[0m in \u001b[0;36mcall_function\u001b[0;34m(self, name, tensor_inputs, num_outputs)\u001b[0m\n\u001b[1;32m   1484\u001b[0m     \u001b[0mcancellation_context\u001b[0m \u001b[0;34m=\u001b[0m \u001b[0mcancellation\u001b[0m\u001b[0;34m.\u001b[0m\u001b[0mcontext\u001b[0m\u001b[0;34m(\u001b[0m\u001b[0;34m)\u001b[0m\u001b[0;34m\u001b[0m\u001b[0;34m\u001b[0m\u001b[0m\n\u001b[1;32m   1485\u001b[0m     \u001b[0;32mif\u001b[0m \u001b[0mcancellation_context\u001b[0m \u001b[0;32mis\u001b[0m \u001b[0;32mNone\u001b[0m\u001b[0;34m:\u001b[0m\u001b[0;34m\u001b[0m\u001b[0;34m\u001b[0m\u001b[0m\n\u001b[0;32m-> 1486\u001b[0;31m       outputs = execute.execute(\n\u001b[0m\u001b[1;32m   1487\u001b[0m           \u001b[0mname\u001b[0m\u001b[0;34m.\u001b[0m\u001b[0mdecode\u001b[0m\u001b[0;34m(\u001b[0m\u001b[0;34m\"utf-8\"\u001b[0m\u001b[0;34m)\u001b[0m\u001b[0;34m,\u001b[0m\u001b[0;34m\u001b[0m\u001b[0;34m\u001b[0m\u001b[0m\n\u001b[1;32m   1488\u001b[0m           \u001b[0mnum_outputs\u001b[0m\u001b[0;34m=\u001b[0m\u001b[0mnum_outputs\u001b[0m\u001b[0;34m,\u001b[0m\u001b[0;34m\u001b[0m\u001b[0;34m\u001b[0m\u001b[0m\n",
            "\u001b[0;32m/usr/local/lib/python3.10/dist-packages/tensorflow/python/eager/execute.py\u001b[0m in \u001b[0;36mquick_execute\u001b[0;34m(op_name, num_outputs, inputs, attrs, ctx, name)\u001b[0m\n\u001b[1;32m     51\u001b[0m   \u001b[0;32mtry\u001b[0m\u001b[0;34m:\u001b[0m\u001b[0;34m\u001b[0m\u001b[0;34m\u001b[0m\u001b[0m\n\u001b[1;32m     52\u001b[0m     \u001b[0mctx\u001b[0m\u001b[0;34m.\u001b[0m\u001b[0mensure_initialized\u001b[0m\u001b[0;34m(\u001b[0m\u001b[0;34m)\u001b[0m\u001b[0;34m\u001b[0m\u001b[0;34m\u001b[0m\u001b[0m\n\u001b[0;32m---> 53\u001b[0;31m     tensors = pywrap_tfe.TFE_Py_Execute(ctx._handle, device_name, op_name,\n\u001b[0m\u001b[1;32m     54\u001b[0m                                         inputs, attrs, num_outputs)\n\u001b[1;32m     55\u001b[0m   \u001b[0;32mexcept\u001b[0m \u001b[0mcore\u001b[0m\u001b[0;34m.\u001b[0m\u001b[0m_NotOkStatusException\u001b[0m \u001b[0;32mas\u001b[0m \u001b[0me\u001b[0m\u001b[0;34m:\u001b[0m\u001b[0;34m\u001b[0m\u001b[0;34m\u001b[0m\u001b[0m\n",
            "\u001b[0;31mKeyboardInterrupt\u001b[0m: "
          ]
        }
      ]
    },
    {
      "cell_type": "markdown",
      "source": [
        "# 모든 층에 sigmoid 함수 사용\n",
        "- 출력층에만 sigmoid함수를 사용했더니 오차 값은 커지고 각 에폭마다 학습이 나아지지않는건 똑같아서 학습을 중단시켰다."
      ],
      "metadata": {
        "id": "SFeAxkeSDfKF"
      }
    },
    {
      "cell_type": "code",
      "source": [
        "from tensorflow.keras.layers import Activation\n",
        "\n",
        "# 데이터 전처리\n",
        "non_zero_df = df[df['rating'] != 0]\n",
        "pivot_table = non_zero_df.pivot(index='user_id', columns='place_id', values='rating').fillna(0)\n",
        "train, test = train_test_split(pivot_table, test_size=0.2, random_state=42)\n",
        "\n",
        "train_users, train_items = np.where(train > 0)\n",
        "train_ratings = train.values[train > 0]\n",
        "\n",
        "test_users, test_items = np.where(test > 0)\n",
        "test_ratings = test.values[test > 0]\n",
        "\n",
        "# 모델 입력\n",
        "user_input = Input(shape=(1,), dtype='int32')\n",
        "item_input = Input(shape=(1,), dtype='int32')\n",
        "\n",
        "# 임베딩 레이어\n",
        "user_embedding = Embedding(input_dim=pivot_table.shape[0], output_dim=15, input_length=1)(user_input)\n",
        "item_embedding = Embedding(input_dim=pivot_table.shape[1], output_dim=15, input_length=1)(item_input)\n",
        "\n",
        "# 임베딩 벡터 평탄화\n",
        "user_vector = Flatten()(user_embedding)\n",
        "item_vector = Flatten()(item_embedding)\n",
        "\n",
        "# 임베딩 벡터의 연결\n",
        "concatenated = Concatenate()([user_vector, item_vector])\n",
        "\n",
        "# MLP 레이어\n",
        "mlp_layer = Dense(128, activation='sigmoid')(concatenated)\n",
        "mlp_layer = Dropout(0.2)(mlp_layer)\n",
        "mlp_layer = Dense(64, activation='sigmoid')(mlp_layer)\n",
        "mlp_layer = Dropout(0.2)(mlp_layer)\n",
        "mlp_layer = Dense(32, activation='sigmoid')(mlp_layer)\n",
        "\n",
        "# 출력층에 활성화 함수 적용\n",
        "mlp_output = Dense(1, activation='sigmoid')(mlp_layer)\n",
        "mlp_output = Activation('sigmoid')(mlp_output)\n",
        "\n",
        "# 반올림 함수 정의\n",
        "def round_to_nearest_half(x):\n",
        "    return round(x * 2) / 2\n",
        "\n",
        "# 모델 생성\n",
        "model = Model(inputs=[user_input, item_input], outputs=mlp_output)\n",
        "\n",
        "# 손실 함수와 최적화 알고리즘 설정\n",
        "model.compile(optimizer=Adam(0.001), loss='mean_squared_error', metrics=[RootMeanSquaredError()])\n",
        "\n",
        "# 모델 요약 출력\n",
        "model.summary()\n",
        "\n",
        "# 얼리스타핑 설정\n",
        "early_stopping = EarlyStopping(\n",
        "    monitor='val_root_mean_squared_error',\n",
        "    patience=5,\n",
        "    verbose=1,\n",
        "    mode='min',\n",
        "    restore_best_weights=True\n",
        ")\n",
        "\n",
        "# 모델 학습\n",
        "history = model.fit(\n",
        "    [train_users, train_items], train_ratings,\n",
        "    validation_data=([test_users, test_items], test_ratings),\n",
        "    epochs=20,\n",
        "    verbose=1,\n",
        "    callbacks=[early_stopping]\n",
        ")\n"
      ],
      "metadata": {
        "colab": {
          "base_uri": "https://localhost:8080/",
          "height": 0
        },
        "id": "97R7xZKBDsbh",
        "outputId": "7f92b28d-cd37-48d5-8d7b-f02a6da009f5"
      },
      "execution_count": 33,
      "outputs": [
        {
          "output_type": "stream",
          "name": "stdout",
          "text": [
            "Model: \"model_7\"\n",
            "__________________________________________________________________________________________________\n",
            " Layer (type)                Output Shape                 Param #   Connected to                  \n",
            "==================================================================================================\n",
            " input_19 (InputLayer)       [(None, 1)]                  0         []                            \n",
            "                                                                                                  \n",
            " input_20 (InputLayer)       [(None, 1)]                  0         []                            \n",
            "                                                                                                  \n",
            " embedding_18 (Embedding)    (None, 1, 15)                15000     ['input_19[0][0]']            \n",
            "                                                                                                  \n",
            " embedding_19 (Embedding)    (None, 1, 15)                24945     ['input_20[0][0]']            \n",
            "                                                                                                  \n",
            " flatten_18 (Flatten)        (None, 15)                   0         ['embedding_18[0][0]']        \n",
            "                                                                                                  \n",
            " flatten_19 (Flatten)        (None, 15)                   0         ['embedding_19[0][0]']        \n",
            "                                                                                                  \n",
            " concatenate_9 (Concatenate  (None, 30)                   0         ['flatten_18[0][0]',          \n",
            " )                                                                   'flatten_19[0][0]']          \n",
            "                                                                                                  \n",
            " dense_33 (Dense)            (None, 128)                  3968      ['concatenate_9[0][0]']       \n",
            "                                                                                                  \n",
            " dropout_16 (Dropout)        (None, 128)                  0         ['dense_33[0][0]']            \n",
            "                                                                                                  \n",
            " dense_34 (Dense)            (None, 64)                   8256      ['dropout_16[0][0]']          \n",
            "                                                                                                  \n",
            " dropout_17 (Dropout)        (None, 64)                   0         ['dense_34[0][0]']            \n",
            "                                                                                                  \n",
            " dense_35 (Dense)            (None, 32)                   2080      ['dropout_17[0][0]']          \n",
            "                                                                                                  \n",
            " dense_36 (Dense)            (None, 1)                    33        ['dense_35[0][0]']            \n",
            "                                                                                                  \n",
            " activation_5 (Activation)   (None, 1)                    0         ['dense_36[0][0]']            \n",
            "                                                                                                  \n",
            "==================================================================================================\n",
            "Total params: 54282 (212.04 KB)\n",
            "Trainable params: 54282 (212.04 KB)\n",
            "Non-trainable params: 0 (0.00 Byte)\n",
            "__________________________________________________________________________________________________\n",
            "Epoch 1/20\n",
            "40123/40123 [==============================] - 263s 6ms/step - loss: 8.8484 - root_mean_squared_error: 2.9746 - val_loss: 8.8552 - val_root_mean_squared_error: 2.9758\n",
            "Epoch 2/20\n",
            "40123/40123 [==============================] - 246s 6ms/step - loss: 8.8475 - root_mean_squared_error: 2.9745 - val_loss: 8.8552 - val_root_mean_squared_error: 2.9758\n",
            "Epoch 3/20\n",
            "40123/40123 [==============================] - 245s 6ms/step - loss: 8.8476 - root_mean_squared_error: 2.9745 - val_loss: 8.8552 - val_root_mean_squared_error: 2.9758\n",
            "Epoch 4/20\n",
            "40123/40123 [==============================] - 256s 6ms/step - loss: 8.8475 - root_mean_squared_error: 2.9745 - val_loss: 8.8552 - val_root_mean_squared_error: 2.9758\n",
            "Epoch 5/20\n",
            "40123/40123 [==============================] - 238s 6ms/step - loss: 8.8475 - root_mean_squared_error: 2.9745 - val_loss: 8.8552 - val_root_mean_squared_error: 2.9758\n",
            "Epoch 6/20\n",
            "40120/40123 [============================>.] - ETA: 0s - loss: 8.8476 - root_mean_squared_error: 2.9745Restoring model weights from the end of the best epoch: 1.\n",
            "40123/40123 [==============================] - 268s 7ms/step - loss: 8.8475 - root_mean_squared_error: 2.9745 - val_loss: 8.8552 - val_root_mean_squared_error: 2.9758\n",
            "Epoch 6: early stopping\n"
          ]
        }
      ]
    },
    {
      "cell_type": "markdown",
      "source": [
        "시그모이드 단점:\n",
        "계산식에 지수 항이 있어서 오래 걸림.(연산비용이 많이든다)\n",
        "\n",
        "그라디언트 세츄레이션 문제 : 그라디언트는 편미분을 통해 계산되는데 시그모이드 함수 부분에서 미분을 할 경우 함수의 양쪽 끝부분인 -4와 +4 부분을 포함한 구간에서 미분치가 0이 됩니다. 그럴 경우 그라디언트가 0이 되고 학습이 진전이 되지 않아 오차가 더 이상 떨어지지 않게 됩니다.\n",
        "\n",
        "그라디언트 소실 문제나 폭주 문제를 해결하면서도 출력 범위를 제한할 수 있는 활성화 함수로는 Tanh 함수가 있습니다. Tanh 함수는 Sigmoid 함수와 유사하지만 출력 범위가 -1에서 1 사이로 제한됩니다. 따라서 평점 예측과 같은 출력이 특정 범위에 제한되는 문제에 적합할 수 있습니다."
      ],
      "metadata": {
        "id": "YuIMeoEJFJ6Y"
      }
    },
    {
      "cell_type": "markdown",
      "source": [
        "다른 활성화 함수 중에서도 출력 값을 특정 범위로 제한할 수 있는 함수로는 Swish 함수가 있습니다. Swish 함수는 Sigmoid 함수와 ReLU 함수의 특성을 혼합한 것으로, 다음과 같이 정의됩니다:\n",
        "\n",
        "Swish\n",
        "(\n",
        "𝑥\n",
        ")\n",
        "=\n",
        "𝑥\n",
        "⋅\n",
        "Sigmoid\n",
        "(\n",
        "𝑥\n",
        ")\n",
        "Swish(x)=x⋅Sigmoid(x)\n",
        "Swish 함수는 ReLU와 유사한 형태를 가지면서도 Sigmoid 함수처럼 출력 값을 0과 1 사이로 압축합니다. 이러한 특성으로 인해 Swish 함수는 신경망의 학습 성능을 향상시킬 수 있는 경우가 있습니다.\n",
        "\n",
        "Swish 함수는 TensorFlow 2.0부터 기본적으로 제공된다"
      ],
      "metadata": {
        "id": "2r-ZX3-WGTsT"
      }
    },
    {
      "cell_type": "code",
      "source": [
        "# 시각화\n",
        "plt.plot(history.history['root_mean_squared_error'])\n",
        "plt.plot(history.history['val_root_mean_squared_error'])"
      ],
      "metadata": {
        "id": "8K6j0DKxLE9F"
      },
      "execution_count": null,
      "outputs": []
    },
    {
      "cell_type": "markdown",
      "source": [
        "# Swish 함수 사용\n"
      ],
      "metadata": {
        "id": "sDHsU_iuIyHb"
      }
    },
    {
      "cell_type": "code",
      "source": [
        "from tensorflow.keras.layers import Activation\n",
        "\n",
        "# Swish 함수 정의\n",
        "def swish(x):\n",
        "    return x * tf.sigmoid(x)\n",
        "\n",
        "# 데이터 전처리\n",
        "non_zero_df = df[df['rating'] != 0]\n",
        "pivot_table = non_zero_df.pivot(index='user_id', columns='place_id', values='rating').fillna(0)\n",
        "train, test = train_test_split(pivot_table, test_size=0.2, random_state=42)\n",
        "\n",
        "train_users, train_items = np.where(train > 0)\n",
        "train_ratings = train.values[train > 0]\n",
        "\n",
        "test_users, test_items = np.where(test > 0)\n",
        "test_ratings = test.values[test > 0]\n",
        "\n",
        "# 모델 입력\n",
        "user_input = Input(shape=(1,), dtype='int32')\n",
        "item_input = Input(shape=(1,), dtype='int32')\n",
        "\n",
        "# 임베딩 레이어\n",
        "user_embedding = Embedding(input_dim=pivot_table.shape[0], output_dim=15, input_length=1)(user_input)\n",
        "item_embedding = Embedding(input_dim=pivot_table.shape[1], output_dim=15, input_length=1)(item_input)\n",
        "\n",
        "# 임베딩 벡터 평탄화\n",
        "user_vector = Flatten()(user_embedding)\n",
        "item_vector = Flatten()(item_embedding)\n",
        "\n",
        "# 임베딩 벡터의 연결\n",
        "concatenated = Concatenate()([user_vector, item_vector])\n",
        "\n",
        "# MLP 레이어\n",
        "mlp_layer = Dense(128, activation=swish)(concatenated)\n",
        "mlp_layer = Dropout(0.2)(mlp_layer)\n",
        "mlp_layer = Dense(64, activation=swish)(mlp_layer)\n",
        "mlp_layer = Dropout(0.2)(mlp_layer)\n",
        "mlp_layer = Dense(32, activation=swish)(mlp_layer)\n",
        "\n",
        "# 출력층\n",
        "mlp_output = Dense(1, activation='sigmoid')(mlp_layer)\n",
        "\n",
        "# 반올림 함수 정의\n",
        "def round_to_nearest_half(x):\n",
        "    return round(x * 2) / 2\n",
        "\n",
        "# 모델 생성\n",
        "model = Model(inputs=[user_input, item_input], outputs=mlp_output)\n",
        "\n",
        "# 손실 함수와 최적화 알고리즘 설정\n",
        "model.compile(optimizer=Adam(0.001), loss='mean_squared_error', metrics=[RootMeanSquaredError()])\n",
        "\n",
        "# 모델 요약 출력\n",
        "model.summary()\n",
        "\n",
        "# 얼리스타핑 설정\n",
        "early_stopping = EarlyStopping(\n",
        "    monitor='val_root_mean_squared_error',\n",
        "    patience=5,\n",
        "    verbose=1,\n",
        "    mode='min',\n",
        "    restore_best_weights=True\n",
        ")\n",
        "\n",
        "# 모델 학습\n",
        "history = model.fit(\n",
        "    [train_users, train_items], train_ratings,\n",
        "    validation_data=([test_users, test_items], test_ratings),\n",
        "    epochs=20,\n",
        "    verbose=1,\n",
        "    callbacks=[early_stopping]\n",
        ")\n"
      ],
      "metadata": {
        "id": "Zy6BogXmLH7l"
      },
      "execution_count": null,
      "outputs": []
    },
    {
      "cell_type": "markdown",
      "source": [
        "# Tanh 함수 사용"
      ],
      "metadata": {
        "id": "sYkICBx8F9_1"
      }
    },
    {
      "cell_type": "code",
      "source": [
        "# 모델 저장\n",
        "model.save('model0426_2311.h5')"
      ],
      "metadata": {
        "id": "lRyPqI4v2SJe"
      },
      "execution_count": 21,
      "outputs": []
    },
    {
      "cell_type": "code",
      "source": [
        "# user_id==11의 평점이 0인데이터, 그린까 아직 평점을 매기지 않은 장소 구하기\n",
        "unrated_places = pivot_table.loc[11].loc[pivot_table.loc[11] == 0].index\n",
        "from tensorflow.keras.models import load_model\n",
        "\n",
        "# 모델 불러오기\n",
        "model = load_model('model0425_2200.h5')\n",
        "\n",
        "df2 = df.copy()\n",
        "\n",
        "# 모델 예측\n",
        "predictions = model.predict([df2['user_id'], df2['place_id']])\n",
        "\n",
        "# 예측 평점 출력\n",
        "print(predictions)\n",
        "\n",
        "# df2에 'predict_rating' 컬럼추가하기\n",
        "df2['predict_rating'] = predictions"
      ],
      "metadata": {
        "colab": {
          "base_uri": "https://localhost:8080/",
          "height": 386
        },
        "id": "amB_jEZX2VLA",
        "outputId": "26705219-9f55-4ca9-8774-fbf9c52616d9"
      },
      "execution_count": 15,
      "outputs": [
        {
          "output_type": "stream",
          "name": "stdout",
          "text": [
            "51969/51969 [==============================] - 100s 2ms/step\n"
          ]
        },
        {
          "output_type": "error",
          "ename": "KeyboardInterrupt",
          "evalue": "",
          "traceback": [
            "\u001b[0;31m---------------------------------------------------------------------------\u001b[0m",
            "\u001b[0;31mKeyboardInterrupt\u001b[0m                         Traceback (most recent call last)",
            "\u001b[0;32m<ipython-input-15-247943104401>\u001b[0m in \u001b[0;36m<cell line: 11>\u001b[0;34m()\u001b[0m\n\u001b[1;32m      9\u001b[0m \u001b[0;34m\u001b[0m\u001b[0m\n\u001b[1;32m     10\u001b[0m \u001b[0;31m# 모델 예측\u001b[0m\u001b[0;34m\u001b[0m\u001b[0;34m\u001b[0m\u001b[0m\n\u001b[0;32m---> 11\u001b[0;31m \u001b[0mpredictions\u001b[0m \u001b[0;34m=\u001b[0m \u001b[0mmodel\u001b[0m\u001b[0;34m.\u001b[0m\u001b[0mpredict\u001b[0m\u001b[0;34m(\u001b[0m\u001b[0;34m[\u001b[0m\u001b[0mdf2\u001b[0m\u001b[0;34m[\u001b[0m\u001b[0;34m'user_id'\u001b[0m\u001b[0;34m]\u001b[0m\u001b[0;34m,\u001b[0m \u001b[0mdf2\u001b[0m\u001b[0;34m[\u001b[0m\u001b[0;34m'place_id'\u001b[0m\u001b[0;34m]\u001b[0m\u001b[0;34m]\u001b[0m\u001b[0;34m)\u001b[0m\u001b[0;34m\u001b[0m\u001b[0;34m\u001b[0m\u001b[0m\n\u001b[0m\u001b[1;32m     12\u001b[0m \u001b[0;34m\u001b[0m\u001b[0m\n\u001b[1;32m     13\u001b[0m \u001b[0;31m# 예측 평점 출력\u001b[0m\u001b[0;34m\u001b[0m\u001b[0;34m\u001b[0m\u001b[0m\n",
            "\u001b[0;32m/usr/local/lib/python3.10/dist-packages/keras/src/utils/traceback_utils.py\u001b[0m in \u001b[0;36merror_handler\u001b[0;34m(*args, **kwargs)\u001b[0m\n\u001b[1;32m     63\u001b[0m         \u001b[0mfiltered_tb\u001b[0m \u001b[0;34m=\u001b[0m \u001b[0;32mNone\u001b[0m\u001b[0;34m\u001b[0m\u001b[0;34m\u001b[0m\u001b[0m\n\u001b[1;32m     64\u001b[0m         \u001b[0;32mtry\u001b[0m\u001b[0;34m:\u001b[0m\u001b[0;34m\u001b[0m\u001b[0;34m\u001b[0m\u001b[0m\n\u001b[0;32m---> 65\u001b[0;31m             \u001b[0;32mreturn\u001b[0m \u001b[0mfn\u001b[0m\u001b[0;34m(\u001b[0m\u001b[0;34m*\u001b[0m\u001b[0margs\u001b[0m\u001b[0;34m,\u001b[0m \u001b[0;34m**\u001b[0m\u001b[0mkwargs\u001b[0m\u001b[0;34m)\u001b[0m\u001b[0;34m\u001b[0m\u001b[0;34m\u001b[0m\u001b[0m\n\u001b[0m\u001b[1;32m     66\u001b[0m         \u001b[0;32mexcept\u001b[0m \u001b[0mException\u001b[0m \u001b[0;32mas\u001b[0m \u001b[0me\u001b[0m\u001b[0;34m:\u001b[0m\u001b[0;34m\u001b[0m\u001b[0;34m\u001b[0m\u001b[0m\n\u001b[1;32m     67\u001b[0m             \u001b[0mfiltered_tb\u001b[0m \u001b[0;34m=\u001b[0m \u001b[0m_process_traceback_frames\u001b[0m\u001b[0;34m(\u001b[0m\u001b[0me\u001b[0m\u001b[0;34m.\u001b[0m\u001b[0m__traceback__\u001b[0m\u001b[0;34m)\u001b[0m\u001b[0;34m\u001b[0m\u001b[0;34m\u001b[0m\u001b[0m\n",
            "\u001b[0;32m/usr/local/lib/python3.10/dist-packages/keras/src/engine/training.py\u001b[0m in \u001b[0;36mpredict\u001b[0;34m(self, x, batch_size, verbose, steps, callbacks, max_queue_size, workers, use_multiprocessing)\u001b[0m\n\u001b[1;32m   2689\u001b[0m                 \u001b[0mself\u001b[0m\u001b[0;34m.\u001b[0m\u001b[0m_steps_per_execution_tuner\u001b[0m\u001b[0;34m.\u001b[0m\u001b[0mstop\u001b[0m\u001b[0;34m(\u001b[0m\u001b[0;34m)\u001b[0m\u001b[0;34m\u001b[0m\u001b[0;34m\u001b[0m\u001b[0m\n\u001b[1;32m   2690\u001b[0m             \u001b[0mcallbacks\u001b[0m\u001b[0;34m.\u001b[0m\u001b[0mon_predict_end\u001b[0m\u001b[0;34m(\u001b[0m\u001b[0;34m)\u001b[0m\u001b[0;34m\u001b[0m\u001b[0;34m\u001b[0m\u001b[0m\n\u001b[0;32m-> 2691\u001b[0;31m         all_outputs = tf.__internal__.nest.map_structure_up_to(\n\u001b[0m\u001b[1;32m   2692\u001b[0m             \u001b[0mbatch_outputs\u001b[0m\u001b[0;34m,\u001b[0m \u001b[0mpotentially_ragged_concat\u001b[0m\u001b[0;34m,\u001b[0m \u001b[0moutputs\u001b[0m\u001b[0;34m\u001b[0m\u001b[0;34m\u001b[0m\u001b[0m\n\u001b[1;32m   2693\u001b[0m         )\n",
            "\u001b[0;32m/usr/local/lib/python3.10/dist-packages/tensorflow/python/util/nest.py\u001b[0m in \u001b[0;36mmap_structure_up_to\u001b[0;34m(shallow_tree, func, *inputs, **kwargs)\u001b[0m\n\u001b[1;32m   1035\u001b[0m     \u001b[0;31m`\u001b[0m\u001b[0mshallow_tree\u001b[0m\u001b[0;31m`\u001b[0m\u001b[0;34m.\u001b[0m\u001b[0;34m\u001b[0m\u001b[0;34m\u001b[0m\u001b[0m\n\u001b[1;32m   1036\u001b[0m   \"\"\"\n\u001b[0;32m-> 1037\u001b[0;31m   return nest_util.map_structure_up_to(\n\u001b[0m\u001b[1;32m   1038\u001b[0m       \u001b[0mnest_util\u001b[0m\u001b[0;34m.\u001b[0m\u001b[0mModality\u001b[0m\u001b[0;34m.\u001b[0m\u001b[0mCORE\u001b[0m\u001b[0;34m,\u001b[0m\u001b[0;34m\u001b[0m\u001b[0;34m\u001b[0m\u001b[0m\n\u001b[1;32m   1039\u001b[0m       \u001b[0mshallow_tree\u001b[0m\u001b[0;34m,\u001b[0m\u001b[0;34m\u001b[0m\u001b[0;34m\u001b[0m\u001b[0m\n",
            "\u001b[0;32m/usr/local/lib/python3.10/dist-packages/tensorflow/python/util/nest_util.py\u001b[0m in \u001b[0;36mmap_structure_up_to\u001b[0;34m(modality, shallow_tree, func, *inputs, **kwargs)\u001b[0m\n\u001b[1;32m   1648\u001b[0m   \"\"\"\n\u001b[1;32m   1649\u001b[0m   \u001b[0;32mif\u001b[0m \u001b[0mmodality\u001b[0m \u001b[0;34m==\u001b[0m \u001b[0mModality\u001b[0m\u001b[0;34m.\u001b[0m\u001b[0mCORE\u001b[0m\u001b[0;34m:\u001b[0m\u001b[0;34m\u001b[0m\u001b[0;34m\u001b[0m\u001b[0m\n\u001b[0;32m-> 1650\u001b[0;31m     return _tf_core_map_structure_with_tuple_paths_up_to(\n\u001b[0m\u001b[1;32m   1651\u001b[0m         \u001b[0mshallow_tree\u001b[0m\u001b[0;34m,\u001b[0m \u001b[0mfunc\u001b[0m\u001b[0;34m,\u001b[0m \u001b[0;34m*\u001b[0m\u001b[0minputs\u001b[0m\u001b[0;34m,\u001b[0m \u001b[0;34m**\u001b[0m\u001b[0mkwargs\u001b[0m\u001b[0;34m\u001b[0m\u001b[0;34m\u001b[0m\u001b[0m\n\u001b[1;32m   1652\u001b[0m     )\n",
            "\u001b[0;32m/usr/local/lib/python3.10/dist-packages/tensorflow/python/util/nest_util.py\u001b[0m in \u001b[0;36m_tf_core_map_structure_with_tuple_paths_up_to\u001b[0;34m(shallow_tree, func, *inputs, **kwargs)\u001b[0m\n\u001b[1;32m   1697\u001b[0m       )\n\u001b[1;32m   1698\u001b[0m   )\n\u001b[0;32m-> 1699\u001b[0;31m   results = [\n\u001b[0m\u001b[1;32m   1700\u001b[0m       \u001b[0mfunc\u001b[0m\u001b[0;34m(\u001b[0m\u001b[0;34m*\u001b[0m\u001b[0margs\u001b[0m\u001b[0;34m,\u001b[0m \u001b[0;34m**\u001b[0m\u001b[0mkwargs\u001b[0m\u001b[0;34m)\u001b[0m \u001b[0;32mfor\u001b[0m \u001b[0margs\u001b[0m \u001b[0;32min\u001b[0m \u001b[0mzip\u001b[0m\u001b[0;34m(\u001b[0m\u001b[0mflat_path_gen\u001b[0m\u001b[0;34m,\u001b[0m \u001b[0;34m*\u001b[0m\u001b[0mflat_value_gen\u001b[0m\u001b[0;34m)\u001b[0m\u001b[0;34m\u001b[0m\u001b[0;34m\u001b[0m\u001b[0m\n\u001b[1;32m   1701\u001b[0m   ]\n",
            "\u001b[0;32m/usr/local/lib/python3.10/dist-packages/tensorflow/python/util/nest_util.py\u001b[0m in \u001b[0;36m<listcomp>\u001b[0;34m(.0)\u001b[0m\n\u001b[1;32m   1698\u001b[0m   )\n\u001b[1;32m   1699\u001b[0m   results = [\n\u001b[0;32m-> 1700\u001b[0;31m       \u001b[0mfunc\u001b[0m\u001b[0;34m(\u001b[0m\u001b[0;34m*\u001b[0m\u001b[0margs\u001b[0m\u001b[0;34m,\u001b[0m \u001b[0;34m**\u001b[0m\u001b[0mkwargs\u001b[0m\u001b[0;34m)\u001b[0m \u001b[0;32mfor\u001b[0m \u001b[0margs\u001b[0m \u001b[0;32min\u001b[0m \u001b[0mzip\u001b[0m\u001b[0;34m(\u001b[0m\u001b[0mflat_path_gen\u001b[0m\u001b[0;34m,\u001b[0m \u001b[0;34m*\u001b[0m\u001b[0mflat_value_gen\u001b[0m\u001b[0;34m)\u001b[0m\u001b[0;34m\u001b[0m\u001b[0;34m\u001b[0m\u001b[0m\n\u001b[0m\u001b[1;32m   1701\u001b[0m   ]\n\u001b[1;32m   1702\u001b[0m   return _tf_core_pack_sequence_as(\n",
            "\u001b[0;32m/usr/local/lib/python3.10/dist-packages/tensorflow/python/util/nest.py\u001b[0m in \u001b[0;36m<lambda>\u001b[0;34m(_, *values)\u001b[0m\n\u001b[1;32m   1038\u001b[0m       \u001b[0mnest_util\u001b[0m\u001b[0;34m.\u001b[0m\u001b[0mModality\u001b[0m\u001b[0;34m.\u001b[0m\u001b[0mCORE\u001b[0m\u001b[0;34m,\u001b[0m\u001b[0;34m\u001b[0m\u001b[0;34m\u001b[0m\u001b[0m\n\u001b[1;32m   1039\u001b[0m       \u001b[0mshallow_tree\u001b[0m\u001b[0;34m,\u001b[0m\u001b[0;34m\u001b[0m\u001b[0;34m\u001b[0m\u001b[0m\n\u001b[0;32m-> 1040\u001b[0;31m       \u001b[0;32mlambda\u001b[0m \u001b[0m_\u001b[0m\u001b[0;34m,\u001b[0m \u001b[0;34m*\u001b[0m\u001b[0mvalues\u001b[0m\u001b[0;34m:\u001b[0m \u001b[0mfunc\u001b[0m\u001b[0;34m(\u001b[0m\u001b[0;34m*\u001b[0m\u001b[0mvalues\u001b[0m\u001b[0;34m)\u001b[0m\u001b[0;34m,\u001b[0m  \u001b[0;31m# Discards the path arg.\u001b[0m\u001b[0;34m\u001b[0m\u001b[0;34m\u001b[0m\u001b[0m\n\u001b[0m\u001b[1;32m   1041\u001b[0m       \u001b[0;34m*\u001b[0m\u001b[0minputs\u001b[0m\u001b[0;34m,\u001b[0m\u001b[0;34m\u001b[0m\u001b[0;34m\u001b[0m\u001b[0m\n\u001b[1;32m   1042\u001b[0m       \u001b[0;34m**\u001b[0m\u001b[0mkwargs\u001b[0m\u001b[0;34m,\u001b[0m\u001b[0;34m\u001b[0m\u001b[0;34m\u001b[0m\u001b[0m\n",
            "\u001b[0;32m/usr/local/lib/python3.10/dist-packages/keras/src/engine/training.py\u001b[0m in \u001b[0;36mpotentially_ragged_concat\u001b[0;34m(tensors)\u001b[0m\n\u001b[1;32m   4246\u001b[0m         \u001b[0;32mreturn\u001b[0m \u001b[0mtf\u001b[0m\u001b[0;34m.\u001b[0m\u001b[0mconcat\u001b[0m\u001b[0;34m(\u001b[0m\u001b[0mtensors\u001b[0m\u001b[0;34m,\u001b[0m \u001b[0maxis\u001b[0m\u001b[0;34m=\u001b[0m\u001b[0;36m0\u001b[0m\u001b[0;34m)\u001b[0m\u001b[0;34m\u001b[0m\u001b[0;34m\u001b[0m\u001b[0m\n\u001b[1;32m   4247\u001b[0m \u001b[0;34m\u001b[0m\u001b[0m\n\u001b[0;32m-> 4248\u001b[0;31m     \u001b[0mnon_batch_shapes\u001b[0m \u001b[0;34m=\u001b[0m \u001b[0mtf\u001b[0m\u001b[0;34m.\u001b[0m\u001b[0mstack\u001b[0m\u001b[0;34m(\u001b[0m\u001b[0;34m[\u001b[0m\u001b[0mtf\u001b[0m\u001b[0;34m.\u001b[0m\u001b[0mshape\u001b[0m\u001b[0;34m(\u001b[0m\u001b[0mtensor\u001b[0m\u001b[0;34m)\u001b[0m\u001b[0;34m[\u001b[0m\u001b[0;36m1\u001b[0m\u001b[0;34m:\u001b[0m\u001b[0;34m]\u001b[0m \u001b[0;32mfor\u001b[0m \u001b[0mtensor\u001b[0m \u001b[0;32min\u001b[0m \u001b[0mtensors\u001b[0m\u001b[0;34m]\u001b[0m\u001b[0;34m)\u001b[0m\u001b[0;34m\u001b[0m\u001b[0;34m\u001b[0m\u001b[0m\n\u001b[0m\u001b[1;32m   4249\u001b[0m     constant_dims = tf.math.reduce_all(\n\u001b[1;32m   4250\u001b[0m         \u001b[0mnon_batch_shapes\u001b[0m \u001b[0;34m==\u001b[0m \u001b[0mnon_batch_shapes\u001b[0m\u001b[0;34m[\u001b[0m\u001b[0;34m:\u001b[0m\u001b[0;36m1\u001b[0m\u001b[0;34m]\u001b[0m\u001b[0;34m,\u001b[0m \u001b[0maxis\u001b[0m\u001b[0;34m=\u001b[0m\u001b[0;36m0\u001b[0m\u001b[0;34m\u001b[0m\u001b[0;34m\u001b[0m\u001b[0m\n",
            "\u001b[0;32m/usr/local/lib/python3.10/dist-packages/keras/src/engine/training.py\u001b[0m in \u001b[0;36m<listcomp>\u001b[0;34m(.0)\u001b[0m\n\u001b[1;32m   4246\u001b[0m         \u001b[0;32mreturn\u001b[0m \u001b[0mtf\u001b[0m\u001b[0;34m.\u001b[0m\u001b[0mconcat\u001b[0m\u001b[0;34m(\u001b[0m\u001b[0mtensors\u001b[0m\u001b[0;34m,\u001b[0m \u001b[0maxis\u001b[0m\u001b[0;34m=\u001b[0m\u001b[0;36m0\u001b[0m\u001b[0;34m)\u001b[0m\u001b[0;34m\u001b[0m\u001b[0;34m\u001b[0m\u001b[0m\n\u001b[1;32m   4247\u001b[0m \u001b[0;34m\u001b[0m\u001b[0m\n\u001b[0;32m-> 4248\u001b[0;31m     \u001b[0mnon_batch_shapes\u001b[0m \u001b[0;34m=\u001b[0m \u001b[0mtf\u001b[0m\u001b[0;34m.\u001b[0m\u001b[0mstack\u001b[0m\u001b[0;34m(\u001b[0m\u001b[0;34m[\u001b[0m\u001b[0mtf\u001b[0m\u001b[0;34m.\u001b[0m\u001b[0mshape\u001b[0m\u001b[0;34m(\u001b[0m\u001b[0mtensor\u001b[0m\u001b[0;34m)\u001b[0m\u001b[0;34m[\u001b[0m\u001b[0;36m1\u001b[0m\u001b[0;34m:\u001b[0m\u001b[0;34m]\u001b[0m \u001b[0;32mfor\u001b[0m \u001b[0mtensor\u001b[0m \u001b[0;32min\u001b[0m \u001b[0mtensors\u001b[0m\u001b[0;34m]\u001b[0m\u001b[0;34m)\u001b[0m\u001b[0;34m\u001b[0m\u001b[0;34m\u001b[0m\u001b[0m\n\u001b[0m\u001b[1;32m   4249\u001b[0m     constant_dims = tf.math.reduce_all(\n\u001b[1;32m   4250\u001b[0m         \u001b[0mnon_batch_shapes\u001b[0m \u001b[0;34m==\u001b[0m \u001b[0mnon_batch_shapes\u001b[0m\u001b[0;34m[\u001b[0m\u001b[0;34m:\u001b[0m\u001b[0;36m1\u001b[0m\u001b[0;34m]\u001b[0m\u001b[0;34m,\u001b[0m \u001b[0maxis\u001b[0m\u001b[0;34m=\u001b[0m\u001b[0;36m0\u001b[0m\u001b[0;34m\u001b[0m\u001b[0;34m\u001b[0m\u001b[0m\n",
            "\u001b[0;32m/usr/local/lib/python3.10/dist-packages/tensorflow/python/util/traceback_utils.py\u001b[0m in \u001b[0;36merror_handler\u001b[0;34m(*args, **kwargs)\u001b[0m\n\u001b[1;32m    148\u001b[0m     \u001b[0mfiltered_tb\u001b[0m \u001b[0;34m=\u001b[0m \u001b[0;32mNone\u001b[0m\u001b[0;34m\u001b[0m\u001b[0;34m\u001b[0m\u001b[0m\n\u001b[1;32m    149\u001b[0m     \u001b[0;32mtry\u001b[0m\u001b[0;34m:\u001b[0m\u001b[0;34m\u001b[0m\u001b[0;34m\u001b[0m\u001b[0m\n\u001b[0;32m--> 150\u001b[0;31m       \u001b[0;32mreturn\u001b[0m \u001b[0mfn\u001b[0m\u001b[0;34m(\u001b[0m\u001b[0;34m*\u001b[0m\u001b[0margs\u001b[0m\u001b[0;34m,\u001b[0m \u001b[0;34m**\u001b[0m\u001b[0mkwargs\u001b[0m\u001b[0;34m)\u001b[0m\u001b[0;34m\u001b[0m\u001b[0;34m\u001b[0m\u001b[0m\n\u001b[0m\u001b[1;32m    151\u001b[0m     \u001b[0;32mexcept\u001b[0m \u001b[0mException\u001b[0m \u001b[0;32mas\u001b[0m \u001b[0me\u001b[0m\u001b[0;34m:\u001b[0m\u001b[0;34m\u001b[0m\u001b[0;34m\u001b[0m\u001b[0m\n\u001b[1;32m    152\u001b[0m       \u001b[0mfiltered_tb\u001b[0m \u001b[0;34m=\u001b[0m \u001b[0m_process_traceback_frames\u001b[0m\u001b[0;34m(\u001b[0m\u001b[0me\u001b[0m\u001b[0;34m.\u001b[0m\u001b[0m__traceback__\u001b[0m\u001b[0;34m)\u001b[0m\u001b[0;34m\u001b[0m\u001b[0;34m\u001b[0m\u001b[0m\n",
            "\u001b[0;32m/usr/local/lib/python3.10/dist-packages/tensorflow/python/util/dispatch.py\u001b[0m in \u001b[0;36mop_dispatch_handler\u001b[0;34m(*args, **kwargs)\u001b[0m\n\u001b[1;32m   1258\u001b[0m       \u001b[0;31m# Fallback dispatch system (dispatch v1):\u001b[0m\u001b[0;34m\u001b[0m\u001b[0;34m\u001b[0m\u001b[0m\n\u001b[1;32m   1259\u001b[0m       \u001b[0;32mtry\u001b[0m\u001b[0;34m:\u001b[0m\u001b[0;34m\u001b[0m\u001b[0;34m\u001b[0m\u001b[0m\n\u001b[0;32m-> 1260\u001b[0;31m         \u001b[0;32mreturn\u001b[0m \u001b[0mdispatch_target\u001b[0m\u001b[0;34m(\u001b[0m\u001b[0;34m*\u001b[0m\u001b[0margs\u001b[0m\u001b[0;34m,\u001b[0m \u001b[0;34m**\u001b[0m\u001b[0mkwargs\u001b[0m\u001b[0;34m)\u001b[0m\u001b[0;34m\u001b[0m\u001b[0;34m\u001b[0m\u001b[0m\n\u001b[0m\u001b[1;32m   1261\u001b[0m       \u001b[0;32mexcept\u001b[0m \u001b[0;34m(\u001b[0m\u001b[0mTypeError\u001b[0m\u001b[0;34m,\u001b[0m \u001b[0mValueError\u001b[0m\u001b[0;34m)\u001b[0m\u001b[0;34m:\u001b[0m\u001b[0;34m\u001b[0m\u001b[0;34m\u001b[0m\u001b[0m\n\u001b[1;32m   1262\u001b[0m         \u001b[0;31m# Note: convert_to_eager_tensor currently raises a ValueError, not a\u001b[0m\u001b[0;34m\u001b[0m\u001b[0;34m\u001b[0m\u001b[0m\n",
            "\u001b[0;32m/usr/local/lib/python3.10/dist-packages/tensorflow/python/ops/array_ops.py\u001b[0m in \u001b[0;36m_slice_helper\u001b[0;34m(tensor, slice_spec, var)\u001b[0m\n\u001b[1;32m   1036\u001b[0m       \u001b[0mtf\u001b[0m\u001b[0;34m.\u001b[0m\u001b[0mnewaxis\u001b[0m \u001b[0;32mor\u001b[0m \u001b[0mscalar\u001b[0m \u001b[0mint32\u001b[0m\u001b[0;34m/\u001b[0m\u001b[0mint64\u001b[0m \u001b[0mtensors\u001b[0m\u001b[0;34m.\u001b[0m\u001b[0;34m\u001b[0m\u001b[0;34m\u001b[0m\u001b[0m\n\u001b[1;32m   1037\u001b[0m   \"\"\"\n\u001b[0;32m-> 1038\u001b[0;31m   \u001b[0mtensor\u001b[0m \u001b[0;34m=\u001b[0m \u001b[0mops\u001b[0m\u001b[0;34m.\u001b[0m\u001b[0mconvert_to_tensor\u001b[0m\u001b[0;34m(\u001b[0m\u001b[0mtensor\u001b[0m\u001b[0;34m)\u001b[0m\u001b[0;34m\u001b[0m\u001b[0;34m\u001b[0m\u001b[0m\n\u001b[0m\u001b[1;32m   1039\u001b[0m   \u001b[0;31m# TODO(wangpeng): Consider supporting var\u001b[0m\u001b[0;34m\u001b[0m\u001b[0;34m\u001b[0m\u001b[0m\n\u001b[1;32m   1040\u001b[0m   \u001b[0;32mif\u001b[0m \u001b[0mvar\u001b[0m \u001b[0;32mis\u001b[0m \u001b[0;32mNone\u001b[0m \u001b[0;32mand\u001b[0m \u001b[0mops\u001b[0m\u001b[0;34m.\u001b[0m\u001b[0m_numpy_style_slicing\u001b[0m\u001b[0;34m:\u001b[0m  \u001b[0;31m# pylint: disable=protected-access\u001b[0m\u001b[0;34m\u001b[0m\u001b[0;34m\u001b[0m\u001b[0m\n",
            "\u001b[0;32m/usr/local/lib/python3.10/dist-packages/tensorflow/python/profiler/trace.py\u001b[0m in \u001b[0;36mwrapped\u001b[0;34m(*args, **kwargs)\u001b[0m\n\u001b[1;32m    178\u001b[0m     \u001b[0;34m@\u001b[0m\u001b[0mfunctools\u001b[0m\u001b[0;34m.\u001b[0m\u001b[0mwraps\u001b[0m\u001b[0;34m(\u001b[0m\u001b[0mfunc\u001b[0m\u001b[0;34m)\u001b[0m\u001b[0;34m\u001b[0m\u001b[0;34m\u001b[0m\u001b[0m\n\u001b[1;32m    179\u001b[0m     \u001b[0;32mdef\u001b[0m \u001b[0mwrapped\u001b[0m\u001b[0;34m(\u001b[0m\u001b[0;34m*\u001b[0m\u001b[0margs\u001b[0m\u001b[0;34m,\u001b[0m \u001b[0;34m**\u001b[0m\u001b[0mkwargs\u001b[0m\u001b[0;34m)\u001b[0m\u001b[0;34m:\u001b[0m\u001b[0;34m\u001b[0m\u001b[0;34m\u001b[0m\u001b[0m\n\u001b[0;32m--> 180\u001b[0;31m       \u001b[0;32mif\u001b[0m \u001b[0menabled\u001b[0m\u001b[0;34m:\u001b[0m\u001b[0;34m\u001b[0m\u001b[0;34m\u001b[0m\u001b[0m\n\u001b[0m\u001b[1;32m    181\u001b[0m         \u001b[0;32mwith\u001b[0m \u001b[0mTrace\u001b[0m\u001b[0;34m(\u001b[0m\u001b[0mtrace_name\u001b[0m\u001b[0;34m,\u001b[0m \u001b[0;34m**\u001b[0m\u001b[0mtrace_kwargs\u001b[0m\u001b[0;34m)\u001b[0m\u001b[0;34m:\u001b[0m\u001b[0;34m\u001b[0m\u001b[0;34m\u001b[0m\u001b[0m\n\u001b[1;32m    182\u001b[0m           \u001b[0;32mreturn\u001b[0m \u001b[0mfunc\u001b[0m\u001b[0;34m(\u001b[0m\u001b[0;34m*\u001b[0m\u001b[0margs\u001b[0m\u001b[0;34m,\u001b[0m \u001b[0;34m**\u001b[0m\u001b[0mkwargs\u001b[0m\u001b[0;34m)\u001b[0m\u001b[0;34m\u001b[0m\u001b[0;34m\u001b[0m\u001b[0m\n",
            "\u001b[0;31mKeyboardInterrupt\u001b[0m: "
          ]
        }
      ]
    },
    {
      "cell_type": "code",
      "source": [
        "# user아이디가 11인 사람의 실제 평점과 예측평점\n",
        "df2[df2['user_id'] == 11].sort_values(by='rating', ascending=False)"
      ],
      "metadata": {
        "id": "h2Zri7wK7fy-"
      },
      "execution_count": null,
      "outputs": []
    },
    {
      "cell_type": "code",
      "source": [
        "# user아이디가 11인 사람의 예측평점구하기\n",
        "df2[df2['user_id'] == 11][df2['rating']== 0].sort_values(by='predict_rating', ascending=False).head(10)"
      ],
      "metadata": {
        "id": "sVRtCiUC6-y1"
      },
      "execution_count": null,
      "outputs": []
    },
    {
      "cell_type": "code",
      "source": [
        "df.info()"
      ],
      "metadata": {
        "id": "yT4qcVBeGHUc"
      },
      "execution_count": null,
      "outputs": []
    }
  ]
}