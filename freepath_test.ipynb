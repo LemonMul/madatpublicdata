{
  "cells": [
    {
      "cell_type": "markdown",
      "metadata": {
        "id": "view-in-github",
        "colab_type": "text"
      },
      "source": [
        "<a href=\"https://colab.research.google.com/github/hscrown/madatpublicdata/blob/main/freepath_test.ipynb\" target=\"_parent\"><img src=\"https://colab.research.google.com/assets/colab-badge.svg\" alt=\"Open In Colab\"/></a>"
      ]
    },
    {
      "cell_type": "code",
      "execution_count": 1,
      "metadata": {
        "id": "znQ26fBzhMsc"
      },
      "outputs": [],
      "source": [
        "# !pip install pandas"
      ]
    },
    {
      "cell_type": "code",
      "execution_count": 2,
      "metadata": {
        "id": "SCuD9zKahRFu"
      },
      "outputs": [],
      "source": [
        "# from google.colab import drive\n",
        "# drive.mount('/content/drive')\n"
      ]
    },
    {
      "cell_type": "code",
      "execution_count": 3,
      "metadata": {
        "id": "LZPXcbnLmTWY"
      },
      "outputs": [],
      "source": [
        "import pandas as pd\n",
        "\n",
        "# 파일 경로 설정\n",
        "file_path = 'reviews_240429.json'\n",
        "\n",
        "# 데이터프레임으로 불러오기, lines=True 옵션 추가\n",
        "data = pd.read_json(file_path, lines=True)\n"
      ]
    },
    {
      "cell_type": "code",
      "execution_count": 4,
      "metadata": {
        "id": "zpOvaIKPAptm",
        "colab": {
          "base_uri": "https://localhost:8080/",
          "height": 345
        },
        "outputId": "9409e60d-996d-4699-f84c-b98854c5526a"
      },
      "outputs": [
        {
          "output_type": "execute_result",
          "data": {
            "text/plain": [
              "           User Name  Rating                                    URL  \\\n",
              "4470  cxncnrienf288r       1  https://place.map.kakao.com/729961917   \n",
              "4471             soo       5  https://place.map.kakao.com/729961917   \n",
              "4472             ندى       5  https://place.map.kakao.com/729961917   \n",
              "4473               🐰       1  https://place.map.kakao.com/729961917   \n",
              "4474            Leeh       5  https://place.map.kakao.com/729961917   \n",
              "\n",
              "                                            Review Text Place Name  User Id  \\\n",
              "4470  컴플레인은 중랑구청 도서관 담당하는 부서에 하면 직빵입니다. 여기다 하면 제식구 감...    중랑상봉도서관      482   \n",
              "4471                                                       중랑상봉도서관      717   \n",
              "4472                                      새 건물 새 책 좋아요!    중랑상봉도서관      785   \n",
              "4473  도서관 문 연지 얼마 안됐을때 도서관 오후 8시에 닫는 걸로 공지되어있던데 7시 4...    중랑상봉도서관     2978   \n",
              "4474                                                       중랑상봉도서관      272   \n",
              "\n",
              "      Place Id  \n",
              "4470       159  \n",
              "4471       159  \n",
              "4472       159  \n",
              "4473       159  \n",
              "4474       159  "
            ],
            "text/html": [
              "\n",
              "  <div id=\"df-d65a356c-220f-411a-976a-e5290ddedf8c\" class=\"colab-df-container\">\n",
              "    <div>\n",
              "<style scoped>\n",
              "    .dataframe tbody tr th:only-of-type {\n",
              "        vertical-align: middle;\n",
              "    }\n",
              "\n",
              "    .dataframe tbody tr th {\n",
              "        vertical-align: top;\n",
              "    }\n",
              "\n",
              "    .dataframe thead th {\n",
              "        text-align: right;\n",
              "    }\n",
              "</style>\n",
              "<table border=\"1\" class=\"dataframe\">\n",
              "  <thead>\n",
              "    <tr style=\"text-align: right;\">\n",
              "      <th></th>\n",
              "      <th>User Name</th>\n",
              "      <th>Rating</th>\n",
              "      <th>URL</th>\n",
              "      <th>Review Text</th>\n",
              "      <th>Place Name</th>\n",
              "      <th>User Id</th>\n",
              "      <th>Place Id</th>\n",
              "    </tr>\n",
              "  </thead>\n",
              "  <tbody>\n",
              "    <tr>\n",
              "      <th>4470</th>\n",
              "      <td>cxncnrienf288r</td>\n",
              "      <td>1</td>\n",
              "      <td>https://place.map.kakao.com/729961917</td>\n",
              "      <td>컴플레인은 중랑구청 도서관 담당하는 부서에 하면 직빵입니다. 여기다 하면 제식구 감...</td>\n",
              "      <td>중랑상봉도서관</td>\n",
              "      <td>482</td>\n",
              "      <td>159</td>\n",
              "    </tr>\n",
              "    <tr>\n",
              "      <th>4471</th>\n",
              "      <td>soo</td>\n",
              "      <td>5</td>\n",
              "      <td>https://place.map.kakao.com/729961917</td>\n",
              "      <td></td>\n",
              "      <td>중랑상봉도서관</td>\n",
              "      <td>717</td>\n",
              "      <td>159</td>\n",
              "    </tr>\n",
              "    <tr>\n",
              "      <th>4472</th>\n",
              "      <td>ندى</td>\n",
              "      <td>5</td>\n",
              "      <td>https://place.map.kakao.com/729961917</td>\n",
              "      <td>새 건물 새 책 좋아요!</td>\n",
              "      <td>중랑상봉도서관</td>\n",
              "      <td>785</td>\n",
              "      <td>159</td>\n",
              "    </tr>\n",
              "    <tr>\n",
              "      <th>4473</th>\n",
              "      <td>🐰</td>\n",
              "      <td>1</td>\n",
              "      <td>https://place.map.kakao.com/729961917</td>\n",
              "      <td>도서관 문 연지 얼마 안됐을때 도서관 오후 8시에 닫는 걸로 공지되어있던데 7시 4...</td>\n",
              "      <td>중랑상봉도서관</td>\n",
              "      <td>2978</td>\n",
              "      <td>159</td>\n",
              "    </tr>\n",
              "    <tr>\n",
              "      <th>4474</th>\n",
              "      <td>Leeh</td>\n",
              "      <td>5</td>\n",
              "      <td>https://place.map.kakao.com/729961917</td>\n",
              "      <td></td>\n",
              "      <td>중랑상봉도서관</td>\n",
              "      <td>272</td>\n",
              "      <td>159</td>\n",
              "    </tr>\n",
              "  </tbody>\n",
              "</table>\n",
              "</div>\n",
              "    <div class=\"colab-df-buttons\">\n",
              "\n",
              "  <div class=\"colab-df-container\">\n",
              "    <button class=\"colab-df-convert\" onclick=\"convertToInteractive('df-d65a356c-220f-411a-976a-e5290ddedf8c')\"\n",
              "            title=\"Convert this dataframe to an interactive table.\"\n",
              "            style=\"display:none;\">\n",
              "\n",
              "  <svg xmlns=\"http://www.w3.org/2000/svg\" height=\"24px\" viewBox=\"0 -960 960 960\">\n",
              "    <path d=\"M120-120v-720h720v720H120Zm60-500h600v-160H180v160Zm220 220h160v-160H400v160Zm0 220h160v-160H400v160ZM180-400h160v-160H180v160Zm440 0h160v-160H620v160ZM180-180h160v-160H180v160Zm440 0h160v-160H620v160Z\"/>\n",
              "  </svg>\n",
              "    </button>\n",
              "\n",
              "  <style>\n",
              "    .colab-df-container {\n",
              "      display:flex;\n",
              "      gap: 12px;\n",
              "    }\n",
              "\n",
              "    .colab-df-convert {\n",
              "      background-color: #E8F0FE;\n",
              "      border: none;\n",
              "      border-radius: 50%;\n",
              "      cursor: pointer;\n",
              "      display: none;\n",
              "      fill: #1967D2;\n",
              "      height: 32px;\n",
              "      padding: 0 0 0 0;\n",
              "      width: 32px;\n",
              "    }\n",
              "\n",
              "    .colab-df-convert:hover {\n",
              "      background-color: #E2EBFA;\n",
              "      box-shadow: 0px 1px 2px rgba(60, 64, 67, 0.3), 0px 1px 3px 1px rgba(60, 64, 67, 0.15);\n",
              "      fill: #174EA6;\n",
              "    }\n",
              "\n",
              "    .colab-df-buttons div {\n",
              "      margin-bottom: 4px;\n",
              "    }\n",
              "\n",
              "    [theme=dark] .colab-df-convert {\n",
              "      background-color: #3B4455;\n",
              "      fill: #D2E3FC;\n",
              "    }\n",
              "\n",
              "    [theme=dark] .colab-df-convert:hover {\n",
              "      background-color: #434B5C;\n",
              "      box-shadow: 0px 1px 3px 1px rgba(0, 0, 0, 0.15);\n",
              "      filter: drop-shadow(0px 1px 2px rgba(0, 0, 0, 0.3));\n",
              "      fill: #FFFFFF;\n",
              "    }\n",
              "  </style>\n",
              "\n",
              "    <script>\n",
              "      const buttonEl =\n",
              "        document.querySelector('#df-d65a356c-220f-411a-976a-e5290ddedf8c button.colab-df-convert');\n",
              "      buttonEl.style.display =\n",
              "        google.colab.kernel.accessAllowed ? 'block' : 'none';\n",
              "\n",
              "      async function convertToInteractive(key) {\n",
              "        const element = document.querySelector('#df-d65a356c-220f-411a-976a-e5290ddedf8c');\n",
              "        const dataTable =\n",
              "          await google.colab.kernel.invokeFunction('convertToInteractive',\n",
              "                                                    [key], {});\n",
              "        if (!dataTable) return;\n",
              "\n",
              "        const docLinkHtml = 'Like what you see? Visit the ' +\n",
              "          '<a target=\"_blank\" href=https://colab.research.google.com/notebooks/data_table.ipynb>data table notebook</a>'\n",
              "          + ' to learn more about interactive tables.';\n",
              "        element.innerHTML = '';\n",
              "        dataTable['output_type'] = 'display_data';\n",
              "        await google.colab.output.renderOutput(dataTable, element);\n",
              "        const docLink = document.createElement('div');\n",
              "        docLink.innerHTML = docLinkHtml;\n",
              "        element.appendChild(docLink);\n",
              "      }\n",
              "    </script>\n",
              "  </div>\n",
              "\n",
              "\n",
              "<div id=\"df-b480eab2-275c-4bae-b7bd-59fd446a57e2\">\n",
              "  <button class=\"colab-df-quickchart\" onclick=\"quickchart('df-b480eab2-275c-4bae-b7bd-59fd446a57e2')\"\n",
              "            title=\"Suggest charts\"\n",
              "            style=\"display:none;\">\n",
              "\n",
              "<svg xmlns=\"http://www.w3.org/2000/svg\" height=\"24px\"viewBox=\"0 0 24 24\"\n",
              "     width=\"24px\">\n",
              "    <g>\n",
              "        <path d=\"M19 3H5c-1.1 0-2 .9-2 2v14c0 1.1.9 2 2 2h14c1.1 0 2-.9 2-2V5c0-1.1-.9-2-2-2zM9 17H7v-7h2v7zm4 0h-2V7h2v10zm4 0h-2v-4h2v4z\"/>\n",
              "    </g>\n",
              "</svg>\n",
              "  </button>\n",
              "\n",
              "<style>\n",
              "  .colab-df-quickchart {\n",
              "      --bg-color: #E8F0FE;\n",
              "      --fill-color: #1967D2;\n",
              "      --hover-bg-color: #E2EBFA;\n",
              "      --hover-fill-color: #174EA6;\n",
              "      --disabled-fill-color: #AAA;\n",
              "      --disabled-bg-color: #DDD;\n",
              "  }\n",
              "\n",
              "  [theme=dark] .colab-df-quickchart {\n",
              "      --bg-color: #3B4455;\n",
              "      --fill-color: #D2E3FC;\n",
              "      --hover-bg-color: #434B5C;\n",
              "      --hover-fill-color: #FFFFFF;\n",
              "      --disabled-bg-color: #3B4455;\n",
              "      --disabled-fill-color: #666;\n",
              "  }\n",
              "\n",
              "  .colab-df-quickchart {\n",
              "    background-color: var(--bg-color);\n",
              "    border: none;\n",
              "    border-radius: 50%;\n",
              "    cursor: pointer;\n",
              "    display: none;\n",
              "    fill: var(--fill-color);\n",
              "    height: 32px;\n",
              "    padding: 0;\n",
              "    width: 32px;\n",
              "  }\n",
              "\n",
              "  .colab-df-quickchart:hover {\n",
              "    background-color: var(--hover-bg-color);\n",
              "    box-shadow: 0 1px 2px rgba(60, 64, 67, 0.3), 0 1px 3px 1px rgba(60, 64, 67, 0.15);\n",
              "    fill: var(--button-hover-fill-color);\n",
              "  }\n",
              "\n",
              "  .colab-df-quickchart-complete:disabled,\n",
              "  .colab-df-quickchart-complete:disabled:hover {\n",
              "    background-color: var(--disabled-bg-color);\n",
              "    fill: var(--disabled-fill-color);\n",
              "    box-shadow: none;\n",
              "  }\n",
              "\n",
              "  .colab-df-spinner {\n",
              "    border: 2px solid var(--fill-color);\n",
              "    border-color: transparent;\n",
              "    border-bottom-color: var(--fill-color);\n",
              "    animation:\n",
              "      spin 1s steps(1) infinite;\n",
              "  }\n",
              "\n",
              "  @keyframes spin {\n",
              "    0% {\n",
              "      border-color: transparent;\n",
              "      border-bottom-color: var(--fill-color);\n",
              "      border-left-color: var(--fill-color);\n",
              "    }\n",
              "    20% {\n",
              "      border-color: transparent;\n",
              "      border-left-color: var(--fill-color);\n",
              "      border-top-color: var(--fill-color);\n",
              "    }\n",
              "    30% {\n",
              "      border-color: transparent;\n",
              "      border-left-color: var(--fill-color);\n",
              "      border-top-color: var(--fill-color);\n",
              "      border-right-color: var(--fill-color);\n",
              "    }\n",
              "    40% {\n",
              "      border-color: transparent;\n",
              "      border-right-color: var(--fill-color);\n",
              "      border-top-color: var(--fill-color);\n",
              "    }\n",
              "    60% {\n",
              "      border-color: transparent;\n",
              "      border-right-color: var(--fill-color);\n",
              "    }\n",
              "    80% {\n",
              "      border-color: transparent;\n",
              "      border-right-color: var(--fill-color);\n",
              "      border-bottom-color: var(--fill-color);\n",
              "    }\n",
              "    90% {\n",
              "      border-color: transparent;\n",
              "      border-bottom-color: var(--fill-color);\n",
              "    }\n",
              "  }\n",
              "</style>\n",
              "\n",
              "  <script>\n",
              "    async function quickchart(key) {\n",
              "      const quickchartButtonEl =\n",
              "        document.querySelector('#' + key + ' button');\n",
              "      quickchartButtonEl.disabled = true;  // To prevent multiple clicks.\n",
              "      quickchartButtonEl.classList.add('colab-df-spinner');\n",
              "      try {\n",
              "        const charts = await google.colab.kernel.invokeFunction(\n",
              "            'suggestCharts', [key], {});\n",
              "      } catch (error) {\n",
              "        console.error('Error during call to suggestCharts:', error);\n",
              "      }\n",
              "      quickchartButtonEl.classList.remove('colab-df-spinner');\n",
              "      quickchartButtonEl.classList.add('colab-df-quickchart-complete');\n",
              "    }\n",
              "    (() => {\n",
              "      let quickchartButtonEl =\n",
              "        document.querySelector('#df-b480eab2-275c-4bae-b7bd-59fd446a57e2 button');\n",
              "      quickchartButtonEl.style.display =\n",
              "        google.colab.kernel.accessAllowed ? 'block' : 'none';\n",
              "    })();\n",
              "  </script>\n",
              "</div>\n",
              "\n",
              "    </div>\n",
              "  </div>\n"
            ],
            "application/vnd.google.colaboratory.intrinsic+json": {
              "type": "dataframe",
              "summary": "{\n  \"name\": \"data\",\n  \"rows\": 5,\n  \"fields\": [\n    {\n      \"column\": \"User Name\",\n      \"properties\": {\n        \"dtype\": \"string\",\n        \"num_unique_values\": 5,\n        \"samples\": [\n          \"soo\",\n          \"Leeh\",\n          \"\\u0646\\u062f\\u0649\"\n        ],\n        \"semantic_type\": \"\",\n        \"description\": \"\"\n      }\n    },\n    {\n      \"column\": \"Rating\",\n      \"properties\": {\n        \"dtype\": \"number\",\n        \"std\": 2,\n        \"min\": 1,\n        \"max\": 5,\n        \"num_unique_values\": 2,\n        \"samples\": [\n          5,\n          1\n        ],\n        \"semantic_type\": \"\",\n        \"description\": \"\"\n      }\n    },\n    {\n      \"column\": \"URL\",\n      \"properties\": {\n        \"dtype\": \"category\",\n        \"num_unique_values\": 1,\n        \"samples\": [\n          \"https://place.map.kakao.com/729961917\"\n        ],\n        \"semantic_type\": \"\",\n        \"description\": \"\"\n      }\n    },\n    {\n      \"column\": \"Review Text\",\n      \"properties\": {\n        \"dtype\": \"string\",\n        \"num_unique_values\": 4,\n        \"samples\": [\n          \"\"\n        ],\n        \"semantic_type\": \"\",\n        \"description\": \"\"\n      }\n    },\n    {\n      \"column\": \"Place Name\",\n      \"properties\": {\n        \"dtype\": \"category\",\n        \"num_unique_values\": 1,\n        \"samples\": [\n          \"\\uc911\\ub791\\uc0c1\\ubd09\\ub3c4\\uc11c\\uad00\"\n        ],\n        \"semantic_type\": \"\",\n        \"description\": \"\"\n      }\n    },\n    {\n      \"column\": \"User Id\",\n      \"properties\": {\n        \"dtype\": \"number\",\n        \"std\": 1098,\n        \"min\": 272,\n        \"max\": 2978,\n        \"num_unique_values\": 5,\n        \"samples\": [\n          717\n        ],\n        \"semantic_type\": \"\",\n        \"description\": \"\"\n      }\n    },\n    {\n      \"column\": \"Place Id\",\n      \"properties\": {\n        \"dtype\": \"number\",\n        \"std\": 0,\n        \"min\": 159,\n        \"max\": 159,\n        \"num_unique_values\": 1,\n        \"samples\": [\n          159\n        ],\n        \"semantic_type\": \"\",\n        \"description\": \"\"\n      }\n    }\n  ]\n}"
            }
          },
          "metadata": {},
          "execution_count": 4
        }
      ],
      "source": [
        "data.tail()"
      ]
    },
    {
      "cell_type": "code",
      "source": [
        "# 결측치 확인\n",
        "data.isnull().sum()"
      ],
      "metadata": {
        "colab": {
          "base_uri": "https://localhost:8080/"
        },
        "id": "a-US9YT9qTt_",
        "outputId": "e09ec9b2-8e63-4d1f-9630-8f5bb16fe1a6"
      },
      "execution_count": 5,
      "outputs": [
        {
          "output_type": "execute_result",
          "data": {
            "text/plain": [
              "User Name      0\n",
              "Rating         0\n",
              "URL            0\n",
              "Review Text    0\n",
              "Place Name     0\n",
              "User Id        0\n",
              "Place Id       0\n",
              "dtype: int64"
            ]
          },
          "metadata": {},
          "execution_count": 5
        }
      ]
    },
    {
      "cell_type": "code",
      "source": [
        "# Review Text 값이 (\"\") 인 값\n",
        "data[data['Review Text'] == '']"
      ],
      "metadata": {
        "colab": {
          "base_uri": "https://localhost:8080/",
          "height": 423
        },
        "id": "dyZVRirWrne_",
        "outputId": "408c814e-e7f5-49f2-d469-81a88c1ee064"
      },
      "execution_count": 6,
      "outputs": [
        {
          "output_type": "execute_result",
          "data": {
            "text/plain": [
              "     User Name  Rating                                    URL Review Text  \\\n",
              "5          하영래       5    https://place.map.kakao.com/8229674               \n",
              "6         촌철살인       1    https://place.map.kakao.com/8229674               \n",
              "13         정은정       5    https://place.map.kakao.com/8229674               \n",
              "15         김준영       5    https://place.map.kakao.com/7939405               \n",
              "18         G.G       5    https://place.map.kakao.com/7939405               \n",
              "...        ...     ...                                    ...         ...   \n",
              "4458       김운기       5    https://place.map.kakao.com/8068761               \n",
              "4460        얍얍       5    https://place.map.kakao.com/8068761               \n",
              "4463       판별사       5    https://place.map.kakao.com/8068761               \n",
              "4471       soo       5  https://place.map.kakao.com/729961917               \n",
              "4474      Leeh       5  https://place.map.kakao.com/729961917               \n",
              "\n",
              "     Place Name  User Id  Place Id  \n",
              "5        길동생태공원     2822        34  \n",
              "6        길동생태공원     2653        34  \n",
              "13       길동생태공원     2467        34  \n",
              "15        서울대공원     1140        76  \n",
              "18        서울대공원      141        76  \n",
              "...         ...      ...       ...  \n",
              "4458  중랑구립정보도서관     1116       158  \n",
              "4460  중랑구립정보도서관     2017       158  \n",
              "4463  중랑구립정보도서관     2768       158  \n",
              "4471    중랑상봉도서관      717       159  \n",
              "4474    중랑상봉도서관      272       159  \n",
              "\n",
              "[1452 rows x 7 columns]"
            ],
            "text/html": [
              "\n",
              "  <div id=\"df-4d702785-1722-4ba4-bfdb-2a295f6891ae\" class=\"colab-df-container\">\n",
              "    <div>\n",
              "<style scoped>\n",
              "    .dataframe tbody tr th:only-of-type {\n",
              "        vertical-align: middle;\n",
              "    }\n",
              "\n",
              "    .dataframe tbody tr th {\n",
              "        vertical-align: top;\n",
              "    }\n",
              "\n",
              "    .dataframe thead th {\n",
              "        text-align: right;\n",
              "    }\n",
              "</style>\n",
              "<table border=\"1\" class=\"dataframe\">\n",
              "  <thead>\n",
              "    <tr style=\"text-align: right;\">\n",
              "      <th></th>\n",
              "      <th>User Name</th>\n",
              "      <th>Rating</th>\n",
              "      <th>URL</th>\n",
              "      <th>Review Text</th>\n",
              "      <th>Place Name</th>\n",
              "      <th>User Id</th>\n",
              "      <th>Place Id</th>\n",
              "    </tr>\n",
              "  </thead>\n",
              "  <tbody>\n",
              "    <tr>\n",
              "      <th>5</th>\n",
              "      <td>하영래</td>\n",
              "      <td>5</td>\n",
              "      <td>https://place.map.kakao.com/8229674</td>\n",
              "      <td></td>\n",
              "      <td>길동생태공원</td>\n",
              "      <td>2822</td>\n",
              "      <td>34</td>\n",
              "    </tr>\n",
              "    <tr>\n",
              "      <th>6</th>\n",
              "      <td>촌철살인</td>\n",
              "      <td>1</td>\n",
              "      <td>https://place.map.kakao.com/8229674</td>\n",
              "      <td></td>\n",
              "      <td>길동생태공원</td>\n",
              "      <td>2653</td>\n",
              "      <td>34</td>\n",
              "    </tr>\n",
              "    <tr>\n",
              "      <th>13</th>\n",
              "      <td>정은정</td>\n",
              "      <td>5</td>\n",
              "      <td>https://place.map.kakao.com/8229674</td>\n",
              "      <td></td>\n",
              "      <td>길동생태공원</td>\n",
              "      <td>2467</td>\n",
              "      <td>34</td>\n",
              "    </tr>\n",
              "    <tr>\n",
              "      <th>15</th>\n",
              "      <td>김준영</td>\n",
              "      <td>5</td>\n",
              "      <td>https://place.map.kakao.com/7939405</td>\n",
              "      <td></td>\n",
              "      <td>서울대공원</td>\n",
              "      <td>1140</td>\n",
              "      <td>76</td>\n",
              "    </tr>\n",
              "    <tr>\n",
              "      <th>18</th>\n",
              "      <td>G.G</td>\n",
              "      <td>5</td>\n",
              "      <td>https://place.map.kakao.com/7939405</td>\n",
              "      <td></td>\n",
              "      <td>서울대공원</td>\n",
              "      <td>141</td>\n",
              "      <td>76</td>\n",
              "    </tr>\n",
              "    <tr>\n",
              "      <th>...</th>\n",
              "      <td>...</td>\n",
              "      <td>...</td>\n",
              "      <td>...</td>\n",
              "      <td>...</td>\n",
              "      <td>...</td>\n",
              "      <td>...</td>\n",
              "      <td>...</td>\n",
              "    </tr>\n",
              "    <tr>\n",
              "      <th>4458</th>\n",
              "      <td>김운기</td>\n",
              "      <td>5</td>\n",
              "      <td>https://place.map.kakao.com/8068761</td>\n",
              "      <td></td>\n",
              "      <td>중랑구립정보도서관</td>\n",
              "      <td>1116</td>\n",
              "      <td>158</td>\n",
              "    </tr>\n",
              "    <tr>\n",
              "      <th>4460</th>\n",
              "      <td>얍얍</td>\n",
              "      <td>5</td>\n",
              "      <td>https://place.map.kakao.com/8068761</td>\n",
              "      <td></td>\n",
              "      <td>중랑구립정보도서관</td>\n",
              "      <td>2017</td>\n",
              "      <td>158</td>\n",
              "    </tr>\n",
              "    <tr>\n",
              "      <th>4463</th>\n",
              "      <td>판별사</td>\n",
              "      <td>5</td>\n",
              "      <td>https://place.map.kakao.com/8068761</td>\n",
              "      <td></td>\n",
              "      <td>중랑구립정보도서관</td>\n",
              "      <td>2768</td>\n",
              "      <td>158</td>\n",
              "    </tr>\n",
              "    <tr>\n",
              "      <th>4471</th>\n",
              "      <td>soo</td>\n",
              "      <td>5</td>\n",
              "      <td>https://place.map.kakao.com/729961917</td>\n",
              "      <td></td>\n",
              "      <td>중랑상봉도서관</td>\n",
              "      <td>717</td>\n",
              "      <td>159</td>\n",
              "    </tr>\n",
              "    <tr>\n",
              "      <th>4474</th>\n",
              "      <td>Leeh</td>\n",
              "      <td>5</td>\n",
              "      <td>https://place.map.kakao.com/729961917</td>\n",
              "      <td></td>\n",
              "      <td>중랑상봉도서관</td>\n",
              "      <td>272</td>\n",
              "      <td>159</td>\n",
              "    </tr>\n",
              "  </tbody>\n",
              "</table>\n",
              "<p>1452 rows × 7 columns</p>\n",
              "</div>\n",
              "    <div class=\"colab-df-buttons\">\n",
              "\n",
              "  <div class=\"colab-df-container\">\n",
              "    <button class=\"colab-df-convert\" onclick=\"convertToInteractive('df-4d702785-1722-4ba4-bfdb-2a295f6891ae')\"\n",
              "            title=\"Convert this dataframe to an interactive table.\"\n",
              "            style=\"display:none;\">\n",
              "\n",
              "  <svg xmlns=\"http://www.w3.org/2000/svg\" height=\"24px\" viewBox=\"0 -960 960 960\">\n",
              "    <path d=\"M120-120v-720h720v720H120Zm60-500h600v-160H180v160Zm220 220h160v-160H400v160Zm0 220h160v-160H400v160ZM180-400h160v-160H180v160Zm440 0h160v-160H620v160ZM180-180h160v-160H180v160Zm440 0h160v-160H620v160Z\"/>\n",
              "  </svg>\n",
              "    </button>\n",
              "\n",
              "  <style>\n",
              "    .colab-df-container {\n",
              "      display:flex;\n",
              "      gap: 12px;\n",
              "    }\n",
              "\n",
              "    .colab-df-convert {\n",
              "      background-color: #E8F0FE;\n",
              "      border: none;\n",
              "      border-radius: 50%;\n",
              "      cursor: pointer;\n",
              "      display: none;\n",
              "      fill: #1967D2;\n",
              "      height: 32px;\n",
              "      padding: 0 0 0 0;\n",
              "      width: 32px;\n",
              "    }\n",
              "\n",
              "    .colab-df-convert:hover {\n",
              "      background-color: #E2EBFA;\n",
              "      box-shadow: 0px 1px 2px rgba(60, 64, 67, 0.3), 0px 1px 3px 1px rgba(60, 64, 67, 0.15);\n",
              "      fill: #174EA6;\n",
              "    }\n",
              "\n",
              "    .colab-df-buttons div {\n",
              "      margin-bottom: 4px;\n",
              "    }\n",
              "\n",
              "    [theme=dark] .colab-df-convert {\n",
              "      background-color: #3B4455;\n",
              "      fill: #D2E3FC;\n",
              "    }\n",
              "\n",
              "    [theme=dark] .colab-df-convert:hover {\n",
              "      background-color: #434B5C;\n",
              "      box-shadow: 0px 1px 3px 1px rgba(0, 0, 0, 0.15);\n",
              "      filter: drop-shadow(0px 1px 2px rgba(0, 0, 0, 0.3));\n",
              "      fill: #FFFFFF;\n",
              "    }\n",
              "  </style>\n",
              "\n",
              "    <script>\n",
              "      const buttonEl =\n",
              "        document.querySelector('#df-4d702785-1722-4ba4-bfdb-2a295f6891ae button.colab-df-convert');\n",
              "      buttonEl.style.display =\n",
              "        google.colab.kernel.accessAllowed ? 'block' : 'none';\n",
              "\n",
              "      async function convertToInteractive(key) {\n",
              "        const element = document.querySelector('#df-4d702785-1722-4ba4-bfdb-2a295f6891ae');\n",
              "        const dataTable =\n",
              "          await google.colab.kernel.invokeFunction('convertToInteractive',\n",
              "                                                    [key], {});\n",
              "        if (!dataTable) return;\n",
              "\n",
              "        const docLinkHtml = 'Like what you see? Visit the ' +\n",
              "          '<a target=\"_blank\" href=https://colab.research.google.com/notebooks/data_table.ipynb>data table notebook</a>'\n",
              "          + ' to learn more about interactive tables.';\n",
              "        element.innerHTML = '';\n",
              "        dataTable['output_type'] = 'display_data';\n",
              "        await google.colab.output.renderOutput(dataTable, element);\n",
              "        const docLink = document.createElement('div');\n",
              "        docLink.innerHTML = docLinkHtml;\n",
              "        element.appendChild(docLink);\n",
              "      }\n",
              "    </script>\n",
              "  </div>\n",
              "\n",
              "\n",
              "<div id=\"df-d220b697-6098-48d0-aa92-951482dc6d2e\">\n",
              "  <button class=\"colab-df-quickchart\" onclick=\"quickchart('df-d220b697-6098-48d0-aa92-951482dc6d2e')\"\n",
              "            title=\"Suggest charts\"\n",
              "            style=\"display:none;\">\n",
              "\n",
              "<svg xmlns=\"http://www.w3.org/2000/svg\" height=\"24px\"viewBox=\"0 0 24 24\"\n",
              "     width=\"24px\">\n",
              "    <g>\n",
              "        <path d=\"M19 3H5c-1.1 0-2 .9-2 2v14c0 1.1.9 2 2 2h14c1.1 0 2-.9 2-2V5c0-1.1-.9-2-2-2zM9 17H7v-7h2v7zm4 0h-2V7h2v10zm4 0h-2v-4h2v4z\"/>\n",
              "    </g>\n",
              "</svg>\n",
              "  </button>\n",
              "\n",
              "<style>\n",
              "  .colab-df-quickchart {\n",
              "      --bg-color: #E8F0FE;\n",
              "      --fill-color: #1967D2;\n",
              "      --hover-bg-color: #E2EBFA;\n",
              "      --hover-fill-color: #174EA6;\n",
              "      --disabled-fill-color: #AAA;\n",
              "      --disabled-bg-color: #DDD;\n",
              "  }\n",
              "\n",
              "  [theme=dark] .colab-df-quickchart {\n",
              "      --bg-color: #3B4455;\n",
              "      --fill-color: #D2E3FC;\n",
              "      --hover-bg-color: #434B5C;\n",
              "      --hover-fill-color: #FFFFFF;\n",
              "      --disabled-bg-color: #3B4455;\n",
              "      --disabled-fill-color: #666;\n",
              "  }\n",
              "\n",
              "  .colab-df-quickchart {\n",
              "    background-color: var(--bg-color);\n",
              "    border: none;\n",
              "    border-radius: 50%;\n",
              "    cursor: pointer;\n",
              "    display: none;\n",
              "    fill: var(--fill-color);\n",
              "    height: 32px;\n",
              "    padding: 0;\n",
              "    width: 32px;\n",
              "  }\n",
              "\n",
              "  .colab-df-quickchart:hover {\n",
              "    background-color: var(--hover-bg-color);\n",
              "    box-shadow: 0 1px 2px rgba(60, 64, 67, 0.3), 0 1px 3px 1px rgba(60, 64, 67, 0.15);\n",
              "    fill: var(--button-hover-fill-color);\n",
              "  }\n",
              "\n",
              "  .colab-df-quickchart-complete:disabled,\n",
              "  .colab-df-quickchart-complete:disabled:hover {\n",
              "    background-color: var(--disabled-bg-color);\n",
              "    fill: var(--disabled-fill-color);\n",
              "    box-shadow: none;\n",
              "  }\n",
              "\n",
              "  .colab-df-spinner {\n",
              "    border: 2px solid var(--fill-color);\n",
              "    border-color: transparent;\n",
              "    border-bottom-color: var(--fill-color);\n",
              "    animation:\n",
              "      spin 1s steps(1) infinite;\n",
              "  }\n",
              "\n",
              "  @keyframes spin {\n",
              "    0% {\n",
              "      border-color: transparent;\n",
              "      border-bottom-color: var(--fill-color);\n",
              "      border-left-color: var(--fill-color);\n",
              "    }\n",
              "    20% {\n",
              "      border-color: transparent;\n",
              "      border-left-color: var(--fill-color);\n",
              "      border-top-color: var(--fill-color);\n",
              "    }\n",
              "    30% {\n",
              "      border-color: transparent;\n",
              "      border-left-color: var(--fill-color);\n",
              "      border-top-color: var(--fill-color);\n",
              "      border-right-color: var(--fill-color);\n",
              "    }\n",
              "    40% {\n",
              "      border-color: transparent;\n",
              "      border-right-color: var(--fill-color);\n",
              "      border-top-color: var(--fill-color);\n",
              "    }\n",
              "    60% {\n",
              "      border-color: transparent;\n",
              "      border-right-color: var(--fill-color);\n",
              "    }\n",
              "    80% {\n",
              "      border-color: transparent;\n",
              "      border-right-color: var(--fill-color);\n",
              "      border-bottom-color: var(--fill-color);\n",
              "    }\n",
              "    90% {\n",
              "      border-color: transparent;\n",
              "      border-bottom-color: var(--fill-color);\n",
              "    }\n",
              "  }\n",
              "</style>\n",
              "\n",
              "  <script>\n",
              "    async function quickchart(key) {\n",
              "      const quickchartButtonEl =\n",
              "        document.querySelector('#' + key + ' button');\n",
              "      quickchartButtonEl.disabled = true;  // To prevent multiple clicks.\n",
              "      quickchartButtonEl.classList.add('colab-df-spinner');\n",
              "      try {\n",
              "        const charts = await google.colab.kernel.invokeFunction(\n",
              "            'suggestCharts', [key], {});\n",
              "      } catch (error) {\n",
              "        console.error('Error during call to suggestCharts:', error);\n",
              "      }\n",
              "      quickchartButtonEl.classList.remove('colab-df-spinner');\n",
              "      quickchartButtonEl.classList.add('colab-df-quickchart-complete');\n",
              "    }\n",
              "    (() => {\n",
              "      let quickchartButtonEl =\n",
              "        document.querySelector('#df-d220b697-6098-48d0-aa92-951482dc6d2e button');\n",
              "      quickchartButtonEl.style.display =\n",
              "        google.colab.kernel.accessAllowed ? 'block' : 'none';\n",
              "    })();\n",
              "  </script>\n",
              "</div>\n",
              "\n",
              "    </div>\n",
              "  </div>\n"
            ],
            "application/vnd.google.colaboratory.intrinsic+json": {
              "type": "dataframe",
              "repr_error": "0"
            }
          },
          "metadata": {},
          "execution_count": 6
        }
      ]
    },
    {
      "cell_type": "code",
      "source": [
        "# Review Text 값이 \"\"인 값에 0 값 넣기\n",
        "data.loc[data['Review Text'] == '', 'Review Text'] = 0.0"
      ],
      "metadata": {
        "id": "s623oAbaqjLB"
      },
      "execution_count": 7,
      "outputs": []
    },
    {
      "cell_type": "code",
      "source": [
        "# 중복 삭제\n",
        "data = data.drop_duplicates()"
      ],
      "metadata": {
        "id": "tL6ufdVjq2yZ"
      },
      "execution_count": 8,
      "outputs": []
    },
    {
      "cell_type": "code",
      "source": [
        "# 리뷰텍스트가 0인 값 삭제\n",
        "data = data[data['Review Text'] != 0.0]"
      ],
      "metadata": {
        "id": "xdP_WOH4sDn0"
      },
      "execution_count": 9,
      "outputs": []
    },
    {
      "cell_type": "code",
      "source": [
        "data"
      ],
      "metadata": {
        "colab": {
          "base_uri": "https://localhost:8080/",
          "height": 684
        },
        "id": "BYQZ22_Eq4tn",
        "outputId": "d0072bf8-c1e3-47ce-9c65-ac3c8af81b74"
      },
      "execution_count": 10,
      "outputs": [
        {
          "output_type": "execute_result",
          "data": {
            "text/plain": [
              "               User Name  Rating                                    URL  \\\n",
              "0                    배정석       1    https://place.map.kakao.com/8229674   \n",
              "1                    김태운       5    https://place.map.kakao.com/8229674   \n",
              "2                    겜린이       3    https://place.map.kakao.com/8229674   \n",
              "3     Babar Usman Kahlon       4    https://place.map.kakao.com/8229674   \n",
              "4                 wj LEE       1    https://place.map.kakao.com/8229674   \n",
              "...                  ...     ...                                    ...   \n",
              "4468                 김상한       4  https://place.map.kakao.com/729961917   \n",
              "4469                  교환       5  https://place.map.kakao.com/729961917   \n",
              "4470      cxncnrienf288r       1  https://place.map.kakao.com/729961917   \n",
              "4472                 ندى       5  https://place.map.kakao.com/729961917   \n",
              "4473                   🐰       1  https://place.map.kakao.com/729961917   \n",
              "\n",
              "                                            Review Text Place Name  User Id  \\\n",
              "0     현장 공원 주차 관리인들의 마인드가 갑인 미친 조직\\n\\n[Web발신]\\n안녕하십니...     길동생태공원     1685   \n",
              "1                  여러 자연생물이 많고,도장을 찍을 수도 있어서 아이들이 좋아하네요     길동생태공원     1166   \n",
              "2                                      자연이 날뛰는 공간이네요 ㅎㅎ     길동생태공원      936   \n",
              "3     Kahlon King at Gildong Eco Park. The environme...     길동생태공원       82   \n",
              "4                                         짜증나게 미리 예약...     길동생태공원      757   \n",
              "...                                                 ...        ...      ...   \n",
              "4468                     쾌적하고… 책도 깨끗하고\\n1층 카페도 저렴해서 좋아요    중랑상봉도서관     1073   \n",
              "4469  쾌적하고 좋아요! 그치만 개인 공부할 수 있는 장소가 없어서 그 점이 많이 아쉽습니...    중랑상봉도서관      986   \n",
              "4470  컴플레인은 중랑구청 도서관 담당하는 부서에 하면 직빵입니다. 여기다 하면 제식구 감...    중랑상봉도서관      482   \n",
              "4472                                      새 건물 새 책 좋아요!    중랑상봉도서관      785   \n",
              "4473  도서관 문 연지 얼마 안됐을때 도서관 오후 8시에 닫는 걸로 공지되어있던데 7시 4...    중랑상봉도서관     2978   \n",
              "\n",
              "      Place Id  \n",
              "0           34  \n",
              "1           34  \n",
              "2           34  \n",
              "3           34  \n",
              "4           34  \n",
              "...        ...  \n",
              "4468       159  \n",
              "4469       159  \n",
              "4470       159  \n",
              "4472       159  \n",
              "4473       159  \n",
              "\n",
              "[3023 rows x 7 columns]"
            ],
            "text/html": [
              "\n",
              "  <div id=\"df-00067665-a8e5-4766-a0df-7b6d230950a2\" class=\"colab-df-container\">\n",
              "    <div>\n",
              "<style scoped>\n",
              "    .dataframe tbody tr th:only-of-type {\n",
              "        vertical-align: middle;\n",
              "    }\n",
              "\n",
              "    .dataframe tbody tr th {\n",
              "        vertical-align: top;\n",
              "    }\n",
              "\n",
              "    .dataframe thead th {\n",
              "        text-align: right;\n",
              "    }\n",
              "</style>\n",
              "<table border=\"1\" class=\"dataframe\">\n",
              "  <thead>\n",
              "    <tr style=\"text-align: right;\">\n",
              "      <th></th>\n",
              "      <th>User Name</th>\n",
              "      <th>Rating</th>\n",
              "      <th>URL</th>\n",
              "      <th>Review Text</th>\n",
              "      <th>Place Name</th>\n",
              "      <th>User Id</th>\n",
              "      <th>Place Id</th>\n",
              "    </tr>\n",
              "  </thead>\n",
              "  <tbody>\n",
              "    <tr>\n",
              "      <th>0</th>\n",
              "      <td>배정석</td>\n",
              "      <td>1</td>\n",
              "      <td>https://place.map.kakao.com/8229674</td>\n",
              "      <td>현장 공원 주차 관리인들의 마인드가 갑인 미친 조직\\n\\n[Web발신]\\n안녕하십니...</td>\n",
              "      <td>길동생태공원</td>\n",
              "      <td>1685</td>\n",
              "      <td>34</td>\n",
              "    </tr>\n",
              "    <tr>\n",
              "      <th>1</th>\n",
              "      <td>김태운</td>\n",
              "      <td>5</td>\n",
              "      <td>https://place.map.kakao.com/8229674</td>\n",
              "      <td>여러 자연생물이 많고,도장을 찍을 수도 있어서 아이들이 좋아하네요</td>\n",
              "      <td>길동생태공원</td>\n",
              "      <td>1166</td>\n",
              "      <td>34</td>\n",
              "    </tr>\n",
              "    <tr>\n",
              "      <th>2</th>\n",
              "      <td>겜린이</td>\n",
              "      <td>3</td>\n",
              "      <td>https://place.map.kakao.com/8229674</td>\n",
              "      <td>자연이 날뛰는 공간이네요 ㅎㅎ</td>\n",
              "      <td>길동생태공원</td>\n",
              "      <td>936</td>\n",
              "      <td>34</td>\n",
              "    </tr>\n",
              "    <tr>\n",
              "      <th>3</th>\n",
              "      <td>Babar Usman Kahlon</td>\n",
              "      <td>4</td>\n",
              "      <td>https://place.map.kakao.com/8229674</td>\n",
              "      <td>Kahlon King at Gildong Eco Park. The environme...</td>\n",
              "      <td>길동생태공원</td>\n",
              "      <td>82</td>\n",
              "      <td>34</td>\n",
              "    </tr>\n",
              "    <tr>\n",
              "      <th>4</th>\n",
              "      <td>wj LEE</td>\n",
              "      <td>1</td>\n",
              "      <td>https://place.map.kakao.com/8229674</td>\n",
              "      <td>짜증나게 미리 예약...</td>\n",
              "      <td>길동생태공원</td>\n",
              "      <td>757</td>\n",
              "      <td>34</td>\n",
              "    </tr>\n",
              "    <tr>\n",
              "      <th>...</th>\n",
              "      <td>...</td>\n",
              "      <td>...</td>\n",
              "      <td>...</td>\n",
              "      <td>...</td>\n",
              "      <td>...</td>\n",
              "      <td>...</td>\n",
              "      <td>...</td>\n",
              "    </tr>\n",
              "    <tr>\n",
              "      <th>4468</th>\n",
              "      <td>김상한</td>\n",
              "      <td>4</td>\n",
              "      <td>https://place.map.kakao.com/729961917</td>\n",
              "      <td>쾌적하고… 책도 깨끗하고\\n1층 카페도 저렴해서 좋아요</td>\n",
              "      <td>중랑상봉도서관</td>\n",
              "      <td>1073</td>\n",
              "      <td>159</td>\n",
              "    </tr>\n",
              "    <tr>\n",
              "      <th>4469</th>\n",
              "      <td>교환</td>\n",
              "      <td>5</td>\n",
              "      <td>https://place.map.kakao.com/729961917</td>\n",
              "      <td>쾌적하고 좋아요! 그치만 개인 공부할 수 있는 장소가 없어서 그 점이 많이 아쉽습니...</td>\n",
              "      <td>중랑상봉도서관</td>\n",
              "      <td>986</td>\n",
              "      <td>159</td>\n",
              "    </tr>\n",
              "    <tr>\n",
              "      <th>4470</th>\n",
              "      <td>cxncnrienf288r</td>\n",
              "      <td>1</td>\n",
              "      <td>https://place.map.kakao.com/729961917</td>\n",
              "      <td>컴플레인은 중랑구청 도서관 담당하는 부서에 하면 직빵입니다. 여기다 하면 제식구 감...</td>\n",
              "      <td>중랑상봉도서관</td>\n",
              "      <td>482</td>\n",
              "      <td>159</td>\n",
              "    </tr>\n",
              "    <tr>\n",
              "      <th>4472</th>\n",
              "      <td>ندى</td>\n",
              "      <td>5</td>\n",
              "      <td>https://place.map.kakao.com/729961917</td>\n",
              "      <td>새 건물 새 책 좋아요!</td>\n",
              "      <td>중랑상봉도서관</td>\n",
              "      <td>785</td>\n",
              "      <td>159</td>\n",
              "    </tr>\n",
              "    <tr>\n",
              "      <th>4473</th>\n",
              "      <td>🐰</td>\n",
              "      <td>1</td>\n",
              "      <td>https://place.map.kakao.com/729961917</td>\n",
              "      <td>도서관 문 연지 얼마 안됐을때 도서관 오후 8시에 닫는 걸로 공지되어있던데 7시 4...</td>\n",
              "      <td>중랑상봉도서관</td>\n",
              "      <td>2978</td>\n",
              "      <td>159</td>\n",
              "    </tr>\n",
              "  </tbody>\n",
              "</table>\n",
              "<p>3023 rows × 7 columns</p>\n",
              "</div>\n",
              "    <div class=\"colab-df-buttons\">\n",
              "\n",
              "  <div class=\"colab-df-container\">\n",
              "    <button class=\"colab-df-convert\" onclick=\"convertToInteractive('df-00067665-a8e5-4766-a0df-7b6d230950a2')\"\n",
              "            title=\"Convert this dataframe to an interactive table.\"\n",
              "            style=\"display:none;\">\n",
              "\n",
              "  <svg xmlns=\"http://www.w3.org/2000/svg\" height=\"24px\" viewBox=\"0 -960 960 960\">\n",
              "    <path d=\"M120-120v-720h720v720H120Zm60-500h600v-160H180v160Zm220 220h160v-160H400v160Zm0 220h160v-160H400v160ZM180-400h160v-160H180v160Zm440 0h160v-160H620v160ZM180-180h160v-160H180v160Zm440 0h160v-160H620v160Z\"/>\n",
              "  </svg>\n",
              "    </button>\n",
              "\n",
              "  <style>\n",
              "    .colab-df-container {\n",
              "      display:flex;\n",
              "      gap: 12px;\n",
              "    }\n",
              "\n",
              "    .colab-df-convert {\n",
              "      background-color: #E8F0FE;\n",
              "      border: none;\n",
              "      border-radius: 50%;\n",
              "      cursor: pointer;\n",
              "      display: none;\n",
              "      fill: #1967D2;\n",
              "      height: 32px;\n",
              "      padding: 0 0 0 0;\n",
              "      width: 32px;\n",
              "    }\n",
              "\n",
              "    .colab-df-convert:hover {\n",
              "      background-color: #E2EBFA;\n",
              "      box-shadow: 0px 1px 2px rgba(60, 64, 67, 0.3), 0px 1px 3px 1px rgba(60, 64, 67, 0.15);\n",
              "      fill: #174EA6;\n",
              "    }\n",
              "\n",
              "    .colab-df-buttons div {\n",
              "      margin-bottom: 4px;\n",
              "    }\n",
              "\n",
              "    [theme=dark] .colab-df-convert {\n",
              "      background-color: #3B4455;\n",
              "      fill: #D2E3FC;\n",
              "    }\n",
              "\n",
              "    [theme=dark] .colab-df-convert:hover {\n",
              "      background-color: #434B5C;\n",
              "      box-shadow: 0px 1px 3px 1px rgba(0, 0, 0, 0.15);\n",
              "      filter: drop-shadow(0px 1px 2px rgba(0, 0, 0, 0.3));\n",
              "      fill: #FFFFFF;\n",
              "    }\n",
              "  </style>\n",
              "\n",
              "    <script>\n",
              "      const buttonEl =\n",
              "        document.querySelector('#df-00067665-a8e5-4766-a0df-7b6d230950a2 button.colab-df-convert');\n",
              "      buttonEl.style.display =\n",
              "        google.colab.kernel.accessAllowed ? 'block' : 'none';\n",
              "\n",
              "      async function convertToInteractive(key) {\n",
              "        const element = document.querySelector('#df-00067665-a8e5-4766-a0df-7b6d230950a2');\n",
              "        const dataTable =\n",
              "          await google.colab.kernel.invokeFunction('convertToInteractive',\n",
              "                                                    [key], {});\n",
              "        if (!dataTable) return;\n",
              "\n",
              "        const docLinkHtml = 'Like what you see? Visit the ' +\n",
              "          '<a target=\"_blank\" href=https://colab.research.google.com/notebooks/data_table.ipynb>data table notebook</a>'\n",
              "          + ' to learn more about interactive tables.';\n",
              "        element.innerHTML = '';\n",
              "        dataTable['output_type'] = 'display_data';\n",
              "        await google.colab.output.renderOutput(dataTable, element);\n",
              "        const docLink = document.createElement('div');\n",
              "        docLink.innerHTML = docLinkHtml;\n",
              "        element.appendChild(docLink);\n",
              "      }\n",
              "    </script>\n",
              "  </div>\n",
              "\n",
              "\n",
              "<div id=\"df-1975a72f-4c1d-4e70-95fd-8c880e14c199\">\n",
              "  <button class=\"colab-df-quickchart\" onclick=\"quickchart('df-1975a72f-4c1d-4e70-95fd-8c880e14c199')\"\n",
              "            title=\"Suggest charts\"\n",
              "            style=\"display:none;\">\n",
              "\n",
              "<svg xmlns=\"http://www.w3.org/2000/svg\" height=\"24px\"viewBox=\"0 0 24 24\"\n",
              "     width=\"24px\">\n",
              "    <g>\n",
              "        <path d=\"M19 3H5c-1.1 0-2 .9-2 2v14c0 1.1.9 2 2 2h14c1.1 0 2-.9 2-2V5c0-1.1-.9-2-2-2zM9 17H7v-7h2v7zm4 0h-2V7h2v10zm4 0h-2v-4h2v4z\"/>\n",
              "    </g>\n",
              "</svg>\n",
              "  </button>\n",
              "\n",
              "<style>\n",
              "  .colab-df-quickchart {\n",
              "      --bg-color: #E8F0FE;\n",
              "      --fill-color: #1967D2;\n",
              "      --hover-bg-color: #E2EBFA;\n",
              "      --hover-fill-color: #174EA6;\n",
              "      --disabled-fill-color: #AAA;\n",
              "      --disabled-bg-color: #DDD;\n",
              "  }\n",
              "\n",
              "  [theme=dark] .colab-df-quickchart {\n",
              "      --bg-color: #3B4455;\n",
              "      --fill-color: #D2E3FC;\n",
              "      --hover-bg-color: #434B5C;\n",
              "      --hover-fill-color: #FFFFFF;\n",
              "      --disabled-bg-color: #3B4455;\n",
              "      --disabled-fill-color: #666;\n",
              "  }\n",
              "\n",
              "  .colab-df-quickchart {\n",
              "    background-color: var(--bg-color);\n",
              "    border: none;\n",
              "    border-radius: 50%;\n",
              "    cursor: pointer;\n",
              "    display: none;\n",
              "    fill: var(--fill-color);\n",
              "    height: 32px;\n",
              "    padding: 0;\n",
              "    width: 32px;\n",
              "  }\n",
              "\n",
              "  .colab-df-quickchart:hover {\n",
              "    background-color: var(--hover-bg-color);\n",
              "    box-shadow: 0 1px 2px rgba(60, 64, 67, 0.3), 0 1px 3px 1px rgba(60, 64, 67, 0.15);\n",
              "    fill: var(--button-hover-fill-color);\n",
              "  }\n",
              "\n",
              "  .colab-df-quickchart-complete:disabled,\n",
              "  .colab-df-quickchart-complete:disabled:hover {\n",
              "    background-color: var(--disabled-bg-color);\n",
              "    fill: var(--disabled-fill-color);\n",
              "    box-shadow: none;\n",
              "  }\n",
              "\n",
              "  .colab-df-spinner {\n",
              "    border: 2px solid var(--fill-color);\n",
              "    border-color: transparent;\n",
              "    border-bottom-color: var(--fill-color);\n",
              "    animation:\n",
              "      spin 1s steps(1) infinite;\n",
              "  }\n",
              "\n",
              "  @keyframes spin {\n",
              "    0% {\n",
              "      border-color: transparent;\n",
              "      border-bottom-color: var(--fill-color);\n",
              "      border-left-color: var(--fill-color);\n",
              "    }\n",
              "    20% {\n",
              "      border-color: transparent;\n",
              "      border-left-color: var(--fill-color);\n",
              "      border-top-color: var(--fill-color);\n",
              "    }\n",
              "    30% {\n",
              "      border-color: transparent;\n",
              "      border-left-color: var(--fill-color);\n",
              "      border-top-color: var(--fill-color);\n",
              "      border-right-color: var(--fill-color);\n",
              "    }\n",
              "    40% {\n",
              "      border-color: transparent;\n",
              "      border-right-color: var(--fill-color);\n",
              "      border-top-color: var(--fill-color);\n",
              "    }\n",
              "    60% {\n",
              "      border-color: transparent;\n",
              "      border-right-color: var(--fill-color);\n",
              "    }\n",
              "    80% {\n",
              "      border-color: transparent;\n",
              "      border-right-color: var(--fill-color);\n",
              "      border-bottom-color: var(--fill-color);\n",
              "    }\n",
              "    90% {\n",
              "      border-color: transparent;\n",
              "      border-bottom-color: var(--fill-color);\n",
              "    }\n",
              "  }\n",
              "</style>\n",
              "\n",
              "  <script>\n",
              "    async function quickchart(key) {\n",
              "      const quickchartButtonEl =\n",
              "        document.querySelector('#' + key + ' button');\n",
              "      quickchartButtonEl.disabled = true;  // To prevent multiple clicks.\n",
              "      quickchartButtonEl.classList.add('colab-df-spinner');\n",
              "      try {\n",
              "        const charts = await google.colab.kernel.invokeFunction(\n",
              "            'suggestCharts', [key], {});\n",
              "      } catch (error) {\n",
              "        console.error('Error during call to suggestCharts:', error);\n",
              "      }\n",
              "      quickchartButtonEl.classList.remove('colab-df-spinner');\n",
              "      quickchartButtonEl.classList.add('colab-df-quickchart-complete');\n",
              "    }\n",
              "    (() => {\n",
              "      let quickchartButtonEl =\n",
              "        document.querySelector('#df-1975a72f-4c1d-4e70-95fd-8c880e14c199 button');\n",
              "      quickchartButtonEl.style.display =\n",
              "        google.colab.kernel.accessAllowed ? 'block' : 'none';\n",
              "    })();\n",
              "  </script>\n",
              "</div>\n",
              "\n",
              "  <div id=\"id_2c840383-daf4-4a3b-8e6b-7319dff4ec15\">\n",
              "    <style>\n",
              "      .colab-df-generate {\n",
              "        background-color: #E8F0FE;\n",
              "        border: none;\n",
              "        border-radius: 50%;\n",
              "        cursor: pointer;\n",
              "        display: none;\n",
              "        fill: #1967D2;\n",
              "        height: 32px;\n",
              "        padding: 0 0 0 0;\n",
              "        width: 32px;\n",
              "      }\n",
              "\n",
              "      .colab-df-generate:hover {\n",
              "        background-color: #E2EBFA;\n",
              "        box-shadow: 0px 1px 2px rgba(60, 64, 67, 0.3), 0px 1px 3px 1px rgba(60, 64, 67, 0.15);\n",
              "        fill: #174EA6;\n",
              "      }\n",
              "\n",
              "      [theme=dark] .colab-df-generate {\n",
              "        background-color: #3B4455;\n",
              "        fill: #D2E3FC;\n",
              "      }\n",
              "\n",
              "      [theme=dark] .colab-df-generate:hover {\n",
              "        background-color: #434B5C;\n",
              "        box-shadow: 0px 1px 3px 1px rgba(0, 0, 0, 0.15);\n",
              "        filter: drop-shadow(0px 1px 2px rgba(0, 0, 0, 0.3));\n",
              "        fill: #FFFFFF;\n",
              "      }\n",
              "    </style>\n",
              "    <button class=\"colab-df-generate\" onclick=\"generateWithVariable('data')\"\n",
              "            title=\"Generate code using this dataframe.\"\n",
              "            style=\"display:none;\">\n",
              "\n",
              "  <svg xmlns=\"http://www.w3.org/2000/svg\" height=\"24px\"viewBox=\"0 0 24 24\"\n",
              "       width=\"24px\">\n",
              "    <path d=\"M7,19H8.4L18.45,9,17,7.55,7,17.6ZM5,21V16.75L18.45,3.32a2,2,0,0,1,2.83,0l1.4,1.43a1.91,1.91,0,0,1,.58,1.4,1.91,1.91,0,0,1-.58,1.4L9.25,21ZM18.45,9,17,7.55Zm-12,3A5.31,5.31,0,0,0,4.9,8.1,5.31,5.31,0,0,0,1,6.5,5.31,5.31,0,0,0,4.9,4.9,5.31,5.31,0,0,0,6.5,1,5.31,5.31,0,0,0,8.1,4.9,5.31,5.31,0,0,0,12,6.5,5.46,5.46,0,0,0,6.5,12Z\"/>\n",
              "  </svg>\n",
              "    </button>\n",
              "    <script>\n",
              "      (() => {\n",
              "      const buttonEl =\n",
              "        document.querySelector('#id_2c840383-daf4-4a3b-8e6b-7319dff4ec15 button.colab-df-generate');\n",
              "      buttonEl.style.display =\n",
              "        google.colab.kernel.accessAllowed ? 'block' : 'none';\n",
              "\n",
              "      buttonEl.onclick = () => {\n",
              "        google.colab.notebook.generateWithVariable('data');\n",
              "      }\n",
              "      })();\n",
              "    </script>\n",
              "  </div>\n",
              "\n",
              "    </div>\n",
              "  </div>\n"
            ],
            "application/vnd.google.colaboratory.intrinsic+json": {
              "type": "dataframe",
              "variable_name": "data",
              "summary": "{\n  \"name\": \"data\",\n  \"rows\": 3023,\n  \"fields\": [\n    {\n      \"column\": \"User Name\",\n      \"properties\": {\n        \"dtype\": \"string\",\n        \"num_unique_values\": 2180,\n        \"samples\": [\n          \"\\u674e\",\n          \"\\uc6b0\\uc544\\uc545\",\n          \"NANA\"\n        ],\n        \"semantic_type\": \"\",\n        \"description\": \"\"\n      }\n    },\n    {\n      \"column\": \"Rating\",\n      \"properties\": {\n        \"dtype\": \"number\",\n        \"std\": 1,\n        \"min\": 1,\n        \"max\": 5,\n        \"num_unique_values\": 5,\n        \"samples\": [\n          5,\n          2,\n          3\n        ],\n        \"semantic_type\": \"\",\n        \"description\": \"\"\n      }\n    },\n    {\n      \"column\": \"URL\",\n      \"properties\": {\n        \"dtype\": \"category\",\n        \"num_unique_values\": 160,\n        \"samples\": [\n          \"https://place.map.kakao.com/8694501\",\n          \"https://place.map.kakao.com/8251560\",\n          \"https://place.map.kakao.com/11857452\"\n        ],\n        \"semantic_type\": \"\",\n        \"description\": \"\"\n      }\n    },\n    {\n      \"column\": \"Review Text\",\n      \"properties\": {\n        \"dtype\": \"string\",\n        \"num_unique_values\": 2676,\n        \"samples\": [\n          \"\\ub300\\ud55c\\ubbfc\\uad6d \\ub545\\uc5d0 \\uc0b4\\uace0 \\uc788\\ub2e4\\uba74\",\n          \"\\ub108\\ubb34 \\uc2dc\\ub044\\ub7fd\\ub2e4 \\uc77c\\ud558\\ub294 \\uc5ec\\uc790\\ub4e4\\uc774 \\uc870\\uc2ec\\uc131\\uc774 \\ub108\\ubb34\\uc5c6\\ub2e4\",\n          \"\\uacb9\\ubc9a\\uaf43\\uba85\\uc18c \\uac77\\uae30\\uc88b\\uc740 \\ub098\\ub4e4\\uc774\"\n        ],\n        \"semantic_type\": \"\",\n        \"description\": \"\"\n      }\n    },\n    {\n      \"column\": \"Place Name\",\n      \"properties\": {\n        \"dtype\": \"category\",\n        \"num_unique_values\": 174,\n        \"samples\": [\n          \"\\uc11c\\uc6b8\\ud2b9\\ubcc4\\uc2dc\\uad50\\uc721\\uccad\\ub0a8\\uc0b0\\ub3c4\\uc11c\\uad00\",\n          \"\\uafc8\\uafb8\\ub294\\ub3c4\\uc11c\\uad00\",\n          \"\\uae00\\ube5b\\uc815\\ubcf4\\ub3c4\\uc11c\\uad00\"\n        ],\n        \"semantic_type\": \"\",\n        \"description\": \"\"\n      }\n    },\n    {\n      \"column\": \"User Id\",\n      \"properties\": {\n        \"dtype\": \"number\",\n        \"std\": 885,\n        \"min\": 2,\n        \"max\": 3009,\n        \"num_unique_values\": 2180,\n        \"samples\": [\n          879,\n          2142,\n          308\n        ],\n        \"semantic_type\": \"\",\n        \"description\": \"\"\n      }\n    },\n    {\n      \"column\": \"Place Id\",\n      \"properties\": {\n        \"dtype\": \"number\",\n        \"std\": 47,\n        \"min\": 0,\n        \"max\": 177,\n        \"num_unique_values\": 174,\n        \"samples\": [\n          93,\n          37,\n          30\n        ],\n        \"semantic_type\": \"\",\n        \"description\": \"\"\n      }\n    }\n  ]\n}"
            }
          },
          "metadata": {},
          "execution_count": 10
        }
      ]
    },
    {
      "cell_type": "code",
      "execution_count": 11,
      "metadata": {
        "id": "NVTLRaCyp9fW"
      },
      "outputs": [],
      "source": [
        "import re\n",
        "import pandas as pd\n",
        "from tqdm import tqdm\n"
      ]
    },
    {
      "cell_type": "code",
      "execution_count": 12,
      "metadata": {
        "colab": {
          "base_uri": "https://localhost:8080/"
        },
        "id": "NDY04xbDqWgs",
        "outputId": "e5a651b3-0d26-4b6c-9a52-90a70f985e0d"
      },
      "outputs": [
        {
          "output_type": "stream",
          "name": "stdout",
          "text": [
            "Collecting konlpy\n",
            "  Downloading konlpy-0.6.0-py2.py3-none-any.whl (19.4 MB)\n",
            "\u001b[2K     \u001b[90m━━━━━━━━━━━━━━━━━━━━━━━━━━━━━━━━━━━━━━━━\u001b[0m \u001b[32m19.4/19.4 MB\u001b[0m \u001b[31m39.1 MB/s\u001b[0m eta \u001b[36m0:00:00\u001b[0m\n",
            "\u001b[?25hCollecting JPype1>=0.7.0 (from konlpy)\n",
            "  Downloading JPype1-1.5.0-cp310-cp310-manylinux_2_17_x86_64.manylinux2014_x86_64.whl (488 kB)\n",
            "\u001b[2K     \u001b[90m━━━━━━━━━━━━━━━━━━━━━━━━━━━━━━━━━━━━━━━━\u001b[0m \u001b[32m488.6/488.6 kB\u001b[0m \u001b[31m48.3 MB/s\u001b[0m eta \u001b[36m0:00:00\u001b[0m\n",
            "\u001b[?25hRequirement already satisfied: lxml>=4.1.0 in /usr/local/lib/python3.10/dist-packages (from konlpy) (4.9.4)\n",
            "Requirement already satisfied: numpy>=1.6 in /usr/local/lib/python3.10/dist-packages (from konlpy) (1.25.2)\n",
            "Requirement already satisfied: packaging in /usr/local/lib/python3.10/dist-packages (from JPype1>=0.7.0->konlpy) (24.0)\n",
            "Installing collected packages: JPype1, konlpy\n",
            "Successfully installed JPype1-1.5.0 konlpy-0.6.0\n"
          ]
        }
      ],
      "source": [
        "!pip install konlpy"
      ]
    },
    {
      "cell_type": "code",
      "execution_count": 13,
      "metadata": {
        "id": "vE3ABXivsYKR"
      },
      "outputs": [],
      "source": [
        "from konlpy.tag import Okt"
      ]
    },
    {
      "cell_type": "code",
      "execution_count": 14,
      "metadata": {
        "colab": {
          "base_uri": "https://localhost:8080/",
          "height": 1000
        },
        "id": "HJMyR012sm_h",
        "outputId": "c2123f18-8338-4883-aeca-60687631b40c"
      },
      "outputs": [
        {
          "output_type": "stream",
          "name": "stdout",
          "text": [
            "Collecting git+https://github.com/haven-jeon/PyKoSpacing.git\n",
            "  Cloning https://github.com/haven-jeon/PyKoSpacing.git to /tmp/pip-req-build-6vwyg_lf\n",
            "  Running command git clone --filter=blob:none --quiet https://github.com/haven-jeon/PyKoSpacing.git /tmp/pip-req-build-6vwyg_lf\n",
            "  Resolved https://github.com/haven-jeon/PyKoSpacing.git to commit 103ff614a2edf6df87d289ccaf99822b9afa9a42\n",
            "  Preparing metadata (setup.py) ... \u001b[?25l\u001b[?25hdone\n",
            "Collecting tensorflow==2.15.1 (from pykospacing==0.5)\n",
            "  Downloading tensorflow-2.15.1-cp310-cp310-manylinux_2_17_x86_64.manylinux2014_x86_64.whl (475.2 MB)\n",
            "\u001b[2K     \u001b[90m━━━━━━━━━━━━━━━━━━━━━━━━━━━━━━━━━━━━━━━━\u001b[0m \u001b[32m475.2/475.2 MB\u001b[0m \u001b[31m2.2 MB/s\u001b[0m eta \u001b[36m0:00:00\u001b[0m\n",
            "\u001b[?25hCollecting h5py==3.10.0 (from pykospacing==0.5)\n",
            "  Downloading h5py-3.10.0-cp310-cp310-manylinux_2_17_x86_64.manylinux2014_x86_64.whl (4.8 MB)\n",
            "\u001b[2K     \u001b[90m━━━━━━━━━━━━━━━━━━━━━━━━━━━━━━━━━━━━━━━━\u001b[0m \u001b[32m4.8/4.8 MB\u001b[0m \u001b[31m92.4 MB/s\u001b[0m eta \u001b[36m0:00:00\u001b[0m\n",
            "\u001b[?25hCollecting argparse>=1.4.0 (from pykospacing==0.5)\n",
            "  Downloading argparse-1.4.0-py2.py3-none-any.whl (23 kB)\n",
            "Requirement already satisfied: numpy>=1.17.3 in /usr/local/lib/python3.10/dist-packages (from h5py==3.10.0->pykospacing==0.5) (1.25.2)\n",
            "Requirement already satisfied: absl-py>=1.0.0 in /usr/local/lib/python3.10/dist-packages (from tensorflow==2.15.1->pykospacing==0.5) (1.4.0)\n",
            "Requirement already satisfied: astunparse>=1.6.0 in /usr/local/lib/python3.10/dist-packages (from tensorflow==2.15.1->pykospacing==0.5) (1.6.3)\n",
            "Requirement already satisfied: flatbuffers>=23.5.26 in /usr/local/lib/python3.10/dist-packages (from tensorflow==2.15.1->pykospacing==0.5) (24.3.25)\n",
            "Requirement already satisfied: gast!=0.5.0,!=0.5.1,!=0.5.2,>=0.2.1 in /usr/local/lib/python3.10/dist-packages (from tensorflow==2.15.1->pykospacing==0.5) (0.5.4)\n",
            "Requirement already satisfied: google-pasta>=0.1.1 in /usr/local/lib/python3.10/dist-packages (from tensorflow==2.15.1->pykospacing==0.5) (0.2.0)\n",
            "Requirement already satisfied: libclang>=13.0.0 in /usr/local/lib/python3.10/dist-packages (from tensorflow==2.15.1->pykospacing==0.5) (18.1.1)\n",
            "Collecting ml-dtypes~=0.3.1 (from tensorflow==2.15.1->pykospacing==0.5)\n",
            "  Downloading ml_dtypes-0.3.2-cp310-cp310-manylinux_2_17_x86_64.manylinux2014_x86_64.whl (2.2 MB)\n",
            "\u001b[2K     \u001b[90m━━━━━━━━━━━━━━━━━━━━━━━━━━━━━━━━━━━━━━━━\u001b[0m \u001b[32m2.2/2.2 MB\u001b[0m \u001b[31m82.7 MB/s\u001b[0m eta \u001b[36m0:00:00\u001b[0m\n",
            "\u001b[?25hRequirement already satisfied: opt-einsum>=2.3.2 in /usr/local/lib/python3.10/dist-packages (from tensorflow==2.15.1->pykospacing==0.5) (3.3.0)\n",
            "Requirement already satisfied: packaging in /usr/local/lib/python3.10/dist-packages (from tensorflow==2.15.1->pykospacing==0.5) (24.0)\n",
            "Requirement already satisfied: protobuf!=4.21.0,!=4.21.1,!=4.21.2,!=4.21.3,!=4.21.4,!=4.21.5,<5.0.0dev,>=3.20.3 in /usr/local/lib/python3.10/dist-packages (from tensorflow==2.15.1->pykospacing==0.5) (3.20.3)\n",
            "Requirement already satisfied: setuptools in /usr/local/lib/python3.10/dist-packages (from tensorflow==2.15.1->pykospacing==0.5) (67.7.2)\n",
            "Requirement already satisfied: six>=1.12.0 in /usr/local/lib/python3.10/dist-packages (from tensorflow==2.15.1->pykospacing==0.5) (1.16.0)\n",
            "Requirement already satisfied: termcolor>=1.1.0 in /usr/local/lib/python3.10/dist-packages (from tensorflow==2.15.1->pykospacing==0.5) (2.4.0)\n",
            "Requirement already satisfied: typing-extensions>=3.6.6 in /usr/local/lib/python3.10/dist-packages (from tensorflow==2.15.1->pykospacing==0.5) (4.11.0)\n",
            "Requirement already satisfied: wrapt<1.15,>=1.11.0 in /usr/local/lib/python3.10/dist-packages (from tensorflow==2.15.1->pykospacing==0.5) (1.14.1)\n",
            "Requirement already satisfied: tensorflow-io-gcs-filesystem>=0.23.1 in /usr/local/lib/python3.10/dist-packages (from tensorflow==2.15.1->pykospacing==0.5) (0.36.0)\n",
            "Requirement already satisfied: grpcio<2.0,>=1.24.3 in /usr/local/lib/python3.10/dist-packages (from tensorflow==2.15.1->pykospacing==0.5) (1.62.2)\n",
            "Requirement already satisfied: tensorboard<2.16,>=2.15 in /usr/local/lib/python3.10/dist-packages (from tensorflow==2.15.1->pykospacing==0.5) (2.15.2)\n",
            "Requirement already satisfied: tensorflow-estimator<2.16,>=2.15.0 in /usr/local/lib/python3.10/dist-packages (from tensorflow==2.15.1->pykospacing==0.5) (2.15.0)\n",
            "Requirement already satisfied: keras<2.16,>=2.15.0 in /usr/local/lib/python3.10/dist-packages (from tensorflow==2.15.1->pykospacing==0.5) (2.15.0)\n",
            "Requirement already satisfied: wheel<1.0,>=0.23.0 in /usr/local/lib/python3.10/dist-packages (from astunparse>=1.6.0->tensorflow==2.15.1->pykospacing==0.5) (0.43.0)\n",
            "Requirement already satisfied: google-auth<3,>=1.6.3 in /usr/local/lib/python3.10/dist-packages (from tensorboard<2.16,>=2.15->tensorflow==2.15.1->pykospacing==0.5) (2.27.0)\n",
            "Requirement already satisfied: google-auth-oauthlib<2,>=0.5 in /usr/local/lib/python3.10/dist-packages (from tensorboard<2.16,>=2.15->tensorflow==2.15.1->pykospacing==0.5) (1.2.0)\n",
            "Requirement already satisfied: markdown>=2.6.8 in /usr/local/lib/python3.10/dist-packages (from tensorboard<2.16,>=2.15->tensorflow==2.15.1->pykospacing==0.5) (3.6)\n",
            "Requirement already satisfied: requests<3,>=2.21.0 in /usr/local/lib/python3.10/dist-packages (from tensorboard<2.16,>=2.15->tensorflow==2.15.1->pykospacing==0.5) (2.31.0)\n",
            "Requirement already satisfied: tensorboard-data-server<0.8.0,>=0.7.0 in /usr/local/lib/python3.10/dist-packages (from tensorboard<2.16,>=2.15->tensorflow==2.15.1->pykospacing==0.5) (0.7.2)\n",
            "Requirement already satisfied: werkzeug>=1.0.1 in /usr/local/lib/python3.10/dist-packages (from tensorboard<2.16,>=2.15->tensorflow==2.15.1->pykospacing==0.5) (3.0.2)\n",
            "Requirement already satisfied: cachetools<6.0,>=2.0.0 in /usr/local/lib/python3.10/dist-packages (from google-auth<3,>=1.6.3->tensorboard<2.16,>=2.15->tensorflow==2.15.1->pykospacing==0.5) (5.3.3)\n",
            "Requirement already satisfied: pyasn1-modules>=0.2.1 in /usr/local/lib/python3.10/dist-packages (from google-auth<3,>=1.6.3->tensorboard<2.16,>=2.15->tensorflow==2.15.1->pykospacing==0.5) (0.4.0)\n",
            "Requirement already satisfied: rsa<5,>=3.1.4 in /usr/local/lib/python3.10/dist-packages (from google-auth<3,>=1.6.3->tensorboard<2.16,>=2.15->tensorflow==2.15.1->pykospacing==0.5) (4.9)\n",
            "Requirement already satisfied: requests-oauthlib>=0.7.0 in /usr/local/lib/python3.10/dist-packages (from google-auth-oauthlib<2,>=0.5->tensorboard<2.16,>=2.15->tensorflow==2.15.1->pykospacing==0.5) (1.3.1)\n",
            "Requirement already satisfied: charset-normalizer<4,>=2 in /usr/local/lib/python3.10/dist-packages (from requests<3,>=2.21.0->tensorboard<2.16,>=2.15->tensorflow==2.15.1->pykospacing==0.5) (3.3.2)\n",
            "Requirement already satisfied: idna<4,>=2.5 in /usr/local/lib/python3.10/dist-packages (from requests<3,>=2.21.0->tensorboard<2.16,>=2.15->tensorflow==2.15.1->pykospacing==0.5) (3.7)\n",
            "Requirement already satisfied: urllib3<3,>=1.21.1 in /usr/local/lib/python3.10/dist-packages (from requests<3,>=2.21.0->tensorboard<2.16,>=2.15->tensorflow==2.15.1->pykospacing==0.5) (2.0.7)\n",
            "Requirement already satisfied: certifi>=2017.4.17 in /usr/local/lib/python3.10/dist-packages (from requests<3,>=2.21.0->tensorboard<2.16,>=2.15->tensorflow==2.15.1->pykospacing==0.5) (2024.2.2)\n",
            "Requirement already satisfied: MarkupSafe>=2.1.1 in /usr/local/lib/python3.10/dist-packages (from werkzeug>=1.0.1->tensorboard<2.16,>=2.15->tensorflow==2.15.1->pykospacing==0.5) (2.1.5)\n",
            "Requirement already satisfied: pyasn1<0.7.0,>=0.4.6 in /usr/local/lib/python3.10/dist-packages (from pyasn1-modules>=0.2.1->google-auth<3,>=1.6.3->tensorboard<2.16,>=2.15->tensorflow==2.15.1->pykospacing==0.5) (0.6.0)\n",
            "Requirement already satisfied: oauthlib>=3.0.0 in /usr/local/lib/python3.10/dist-packages (from requests-oauthlib>=0.7.0->google-auth-oauthlib<2,>=0.5->tensorboard<2.16,>=2.15->tensorflow==2.15.1->pykospacing==0.5) (3.2.2)\n",
            "Building wheels for collected packages: pykospacing\n",
            "  Building wheel for pykospacing (setup.py) ... \u001b[?25l\u001b[?25hdone\n",
            "  Created wheel for pykospacing: filename=pykospacing-0.5-py3-none-any.whl size=2270666 sha256=07c7d590ccd09586332d0097e68ef1457e07c3ba92832e2eb1a2006f28057071\n",
            "  Stored in directory: /tmp/pip-ephem-wheel-cache-d7o4csgb/wheels/76/b3/33/dda14886ee76b8e53eb05580a14dfcf9145e9eb9d282c53f28\n",
            "Successfully built pykospacing\n",
            "Installing collected packages: argparse, ml-dtypes, h5py, tensorflow, pykospacing\n",
            "  Attempting uninstall: ml-dtypes\n",
            "    Found existing installation: ml-dtypes 0.2.0\n",
            "    Uninstalling ml-dtypes-0.2.0:\n",
            "      Successfully uninstalled ml-dtypes-0.2.0\n",
            "  Attempting uninstall: h5py\n",
            "    Found existing installation: h5py 3.9.0\n",
            "    Uninstalling h5py-3.9.0:\n",
            "      Successfully uninstalled h5py-3.9.0\n",
            "  Attempting uninstall: tensorflow\n",
            "    Found existing installation: tensorflow 2.15.0\n",
            "    Uninstalling tensorflow-2.15.0:\n",
            "      Successfully uninstalled tensorflow-2.15.0\n",
            "Successfully installed argparse-1.4.0 h5py-3.10.0 ml-dtypes-0.3.2 pykospacing-0.5 tensorflow-2.15.1\n"
          ]
        },
        {
          "output_type": "display_data",
          "data": {
            "application/vnd.colab-display-data+json": {
              "pip_warning": {
                "packages": [
                  "argparse"
                ]
              },
              "id": "b6f8833e0c394b2d866d89a8ff18c124"
            }
          },
          "metadata": {}
        }
      ],
      "source": [
        "!pip install git+https://github.com/haven-jeon/PyKoSpacing.git\n",
        "#"
      ]
    },
    {
      "cell_type": "code",
      "execution_count": 15,
      "metadata": {
        "id": "K9b1HOQ2tQF8"
      },
      "outputs": [],
      "source": [
        "from pykospacing import Spacing"
      ]
    },
    {
      "cell_type": "code",
      "execution_count": 16,
      "metadata": {
        "id": "PIsIcvcytR1t"
      },
      "outputs": [],
      "source": [
        "from collections import Counter"
      ]
    },
    {
      "cell_type": "markdown",
      "metadata": {
        "id": "tXn-T7EiyDr3"
      },
      "source": [
        "< 1. 한글 표현만 남기기 >\n",
        "1. 리뷰에서 영어표현, puncation, 이모티콘은 모두 제거한다. (=한글 표현만 남긴다)"
      ]
    },
    {
      "cell_type": "code",
      "execution_count": 17,
      "metadata": {
        "id": "g-cSWz3atXdM"
      },
      "outputs": [],
      "source": [
        "def extract_word(text):\n",
        "    hangul = re.compile('[^가-힣]')\n",
        "    result = hangul.sub(' ', text)\n",
        "    return result"
      ]
    },
    {
      "cell_type": "code",
      "execution_count": 18,
      "metadata": {
        "id": "n_278h4Nw_9j"
      },
      "outputs": [],
      "source": [
        "import re"
      ]
    },
    {
      "cell_type": "code",
      "execution_count": 19,
      "metadata": {
        "colab": {
          "base_uri": "https://localhost:8080/"
        },
        "id": "BI-cDWp3tXfb",
        "outputId": "077a2a17-4165-4219-bd3e-98708c93e133"
      },
      "outputs": [
        {
          "output_type": "stream",
          "name": "stdout",
          "text": [
            "1. Before Extraction :  밤마다 수많은 연인과 가족들이 모여 피크닉을 하며 수다를 떠는곳\n",
            "\n",
            "곳곳 돗자리를 깔아 즐겨도 되고 캠핑용품을 펼처도 분위기 죽이는 곳\n",
            "\n",
            "주변에는 편의점이 두개(미니스톱과 CU)나 있어 라면보충이 가능하고 배달존2도 있어 치맥도 즐길 수 있다\n",
            "1. After Extraction :  밤마다 수많은 연인과 가족들이 모여 피크닉을 하며 수다를 떠는곳  곳곳 돗자리를 깔아 즐겨도 되고 캠핑용품을 펼처도 분위기 죽이는 곳  주변에는 편의점이 두개 미니스톱과    나 있어 라면보충이 가능하고 배달존 도 있어 치맥도 즐길 수 있다\n",
            " \n",
            "2. Before Extraction :  컴플레인은 중랑구청 도서관 담당하는 부서에 하면 직빵입니다. 여기다 하면 제식구 감싸기 급으로 처리 될 확률이 높지요..\n",
            "2. After Extraction :  컴플레인은 중랑구청 도서관 담당하는 부서에 하면 직빵입니다  여기다 하면 제식구 감싸기 급으로 처리 될 확률이 높지요  \n"
          ]
        }
      ],
      "source": [
        "print(\"1. Before Extraction : \", data['Review Text'][658])\n",
        "print(\"1. After Extraction : \", extract_word(data['Review Text'][658]))\n",
        "print(\" \")\n",
        "print(\"2. Before Extraction : \",data['Review Text'][4470])\n",
        "print(\"2. After Extraction : \", extract_word(data['Review Text'][4470]))\n"
      ]
    },
    {
      "cell_type": "code",
      "execution_count": 20,
      "metadata": {
        "id": "6W4qcsqutXhv"
      },
      "outputs": [],
      "source": [
        "data['Review'] = data['Review Text'].apply(lambda x:extract_word(x))"
      ]
    },
    {
      "cell_type": "markdown",
      "metadata": {
        "id": "56Y74DgS0SyI"
      },
      "source": [
        "< 2. 띄어쓰기 고치기 >\n",
        "2. 띄어쓰기 변환기를 통해 띄어쓰기가 되어있지 않은 문장들을 제대로 변환한다.\n",
        " pykospacing 모델을 사용"
      ]
    },
    {
      "cell_type": "code",
      "execution_count": 21,
      "metadata": {
        "colab": {
          "base_uri": "https://localhost:8080/"
        },
        "id": "kyPrwL0wtXkD",
        "outputId": "012f780c-d93c-44bf-dd6b-a9f0f23bad98"
      },
      "outputs": [
        {
          "output_type": "stream",
          "name": "stdout",
          "text": [
            "Before Fixing :  밤마다 수많은 연인과 가족들이 모여 피크닉을 하며 수다를 떠는곳  곳곳 돗자리를 깔아 즐겨도 되고 캠핑용품을 펼처도 분위기 죽이는 곳  주변에는 편의점이 두개 미니스톱과    나 있어 라면보충이 가능하고 배달존 도 있어 치맥도 즐길 수 있다\n",
            "After  Fixing :  밤마다 수많은 연인과 가족들이 모여 피크닉을 하며 수다를 떠는 곳 곳곳 돗자리를 깔아 즐겨도 되고 캠핑용품을 펼처도 분위기 죽이는 곳 주변에는 편의점이 두개 미니스톱과 나 있어 라면 보충이 가능하고 배달 존 도 있어 치맥도 즐길 수 있다\n",
            "Before Fixing :  컴플레인은 중랑구청 도서관 담당하는 부서에 하면 직빵입니다  여기다 하면 제식구 감싸기 급으로 처리 될 확률이 높지요  \n",
            "After  Fixing :  컴플레인은 중랑구청 도서관 담당하는 부서에 하면 직빵입니다 여기다 하면 제 식구 감싸기 급으로 처리 될 확률이 높지요\n"
          ]
        }
      ],
      "source": [
        "spacing = Spacing()\n",
        "print(\"Before Fixing : \",data['Review'][658])\n",
        "print(\"After  Fixing : \", spacing(data['Review'][658]))\n",
        "print(\"Before Fixing : \",data['Review'][4470])\n",
        "print(\"After  Fixing : \", spacing(data['Review'][4470]))\n"
      ]
    },
    {
      "cell_type": "markdown",
      "metadata": {
        "id": "RhGBHmax3DTd"
      },
      "source": [
        "<3.형태소분석>\n",
        "3. 형태소 분석기를 통해 각각의 리뷰를 형태소 단위로 분리한다."
      ]
    },
    {
      "cell_type": "code",
      "execution_count": 21,
      "metadata": {
        "id": "3T4WA8xp-EH-"
      },
      "outputs": [],
      "source": []
    },
    {
      "cell_type": "code",
      "execution_count": 22,
      "metadata": {
        "id": "PhwGz_zXtXmE"
      },
      "outputs": [],
      "source": [
        "okt = Okt()\n",
        "words = \" \".join(data['Review'].tolist())\n",
        "words = okt.morphs(words,stem=True)"
      ]
    },
    {
      "cell_type": "code",
      "execution_count": 23,
      "metadata": {
        "id": "bNxIwgMv-VZr",
        "colab": {
          "base_uri": "https://localhost:8080/"
        },
        "outputId": "8215d073-6c85-49d9-879d-b014828eb885"
      },
      "outputs": [
        {
          "output_type": "execute_result",
          "data": {
            "text/plain": [
              "63620"
            ]
          },
          "metadata": {},
          "execution_count": 23
        }
      ],
      "source": [
        "len(words)"
      ]
    },
    {
      "cell_type": "markdown",
      "metadata": {
        "id": "taqSq1rS8901"
      },
      "source": [
        "< 4. 한 글자, 불용어 제거 >"
      ]
    },
    {
      "cell_type": "code",
      "execution_count": 24,
      "metadata": {
        "colab": {
          "base_uri": "https://localhost:8080/"
        },
        "id": "dzsByW44-J4S",
        "outputId": "8f5be771-6704-4ad3-ea15-f0d82ea2d604"
      },
      "outputs": [
        {
          "output_type": "execute_result",
          "data": {
            "text/plain": [
              "44728"
            ]
          },
          "metadata": {},
          "execution_count": 24
        }
      ],
      "source": [
        "remove_one_word = [x for x in words if len(x)>1 or x==\"곳\"]\n",
        "len(remove_one_word)"
      ]
    },
    {
      "cell_type": "code",
      "execution_count": 25,
      "metadata": {
        "id": "Z_NjS_1ZtXoJ"
      },
      "outputs": [],
      "source": [
        "from collections import Counter\n",
        "frequent = Counter(remove_one_word).most_common()\n"
      ]
    },
    {
      "cell_type": "code",
      "execution_count": 26,
      "metadata": {
        "id": "CmaTV9TttXqO",
        "colab": {
          "base_uri": "https://localhost:8080/"
        },
        "outputId": "4606ebc9-8169-4351-aed4-909a141c0d39"
      },
      "outputs": [
        {
          "output_type": "stream",
          "name": "stdout",
          "text": [
            "[('하다', 2162), ('좋다', 1496), ('있다', 1060), ('너무', 503), ('보다', 494), ('곳', 486), ('많다', 475), ('도서관', 454), ('이다', 384), ('없다', 364), ('으로', 354), ('에서', 325), ('가다', 312), ('되다', 295), ('전시', 293), ('사람', 290), ('아이', 277), ('자다', 249), ('않다', 248), ('공원', 244), ('시간', 226), ('같다', 225), ('오다', 211), ('하고', 202), ('직원', 188), ('아니다', 185), ('되어다', 175), ('공간', 171), ('시설', 167), ('산책', 156), ('열람', 148), ('생각', 146), ('정말', 145), ('작품', 138), ('이용', 136), ('많이', 129), ('들다', 128), ('방문', 125), ('관람', 120), ('최고', 119), ('까지', 118), ('친절하다', 113), ('박물관', 109), ('공부', 109), ('해주다', 108), ('걷기', 98), ('주차', 97), ('좋아하다', 96), ('서울', 96), ('에는', 95), ('크다', 93), ('한강', 90), ('여기', 89), ('넓다', 88), ('보고', 86), ('분들', 84), ('가보다', 84), ('다른', 83), ('운영', 82), ('정도', 82), ('모르다', 81), ('조용하다', 80), ('그렇다', 80), ('이라', 79), ('장소', 79), ('싶다', 79), ('이렇다', 78), ('안되다', 78), ('아쉽다', 76), ('인데', 76), ('받다', 76), ('체험', 75), ('건물', 75), ('관리', 74), ('나오다', 73), ('진짜', 73), ('역사', 72), ('무료', 71), ('이나', 70), ('느낌', 70), ('먹다', 70), ('한번', 70), ('읽다', 69), ('다양하다', 68), ('근처', 67), ('넘다', 67), ('에도', 67), ('그리고', 67), ('동물', 66), ('다시', 66), ('불편하다', 66), ('설명', 64), ('구경', 64), ('소리', 64), ('어린이', 63), ('자주', 62), ('부터', 62), ('예쁘다', 62), ('추천', 62), ('하나', 61), ('처음', 60), ('주다', 60), ('입장', 59), ('그냥', 59), ('함께', 59), ('미술관', 58), ('감사하다', 58), ('들어가다', 58), ('카페', 58), ('화장실', 57), ('주말', 57), ('알다', 56), ('재밌다', 56), ('주차장', 55), ('만들다', 55), ('깨끗하다', 55), ('분위기', 53), ('코로나', 53), ('괜찮다', 53), ('돼다', 53), ('규모', 52), ('느끼다', 51), ('재미있다', 51), ('시끄럽다', 51), ('벚꽃', 50), ('즐겁다', 50), ('찾다', 49), ('나들이', 49), ('차다', 49), ('라면', 49), ('가능하다', 48), ('안내', 48), ('별로', 48), ('다니다', 48), ('가면', 48), ('조금', 48), ('아주', 48), ('깔끔하다', 48), ('사서', 48), ('예약', 47), ('힐링', 47), ('마음', 47), ('보이다', 47), ('갈다', 47), ('주변', 46), ('자료', 46), ('없이', 45), ('위치', 45), ('에게', 45), ('자리', 44), ('사진', 44), ('매우', 44), ('자체', 44), ('내다', 44), ('도서', 44), ('좁다', 43), ('근데', 43), ('말다', 43), ('가장', 43), ('멋지다', 43), ('쉬다', 43), ('그래도', 43), ('내부', 42), ('쾌적하다', 42), ('냄새', 42), ('엄청', 41), ('알차다', 41), ('작다', 40), ('아름답다', 40), ('앉다', 40), ('기분', 40), ('가지', 39), ('다만', 39), ('놀다', 39), ('식당', 39), ('시키다', 39), ('어떻다', 39), ('힘들다', 39), ('바로', 39), ('전시회', 39), ('보내다', 38), ('때문', 38), ('가기', 38), ('가격', 38), ('도슨', 38), ('계속', 38), ('작가', 38), ('운동', 37), ('지만', 37), ('개인', 37), ('마다', 37), ('이렇게', 36), ('입구', 36), ('이에요', 36), ('적다', 36), ('이랑', 36), ('예요', 36), ('동네', 36), ('나다', 36), ('프로그램', 36), ('드리다', 35), ('가족', 35), ('즐기다', 35), ('거리', 35), ('하지만', 35), ('지다', 34), ('가깝다', 34), ('이해', 34), ('지금', 34), ('이고', 34), ('비다', 33), ('편하다', 33), ('다녀오다', 33), ('우리', 33), ('항상', 33), ('이쁘다', 33), ('요즘', 33), ('명소', 32), ('산책로', 32), ('다음', 32), ('거의', 32), ('맞다', 32), ('같이', 32), ('사용', 32), ('대한민국', 32), ('대출', 32), ('볼거리', 31), ('평일', 31), ('문제', 31), ('서울숲', 31), ('덥다', 30), ('건지다', 30), ('수준', 30), ('밖에', 30), ('두다', 30), ('롯데', 30), ('자전거', 29), ('보기', 29), ('벨루가', 29), ('아쿠아리움', 29), ('선생님', 29), ('필요하다', 28), ('공사', 28), ('비싸다', 28), ('들이다', 28), ('특히', 28), ('제일', 28), ('서다', 28), ('편리하다', 28), ('살다', 28), ('접근성', 28), ('미술', 28), ('노트북', 28), ('이네', 27), ('타다', 27), ('나쁘다', 27), ('기억', 27), ('최악', 27), ('여의도', 27), ('구성', 27), ('처럼', 27), ('바라다', 26), ('입장료', 26), ('추억', 26), ('불친절하다', 26), ('이라고', 26), ('치다', 26), ('버리다', 26), ('높다', 26), ('찍다', 26), ('세금', 26), ('그림', 26), ('빼다', 25), ('감상', 25), ('가을', 25), ('친구', 25), ('돗자리', 25), ('날씨', 25), ('모습', 25), ('나라', 25), ('여기다', 25), ('빌리다', 25), ('야하다', 25), ('가능', 25), ('내용', 25), ('어리다', 24), ('하루', 24), ('모두', 24), ('제대로', 24), ('예전', 24), ('훌륭하다', 24), ('가방', 24), ('에어컨', 24), ('교육', 23), ('충분하다', 23), ('에요', 23), ('여름', 23), ('데이트', 23), ('귀엽다', 23), ('모든', 23), ('오픈', 23), ('사랑', 23), ('해보다', 23), ('늘다', 23), ('영상', 23), ('라고', 23), ('정리', 23), ('기다', 23), ('이상하다', 23), ('모델링', 23), ('듣다', 23), ('동선', 23), ('독서실', 23), ('도심', 22), ('걸다', 22), ('혼자', 22), ('얘기', 22), ('따로', 22), ('전체', 22), ('데리', 22), ('인지', 22), ('한테', 22), ('어렵다', 22), ('에서도', 22), ('우리나라', 22), ('그런데', 22), ('의사', 22), ('제발', 22), ('어른', 22), ('의미', 22), ('대해', 21), ('한적하다', 21), ('대여', 21), ('호수', 21), ('들어오다', 21), ('강아지', 21), ('퀄리티', 21), ('부족하다', 21), ('시원하다', 21), ('둘러보다', 21), ('가세', 21), ('나가다', 21), ('해설', 21), ('집중', 21), ('시민', 20), ('이유', 20), ('떨어지다', 20), ('깔다', 20), ('언제', 20), ('이용자', 20), ('지키다', 20), ('오늘', 20), ('라서', 20), ('지도', 20), ('대다', 20), ('이후', 20), ('저녁', 20), ('만큼', 20), ('끄다', 20), ('할인', 20), ('인상', 20), ('위해', 20), ('닫다', 20), ('대한', 20), ('유익하다', 20), ('감사', 19), ('경우', 19), ('자연', 19), ('저렴하다', 19), ('그대로', 19), ('티켓', 19), ('겨울', 19), ('이번', 19), ('싸다', 19), ('음식', 19), ('그렇게', 19), ('남자', 19), ('행복하다', 19), ('바람', 19), ('타고', 19), ('완전', 19), ('쓰다', 19), ('생기다', 19), ('맛있다', 19), ('놓다', 19), ('남다', 19), ('흥미롭다', 19), ('계시다', 19), ('경험', 19), ('지하', 19), ('서비스', 19), ('환경', 18), ('재미', 18), ('중간', 18), ('길이', 18), ('쓰레기', 18), ('다르다', 18), ('주민', 18), ('가끔', 18), ('맞추다', 18), ('예술', 18), ('이라는', 18), ('진행', 18), ('들리다', 18), ('그리다', 18), ('매너', 18), ('만족하다', 18), ('새롭다', 18), ('감동', 18), ('전쟁', 18), ('없애다', 18), ('구내식당', 18), ('여러', 17), ('풍경', 17), ('걷다', 17), ('꾸미다', 17), ('만족', 17), ('기다리다', 17), ('이상', 17), ('끝나다', 17), ('더욱', 17), ('참고', 17), ('경치', 17), ('여유', 17), ('종류', 17), ('경희궁', 17), ('민족', 17), ('옛날', 17), ('부분', 17), ('정신', 17), ('아깝다', 17), ('전시장', 17), ('여자', 17), ('불가', 17), ('바뀌다', 16), ('굉장하다', 16), ('오후', 16), ('짧다', 16), ('천원', 16), ('편의점', 16), ('무슨', 16), ('걸리다', 16), ('가요', 16), ('올라가다', 16), ('비교', 16), ('필요', 16), ('아기', 16), ('늦다', 16), ('잠깐', 16), ('뭔가', 16), ('공연', 16), ('직접', 16), ('그래서', 16), ('어디', 16), ('굳이', 16), ('계단', 16), ('해도', 16), ('당연하다', 16), ('잊다', 16), ('월드', 16), ('오래되다', 16), ('기본', 16), ('국립', 16), ('사라지다', 16), ('근무', 16), ('사실', 16), ('독립', 16), ('엄마', 16), ('낡다', 16), ('대단하다', 16), ('아트', 16), ('환기', 16), ('응대', 16), ('신청', 16), ('시스템', 16), ('현재', 15), ('개선', 15), ('수도', 15), ('만족스럽다', 15), ('동물원', 15), ('놀이', 15), ('식사', 15), ('코스', 15), ('보여주다', 15), ('차비', 15), ('나무', 15), ('나이', 15), ('가도', 15), ('전혀', 15), ('가성', 15), ('이제', 15), ('느껴지다', 15), ('오랜', 15), ('매일', 15), ('야경', 15), ('캠핑', 15), ('거기', 15), ('중앙', 15), ('나름', 15), ('일제', 15), ('아프다', 15), ('얼마', 15), ('편이', 15), ('확인', 15), ('의자', 15), ('떠들다', 15), ('전시관', 15), ('안중근', 15), ('관람객', 15), ('배려', 15), ('전화', 15), ('라도', 14), ('아직', 14), ('매점', 14), ('좋아지다', 14), ('출입', 14), ('또한', 14), ('곳도', 14), ('인터넷', 14), ('오래', 14), ('내려오다', 14), ('피크닉', 14), ('단점', 14), ('바닥', 14), ('외국인', 14), ('답답하다', 14), ('활동', 14), ('바꾸다', 14), ('이런', 14), ('멀다', 14), ('이야기', 14), ('일본', 14), ('찾아가다', 14), ('넣다', 14), ('신기하다', 14), ('크게', 14), ('따르다', 14), ('기획', 14), ('카드', 14), ('물고기', 14), ('회원', 14), ('보관', 14), ('수업', 14), ('반납', 14), ('생물', 13), ('코끼리', 13), ('애기', 13), ('펴다', 13), ('단풍', 13), ('춥다', 13), ('역시', 13), ('빨리', 13), ('복잡하다', 13), ('다시다', 13), ('정부', 13), ('버스', 13), ('튤립', 13), ('한국', 13), ('편안하다', 13), ('여서', 13), ('휴식', 13), ('개방', 13), ('아쉬움', 13), ('일단', 13), ('지나가다', 13), ('현대', 13), ('돌아가다', 13), ('진동', 13), ('아직도', 13), ('노인', 13), ('라는', 13), ('가볍다', 13), ('후기', 13), ('친일', 13), ('친일파', 13), ('광복', 13), ('북적', 13), ('폭포', 13), ('부모', 13), ('문화', 13), ('한참', 13), ('누가', 13), ('국민', 13), ('독서', 13), ('친절', 13), ('유아', 13), ('성인', 13), ('옥상', 13), ('배우다', 13), ('데스크', 13), ('옮기다', 13), ('기념관', 13), ('신간', 13), ('편의', 12), ('원래', 12), ('죽다', 12), ('적당하다', 12), ('거나', 12), ('동안', 12), ('지나다', 12), ('치고', 12), ('으로는', 12), ('덕분', 12), ('훨씬', 12), ('지역', 12), ('곳곳', 12), ('연결', 12), ('기대하다', 12), ('아파트', 12), ('무엇', 12), ('아래', 12), ('유명하다', 12), ('무섭다', 12), ('음악', 12), ('싫다', 12), ('시대', 12), ('세상', 12), ('이지만', 12), ('하늘', 12), ('일이', 12), ('에서는', 12), ('지르다', 12), ('서로', 12), ('자세하다', 12), ('인하다', 12), ('세계', 12), ('쓰이다', 12), ('수족관', 12), ('참여', 12), ('수조', 12), ('최근', 12), ('울리다', 12), ('남산', 12), ('모바일', 12), ('연장', 12), ('좌석', 12), ('방문객', 11), ('한다는', 11), ('오기', 11), ('서울시', 11), ('도착', 11), ('필수', 11), ('피다', 11), ('요금', 11), ('설치', 11), ('차라리', 11), ('가치', 11), ('먼저', 11), ('으로도', 11), ('한데', 11), ('작고', 11), ('조성', 11), ('트이다', 11), ('놀라다', 11), ('언제나', 11), ('때리다', 11), ('아무', 11), ('담다', 11), ('열심히', 11), ('담배', 11), ('굳다', 11), ('노래', 11), ('대비', 11), ('정보', 11), ('열다', 11), ('상당하다', 11), ('활용', 11), ('대부분', 11), ('지루하다', 11), ('원하다', 11), ('기대', 11), ('시절', 11), ('이르다', 11), ('현충원', 11), ('관련', 11), ('김구', 11), ('행사', 11), ('구석', 11), ('전망대', 11), ('소음', 11), ('리뷰', 11), ('이루다', 11), ('내내', 11), ('신경', 11), ('본인', 11), ('구매', 11), ('엘리베이터', 11), ('사전예약', 10), ('수가', 10), ('소중하다', 10), ('짜증나다', 10), ('기준', 10), ('잠시', 10), ('상태', 10), ('외부', 10), ('평화', 10), ('물어보다', 10), ('관심', 10), ('없어지다', 10), ('자기', 10), ('보시', 10), ('얼마나', 10), ('보다는', 10), ('종종', 10), ('벤치', 10), ('챙기다', 10), ('수많다', 10), ('고양이', 10), ('니까', 10), ('기도', 10), ('공기', 10), ('해주시', 10), ('어느', 10), ('여유롭다', 10), ('표현', 10), ('예정', 10), ('심지어', 10), ('따다', 10), ('지고', 10), ('물이', 10), ('바라보다', 10), ('감성', 10), ('천국', 10), ('새벽', 10), ('지나치다', 10), ('잡다', 10), ('처리', 10), ('깊다', 10), ('시작', 10), ('가득하다', 10), ('안좋다', 10), ('오르다', 10), ('개념', 10), ('공룡', 10), ('만원', 10), ('준비', 10), ('보임', 10), ('오히려', 10), ('윤봉길', 10), ('이름', 10), ('소장', 10), ('조명', 10), ('검색', 10), ('전반', 10), ('틀다', 10), ('보이', 10), ('짓다', 10), ('초등', 10), ('스럽다', 10), ('만세', 10), ('무척', 10), ('개월', 10), ('사물함', 10), ('결제', 10), ('전부', 10), ('천장', 10), ('도슨트', 10), ('바자', 10), ('한가람', 10), ('컴퓨터', 10), ('본관', 10), ('싸가지', 10), ('공공', 10), ('현장', 9), ('제한', 9), ('인원', 9), ('장이', 9), ('끼리', 9), ('이전', 9), ('커피', 9), ('누구', 9), ('그늘', 9), ('다소', 9), ('롭고', 9), ('금지', 9), ('올리다', 9), ('가게', 9), ('워낙', 9), ('마감', 9), ('길다', 9), ('딱좋다', 9), ('축제', 9), ('언덕', 9), ('아기자기하다', 9), ('맛집', 9), ('으로만', 9), ('단지', 9), ('나서다', 9), ('고맙다', 9), ('힘드다', 9), ('여러가지', 9), ('어르신', 9), ('되게', 9), ('혹시', 9), ('도로', 9), ('뜨다', 9), ('자유롭다', 9), ('들르다', 9), ('전용', 9), ('물론', 9), ('마스크', 9), ('써다', 9), ('놀이기구', 9), ('붙다', 9), ('오전', 9), ('결국', 9), ('육군', 9), ('만주군', 9), ('한국인', 9), ('남기다', 9), ('불친절', 9), ('기존', 9), ('머리', 9), ('절대', 9), ('차분하다', 9), ('돌리다', 9), ('학교', 9), ('은근', 9), ('국가', 9), ('에선', 9), ('특별', 9), ('열리다', 9), ('마을', 9), ('인간', 9), ('심하다', 9), ('코엑스', 9), ('기념', 9), ('건축물', 9), ('등록', 9), ('촬영', 9), ('웬만하다', 9), ('화폐', 9), ('월요일', 9), ('대림', 9), ('사회', 9), ('구리다', 9), ('도록', 9), ('아저씨', 9), ('일반', 9), ('외관', 9), ('렐리', 9), ('색감', 9), ('비치', 9), ('학습', 9), ('미치다', 8), ('사항', 8), ('단체', 8), ('미리', 8), ('또는', 8), ('지하철', 8), ('이지', 8), ('신나다', 8), ('줄이다', 8), ('매주', 8), ('돌다', 8), ('공휴일', 8), ('붐비다', 8), ('종일', 8), ('년대', 8), ('말고', 8), ('헤매다', 8), ('잇다', 8), ('눕다', 8), ('아예', 8), ('기회', 8), ('놀이터', 8), ('키우다', 8), ('찍기', 8), ('반려견', 8), ('마지막', 8), ('교통', 8), ('테이블', 8), ('이면', 8), ('여전하다', 8), ('갖추다', 8), ('하니', 8), ('낮다', 8), ('기계', 8), ('쓸다', 8), ('책상', 8), ('가운데', 8), ('와도', 8), ('분수', 8), ('장관', 8), ('과거', 8), ('공지', 8), ('야외', 8), ('저희', 8), ('커서', 8), ('담기다', 8), ('에겐', 8), ('인사', 8), ('유료', 8), ('텐트', 8), ('이동', 8), ('말투', 8), ('타임', 8), ('중이', 8), ('독특하다', 8), ('이건', 8), ('실망', 8), ('가야', 8), ('아무리', 8), ('기획전', 8), ('은평구', 8), ('배치', 8), ('입장권', 8), ('코드', 8), ('인어공주', 8), ('종합', 8), ('기간', 8), ('걱정', 8), ('틀어주다', 8), ('구분', 8), ('짜다', 8), ('라떼', 8), ('프린트', 8), ('빨다', 8), ('빅토르', 8), ('위주', 8), ('할배', 8), ('짐승', 8), ('아동', 8), ('휴게실', 8), ('국회', 8), ('당시', 7), ('제공', 7), ('밉다', 7), ('리프트', 7), ('강추', 7), ('연인', 7), ('업무', 7), ('께서', 7), ('심다', 7), ('내리다', 7), ('돌아다니다', 7), ('퇴근', 7), ('내려가다', 7), ('건가', 7), ('먹거리', 7), ('보드', 7), ('팔다', 7), ('눈치', 7), ('물건', 7), ('줄다', 7), ('가까이', 7), ('차량', 7), ('사전', 7), ('너무나', 7), ('스트레스', 7), ('매번', 7), ('그저', 7), ('나중', 7), ('아침', 7), ('물다', 7), ('크기', 7), ('풀다', 7), ('잔디밭', 7), ('불쾌하다', 7), ('인기', 7), ('말씀', 7), ('에게는', 7), ('불다', 7), ('보존', 7), ('오지', 7), ('어쩔', 7), ('생각나다', 7), ('에만', 7), ('화려하다', 7), ('가져오다', 7), ('마련', 7), ('분리', 7), ('틀어놓다', 7), ('비행기', 7), ('안쪽', 7), ('화가', 7), ('런가', 7), ('지난', 7), ('만에', 7), ('아줌마', 7), ('작업', 7), ('일요일', 7), ('휴무', 7), ('복원', 7), ('궁금하다', 7), ('일부', 7), ('구조', 7), ('일본군', 7), ('백범', 7), ('구청', 7), ('단위', 7), ('보유', 7), ('구민', 7), ('음료', 7), ('주의', 7), ('약간', 7), ('전망', 7), ('겁니다', 7), ('마리', 7), ('인거', 7), ('특이하다', 7), ('그건', 7), ('점심', 7), ('만족도', 7), ('건축', 7), ('예산', 7), ('부끄럽다', 7), ('방해', 7), ('돌아보다', 7), ('가이드', 7), ('대형', 7), ('솔직하다', 7), ('당신', 7), ('주시', 7), ('유모차', 7), ('몰다', 7), ('장점', 7), ('전화하다', 7), ('실내', 7), ('휴일', 7), ('연락', 7), ('이하', 7), ('전당', 7), ('미디어', 7), ('찾아보다', 7), ('주인', 7), ('통제', 7), ('따뜻하다', 7), ('밝다', 7), ('터치', 7), ('왠만하다', 7), ('식당가', 7), ('반입', 7), ('책장', 7), ('사용자', 7), ('와이파이', 7), ('장서', 7), ('선풍기', 7), ('관리인', 6), ('우선', 6), ('용이', 6), ('불편', 6), ('주차공간', 6), ('원인', 6), ('열차', 6), ('간식', 6), ('서울대', 6), ('가만히', 6), ('매력', 6), ('매표소', 6), ('니당다', 6), ('에버랜드', 6), ('불쌍하다', 6), ('돌아오다', 6), ('막히다', 6), ('지치다', 6), ('카카오', 6), ('판매', 6), ('가지다', 6), ('그때', 6), ('상황', 6), ('안보', 6), ('최애', 6), ('질문', 6), ('사슴', 6), ('불가하다', 6), ('달다', 6), ('대표', 6), ('자랑', 6), ('대중교통', 6), ('일어나다', 6), ('일찍', 6), ('이어지다', 6), ('개다', 6), ('사다', 6), ('센터', 6), ('얻다', 6), ('오줌', 6), ('만점', 6), ('아늑하다', 6), ('외국', 6), ('이미', 6), ('여기저기', 6), ('비추다', 6), ('감탄', 6), ('구도', 6), ('찍찍', 6), ('바베큐', 6), ('달리', 6), ('뉴욕', 6), ('가져가다', 6), ('대기', 6), ('간단하다', 6), ('그린', 6), ('노후', 6), ('망하다', 6), ('가시다', 6), ('만나다', 6), ('만으로도', 6), ('둘러보기', 6), ('사이', 6), ('아마', 6), ('웅장', 6), ('게다가', 6), ('거치다', 6), ('실망하다', 6), ('구역', 6), ('언덕길', 6), ('인물', 6), ('행위자', 6), ('차원', 6), ('과정', 6), ('면서', 6), ('흡연', 6), ('멀리', 6), ('낫다', 6), ('적합하다', 6), ('도시', 6), ('방법', 6), ('실제', 6), ('동시', 6), ('오르막', 6), ('위로', 6), ('목적', 6), ('목소리', 6), ('이란', 6), ('웃다', 6), ('충격', 6), ('정상', 6), ('만들어지다', 6), ('혹은', 6), ('홈페이지', 6), ('이니', 6), ('추가', 6), ('어제', 6), ('해달라다', 6), ('태도', 6), ('한마디', 6), ('실로', 6), ('찾아오다', 6), ('영어', 6), ('백제', 6), ('포토', 6), ('조카', 6), ('수달', 6), ('신분', 6), ('약속', 6), ('바다', 6), ('빠르다', 6), ('펭귄', 6), ('해파리', 6), ('제외', 6), ('헷갈리다', 6), ('플레인', 6), ('인가', 6), ('정원', 6), ('그게', 6), ('년도', 6), ('정치', 6), ('순간', 6), ('놀랍다', 6), ('발전', 6), ('개관', 6), ('표정', 6), ('우연히', 6), ('미스', 6), ('치프', 6), ('신선하다', 6), ('구비', 6), ('관객', 6), ('수요일', 6), ('피카소', 6), ('올라오다', 6), ('대로', 6), ('클래식', 6), ('소독', 6), ('낭비', 6), ('꽂히다', 6), ('걸어가다', 6), ('뭐라다', 6), ('가입', 6), ('문의', 6), ('번호', 6), ('청소년', 6), ('시험', 6), ('통화', 6), ('요구', 6), ('느리다', 6), ('민원', 6), ('훔치다', 6), ('애정', 5), ('평소', 5), ('시기', 5), ('지는', 5), ('부담', 5), ('대화', 5), ('남녀', 5), ('시즌', 5), ('시반', 5), ('정비', 5), ('표시', 5), ('강남', 5), ('산책길', 5), ('호랑이', 5), ('지저분하다', 5), ('오시', 5), ('치킨', 5), ('머물다', 5), ('변기', 5), ('행복', 5), ('딱이다', 5), ('유도', 5), ('생활', 5), ('등등', 5), ('속도', 5), ('올해', 5), ('잔디', 5), ('부탁드리다', 5), ('치우다', 5), ('동식물', 5), ('먼지', 5), ('날다', 5), ('비둘기', 5), ('그럭저럭', 5), ('많아지다', 5), ('안다', 5), ('커플', 5), ('기기', 5), ('엉망', 5), ('시국', 5), ('더불다', 5), ('카운터', 5), ('빌딩', 5), ('기쁘다', 5), ('그만큼', 5), ('포함', 5), ('뱉다', 5), ('쐬다', 5), ('모이다', 5), ('수다', 5), ('배달', 5), ('다리', 5), ('얼음', 5), ('당당하다', 5), ('보라매', 5), ('스럽게', 5), ('인근', 5), ('뛰다', 5), ('계산', 5), ('낙서', 5), ('학생', 5), ('먹이', 5), ('중학교', 5), ('박정희', 5), ('작년', 5), ('베트남', 5), ('부럽다', 5), ('세우다', 5), ('궁궐', 5), ('유일하다', 5), ('겪다', 5), ('안타깝다', 5), ('그러나', 5), ('이기도', 5), ('철거', 5), ('관리자', 5), ('정문', 5), ('대통령', 5), ('존재', 5), ('기리', 5), ('의하다', 5), ('영웅', 5), ('안장', 5), ('진상', 5), ('결정', 5), ('국방부', 5), ('초대', 5), ('과학', 5), ('고문', 5), ('적극', 5), ('마로니에', 5), ('인공', 5), ('찾기', 5), ('번은', 5), ('충전', 5), ('원내', 5), ('출구', 5), ('그것', 5), ('한잔', 5), ('너구리', 5), ('반응', 5), ('선택', 5), ('쏘다', 5), ('자유', 5), ('콘센트', 5), ('시각', 5), ('컨텐츠', 5), ('우와', 5), ('공립', 5), ('협소', 5), ('희생', 5), ('더럽다', 5), ('뽑다', 5), ('반복', 5), ('서대문형무소', 5), ('발굴', 5), ('완료', 5), ('마치', 5), ('이라도', 5), ('좀더', 5), ('자신', 5), ('눈물', 5), ('콘텐츠', 5), ('만들기', 5), ('전통', 5), ('살아가다', 5), ('흥미', 5), ('연휴', 5), ('로운', 5), ('여쭈다', 5), ('유리', 5), ('만해', 5), ('허다', 5), ('에서만', 5), ('바다로', 5), ('행동', 5), ('동물학대', 5), ('엄청나다', 5), ('천천히', 5), ('끼다', 5), ('듭니', 5), ('정독', 5), ('손님', 5), ('젊다', 5), ('로는', 5), ('설계', 5), ('선생', 5), ('관내', 5), ('요소', 5), ('달라지다', 5), ('벽면', 5), ('만약', 5), ('채우다', 5), ('닿다', 5), ('고민', 5), ('전쟁사', 5), ('전쟁기념관', 5), ('예의', 5), ('희망', 5), ('우수하다', 5), ('쏠쏠하다', 5), ('도움', 5), ('화요일', 5), ('물품', 5), ('한가하다', 5), ('에게도', 5), ('스러운', 5), ('기능', 5), ('옵아트', 5), ('바자렐리', 5), ('접근', 5), ('색색', 5), ('깔깔', 5), ('라운지', 5), ('친근하다', 5), ('무조건', 5), ('김환기', 5), ('송파', 5), ('로비', 5), ('쾌적', 5), ('막다', 5), ('중얼거리다', 5), ('인테리어', 5), ('서량', 5), ('인강', 5), ('빌런', 5), ('창문', 5), ('피아노', 5), ('백반', 5), ('책보', 5), ('생태', 4), ('제로', 4), ('널리', 4), ('효율', 4), ('검토', 4), ('도장', 4), ('과천', 4), ('구입', 4), ('계절', 4), ('상냥하다', 4), ('관도', 4), ('풀리다', 4), ('괜히', 4), ('생명', 4), ('주지', 4), ('아들', 4), ('자리다', 4), ('하나같이', 4), ('불리다', 4), ('핫도그', 4), ('믿다', 4), ('제품', 4), ('진심', 4), ('취소', 4), ('취급', 4), ('사자', 4), ('해결', 4), ('어이', 4), ('둘째', 4), ('강하다', 4), ('끊다', 4), ('발권', 4), ('도시락', 4), ('갇히다', 4), ('대신', 4), ('조심', 4), ('안나', 4), ('그런', 4), ('연못', 4), ('반영', 4), ('깨끗이', 4), ('훼손', 4), ('배다', 4), ('평화롭다', 4), ('시내', 4), ('인생', 4), ('배드민턴', 4), ('탈수', 4), ('토끼', 4), ('숲속', 4), ('장난', 4), ('대놓고', 4), ('여러분', 4), ('진창', 4), ('데려가다', 4), ('환상', 4), ('갈수', 4), ('넘어지다', 4), ('해지', 4), ('조심하다', 4), ('유람선', 4), ('자전거타기', 4), ('반포', 4), ('선호', 4), ('불꽃', 4), ('광장', 4), ('쓰레기통', 4), ('비우다', 4), ('야시장', 4), ('지방', 4), ('피고', 4), ('고기', 4), ('십년', 4), ('사우나', 4), ('공용', 4), ('마사지', 4), ('포장마차', 4), ('때매', 4), ('용품', 4), ('죽이다', 4), ('치맥', 4), ('의식', 4), ('아무나', 4), ('여인', 4), ('화이팅', 4), ('지리', 4), ('대의', 4), ('단연', 4), ('센트럴', 4), ('파크', 4), ('일반인', 4), ('굿굿', 4), ('트랙', 4), ('근방', 4), ('겨우', 4), ('착용', 4), ('부지', 4), ('철저하다', 4), ('청소', 4), ('다행', 4), ('몇몇', 4), ('금액', 4), ('무기', 4), ('보고오다', 4), ('든지', 4), ('움직이다', 4), ('초등학교', 4), ('안해', 4), ('여행', 4), ('싫어하다', 4), ('조화', 4), ('일상', 4), ('용산', 4), ('오는', 4), ('더하다', 4), ('가나', 4), ('레이스', 4), ('커다랗다', 4), ('일제강점기', 4), ('창덕궁', 4), ('정책', 4), ('이라서', 4), ('보아', 4), ('학살', 4), ('묻히다', 4), ('비슷하다', 4), ('김백일', 4), ('강점', 4), ('상위', 4), ('캐나다', 4), ('김창룡', 4), ('어수선하다', 4), ('는걸', 4), ('대학로', 4), ('금연', 4), ('이만', 4), ('팔각정', 4), ('둘레길', 4), ('군데', 4), ('도봉', 4), ('줍다', 4), ('경사', 4), ('등산', 4), ('대안', 4), ('도대체', 4), ('로만', 4), ('모드', 4), ('놀람', 4), ('한가롭다', 4), ('아이디어', 4), ('수시로', 4), ('잘못', 4), ('조형', 4), ('모던', 4), ('터지다', 4), ('캠핑장', 4), ('당일', 4), ('점도', 4), ('싸우다', 4), ('현상', 4), ('해봤다', 4), ('통해', 4), ('사장', 4), ('사이트', 4), ('경관', 4), ('살리다', 4), ('급하다', 4), ('꺼리다', 4), ('공짜', 4), ('표본', 4), ('뛰어다니다', 4), ('벌써', 4), ('유지', 4), ('주제', 4), ('서대문', 4), ('테마', 4), ('저학년', 4), ('운동장', 4), ('대고', 4), ('리뉴얼', 4), ('의외로', 4), ('기념품', 4), ('민주주의', 4), ('슬프다', 4), ('방치', 4), ('통곡', 4), ('민주화', 4), ('감옥', 4), ('윤완용', 4), ('완전하다', 4), ('대요', 4), ('방대하다', 4), ('족욕', 4), ('용도', 4), ('바이크', 4), ('담당', 4), ('당하다', 4), ('들어서다', 4), ('서울역', 4), ('전이', 4), ('모형', 4), ('만하', 4), ('짜증', 4), ('상세', 4), ('구석구석', 4), ('인가요', 4), ('요청', 4), ('청계천', 4), ('타워', 4), ('해외', 4), ('영향', 4), ('두번째', 4), ('눈높이', 4), ('주기', 4), ('장사', 4), ('벨라', 4), ('그거', 4), ('후회', 4), ('빡세', 4), ('아쿠아', 4), ('살짝', 4), ('제법', 4), ('정확하다', 4), ('끼우다', 4), ('통로', 4), ('알바', 4), ('도안', 4), ('다가오다', 4), ('부르다', 4), ('부실하다', 4), ('역할', 4), ('깊이', 4), ('존경', 4), ('입다', 4), ('겠다', 4), ('인어', 4), ('방학', 4), ('시간대', 4), ('이정', 4), ('신문', 4), ('변화', 4), ('베트남전', 4), ('남성', 4), ('간다', 4), ('자극', 4), ('사과', 4), ('민간인', 4), ('라니', 4), ('아담하다', 4), ('겸재', 4), ('놓치다', 4), ('예매', 4), ('달라', 4), ('디자이너', 4), ('붙이다', 4), ('분만', 4), ('대체', 4), ('스텝', 4), ('주심', 4), ('헛걸음', 4), ('건축가', 4), ('세련되다', 4), ('감각', 4), ('선재', 4), ('카메라', 4), ('디자인', 4), ('공예품', 4), ('노력', 4), ('감정', 4), ('예술의전당', 4), ('멋있다', 4), ('아야', 4), ('누리다', 4), ('에르', 4), ('추다', 4), ('관계자', 4), ('바스키아', 4), ('귀찮다', 4), ('불가능하다', 4), ('딸리다', 4), ('애용', 4), ('노숙자', 4), ('난장판', 4), ('시공간', 4), ('도서실', 4), ('편입', 4), ('가리다', 4), ('공예', 4), ('전문', 4), ('벗다', 4), ('구로', 4), ('마루', 4), ('유해', 4), ('체크', 4), ('엘레베이터', 4), ('실과', 4), ('중딩', 4), ('빵빵', 4), ('후문', 4), ('무겁다', 4), ('떨다', 4), ('면학', 4), ('무인', 4), ('정수기', 4), ('김근태', 4), ('끊기다', 4), ('가파른', 4), ('스캔', 4), ('자율학습', 4), ('갖다', 4), ('재개', 4), ('스스로', 4), ('돌려주다', 4), ('서적', 4), ('오류', 4), ('체온', 4), ('태블릿', 4), ('장기', 4), ('자연과학', 4), ('봉투', 4), ('볶음밥', 4), ('길동', 3), ('이자', 3), ('개원', 3), ('최대', 3), ('한정', 3), ('탐방', 3), ('이루어지다', 3), ('사고', 3), ('위험', 3), ('건강하다', 3), ('고려', 3), ('의견', 3), ('널널', 3), ('직전', 3), ('음식점', 3), ('아이스크림', 3), ('노소', 3), ('곤충', 3), ('여성', 3), ('밀리다', 3), ('동양', 3), ('악어', 3), ('원숭이', 3), ('패키지', 3), ('활짝', 3), ('국내', 3), ('운치', 3), ('녹지', 3), ('수호', 3), ('대학생', 3), ('떠나다', 3), ('부스', 3), ('겁나다', 3), ('업체', 3), ('소시지', 3), ('덮다', 3), ('마트', 3), ('기원', 3), ('게임', 3), ('관순', 3), ('모금', 3), ('똑바로', 3), ('앞쪽', 3), ('학대', 3), ('대답', 3), ('오신', 3), ('규정', 3), ('어이없다', 3), ('담당자', 3), ('한산하다', 3), ('꼭대기', 3), ('월초', 3), ('통행', 3), ('하염없이', 3), ('사람과', 3), ('반드시', 3), ('특별하다', 3), ('사가', 3), ('네이버', 3), ('피어', 3), ('비키다', 3), ('다운', 3), ('기르다', 3), ('지민', 3), ('호강', 3), ('확실하다', 3), ('떡볶이', 3), ('식히다', 3), ('만지다', 3), ('물놀이', 3), ('의문', 3), ('으론', 3), ('한화', 3), ('요리', 3), ('다짐', 3), ('젖다', 3), ('노을', 3), ('음식물', 3), ('라지', 3), ('천지', 3), ('느무', 3), ('죽여주다', 3), ('데리다', 3), ('불어', 3), ('따라오다', 3), ('시범', 3), ('보충', 3), ('엉뚱하다', 3), ('버려지다', 3), ('따스하다', 3), ('런닝', 3), ('에서의', 3), ('여름밤', 3), ('선선', 3), ('애견', 3), ('사이즈', 3), ('연결하다', 3), ('관악구', 3), ('바퀴', 3), ('넉넉하다', 3), ('혼잡하다', 3), ('멈추다', 3), ('박다', 3), ('흐리다', 3), ('우리동네', 3), ('진열', 3), ('슬쩍', 3), ('축복', 3), ('상관없다', 3), ('맛없다', 3), ('해감', 3), ('자랑스럽다', 3), ('실컷', 3), ('모으다', 3), ('어깨', 3), ('햇빛', 3), ('교체', 3), ('차지', 3), ('면적', 3), ('동심', 3), ('지시', 3), ('전철', 3), ('요원', 3), ('기차', 3), ('국립박물관', 3), ('심심하다', 3), ('쌓이다', 3), ('삼보', 3), ('추석', 3), ('아아', 3), ('미군기지', 3), ('주관', 3), ('동반', 3), ('무지', 3), ('벌레', 3), ('한가운데', 3), ('펼쳐지다', 3), ('삼다', 3), ('직하다', 3), ('이왕이면', 3), ('만큼은', 3), ('경복궁', 3), ('덕수궁', 3), ('축소', 3), ('다섯', 3), ('초라하다', 3), ('깎다', 3), ('꾸다', 3), ('흔적', 3), ('외다', 3), ('케어', 3), ('후지', 3), ('영화', 3), ('방향', 3), ('목숨', 3), ('바치다', 3), ('백선엽', 3), ('실패', 3), ('참전', 3), ('국립묘지', 3), ('김홍준', 3), ('신응균', 3), ('신태영', 3), ('이응준', 3), ('이종찬', 3), ('백낙준', 3), ('김석범', 3), ('백홍석', 3), ('송석하', 3), ('신현준', 3), ('행위', 3), ('위원회', 3), ('공식', 3), ('명의', 3), ('명시', 3), ('조사', 3), ('정체', 3), ('중위', 3), ('암살', 3), ('빠지다', 3), ('년전', 3), ('가르다', 3), ('그랬는데', 3), ('종로', 3), ('서도', 3), ('어설프다', 3), ('신다', 3), ('축구', 3), ('길목', 3), ('야간', 3), ('가동', 3), ('창포', 3), ('꼭꼭', 3), ('붓꽃', 3), ('덩어리', 3), ('뻔하다', 3), ('특색', 3), ('최고다', 3), ('과도', 3), ('사색', 3), ('편리', 3), ('까페', 3), ('여지', 3), ('지나', 3), ('임산부', 3), ('휠체어', 3), ('만날', 3), ('거진', 3), ('작동', 3), ('인들', 3), ('금방', 3), ('출몰', 3), ('정자', 3), ('공공시설', 3), ('중랑', 3), ('장비', 3), ('실하다', 3), ('아무렇다', 3), ('뿐이다', 3), ('유독', 3), ('안통', 3), ('투사', 3), ('보통', 3), ('비축', 3), ('로움', 3), ('가시', 3), ('그닥', 3), ('내야', 3), ('혈세', 3), ('화석', 3), ('장난감', 3), ('던지다', 3), ('키즈', 3), ('학부모', 3), ('중학생', 3), ('댓글', 3), ('순풍', 3), ('반말', 3), ('감안', 3), ('알아보다', 3), ('흐르다', 3), ('가슴', 3), ('일본어', 3), ('이상은', 3), ('애국심', 3), ('도중', 3), ('해방', 3), ('똑같이', 3), ('사형', 3), ('역사관', 3), ('시점', 3), ('일제시대', 3), ('알리다', 3), ('에스컬레이터', 3), ('연기', 3), ('진정', 3), ('만행', 3), ('군사', 3), ('악명', 3), ('설립', 3), ('까지도', 3), ('이며', 3), ('흘리다', 3), ('잔혹하다', 3), ('숭고하다', 3), ('다시금', 3), ('제지', 3), ('시장', 3), ('시도', 3), ('난리', 3), ('간만', 3), ('꼼꼼하다', 3), ('어울리다', 3), ('갈아타다', 3), ('반대', 3), ('경기', 3), ('린다', 3), ('벌어지다', 3), ('뿌듯하다', 3), ('시선', 3), ('선물', 3), ('귀하다', 3), ('귀가', 3), ('나마', 3), ('나누다', 3), ('시립', 3), ('사무소', 3), ('메인', 3), ('바탕', 3), ('까지의', 3), ('상영', 3), ('대순', 3), ('분류', 3), ('수리', 3), ('은평', 3), ('이미지', 3), ('나빠지다', 3), ('한숨', 3), ('건드리다', 3), ('유물', 3), ('넓히다', 3), ('대하', 3), ('비누', 3), ('허준', 3), ('옥상정원', 3), ('가오리', 3), ('마스코트', 3), ('바다사자', 3), ('지옥', 3), ('똑같다', 3), ('지능', 3), ('실물', 3), ('안고', 3), ('해양', 3), ('특유', 3), ('아끼다', 3), ('인권', 3), ('온갖', 3), ('허리', 3), ('숙이다', 3), ('평점', 3), ('따위', 3), ('장애인', 3), ('아쿠아플라넷', 3), ('고래', 3), ('숫자', 3), ('엘베', 3), ('시크', 3), ('코너', 3), ('홍보', 3), ('가로', 3), ('복사', 3), ('한국사', 3), ('할아버지', 3), ('뚜벅', 3), ('참담하다', 3), ('반하다', 3), ('만으로', 3), ('만듬', 3), ('맥스', 3), ('달튼', 3), ('완벽하다', 3), ('더러', 3), ('니깐', 3), ('보물', 3), ('지정', 3), ('훈장', 3), ('보도', 3), ('유명', 3), ('개장', 3), ('이념', 3), ('옳다', 3), ('중요하다', 3), ('묻다', 3), ('재건축', 3), ('쌍욕', 3), ('조경', 3), ('세다', 3), ('반갑다', 3), ('속상하다', 3), ('다루다', 3), ('상대로', 3), ('옥외', 3), ('추모', 3), ('와는', 3), ('눈앞', 3), ('성폭력', 3), ('이기다', 3), ('미군', 3), ('글쎄', 3), ('일일', 3), ('한국은행', 3), ('고요', 3), ('양식', 3), ('불가능', 3), ('기대다', 3), ('씹다', 3), ('노고', 3), ('빛나다', 3), ('티어', 3), ('할머니', 3), ('정선', 3), ('이라니', 3), ('무려', 3), ('지엄', 3), ('적임', 3), ('박스', 3), ('거지', 3), ('에다', 3), ('그야말로', 3), ('쌓다', 3), ('재미나', 3), ('컴터', 3), ('레이', 3), ('박수', 3), ('디테', 3), ('큐레이터', 3), ('온라인', 3), ('얼리다', 3), ('버드', 3), ('단축', 3), ('대중', 3), ('갤러리', 3), ('강요', 3), ('굿즈', 3), ('사옥', 3), ('김수근', 3), ('성과', 3), ('소장품', 3), ('의도', 3), ('지류', 3), ('발급', 3), ('감독', 3), ('원작', 3), ('색채', 3), ('도형', 3), ('맛보다', 3), ('알록달록', 3), ('영감', 3), ('편안함', 3), ('빠져들다', 3), ('표지', 3), ('초기', 3), ('튈레', 3), ('쉽다', 3), ('인솔', 3), ('답변', 3), ('단순하다', 3), ('컬러', 3), ('유치부', 3), ('유발', 3), ('즐거움', 3), ('방역', 3), ('순번', 3), ('시전', 3), ('경로', 3), ('전달', 3), ('쓸모', 3), ('꾸준하다', 3), ('마주치다', 3), ('분도', 3), ('스탭분', 3), ('잃다', 3), ('테러', 3), ('접수', 3), ('장바닥', 3), ('늙다', 3), ('설다', 3), ('정작', 3), ('송파구', 3), ('소란', 3), ('대상', 3), ('행정', 3), ('상설', 3), ('보자기', 3), ('나전', 3), ('행운', 3), ('말로', 3), ('넘어서다', 3), ('곳임', 3), ('사이니', 3), ('안경', 3), ('우편', 3), ('다산', 3), ('것임', 3), ('캔버스', 3), ('그립다', 3), ('꺼지다', 3), ('절차', 3), ('혼잣말', 3), ('조치', 3), ('기침', 3), ('보단', 3), ('방구', 3), ('스터디', 3), ('서고', 3), ('인식', 3), ('난방', 3), ('정이', 3), ('핸드폰', 3), ('북카페', 3), ('장서가', 3), ('깜놀', 3), ('한계', 3), ('시가', 3), ('고시', 3), ('합격', 3), ('그나마', 3), ('약하다', 3), ('나머지', 3), ('잔뜩', 3), ('자꾸', 3), ('순환', 3), ('바깥', 3), ('자판기', 3), ('전국', 3), ('광진', 3), ('용하다', 3), ('어쩜', 3), ('문도', 3), ('인쇄', 3), ('간격', 3), ('월달', 3), ('세심', 3), ('작성', 3), ('선정', 3), ('시골', 3), ('안산', 3), ('마포', 3), ('선진국', 3), ('갑자기', 3), ('거슬리다', 3), ('차례', 3), ('서초구', 3), ('중턱', 3), ('잡지', 3), ('큐알', 3), ('중고생', 3), ('무난', 3), ('놔두다', 3), ('구실', 3), ('양도', 3), ('실만', 3), ('위생', 3), ('자락', 3), ('성분', 3), ('고등학교', 3), ('마인드', 2), ('조직', 2), ('서식', 2), ('으로서', 2), ('용정', 2), ('다수', 2), ('수용', 2), ('양해', 2), ('별개', 2), ('께서는', 2), ('방안', 2), ('다채롭', 2), ('새삼', 2), ('창경궁', 2), ('이기', 2), ('출발', 2), ('과자', 2), ('음료수', 2), ('다녀가다', 2), ('전보', 2), ('주가', 2), ('와우', 2), ('개별', 2), ('영업', 2), ('날리다', 2), ('기온', 2), ('고통', 2), ('이어서', 2), ('였음', 2), ('외로', 2), ('울적하다', 2), ('맡기다', 2), ('에서나', 2), ('성공', 2), ('설레다', 2), ('마음대로', 2), ('사건', 2), ('보살피다', 2), ('뜬금없이', 2), ('우회', 2), ('위반', 2), ('새끼', 2), ('우울', 2), ('향기', 2), ('동감', 2), ('신발', 2), ('어디서', 2), ('고지', 2), ('해당', 2), ('머무르다', 2), ('이야', 2), ('살살', 2), ('후퇴', 2), ('자본주의', 2), ('오니', 2), ('과의', 2), ('절반', 2), ('먹기', 2), ('고생', 2), ('남쪽', 2), ('올림픽', 2), ('미끄럼틀', 2), ('활기차다', 2), ('해주', 2), ('너무나도', 2), ('사계절', 2), ('안녕하다', 2), ('공영', 2), ('자제', 2), ('피해', 2), ('갈수록', 2), ('거닐다', 2), ('요새', 2), ('방문자', 2), ('이사', 2), ('접다', 2), ('까진', 2), ('스팟', 2), ('어우', 2), ('무심하다', 2), ('로서', 2), ('그만', 2), ('박하다', 2), ('향연', 2), ('소식', 2), ('조금씩', 2), ('대현산', 2), ('배수지', 2), ('뜨겁다', 2), ('젓가락', 2), ('후후', 2), ('내기', 2), ('어두워지다', 2), ('강물', 2), ('징글징글', 2), ('이촌', 2), ('폴란드', 2), ('직관', 2), ('너머', 2), ('심의', 2), ('압권', 2), ('여의나루역', 2), ('물빛', 2), ('마포대교', 2), ('꿀맛', 2), ('봉지', 2), ('그릇', 2), ('보행자', 2), ('사기', 2), ('밤섬', 2), ('샛강', 2), ('화형', 2), ('강보', 2), ('물티슈', 2), ('탕후루', 2), ('달래다', 2), ('인파', 2), ('저녁때', 2), ('다사', 2), ('온통', 2), ('소문나다', 2), ('번잡', 2), ('유유', 2), ('파리', 2), ('수없이', 2), ('새우', 2), ('대명사', 2), ('개시', 2), ('원함', 2), ('쉑들', 2), ('개패', 2), ('엄지손', 2), ('지압', 2), ('위험하다', 2), ('미니스톱', 2), ('써레', 2), ('청소부', 2), ('햇살', 2), ('조각상', 2), ('술판', 2), ('강바람', 2), ('핸갱', 2), ('위풍', 2), ('갈매기', 2), ('뚝섬', 2), ('전철역', 2), ('분기', 2), ('아씨', 2), ('뽀글이', 2), ('유치원', 2), ('동작', 2), ('넘어가다', 2), ('인도', 2), ('관악', 2), ('조명도', 2), ('동작구', 2), ('이내', 2), ('러닝', 2), ('베드민턴', 2), ('춤추다', 2), ('그루', 2), ('호떡', 2), ('웨이팅', 2), ('밥집', 2), ('일품', 2), ('손꼽다', 2), ('단장', 2), ('체조', 2), ('어쩌', 2), ('안감', 2), ('공군', 2), ('어우러지다', 2), ('바코드', 2), ('결재', 2), ('파다', 2), ('벗꽃', 2), ('제주도', 2), ('데시', 2), ('정서', 2), ('외로움', 2), ('동산', 2), ('확정', 2), ('푸드코트', 2), ('회전목마', 2), ('후룸라이드', 2), ('든든하다', 2), ('뻗다', 2), ('활발하다', 2), ('도보', 2), ('잠기다', 2), ('더위', 2), ('피우다', 2), ('놀이동산', 2), ('체험학습', 2), ('서서', 2), ('죽음', 2), ('이요', 2), ('얼른', 2), ('승인', 2), ('택시', 2), ('익스', 2), ('집앞', 2), ('미터', 2), ('의아', 2), ('숲길', 2), ('미국', 2), ('빨간색', 2), ('고고', 2), ('실외', 2), ('나위', 2), ('토양오염', 2), ('보지', 2), ('하필', 2), ('골프장', 2), ('푸른', 2), ('진입', 2), ('평온하다', 2), ('걸어오다', 2), ('본래', 2), ('정전', 2), ('일본인', 2), ('파괴', 2), ('이나마', 2), ('되찾다', 2), ('고향', 2), ('광해', 2), ('결과', 2), ('사업', 2), ('전후', 2), ('순국선열', 2), ('어떠하다', 2), ('만남', 2), ('호선', 2), ('묘소', 2), ('가다가', 2), ('북괴', 2), ('매국노', 2), ('폭탄', 2), ('간도특설대', 2), ('복무', 2), ('조선', 2), ('독립군', 2), ('기록', 2), ('인명', 2), ('규명', 2), ('장성', 2), ('문구', 2), ('대전', 2), ('공개', 2), ('국회의원', 2), ('이승만', 2), ('치하', 2), ('혼란', 2), ('중좌', 2), ('소좌', 2), ('차관', 2), ('국방', 2), ('해병대', 2), ('사령관', 2), ('창설', 2), ('국군', 2), ('전신', 2), ('중국', 2), ('육군사관학교', 2), ('헌병', 2), ('항일', 2), ('독립운동가', 2), ('악랄하다', 2), ('만인', 2), ('약수터', 2), ('가뜩이나', 2), ('은행나무', 2), ('스토리', 2), ('낭만', 2), ('사로자다', 2), ('나이스', 2), ('눈쌀', 2), ('찌푸리다', 2), ('원형', 2), ('협소함', 2), ('전기차', 2), ('스포츠', 2), ('넘사벽', 2), ('변하다', 2), ('북쪽', 2), ('부러', 2), ('어머니', 2), ('포근하다', 2), ('보라', 2), ('개화', 2), ('굽다', 2), ('한여름', 2), ('개나리', 2), ('북서울꿈의숲', 2), ('형편', 2), ('차갑다', 2), ('몇개', 2), ('시장님', 2), ('하고는', 2), ('남부', 2), ('반나절', 2), ('정수', 2), ('희귀', 2), ('수원', 2), ('하수', 2), ('얼다', 2), ('자동', 2), ('농구장', 2), ('옵니다', 2), ('울다', 2), ('야트막하다', 2), ('안정', 2), ('과는', 2), ('셀프', 2), ('내면', 2), ('가득', 2), ('순찰', 2), ('팻말', 2), ('애초', 2), ('부부싸움', 2), ('안함', 2), ('올려놓다', 2), ('그러면', 2), ('쩔다', 2), ('효과', 2), ('왼쪽', 2), ('한적', 2), ('캠퍼', 2), ('장작', 2), ('회피', 2), ('건강', 2), ('한창', 2), ('우뚝', 2), ('석유', 2), ('이벤트', 2), ('최대한', 2), ('재탄생', 2), ('영혼', 2), ('일정', 2), ('기지', 2), ('아빠', 2), ('일부러', 2), ('보수', 2), ('보호자', 2), ('업데이트', 2), ('살이', 2), ('테라스', 2), ('아주머니', 2), ('동굴', 2), ('주로', 2), ('복지', 2), ('토요일', 2), ('징수', 2), ('찌다', 2), ('실감', 2), ('고취', 2), ('민주', 2), ('수학여행', 2), ('적히다', 2), ('왜곡', 2), ('악덕', 2), ('힘쓰다', 2), ('그동안', 2), ('질질', 2), ('까지로', 2), ('선조', 2), ('대적', 2), ('완공', 2), ('모양', 2), ('독립문역', 2), ('지상', 2), ('형무소', 2), ('독재', 2), ('수감', 2), ('사의', 2), ('묵념', 2), ('기적', 2), ('이냐', 2), ('처단', 2), ('숨결', 2), ('켜다', 2), ('분노', 2), ('누군가', 2), ('죄송하다', 2), ('바이러스', 2), ('떼다', 2), ('부터는', 2), ('계시', 2), ('건너', 2), ('영유', 2), ('방이', 2), ('그치다', 2), ('풍부하다', 2), ('상이', 2), ('벽돌', 2), ('낙후', 2), ('새치기', 2), ('주중', 2), ('보제', 2), ('견학', 2), ('임의', 2), ('고장', 2), ('관광객', 2), ('한양', 2), ('실수', 2), ('암튼', 2), ('탄생', 2), ('끌다', 2), ('무렵', 2), ('한국어', 2), ('복판', 2), ('마치다', 2), ('입체', 2), ('만이', 2), ('형태', 2), ('사르다', 2), ('고조선', 2), ('조선시대', 2), ('강력하다', 2), ('설날', 2), ('각종', 2), ('어서', 2), ('숙지', 2), ('예상', 2), ('전차', 2), ('충실하다', 2), ('심장', 2), ('이든', 2), ('전날', 2), ('스템', 2), ('혜자', 2), ('스탬프', 2), ('현금영수증', 2), ('이러하다', 2), ('긋다', 2), ('미니어처', 2), ('비디오', 2), ('멀티미디어', 2), ('투어', 2), ('마르다', 2), ('설문조사', 2), ('하늘정원', 2), ('진출', 2), ('중원', 2), ('대륙', 2), ('영역', 2), ('누르다', 2), ('이외', 2), ('바위', 2), ('버스정류장', 2), ('상어', 2), ('기업', 2), ('마찬가지', 2), ('소문', 2), ('불매', 2), ('사하다', 2), ('하루빨리', 2), ('비율', 2), ('거려', 2), ('잠실', 2), ('밸루', 2), ('헤엄', 2), ('괴롭다', 2), ('비뉴', 2), ('그걸', 2), ('돌고래', 2), ('기여', 2), ('일관', 2), ('성은', 2), ('외로워', 2), ('탁하다', 2), ('남자친구', 2), ('점주', 2), ('파악', 2), ('먹이다', 2), ('협소합니', 2), ('떨어뜨리다', 2), ('일산', 2), ('물범', 2), ('기프트샵', 2), ('높이', 2), ('접종', 2), ('자고', 2), ('출력', 2), ('검사', 2), ('시비', 2), ('뒷걸음질', 2), ('에라도', 2), ('종업원', 2), ('동생', 2), ('나타나다', 2), ('뱅글', 2), ('수단', 2), ('희다', 2), ('해저', 2), ('터널', 2), ('걸터', 2), ('정가', 2), ('분명하다', 2), ('감회', 2), ('일지', 2), ('회의', 2), ('의지', 2), ('몇장', 2), ('자식', 2), ('백범김구', 2), ('이따위', 2), ('참으로', 2), ('역사학자', 2), ('지은', 2), ('마님', 2), ('조화롭다', 2), ('장하다', 2), ('래미', 2), ('머메이드', 2), ('유효', 2), ('다행하다', 2), ('리스트', 2), ('수영', 2), ('안심', 2), ('만큼의', 2), ('평이', 2), ('수질', 2), ('수주', 2), ('미안하다', 2), ('때우다', 2), ('혜택', 2), ('꽉차다', 2), ('획기', 2), ('침략', 2), ('이토', 2), ('히로', 2), ('나아가다', 2), ('순국', 2), ('인류', 2), ('소임', 2), ('건국', 2), ('공로', 2), ('저승', 2), ('제과점', 2), ('생전', 2), ('취지', 2), ('주권', 2), ('고국', 2), ('의무', 2), ('들려오다', 2), ('마땅하다', 2), ('도와주다', 2), ('뷔페', 2), ('배경', 2), ('양질', 2), ('압도', 2), ('바리', 2), ('투자', 2), ('상상', 2), ('정릉', 2), ('벅차다', 2), ('자주자주', 2), ('수집', 2), ('모임', 2), ('용기', 2), ('일도', 2), ('오디오', 2), ('스케일', 2), ('모자라다', 2), ('대별', 2), ('뚝딱', 2), ('감사히', 2), ('군인', 2), ('호국', 2), ('천년', 2), ('올바르다', 2), ('편협', 2), ('진정하다', 2), ('불구', 2), ('한민족', 2), ('베이글', 2), ('명칭', 2), ('용사', 2), ('후반', 2), ('프로', 2), ('로써', 2), ('따라서', 2), ('논란', 2), ('대다수', 2), ('지원', 2), ('소수', 2), ('시신', 2), ('떠올리다', 2), ('널찍하다', 2), ('물들다', 2), ('발걸음', 2), ('부족', 2), ('결혼', 2), ('숨기다', 2), ('소설', 2), ('경제', 2), ('머릿돌', 2), ('미취', 2), ('우크라이나', 2), ('자석', 2), ('기둥', 2), ('대학교', 2), ('할어버지', 2), ('우유', 2), ('거품', 2), ('던데', 2), ('그따위', 2), ('사악하다', 2), ('븀비', 2), ('기증', 2), ('소요', 2), ('민속', 2), ('연중', 2), ('초딩', 2), ('화장', 2), ('저렇다', 2), ('착각', 2), ('맙시', 2), ('유작', 2), ('반대쪽', 2), ('미흡하다', 2), ('간섭', 2), ('재치', 2), ('능력', 2), ('찬찬하다', 2), ('텍스트', 2), ('적어도', 2), ('황당하다', 2), ('포스터', 2), ('첫날', 2), ('인증샷', 2), ('약자', 2), ('각층', 2), ('창가', 2), ('사진전', 2), ('녹다', 2), ('코코', 2), ('카피', 2), ('소마', 2), ('미술품', 2), ('관일', 2), ('이만익', 2), ('이리', 2), ('부드럽다', 2), ('쫒다', 2), ('아카이브', 2), ('드네', 2), ('보다도', 2), ('홈피', 2), ('별루', 2), ('난해하다', 2), ('애매', 2), ('완성', 2), ('사무실', 2), ('더움', 2), ('줄알', 2), ('존중', 2), ('공감', 2), ('대응', 2), ('기관', 2), ('회사', 2), ('따름', 2), ('동글동글', 2), ('스타일', 2), ('다가', 2), ('열정', 2), ('센스', 2), ('수고', 2), ('여직원', 2), ('아티스트', 2), ('눈길', 2), ('착시', 2), ('옵티컬', 2), ('상처', 2), ('창시자', 2), ('걸치다', 2), ('연구', 2), ('재능', 2), ('예술가', 2), ('원화', 2), ('감다', 2), ('구상', 2), ('구현', 2), ('근사하다', 2), ('재다', 2), ('그리기', 2), ('추하다', 2), ('헝가리', 2), ('예비', 2), ('메뉴', 2), ('최초', 2), ('고딩', 2), ('겨울방학', 2), ('창의력', 2), ('캐릭터', 2), ('미소', 2), ('로렌', 2), ('일드', 2), ('사진촬영', 2), ('와의', 2), ('라울', 2), ('개성', 2), ('상한', 2), ('추상', 2), ('수학', 2), ('이감', 2), ('발견', 2), ('록카쿠', 2), ('절로', 2), ('김찬', 2), ('블로그', 2), ('조합', 2), ('창의', 2), ('남아', 2), ('형식', 2), ('새해', 2), ('깨끗', 2), ('놀리다', 2), ('체력', 2), ('포인트', 2), ('성취', 2), ('만끽', 2), ('막상', 2), ('품세', 2), ('그림책', 2), ('고수', 2), ('인내심', 2), ('한물가다', 2), ('입실', 2), ('상해', 2), ('스태프', 2), ('딱딱하다', 2), ('구해', 2), ('섞이다', 2), ('당황', 2), ('여사', 2), ('잔잔하다', 2), ('주년', 2), ('별관', 2), ('매뉴얼', 2), ('휴대폰', 2), ('조그만', 2), ('감시', 2), ('맡다', 2), ('말씀드리다', 2), ('수정', 2), ('부족함', 2), ('전시품', 2), ('공무원', 2), ('슬리퍼', 2), ('댕기', 2), ('청소직원', 2), ('보나', 2), ('탐구', 2), ('시원', 2), ('부터라도', 2), ('큰소리', 2), ('소양', 2), ('새다', 2), ('대체로', 2), ('리노', 2), ('베이', 2), ('지인', 2), ('로에베', 2), ('깜짝', 2), ('박물', 2), ('창고', 2), ('가구', 2), ('선진', 2), ('기술', 2), ('접목', 2), ('불필요하다', 2), ('용산역', 2), ('가라', 2), ('상하이', 2), ('의거', 2), ('공동묘지', 2), ('이봉창', 2), ('백정기', 2), ('부탁', 2), ('맞이', 2), ('주장', 2), ('적지', 2), ('발열', 2), ('공기청정기', 2), ('인증', 2), ('찍지마라', 2), ('잔소리', 2), ('강남역', 2), ('신설', 2), ('지식', 2), ('간직', 2), ('대충', 2), ('뿌시', 2), ('마우스', 2), ('강남구', 2), ('중구', 2), ('벨소리', 2), ('순서대로', 2), ('꽂다', 2), ('책방', 2), ('강서', 2), ('나머진', 2), ('비슷비슷', 2), ('상호', 2), ('인문학', 2), ('보건', 2), ('지소', 2), ('폐쇄', 2), ('짧아지다', 2), ('한가지', 2), ('고자', 2), ('지난주', 2), ('까지가', 2), ('무인도', 2), ('직장인', 2), ('헛탕', 2), ('확장', 2), ('청년', 2), ('신축', 2), ('수강', 2), ('고루', 2), ('건데', 2), ('스카', 2), ('지속', 2), ('자격증', 2), ('너무하다', 2), ('복도', 2), ('인구', 2), ('집도', 2), ('스치다', 2), ('불만', 2), ('체육', 2), ('강서구', 2), ('제출', 2), ('구두', 2), ('나요', 2), ('중장', 2), ('년층', 2), ('비용', 2), ('흑백', 2), ('사담', 2), ('숨다', 2), ('따닥따닥', 2), ('무시', 2), ('이러니', 2), ('최상', 2), ('쉬기', 2), ('다정하다', 2), ('유튜브', 2), ('먹고다', 2), ('책임자', 2), ('관장', 2), ('불안하다', 2), ('양보', 2), ('밀치다', 2), ('냉방', 2), ('거주', 2), ('격주', 2), ('텀블러', 2), ('엉덩이', 2), ('쓰리다', 2), ('카페테리아', 2), ('칸막이', 2), ('줄어들다', 2), ('석도', 2), ('산길', 2), ('퇴실', 2), ('중계', 2), ('정답', 2), ('지향', 2), ('문학', 2), ('장님', 2), ('맨날', 2), ('상식', 2), ('몰리다', 2), ('물어', 2), ('비록', 2), ('오거', 2), ('무더위', 2), ('전멸', 2), ('퇴실후', 2), ('장기간', 2), ('살균', 2), ('직장', 2), ('찔끔', 2), ('지자체', 2), ('배정', 2), ('양천구', 2), ('최고급', 2), ('마포구', 2), ('지경', 2), ('지적', 2), ('이어폰', 2), ('방음', 2), ('관공서', 2), ('상가', 2), ('학술', 2), ('조차', 2), ('광합성', 2), ('장건', 2), ('근로시간', 2), ('채용', 2), ('주간', 2), ('저녁식사', 2), ('분관', 2), ('남탓', 2), ('울상', 2), ('점점', 2), ('악성', 2), ('웅엥', 2), ('행실', 2), ('기생충', 2), ('약제', 2), ('거론', 2), ('택도없', 2), ('스리', 2), ('복귀', 2), ('개돼지', 2), ('재산세', 2), ('소득세', 2), ('고가', 2), ('명도', 2), ('대학', 2), ('랜드마크', 2), ('파손', 2), ('소지품', 2), ('코딩', 2), ('학원', 2), ('왜함', 2), ('번번', 2), ('종료', 2), ('로또', 2), ('개이득', 2), ('구체', 2), ('방송국', 2), ('넘치다', 2), ('지하철역', 2), ('수건', 2), ('자율', 2), ('배급', 2), ('쓸데없다', 2), ('갈아', 2), ('야옹야옹', 2), ('냐옹', 2), ('리나', 2), ('팍팍', 2), ('넘기다', 2), ('무음', 2), ('소란스러움', 2), ('점수', 2), ('공격', 2), ('극치', 2), ('궁금', 2), ('으면', 2), ('바퀴벌레', 2), ('마땅치', 2), ('성북구', 2), ('최소한', 2), ('오금', 2), ('과태료', 2), ('건조', 2), ('날때', 2), ('유세', 2), ('풍구', 2), ('열기', 2), ('온도', 2), ('전자기기', 2), ('웃기다', 2), ('그대', 2), ('넷째', 2), ('종이컵', 2), ('사먹다', 2), ('청구', 2), ('전산', 2), ('둘러싸이다', 2), ('제자리', 2), ('첨부', 2), ('툭하면', 2), ('상습', 2), ('리지', 2), ('사기꾼', 2), ('논문', 2), ('대박', 2), ('극악', 2), ('정해진', 2), ('비밀', 2), ('내부시', 2), ('초입', 2), ('청원경찰', 2), ('재수없다', 2), ('비굿', 2), ('제재', 2), ('투명', 2), ('참가', 2), ('관외', 2), ('바글대다', 2), ('트림', 2), ('쩝쩝', 2), ('가래', 2), ('병동', 2), ('띄다', 2), ('아치', 2), ('인문', 2), ('반쪽', 2), ('섹터', 2), ('뒤죽박죽', 2), ('드디어', 2), ('샤우팅', 2), ('배틀', 2), ('위협', 2), ('떡국', 2), ('수압', 2), ('쎄다', 2), ('오므라이스', 2), ('제육', 2), ('반세기', 2), ('은퇴', 2), ('부도', 2), ('고르다', 2), ('시청', 2), ('실앞', 2), ('공존', 2), ('깨치다', 2), ('사육', 2), ('안락사', 2), ('비걸', 2), ('왠지', 2), ('인스타', 2), ('월간', 2), ('신형', 2), ('으리', 2), ('간구', 2), ('금요일', 2), ('주택가', 2), ('청결', 2), ('플라스틱', 2), ('간단', 2), ('끼니', 2), ('정겨운', 2), ('연체', 2), ('사직단', 2), ('대나무', 2), ('레드', 2), ('벨벳', 2), ('갑인', 1), ('발신', 1), ('안녕하십니까', 1), ('여종', 1), ('확대', 1), ('테크', 1), ('생태계', 1), ('불가피하다', 1), ('실정', 1), ('일시', 1), ('안전', 1), ('아우르다', 1), ('날뛰다', 1), ('고라니', 1), ('반도', 1), ('풀내음', 1), ('싱그럽다', 1), ('드넓다', 1), ('대자연', 1), ('흐뭇하다', 1), ('대공', 1), ('창경원', 1), ('탑승', 1), ('산채', 1), ('비빔밥', 1), ('반석', 1), ('구이', 1), ('오징어', 1), ('닭꼬치', 1), ('슬러시', 1), ('교통카드', 1), ('에게나', 1), ('산림', 1), ('마다의', 1), ('칰절', 1), ('다가가다', 1), ('앵무새', 1), ('피크', 1), ('일주일', 1), ('흩날리다', 1), ('닫히다', 1), ('윰차', 1), ('웨건', 1), ('판다', 1), ('낙타', 1), ('사막여우', 1), ('프레리', 1), ('역쉬', 1), ('절정', 1), ('서두르다', 1), ('셍노', 1), ('거름', 1), ('식물원', 1), ('바다악어', 1), ('미동', 1), ('덕후', 1), ('밪꽃', 1), ('잠자다', 1), ('넓어지다', 1), ('지내다', 1), ('나아지다', 1), ('비만', 1), ('다가서다', 1), ('파랑', 1), ('이를', 1), ('가엾다', 1), ('돌보다', 1), ('길들다', 1), ('빈곳', 1), ('대구광역시', 1), ('순수하다', 1), ('땡큐', 1), ('아내', 1), ('느긋하다', 1), ('빨갛다', 1), ('꾸역꾸역', 1), ('안막', 1), ('용법', 1), ('대행', 1), ('가중', 1), ('일률', 1), ('솜사탕', 1), ('가판', 1), ('동일하다', 1), ('얇다', 1), ('두껍다', 1), ('이라고는', 1), ('다양성', 1), ('자재', 1), ('프랜차이즈', 1), ('간판', 1), ('세부', 1), ('위탁', 1), ('실무', 1), ('관행', 1), ('수세식', 1), ('인도네시아', 1), ('반출', 1), ('똑똑하다', 1), ('지켜보다', 1), ('사도', 1), ('책임', 1), ('드심', 1), ('갓길', 1), ('가량', 1), ('나타남', 1), ('진정제', 1), ('투여', 1), ('고릴라', 1), ('오랑우탄', 1), ('풀밭', 1), ('느꼐집니', 1), ('아랫', 1), ('갈이', 1), ('신고', 1), ('늑대', 1), ('퓨마', 1), ('래서', 1), ('팬더', 1), ('일방', 1), ('통보', 1), ('방침', 1), ('희망이', 1), ('겔라', 1), ('키마', 1), ('사쿠라', 1), ('이리저리', 1), ('완만', 1), ('대략', 1), ('끔찍하다', 1), ('대기업', 1), ('안주', 1), ('단둘', 1), ('덩달아', 1), ('하마', 1), ('미어캣', 1), ('학령기', 1), ('장미', 1), ('괜춘', 1), ('라켓', 1), ('탁구', 1), ('생기', 1), ('월말', 1), ('성수', 1), ('건대', 1), ('이어진', 1), ('최적', 1), ('윤행', 1), ('각박하다', 1), ('관대하다', 1), ('탄소', 1), ('친환경', 1), ('후진국', 1), ('위기', 1), ('망중', 1), ('소품', 1), ('정석', 1), ('화이트', 1), ('크리스마스', 1), ('길고양이', 1), ('궁디', 1), ('팡팡', 1), ('꽃사슴', 1), ('안뇽', 1), ('물씬', 1), ('평일도', 1), ('핫플', 1), ('조아욜', 1), ('불법', 1), ('정차', 1), ('해롭다', 1), ('음주', 1), ('분리수거', 1), ('무단', 1), ('투기', 1), ('반시', 1), ('목줄', 1), ('소변', 1), ('성수동', 1), ('식품', 1), ('벚꽂', 1), ('오래오래', 1), ('피톤', 1), ('치드', 1), ('냉장고', 1), ('소가', 1), ('성수대교', 1), ('심각하다', 1), ('모래', 1), ('풀향', 1), ('괴안아', 1), ('건졋어', 1), ('서양화', 1), ('분안', 1), ('어마', 1), ('피지', 1), ('번째', 1), ('카트', 1), ('웨딩촬영', 1), ('청춘', 1), ('수목원', 1), ('멍멍', 1), ('집합', 1), ('태양광', 1), ('키트', 1), ('썰다', 1), ('전기톱', 1), ('포살', 1), ('청담', 1), ('개똥', 1), ('헬임', 1), ('허유', 1), ('평상', 1), ('꽃가루', 1), ('아름', 1), ('리기', 1), ('습니까', 1), ('습니', 1), ('한해', 1), ('완벽', 1), ('좋아욜', 1), ('성빈', 1), ('생일', 1), ('축하', 1), ('비올', 1), ('코스프레', 1), ('아싸', 1), ('질리', 1), ('서기', 1), ('초록', 1), ('부랴부랴', 1), ('불빛', 1), ('비치다', 1), ('일몰', 1), ('매립', 1), ('우웩', 1), ('탁트인', 1), ('숨통', 1), ('응봉', 1), ('북동쪽', 1), ('미래', 1), ('코트', 1), ('질서', 1), ('지킴', 1), ('노인도', 1), ('보라매로', 1), ('농구', 1), ('달맞이', 1), ('동요', 1), ('영등포', 1), ('신길동', 1), ('신대방동', 1), ('신림동', 1), ('인접', 1), ('황토', 1), ('윤동할수', 1), ('귀국', 1), ('맨발', 1), ('라든가', 1), ('스케이트', 1), ('만발', 1), ('잘리다', 1), ('알수없음', 1), ('푸드', 1), ('트럭', 1), ('본격', 1), ('반려동물', 1), ('소형견', 1), ('대형견', 1), ('불면', 1), ('저물다', 1), ('차일', 1), ('좌회전', 1), ('차만', 1), ('전하', 1), ('유산', 1), ('사관학교', 1), ('퇴역', 1), ('후쿠오카', 1), ('버드나무', 1), ('원가', 1), ('인력', 1), ('도림천', 1), ('토막살인', 1), ('시체', 1), ('유기', 1), ('범인', 1), ('김종호', 1), ('무기징역', 1), ('선고', 1), ('가격표', 1), ('품목', 1), ('입력', 1), ('누우', 1), ('가온', 1), ('다공', 1), ('사중', 1), ('불안', 1), ('계획', 1), ('태어나다', 1), ('짜장면', 1), ('재밋엇어', 1), ('그네', 1), ('위임', 1), ('지우다', 1), ('무진장', 1), ('둘러매다', 1), ('어렴풋', 1), ('게으름', 1), ('오월', 1), ('한낮', 1), ('후름', 1), ('라이더', 1), ('홀딱', 1), ('아무튼', 1), ('안타', 1), ('데도', 1), ('이동신', 1), ('적어지다', 1), ('바이킹', 1), ('휴장', 1), ('정희', 1), ('꿀꺽', 1), ('다이노', 1), ('끼익끼익', 1), ('정돈', 1), ('슈퍼점프', 1), ('뮤직', 1), ('프레', 1), ('파파이스', 1), ('밥류', 1), ('것일', 1), ('드럽다', 1), ('마당', 1), ('항아리', 1), ('하루하루', 1), ('경비', 1), ('지붕', 1), ('하얗다', 1), ('참예뻣다', 1), ('오염', 1), ('폐기물', 1), ('별별', 1), ('안애별', 1), ('왔지룡', 1), ('이징', 1), ('남원', 1), ('남쌈', 1), ('보삼', 1), ('힝힝', 1), ('대구', 1), ('구미', 1), ('김천', 1), ('결혼식', 1), ('허허벌판', 1), ('예식', 1), ('정화', 1), ('거길', 1), ('모야', 1), ('고양', 1), ('이특', 1), ('헬스장', 1), ('텐션', 1), ('웨이트', 1), ('아우', 1), ('한가로이', 1), ('들판', 1), ('남향', 1), ('양지', 1), ('바르게', 1), ('부공', 1), ('녹이다', 1), ('풍운', 1), ('하늘아래', 1), ('매입', 1), ('행락', 1), ('울안', 1), ('광활하다', 1), ('유럽', 1), ('트럴', 1), ('용용', 1), ('벚나무', 1), ('도성', 1), ('서쪽', 1), ('경희궁지', 1), ('뒤지다', 1), ('런닝맨', 1), ('꿀벌', 1), ('뒤편', 1), ('숙종', 1), ('경덕궁', 1), ('서요', 1), ('생소', 1), ('길라잡이', 1), ('정궁', 1), ('동궐', 1), ('만큼이나', 1), ('침전', 1), ('동궁', 1), ('희생양', 1), ('자녀', 1), ('지형', 1), ('쓸쓸하다', 1), ('포션', 1), ('창건', 1), ('광해군', 1), ('단아', 1), ('후대', 1), ('경희', 1), ('인연', 1), ('이슬', 1), ('맺다', 1), ('돌담', 1), ('틈틈짬짬', 1), ('어쨌든', 1), ('내겐', 1), ('큐브', 1), ('꽃집', 1), ('동작역', 1), ('충혼', 1), ('뒷길', 1), ('시계', 1), ('솔냇길', 1), ('우측', 1), ('유턴', 1), ('꺾다', 1), ('사당동', 1), ('캐슬', 1), ('이수역', 1), ('김일성', 1), ('남침', 1), ('맞서다', 1), ('이나라', 1), ('영령', 1), ('곱다', 1), ('잠드소', 1), ('애도', 1), ('부관참시', 1), ('라카', 1), ('요시노리', 1), ('창씨개명', 1), ('반민특위', 1), ('카르텔', 1), ('국가보훈처', 1), ('인정', 1), ('현황', 1), ('등재', 1), ('보훈처', 1), ('비고', 1), ('부역', 1), ('전력', 1), ('수립', 1), ('핵심', 1), ('중용', 1), ('정권', 1), ('시달리다', 1), ('대좌', 1), ('참모총장', 1), ('체신부', 1), ('연구소장', 1), ('연구원', 1), ('동기', 1), ('미군정', 1), ('국방경비대', 1), ('연대', 1), ('중대장', 1), ('총사령부', 1), ('보급', 1), ('과장', 1), ('애국', 1), ('헌납', 1), ('기성회', 1), ('부회장', 1), ('연세대', 1), ('총장', 1), ('문교부', 1), ('대장', 1), ('프랑스', 1), ('대사', 1), ('교통부', 1), ('토벌', 1), ('임무', 1), ('졸업', 1), ('오른', 1), ('관동군', 1), ('오장', 1), ('하사', 1), ('색출', 1), ('지도자', 1), ('배후', 1), ('지목', 1), ('안두희', 1), ('범행', 1), ('무대', 1), ('고백', 1), ('여야', 1), ('명단', 1), ('악질', 1), ('괴롭히다', 1), ('현저', 1), ('증거', 1), ('화중', 1), ('지남', 1), ('탈출', 1), ('차끌', 1), ('기일', 1), ('아름드리', 1), ('경성제국대', 1), ('계기', 1), ('버스킹', 1), ('대학가', 1), ('뭐함', 1), ('민드', 1), ('구장', 1), ('아랑곳', 1), ('폭포수', 1), ('축구장', 1), ('테니스장', 1), ('용마산', 1), ('여름날', 1), ('분전', 1), ('환하다', 1), ('가로등', 1), ('포기', 1), ('노상', 1), ('방뇨', 1), ('번가', 1), ('옆쪽', 1), ('게이트볼', 1), ('중지', 1), ('진지', 1), ('제격', 1), ('틀림없다', 1), ('도봉역', 1), ('비닐봉투', 1), ('도봉산역', 1), ('언젠가', 1), ('문득', 1), ('노랑', 1), ('작약', 1), ('휴지통', 1), ('쓰레기봉투', 1), ('비계', 1), ('나뒹구네', 1), ('견주', 1), ('소담', 1), ('상권', 1), ('평지', 1), ('진달래', 1), ('매화', 1), ('초은', 1), ('댕댕', 1), ('쉬엄쉬엄', 1), ('빵점', 1), ('위성사진', 1), ('에서부터', 1), ('월영', 1), ('청운', 1), ('만삭', 1), ('운전', 1), ('멎다', 1), ('개반', 1), ('잔듸', 1), ('아가', 1), ('강북', 1), ('확보', 1), ('시급', 1), ('개똥밭', 1), ('추진', 1), ('꽃뱀', 1), ('노천', 1), ('목장', 1), ('드림랜드', 1), ('기억나다', 1), ('담요', 1), ('이서', 1), ('맥주', 1), ('기용', 1), ('귀염둥이', 1), ('순환로', 1), ('스벅있어', 1), ('햄볶', 1), ('수련', 1), ('보심', 1), ('전람', 1), ('시르다', 1), ('신월', 1), ('상수도', 1), ('저수지', 1), ('수심', 1), ('올라서다', 1), ('돌기', 1), ('소풍', 1), ('항공기', 1), ('에러', 1), ('모로', 1), ('프라임', 1), ('교통량', 1), ('진곳', 1), ('뒹굴', 1), ('분식집', 1), ('딱지', 1), ('맹콩이', 1), ('개구리', 1), ('안습', 1), ('착륙', 1), ('둘레', 1), ('야산', 1), ('풋살', 1), ('구등', 1), ('취식하', 1), ('귀청', 1), ('스피커', 1), ('고속도로', 1), ('매연', 1), ('왓다갓다', 1), ('피크타임', 1), ('발광', 1), ('넘어오다', 1), ('취해', 1), ('폭죽', 1), ('터트립니', 1), ('순찰중', 1), ('박히다', 1), ('그다음', 1), ('오산', 1), ('밤새', 1), ('퍼마셔', 1), ('안통함', 1), ('시너지', 1), ('오른쪽', 1), ('증폭', 1), ('술집', 1), ('톡곡', 1), ('소견', 1), ('필요없다', 1), ('육교', 1), ('곧장', 1), ('큰길', 1), ('건너다', 1), ('망우역', 1), ('화공', 1), ('차로', 1), ('우산', 1), ('간반', 1), ('방정환', 1), ('이중섭', 1), ('묘지', 1), ('판도', 1), ('시안', 1), ('취하', 1), ('우중', 1), ('분잡', 1), ('치기', 1), ('곰팡이', 1), ('양쪽', 1), ('화물차', 1), ('옆옆', 1), ('두시', 1), ('방송', 1), ('피칭', 1), ('그딴', 1), ('위쪽', 1), ('찌릉', 1), ('쩐당', 1), ('갠츈', 1), ('문정동', 1), ('오랫동안', 1), ('책임지다', 1), ('왕복', 1), ('차선', 1), ('은은하다', 1), ('순환선', 1), ('철도', 1), ('백지', 1), ('양재시민의숲', 1), ('남서쪽', 1), ('오붓하다', 1), ('양재천', 1), ('양재', 1), ('자부', 1), ('솟다', 1), ('거대하다', 1), ('위서', 1), ('물총', 1), ('조아', 1), ('숨쉬다', 1), ('웅대', 1), ('어딘가', 1), ('와전', 1), ('세탁', 1), ('소론', 1), ('잖다', 1), ('오래전', 1), ('비상', 1), ('매봉산', 1), ('유치하다', 1), ('연주회', 1), ('키카', 1), ('가져다주다', 1), ('별거', 1), ('낭비하다', 1), ('까지에', 1), ('안내받다', 1), ('지구과학', 1), ('초등학생', 1), ('외딴', 1), ('임팩트', 1), ('문헌', 1), ('초반', 1), ('살때', 1), ('새록새록', 1), ('몽글몽글하다', 1), ('전문성', 1), ('퀄러티', 1), ('애교', 1), ('집다', 1), ('강좌', 1), ('자원봉사자', 1), ('대우', 1), ('우주', 1), ('암석', 1), ('갖가지', 1), ('고학년', 1), ('오래됨', 1), ('연령', 1), ('징징대다', 1), ('꼴불견', 1), ('역정', 1), ('내시', 1), ('평가', 1), ('일괄', 1), ('징구', 1), ('도통', 1), ('인건비', 1), ('단돈', 1), ('무분별', 1), ('사설', 1), ('살벌하다', 1), ('관중', 1), ('해안', 1), ('아라하', 1), ('되돌아보다', 1), ('간첩', 1), ('이뤄지다', 1), ('성지', 1), ('식민지', 1), ('통치', 1), ('독재정', 1), ('항거', 1), ('열사', 1), ('섬나라', 1), ('유구', 1), ('조작', 1), ('잔인하다', 1), ('전범', 1), ('척결', 1), ('뿌리', 1), ('숙연', 1), ('오라', 1), ('옥사', 1), ('탄압', 1), ('벌이다', 1), ('독재자', 1), ('증거물', 1), ('독방', 1), ('감방', 1), ('생존자', 1), ('육성', 1), ('증언', 1), ('역사교육', 1), ('소로', 1), ('스럽지', 1), ('무관심하다', 1), ('기구', 1), ('습니다', 1), ('늦추다', 1), ('중단', 1), ('잡초', 1), ('무성', 1), ('우범', 1), ('지대', 1), ('독립운동', 1), ('고초', 1), ('기내', 1), ('사소리', 1), ('또다시', 1), ('조속', 1), ('마무리', 1), ('관해', 1), ('사물', 1), ('재연', 1), ('경성감옥', 1), ('항쟁', 1), ('서울구치소', 1), ('눈물나다', 1), ('헌화', 1), ('요동치다', 1), ('망각', 1), ('보전', 1), ('애국지사', 1), ('랑은', 1), ('차근차근', 1), ('어리가', 1), ('치밀다', 1), ('이재명', 1), ('반성', 1), ('영적', 1), ('커지다', 1), ('몸소', 1), ('광복절', 1), ('경건', 1), ('풀기', 1), ('데려오다', 1), ('진작', 1), ('고래고래', 1), ('삼일절', 1), ('설전', 1), ('정각', 1), ('분간', 1), ('치열하다', 1), ('열시', 1), ('열한시', 1), ('상상나라', 1), ('세종대', 1), ('씨유', 1), ('시중', 1), ('손해', 1), ('빡셈', 1), ('까지는', 1), ('세이', 1), ('노동', 1), ('터치스크린', 1), ('등원', 1), ('혼나다', 1), ('첫째', 1), ('물색', 1), ('냉큼', 1), ('베드', 1), ('웰빙', 1), ('주머니', 1), ('한자리', 1), ('의약', 1), ('올텐', 1), ('망신', 1), ('굶다', 1), ('잘살다', 1), ('어렴풋이', 1), ('는가', 1), ('억수', 1), ('여정', 1), ('촌놈', 1), ('패스워드', 1), ('오스', 1), ('허탈하다', 1), ('도둑질', 1), ('괜스레', 1), ('주르르', 1), ('꿰어놨는데', 1), ('기와', 1), ('성장기', 1), ('한눈', 1), ('훗날', 1), ('죽지', 1), ('토크', 1), ('바웃', 1), ('올린다', 1), ('남정', 1), ('아리땁다', 1), ('낭자', 1), ('삼삼오오', 1), ('피로', 1), ('시렇', 1), ('눈빛', 1), ('국제', 1), ('통용어', 1), ('위상', 1), ('중심', 1), ('듬뿍', 1), ('쇤네', 1), ('돈의문', 1), ('정동', 1), ('조선조', 1), ('근대사', 1), ('가미', 1), ('도읍', 1), ('근현대사', 1), ('왕조', 1), ('업적', 1), ('조그맣다', 1), ('재미없다', 1), ('대치동', 1), ('영관', 1), ('인지도', 1), ('단순', 1), ('대한제국', 1), ('경성', 1), ('서울특별시', 1), ('생생하다', 1), ('교류', 1), ('전도', 1), ('교과서', 1), ('에나', 1), ('대동여지도', 1), ('간간히', 1), ('개도', 1), ('굿굿굿굿', 1), ('실의', 1), ('인게', 1), ('민망하다', 1), ('치가', 1), ('중정', 1), ('누수', 1), ('듣기', 1), ('작두', 1), ('펌프', 1), ('완죤', 1), ('고집', 1), ('예민하다', 1), ('하나카드', 1), ('포스', 1), ('금주', 1), ('갑갑하다', 1), ('대변인', 1), ('며칠', 1), ('판매원', 1), ('기사', 1), ('비장', 1), ('애인', 1), ('이던', 1), ('들어주다', 1), ('건너편', 1), ('판자촌', 1), ('일대', 1), ('재현', 1), ('성하다', 1), ('미화', 1), ('볼펜', 1), ('물관', 1), ('아차산', 1), ('모조품', 1), ('카톡', 1), ('이모티콘', 1), ('중기', 1), ('대외', 1), ('열도', 1), ('영토', 1), ('일절', 1), ('산동', 1), ('구절', 1), ('마저도', 1), ('보이지', 1), ('듯함', 1), ('조의', 1), ('한사군', 1), ('식민사관', 1), ('패거리', 1), ('영향력', 1), ('몽촌토성', 1), ('풍납토성', 1), ('학창시절', 1), ('퀴즈', 1), ('시니어', 1), ('인바디', 1), ('혈압', 1), ('압력', 1), ('인삼', 1), ('약초', 1), ('망원경', 1), ('뒤쪽', 1), ('장도', 1), ('캐리커쳐', 1), ('펭균', 1), ('로봇', 1), ('데니스', 1), ('상품', 1), ('악세사리', 1), ('여수', 1), ('어종', 1), ('보완', 1), ('처참하다', 1), ('양심', 1), ('납치', 1), ('저리', 1), ('산다', 1), ('유희', 1), ('신병', 1), ('이행', 1), ('가혹하다', 1), ('마리나', 1), ('명백하다', 1), ('생존', 1), ('찡찡대다', 1), ('잼민', 1), ('혐오', 1), ('방류', 1), ('생지옥', 1), ('고독', 1), ('어영부영', 1), ('미루다', 1), ('수익', 1), ('부디', 1), ('해오다', 1), ('그날', 1), ('이또', 1), ('이용권', 1), ('무재', 1), ('가든', 1), ('약해지다', 1), ('훌쩍', 1), ('비리다', 1), ('소소하다', 1), ('토욜', 1), ('특가', 1), ('깡통', 1), ('알아차리다', 1), ('만도', 1), ('칭찬', 1), ('토록', 1), ('대충대충', 1), ('이를테면', 1), ('뚱딴지', 1), ('멘트', 1), ('네온', 1), ('랍시고', 1), ('일말', 1), ('노리', 1), ('벌리다', 1), ('파이', 1), ('비극', 1), ('근본', 1), ('실험실', 1), ('이랑은', 1), ('수중', 1), ('해마', 1), ('꿈뻑꿈뻑', 1), ('속이다', 1), ('난감하다', 1), ('뿌얘', 1), ('여요', 1), ('여운', 1), ('미개하다', 1), ('떠오르다', 1), ('부모님', 1), ('복병', 1), ('물멍', 1), ('몰링', 1), ('수생', 1), ('웨이', 1), ('추정', 1), ('빨림', 1), ('씨부리다', 1), ('대가', 1), ('털다', 1), ('시위', 1), ('선민의식', 1), ('아시아', 1), ('우왕좌왕', 1), ('욕심', 1), ('논리', 1), ('포획', 1), ('이역', 1), ('리먼', 1), ('기껏', 1), ('소비', 1), ('가지맙시', 1), ('생선', 1), ('갈기갈기', 1), ('찢어지다', 1), ('하기야', 1), ('수십', 1), ('물개', 1), ('닦다', 1), ('오뚜기', 1), ('낚시', 1), ('세트', 1), ('한사', 1), ('토이', 1), ('결론', 1), ('도리어', 1), ('막말', 1), ('보건소', 1), ('지금껏', 1), ('죄다', 1), ('음성', 1), ('라며', 1), ('비드', 1), ('내주다', 1), ('경찰', 1), ('등애', 1), ('라인', 1), ('무지하다', 1), ('두어', 1), ('안쓰럽다', 1), ('정형', 1), ('정신병', 1), ('구나', 1), ('가두다', 1), ('돈벌이', 1), ('투명하다', 1), ('할로윈', 1), ('잠수부', 1), ('장임', 1), ('동참', 1), ('구멍', 1), ('무전', 1), ('달리다', 1), ('튜브', 1), ('자위', 1), ('재밋', 1), ('떽떽', 1), ('사납다', 1), ('아마존', 1), ('재고', 1), ('닥터피쉬', 1), ('주렁주렁', 1), ('재밋어', 1), ('흰돌고래', 1), ('유령', 1), ('민속촌', 1), ('좀바', 1), ('어짜피', 1), ('진품', 1), ('성곽', 1), ('빡쎔', 1), ('김치', 1), ('아버지', 1), ('우상화', 1), ('알려지다', 1), ('애니', 1), ('수능', 1), ('영원하다', 1), ('어중간하다', 1), ('상실', 1), ('반기다', 1), ('디지털', 1), ('빨갱이', 1), ('공모', 1), ('당선', 1), ('뛰어넘다', 1), ('안이', 1), ('뒤집혔다', 1), ('참회', 1), ('임시정부', 1), ('차도', 1), ('찻집', 1), ('북촌', 1), ('서양', 1), ('찻잔', 1), ('쨍쨍', 1), ('뒷마당', 1), ('흰색', 1), ('원피스', 1), ('고요한', 1), ('기계로', 1), ('화강암', 1), ('법보', 1), ('인양', 1), ('비난', 1), ('곳입', 1), ('불교', 1), ('대웅전', 1), ('맷돌', 1), ('고소', 1), ('태세', 1), ('음주운전', 1), ('미션', 1), ('광교', 1), ('아홀로틀', 1), ('수월하다', 1), ('삼만원', 1), ('삼십분', 1), ('가봣는데', 1), ('개체', 1), ('하드캐리', 1), ('거니', 1), ('까지라고', 1), ('전화번호', 1), ('수족', 1), ('해저터널', 1), ('갈바', 1), ('담번', 1), ('고층', 1), ('내려다보다', 1), ('자매', 1), ('불호', 1), ('틈틈하다', 1), ('우기다', 1), ('장말', 1), ('마술', 1), ('거북이', 1), ('정말로', 1), ('좋았슴다', 1), ('경이', 1), ('살기', 1), ('인형', 1), ('노잼', 1), ('여우', 1), ('미만', 1), ('자루', 1), ('통신사', 1), ('골드', 1), ('크루즈', 1), ('이진', 1), ('쿠폰', 1), ('난생', 1), ('우미', 1), ('손바닥', 1), ('그려지다', 1), ('핑크퐁', 1), ('바가지', 1), ('달려드', 1), ('여섯', 1), ('그중', 1), ('군대', 1), ('지게', 1), ('개항', 1), ('국권', 1), ('탈당', 1), ('불타다', 1), ('원흉', 1), ('조국', 1), ('밝히다', 1), ('출생', 1), ('생애', 1), ('정신과', 1), ('사상', 1), ('선양', 1), ('함양', 1), ('이바지', 1), ('유품', 1), ('안중근의사유묵', 1), ('우국', 1), ('충절', 1), ('초상화', 1), ('서한', 1), ('공판', 1), ('휘호', 1), ('장군', 1), ('전북', 1), ('전주시', 1), ('완산구', 1), ('팔달로', 1), ('풍년제', 1), ('본점', 1), ('출연', 1), ('필히', 1), ('좌표', 1), ('매진', 1), ('소용', 1), ('울컥', 1), ('좌지우지', 1), ('저기', 1), ('광화문', 1), ('쓰래', 1), ('조중동', 1), ('배반', 1), ('천벌', 1), ('방가', 1), ('사지', 1), ('육신', 1), ('찟어', 1), ('통속', 1), ('멸족', 1), ('하얼빈', 1), ('너희', 1), ('유언', 1), ('무리하다', 1), ('스크래치', 1), ('그허름', 1), ('인척', 1), ('테러리스트', 1), ('칭하', 1), ('새누리당', 1), ('세력', 1), ('숭모', 1), ('등불', 1), ('여왕', 1), ('해산물', 1), ('어마어마하다', 1), ('독일', 1), ('라이트', 1), ('석조', 1), ('문화유산', 1), ('산신', 1), ('빌다', 1), ('촘촘히', 1), ('을씨년스럽다', 1), ('벌렁거렸', 1), ('욱씬', 1), ('장식', 1), ('석상', 1), ('한바탕', 1), ('눈안', 1), ('어루만지다', 1), ('정성', 1), ('맹구', 1), ('번뇌', 1), ('잡념', 1), ('보림', 1), ('연간', 1), ('이사장', 1), ('회비', 1), ('쌍쌍이', 1), ('사적', 1), ('소리내다', 1), ('강간', 1), ('고등학생', 1), ('정원지', 1), ('수로', 1), ('여성인권', 1), ('일대기', 1), ('긍심', 1), ('고귀하다', 1), ('최소', 1), ('망가지다', 1), ('방명록', 1), ('미련', 1), ('무성의', 1), ('건성', 1), ('훙미로워', 1), ('의인', 1), ('천여', 1), ('만여', 1), ('평의', 1), ('파병', 1), ('비실', 1), ('삼국시대', 1), ('로부터', 1), ('위국', 1), ('헌신', 1), ('디오라마', 1), ('기법', 1), ('경과', 1), ('휴전', 1), ('각국', 1), ('상징', 1), ('광개토대왕릉비', 1), ('형제', 1), ('시계탑', 1), ('경건하다', 1), ('전투기', 1), ('대공포', 1), ('호기심', 1), ('가나다', 1), ('라마', 1), ('바사', 1), ('아자', 1), ('차카', 1), ('타파', 1), ('적국', 1), ('남한', 1), ('피해자', 1), ('이기만', 1), ('병사', 1), ('악마', 1), ('치부', 1), ('메세지', 1), ('해군기', 1), ('폐기', 1), ('물의', 1), ('휴가', 1), ('반만년', 1), ('환장하다', 1), ('라스', 1), ('투탕카', 1), ('매다', 1), ('전개', 1), ('이집트', 1), ('참전용사', 1), ('필자', 1), ('승리', 1), ('필요성', 1), ('찬성', 1), ('작전', 1), ('소대', 1), ('중대', 1), ('재판', 1), ('처벌', 1), ('이루', 1), ('북베트남', 1), ('살해', 1), ('공포', 1), ('공산', 1), ('양키', 1), ('참혹', 1), ('새기다', 1), ('삼각지역', 1), ('그땐', 1), ('거짓말', 1), ('보태', 1), ('연평도', 1), ('해군', 1), ('종이', 1), ('찢다', 1), ('찡하다', 1), ('인의', 1), ('사려', 1), ('트립어드바이저', 1), ('탱크', 1), ('참혹하다', 1), ('결코', 1), ('헛되', 1), ('외출', 1), ('개꿀', 1), ('클린', 1), ('언빌리보블', 1), ('상당', 1), ('손자', 1), ('청첩장', 1), ('바닸는데', 1), ('세대', 1), ('늘어나다', 1), ('미정', 1), ('랍니', 1), ('진짜진짜', 1), ('꼬마', 1), ('고프다', 1), ('옜날모습', 1), ('박태원', 1), ('구보', 1), ('서구문명', 1), ('십대', 1), ('제국', 1), ('북한', 1), ('변천사', 1), ('제조', 1), ('위폐', 1), ('르네상스', 1), ('샹들리', 1), ('에를', 1), ('설연휴', 1), ('근로자의날', 1), ('선거일', 1), ('다음해', 1), ('청과', 1), ('직선', 1), ('친필', 1), ('잔재', 1), ('상대', 1), ('취학', 1), ('스탬프북', 1), ('지폐', 1), ('세긴', 1), ('글씨', 1), ('이완용', 1), ('문화재', 1), ('최순우', 1), ('거처', 1), ('저서', 1), ('무량수전', 1), ('위대하다', 1), ('활성화', 1), ('도우미', 1), ('텃세', 1), ('애나', 1), ('가르치다', 1), ('날카롭다', 1), ('명목', 1), ('훈계', 1), ('책볼', 1), ('무덥다', 1), ('원화도', 1), ('문화재단', 1), ('분과', 1), ('상반기', 1), ('알림', 1), ('덜덜', 1), ('짜임', 1), ('중식', 1), ('디뮤', 1), ('재즈', 1), ('아숩', 1), ('반대편', 1), ('경악', 1), ('방식', 1), ('비판', 1), ('쓸데없이', 1), ('사은', 1), ('나오니', 1), ('유쾌하다', 1), ('풍자', 1), ('낄낄대다', 1), ('유투브', 1), ('연말', 1), ('재부팅', 1), ('소재', 1), ('근래', 1), ('기발하다', 1), ('트렌드', 1), ('선도', 1), ('섭외', 1), ('찬사', 1), ('요약', 1), ('순서', 1), ('재생', 1), ('시경', 1), ('발음', 1), ('소한', 1), ('유저', 1), ('증정', 1), ('스트', 1), ('콜렉티브', 1), ('높이다', 1), ('소금', 1), ('현미경', 1), ('분야', 1), ('도발', 1), ('무책임하다', 1), ('마자', 1), ('상의', 1), ('미흡', 1), ('개최', 1), ('어안', 1), ('벙벙하다', 1), ('부턴', 1), ('협소해', 1), ('메카', 1), ('좋네욤', 1), ('트렌디', 1), ('모토', 1), ('토드', 1), ('셀비', 1), ('상업', 1), ('혁명', 1), ('팜플렛', 1), ('전국노래자랑', 1), ('절대로', 1), ('근대', 1), ('일해', 1), ('대접', 1), ('속닥거리다', 1), ('권유', 1), ('상주', 1), ('전문가', 1), ('속닥이다', 1), ('취향', 1), ('셨단', 1), ('거들다', 1), ('주몽', 1), ('설화', 1), ('주신', 1), ('인포', 1), ('까칠하다', 1), ('왜케', 1), ('없나욤', 1), ('엽서', 1), ('몰입', 1), ('존무', 1), ('개취', 1), ('로라', 1), ('와이프', 1), ('기괴햐', 1), ('섬뜩하다', 1), ('미가', 1), ('넝굴', 1), ('자라다', 1), ('주창', 1), ('심미성', 1), ('두루', 1), ('복층', 1), ('둥그런', 1), ('건축학', 1), ('이구', 1), ('혜화', 1), ('아르코', 1), ('국문', 1), ('공공재', 1), ('시청각', 1), ('촉각', 1), ('각자', 1), ('시인', 1), ('맘데', 1), ('땡기다', 1), ('세인', 1), ('만나이', 1), ('이야말로', 1), ('리플렛', 1), ('태산', 1), ('종로구', 1), ('컨셉', 1), ('고서', 1), ('상사', 1), ('해삼', 1), ('신경질', 1), ('고압', 1), ('자세', 1), ('추어', 1), ('페셔널', 1), ('아이디', 1), ('하는둥', 1), ('마는', 1), ('셔터', 1), ('못내', 1), ('야박하다', 1), ('수행', 1), ('멀어지다', 1), ('돕다', 1), ('호령', 1), ('최태윤', 1), ('설치류', 1), ('페인트', 1), ('흐은', 1), ('응원', 1), ('극장', 1), ('체적', 1), ('신인', 1), ('매표', 1), ('전공', 1), ('가능성', 1), ('바쁘다', 1), ('의심', 1), ('들것', 1), ('일으키다', 1), ('무릎', 1), ('발목', 1), ('회화', 1), ('진수', 1), ('이니까', 1), ('들으몀', 1), ('일생', 1), ('뛰어나다', 1), ('대세', 1), ('헤르', 1), ('그리드', 1), ('웟습', 1), ('언니', 1), ('오빠', 1), ('금세', 1), ('친해지다', 1), ('물감', 1), ('진가', 1), ('치밀하다', 1), ('화폭', 1), ('단청', 1), ('연상', 1), ('범우', 1), ('주적', 1), ('신비하다', 1), ('시오', 1), ('계수', 1), ('업다', 1), ('널다', 1), ('철학', 1), ('이성', 1), ('비자렐리', 1), ('금치', 1), ('관점', 1), ('해드리다', 1), ('나지막하다', 1), ('맞춤', 1), ('코록카쿠전', 1), ('화사하다', 1), ('음으로', 1), ('동화', 1), ('창시', 1), ('더블', 1), ('문맹', 1), ('걷히다', 1), ('해상도', 1), ('또렷하다', 1), ('대거', 1), ('튈레작품', 1), ('곁들이다', 1), ('오자', 1), ('반값', 1), ('여자친구', 1), ('세배', 1), ('콘서트', 1), ('꼬옥', 1), ('드믄', 1), ('섹션', 1), ('유화', 1), ('액자', 1), ('면도', 1), ('타조', 1), ('동그라미', 1), ('바웠어', 1), ('학년', 1), ('더군다나', 1), ('한자', 1), ('등부', 1), ('년생', 1), ('찬찬', 1), ('스푼', 1), ('지원이', 1), ('익숙하다', 1), ('박하', 1), ('드껴', 1), ('즐거웤', 1), ('다고', 1), ('유형', 1), ('아히맇어', 1), ('응용', 1), ('천재', 1), ('나니', 1), ('오감', 1), ('컬렉터', 1), ('아야코록카쿠', 1), ('활동사진', 1), ('된거', 1), ('수교', 1), ('망설이다', 1), ('수학과', 1), ('블랙홀', 1), ('채도', 1), ('칼라', 1), ('칠하다', 1), ('돋보이다', 1), ('페인팅', 1), ('고급스럽다', 1), ('촣아', 1), ('마침', 1), ('착시효과', 1), ('다치다', 1), ('붙이', 1), ('상상력', 1), ('남일', 1), ('리가', 1), ('패드', 1), ('옵티', 1), ('창작', 1), ('찰나', 1), ('감히', 1), ('마치니', 1), ('펑펑', 1), ('그만하다', 1), ('저대로', 1), ('독착', 1), ('앞서다', 1), ('창의성', 1), ('보편성', 1), ('귀중하다', 1), ('깨닫다', 1), ('어요', 1), ('베프', 1), ('는데', 1), ('기쁨', 1), ('누리', 1), ('제작자', 1), ('일행', 1), ('실기', 1), ('팔이', 1), ('무늬', 1), ('다각도', 1), ('뷔튈레', 1), ('장안', 1), ('무표정', 1), ('자칫', 1), ('감명', 1), ('뜻밖', 1), ('배지', 1), ('테라로사', 1), ('신경안', 1), ('발휘', 1), ('더길엇음', 1), ('좌석버스', 1), ('딸도', 1), ('코피', 1), ('친하다', 1), ('발생', 1), ('통솔', 1), ('자유시간', 1), ('더욱이', 1), ('패턴', 1), ('오페라', 1), ('팔꿈치', 1), ('보육', 1), ('밋었다', 1), ('피드백', 1), ('궁굼', 1), ('유치', 1), ('부생', 1), ('프로젝트', 1), ('일러스트', 1), ('화면', 1), ('또다른', 1), ('에르베튈레', 1), ('어린이집', 1), ('협업', 1), ('어색하다', 1), ('적절하다', 1), ('뒤피', 1), ('국현', 1), ('문화생활', 1), ('라기', 1), ('디즈니', 1), ('마블', 1), ('충성', 1), ('인티제', 1), ('종특', 1), ('원체', 1), ('난이도', 1), ('킬링', 1), ('마이클', 1), ('마틴', 1), ('일찍이', 1), ('대책', 1), ('도깨비', 1), ('마시다', 1), ('디피', 1), ('개미', 1), ('드러눕다', 1), ('캠퍼스', 1), ('명성', 1), ('껍데기', 1), ('상점', 1), ('티켓팅', 1), ('키득키득', 1), ('딩초들', 1), ('알바로', 1), ('저작권', 1), ('장용', 1), ('절기', 1), ('그리스', 1), ('참다', 1), ('게시판', 1), ('샤갈', 1), ('자코메티', 1), ('두서', 1), ('산만하다', 1), ('양적', 1), ('적기', 1), ('전환', 1), ('병따개', 1), ('엘르', 1), ('데코', 1), ('거실', 1), ('상담', 1), ('반려', 1), ('함박스테이크', 1), ('언리밋', 1), ('과감', 1), ('교차', 1), ('함박', 1), ('담백하다', 1), ('향안', 1), ('뵙다', 1), ('도판', 1), ('영접', 1), ('형언', 1), ('명불허전', 1), ('수화', 1), ('사계', 1), ('보리', 1), ('기약', 1), ('화백', 1), ('텐데요', 1), ('번갈아', 1), ('공명', 1), ('어김없이', 1), ('발자국', 1), ('시야', 1), ('끊임없다', 1), ('압박', 1), ('재촉', 1), ('김향안', 1), ('모욕', 1), ('국내외', 1), ('무색', 1), ('진지하다', 1), ('붙잡다', 1), ('지독하다', 1), ('스탭', 1), ('이끌다', 1), ('부부', 1), ('멋쟁이', 1), ('초점', 1), ('외지', 1), ('소박하다', 1), ('부암동', 1), ('만두', 1), ('묵자', 1), ('쇼파', 1), ('골다', 1), ('피하', 1), ('씨레기', 1), ('어딜', 1), ('공통점', 1), ('이해력', 1), ('브루', 1), ('색연필', 1), ('자연스레', 1), ('부러지다', 1), ('나뒹글', 1), ('떼거리', 1), ('오르내리다', 1), ('쿵쿵', 1), ('두통', 1), ('해치다', 1), ('눈좀', 1), ('지은지', 1), ('철밥통', 1), ('버러지', 1), ('벌이', 1), ('이도', 1), ('한심하다', 1), ('멍청하다', 1), ('감사원', 1), ('방정', 1), ('일인', 1), ('월급', 1), ('여친', 1), ('텅텅', 1), ('무궁무진', 1), ('언급', 1), ('기품', 1), ('일욜', 1), ('집값', 1), ('비례', 1), ('저절로', 1), ('이사오', 1), ('낙하산', 1), ('천하', 1), ('물르다', 1), ('개편', 1), ('정보원', 1), ('거임', 1), ('추세', 1), ('제풀이', 1), ('잊혀지다', 1), ('정적', 1), ('안정감', 1), ('민요', 1), ('애쓰다', 1), ('부지런하다', 1), ('베이커리', 1), ('천청', 1), ('두르다', 1), ('통창', 1), ('오타', 1), ('자국', 1), ('가만있다', 1), ('떠듬', 1), ('장통', 1), ('한두', 1), ('고개', 1), ('절레절레', 1), ('흔듬', 1), ('몰상식하다', 1), ('기스내', 1), ('긁다', 1), ('유입', 1), ('전체젹', 1), ('중임', 1), ('어둡다', 1), ('억지로', 1), ('앙드레김', 1), ('거구', 1), ('반짝거리다', 1), ('영롱하다', 1), ('컬러링', 1), ('스마트패드', 1), ('일견', 1), ('진부하다', 1), ('촌스럽다', 1), ('시들다', 1), ('동쪽', 1), ('내리쬐다', 1), ('햇볕', 1), ('플래시', 1), ('긴장', 1), ('어보', 1), ('으악', 1), ('이세', 1), ('우우', 1), ('뵈다', 1), ('쓰시', 1), ('셔츠', 1), ('학예', 1), ('내관', 1), ('관동', 1), ('간혹', 1), ('번천', 1), ('단발머리', 1), ('뒷짐', 1), ('양옆', 1), ('휴지', 1), ('채운', 1), ('자만', 1), ('마냥', 1), ('나전칠기', 1), ('최적화', 1), ('풀어지다', 1), ('장인', 1), ('흔하다', 1), ('축의', 1), ('가이드라인', 1), ('표기', 1), ('통일', 1), ('시킴', 1), ('으로써', 1), ('혼선', 1), ('방지', 1), ('구성은', 1), ('건너가다', 1), ('멍청멍청', 1), ('풍문여고', 1), ('자수', 1), ('개동', 1), ('어딘', 1), ('권장', 1), ('때메', 1), ('밀다', 1), ('공단', 1), ('수출', 1), ('산업', 1), ('코웨이', 1), ('래야', 1), ('라거', 1), ('설마', 1), ('동상', 1), ('천장절', 1), ('전승', 1), ('투척', 1), ('거사', 1), ('붙잡히다', 1), ('구타', 1), ('연행', 1), ('모진', 1), ('파견', 1), ('군법', 1), ('언도', 1), ('타이요', 1), ('실리다', 1), ('오사카', 1), ('카나', 1), ('구금', 1), ('작업장', 1), ('향년', 1), ('세로', 1), ('총살형', 1), ('처형', 1), ('소각', 1), ('관리소', 1), ('밟다', 1), ('장함', 1), ('박열', 1), ('이강훈', 1), ('재일동포', 1), ('현지', 1), ('카나자와시', 1), ('부산', 1), ('추도', 1), ('용산구', 1), ('효창', 1), ('추서', 1), ('현충일', 1), ('이분', 1), ('탬버린', 1), ('망치', 1), ('여느', 1), ('장제스', 1), ('카이로회담', 1), ('우린', 1), ('본이름', 1), ('태극기', 1), ('일장기', 1), ('펄럭', 1), ('하늘나라', 1), ('생가', 1), ('블랙', 1), ('허드슨', 1), ('강변', 1), ('심성', 1), ('시티', 1), ('라이프', 1), ('심플', 1), ('미디어아트', 1), ('촣네', 1), ('윤협', 1), ('해내다', 1), ('콜라보', 1), ('자덕', 1), ('동질감', 1), ('이베이', 1), ('원정', 1), ('도면', 1), ('도자기', 1), ('인스타그램', 1), ('가늠', 1), ('둘러쌓다', 1), ('플레이', 1), ('노트', 1), ('파일', 1), ('더더', 1), ('이예', 1), ('고흐', 1), ('이빛나', 1), ('여행가', 1), ('애매하다', 1), ('양으로', 1), ('지출', 1), ('분동', 1), ('헤멤', 1), ('시원시원하다', 1), ('김정기', 1), ('크리스탈', 1), ('제이드', 1), ('스시', 1), ('소도', 1), ('실패하다', 1), ('버튼', 1), ('서너', 1), ('왕관', 1), ('마크', 1), ('보안', 1), ('훌륭', 1), ('줄섬', 1), ('장애', 1), ('교포', 1), ('책차', 1), ('협의', 1), ('일기', 1), ('환승', 1), ('역삼', 1), ('장황하다', 1), ('이윽고', 1), ('잡담', 1), ('떤다', 1), ('에야', 1), ('싸구려', 1), ('밴쿠버', 1), ('무교', 1), ('장면', 1), ('명색', 1), ('아이핀', 1), ('문턱', 1), ('재난', 1), ('큰일', 1), ('대면', 1), ('기초', 1), ('졸졸', 1), ('치중', 1), ('단정하다', 1), ('습득', 1), ('바람직하다', 1), ('에이', 1), ('틀니', 1), ('제작', 1), ('연식', 1), ('비충', 1), ('구려', 1), ('제이', 1), ('타이핑', 1), ('허용', 1), ('백색소음', 1), ('히터', 1), ('여윽시', 1), ('구림', 1), ('개포동', 1), ('협소해유', 1), ('기웃기웃', 1), ('거렸', 1), ('꼬라보', 1), ('예절', 1), ('전세', 1), ('거마', 1), ('활개', 1), ('공간활용', 1), ('대차', 1), ('박아', 1), ('간이', 1), ('쬐다', 1), ('쑤시다', 1), ('예시', 1), ('적합', 1), ('오밀조밀하다', 1), ('문화센터', 1), ('요긴', 1), ('발레', 1), ('권리', 1), ('고정', 1), ('노골', 1), ('티나', 1), ('육아', 1), ('려고', 1), ('도살', 1), ('신한', 1), ('대차다', 1), ('알짜', 1), ('배기', 1), ('장단', 1), ('하인', 1), ('손하나', 1), ('까딱', 1), ('이음', 1), ('뺏다', 1), ('서핑', 1), ('설비', 1), ('개수', 1), ('비현실적', 1), ('강동', 1), ('고덕평생학습관', 1), ('소규모', 1), ('주경야독', 1), ('번의', 1), ('바른', 1), ('장소라', 1), ('수험생', 1), ('이드', 1), ('생리', 1), ('내뱉다', 1), ('여건', 1), ('얼굴', 1), ('천호역', 1), ('스마트', 1), ('강동구', 1), ('휴업', 1), ('나긋나긋', 1), ('보살', 1), ('역대', 1), ('홀애비', 1), ('역겹다', 1), ('임시', 1), ('오우', 1), ('드라마', 1), ('불손하다', 1), ('갈껄', 1), ('상함', 1), ('덩치', 1), ('신속하다', 1), ('전자렌지', 1), ('청결하다', 1), ('서글서글하다', 1), ('사오다', 1), ('위층', 1), ('실쪽', 1), ('패밀리', 1), ('비지', 1), ('레노베이션했', 1), ('넣기', 1), ('화곡동', 1), ('사이사이', 1), ('머리카락', 1), ('배열', 1), ('흐흐', 1), ('욕망', 1), ('여담', 1), ('떨어트렸길', 1), ('호호', 1), ('성숙', 1), ('장만', 1), ('씨방', 1), ('별도', 1), ('모카', 1), ('아이스', 1), ('줜맛탱', 1), ('노후하다', 1), ('걸상', 1), ('네째', 1), ('바라다보이다', 1), ('몇번', 1), ('적반하장', 1), ('쳐다보다', 1), ('여학생', 1), ('수작', 1), ('부리다', 1), ('어쩌다', 1), ('정상인', 1), ('강변역', 1), ('광나루역', 1), ('맑은', 1), ('망인', 1), ('이런저런', 1), ('케렌', 1), ('시아', 1), ('광진구', 1), ('대머리', 1), ('도도', 1), ('푹신하다', 1), ('구로구', 1), ('개발', 1), ('고척', 1), ('아이파크', 1), ('쇼핑몰', 1), ('부근', 1), ('단독', 1), ('광명', 1), ('부천', 1), ('별빛', 1), ('성범죄자', 1), ('말고는', 1), ('방금', 1), ('책갈피', 1), ('펜리', 1), ('귀마개', 1), ('배차', 1), ('해찬', 1), ('방석', 1), ('동그랗다', 1), ('고해', 1), ('사방', 1), ('튀다', 1), ('멀티탭', 1), ('배척', 1), ('저만', 1), ('토일', 1), ('노랗다', 1), ('계열', 1), ('선명하다', 1), ('끝내주다', 1), ('범위', 1), ('경계', 1), ('포트', 1), ('접엇네', 1), ('점자', 1), ('장마', 1), ('두기', 1), ('한편', 1), ('과언', 1), ('꼬박꼬박', 1), ('한아름', 1), ('여름철', 1), ('커피집', 1), ('모로코', 1), ('한도', 1), ('엿같', 1), ('패스', 1), ('엄한놈', 1), ('특성', 1), ('홧팅', 1), ('근로', 1), ('자원봉사', 1), ('나르다', 1), ('개떼', 1), ('몰려오다', 1), ('일로', 1), ('수수방관', 1), ('위인', 1), ('모서리', 1), ('검다', 1), ('양복', 1), ('하의', 1), ('덜렁', 1), ('매달다', 1), ('엽기', 1), ('비품', 1), ('미비하다', 1), ('건립', 1), ('지니다', 1), ('시행', 1), ('오가다', 1), ('내미다', 1), ('웅성거리다', 1), ('도해', 1), ('전락', 1), ('어리석다', 1), ('이보', 1), ('전진', 1), ('일보', 1), ('꿈꾸다', 1), ('명복', 1), ('제라', 1), ('도봉구', 1), ('통합', 1), ('쌍문역', 1), ('코앞', 1), ('초안', 1), ('교실', 1), ('불통', 1), ('나인', 1), ('갱신', 1), ('여간', 1), ('강북구', 1), ('다른사람', 1), ('비거', 1), ('성격', 1), ('파탄', 1), ('개발자', 1), ('우수', 1), ('이심', 1), ('라볶이', 1), ('애호가', 1), ('양은', 1), ('밍밍', 1), ('불능', 1), ('염색', 1), ('선량하다', 1), ('일만', 1), ('디지털자료실', 1), ('커피점', 1), ('저자', 1), ('클럽', 1), ('도입', 1), ('양호', 1), ('타당성', 1), ('어린시절', 1), ('너비', 1), ('외적인', 1), ('경마장', 1), ('벼룩시장', 1), ('아쟈씨', 1), ('쑈킹할정도', 1), ('익일', 1), ('중소도시', 1), ('즐비하다', 1), ('파트', 1), ('소파', 1), ('만화책', 1), ('소량', 1), ('운영자', 1), ('굿굿굿', 1), ('안치', 1), ('산부인과', 1), ('세기', 1), ('응답', 1), ('시리즈', 1), ('위화', 1), ('자취', 1), ('영화관', 1), ('백화점', 1), ('개구', 1), ('구리', 1), ('책벌레', 1), ('선출', 1), ('평균', 1), ('왜인', 1), ('바라지', 1), ('구의', 1), ('심해', 1), ('차이', 1), ('안락하다', 1), ('아뿔싸', 1), ('페이보릿', 1), ('분실물', 1), ('샌드위치', 1), ('여타', 1), ('양서', 1), ('분실', 1), ('어처구니', 1), ('하고도', 1), ('장려', 1), ('포털', 1), ('사소하다', 1), ('틀어지다', 1), ('한쪽', 1), ('어떤', 1), ('커버', 1), ('전화통화', 1), ('낼맛', 1), ('유학', 1), ('악기', 1), ('연주', 1), ('청장', 1), ('우려', 1), ('자르다', 1), ('점잖다', 1), ('서울시장', 1), ('재개발', 1), ('부동산', 1), ('건설', 1), ('혈안', 1), ('이신', 1), ('밑댓', 1), ('하나로', 1), ('중도', 1), ('명절', 1), ('제시', 1), ('당기다', 1), ('건의', 1), ('앞당기다', 1), ('근로자', 1), ('노발', 1), ('대발', 1), ('고객', 1), ('시기하다', 1), ('조정', 1), ('거도', 1), ('직종', 1), ('씻다', 1), ('뱅뱅', 1), ('화질', 1), ('잡아떼다', 1), ('디다', 1), ('나비', 1), ('지혜', 1), ('신규', 1), ('연속', 1), ('페이', 1), ('아래층', 1), ('홍제천', 1), ('백로', 1), ('오리', 1), ('심야시간', 1), ('방화동', 1), ('왓츕니', 1), ('존맛', 1), ('교보', 1), ('문고', 1), ('합치다', 1), ('서강', 1), ('차마', 1), ('이진아', 1), ('벤치마킹', 1), ('코스트코', 1), ('복합', 1), ('놨습니', 1), ('괴작입니', 1), ('시끌시끌', 1), ('사주다', 1), ('행색', 1), ('남루하다', 1), ('에다가', 1), ('장애우', 1), ('꾸중', 1), ('바닐라', 1), ('불안정하다', 1), ('역다', 1), ('한지', 1), ('세련', 1), ('부시', 1), ('채택', 1), ('본연', 1), ('우동', 1), ('년쯔음', 1), ('눈썰매', 1), ('변신', 1), ('로그인', 1), ('마이', 1), ('라이브러리', 1), ('홍제동', 1), ('사용설명서', 1), ('주식', 1), ('하자', 1), ('야옹', 1), ('오야', 1), ('삑삑', 1), ('손가락', 1), ('측정', 1), ('서툴다', 1), ('예정일', 1), ('그랬더니', 1), ('보석같다', 1), ('부재', 1), ('취준생들', 1), ('분명', 1), ('주택', 1), ('미세먼지', 1), ('환풍기', 1), ('감기', 1), ('조심성', 1), ('골목길', 1), ('후미지다', 1), ('개극혐', 1), ('담장', 1), ('따라가다', 1), ('몰래', 1), ('웅얼', 1), ('날짜', 1), ('수요', 1), ('석수', 1), ('아리랑', 1), ('변경', 1), ('안준', 1), ('푯말', 1), ('불시', 1), ('점검', 1), ('제어', 1), ('본적', 1), ('한주', 1), ('주의보', 1), ('경보', 1), ('국토', 1), ('산불', 1), ('외양간', 1), ('고치다', 1), ('습성', 1), ('재털', 1), ('꽁초', 1), ('맘대로', 1), ('길가', 1), ('바지', 1), ('계해', 1), ('육질', 1), ('대변기', 1), ('피나', 1), ('잡종', 1), ('민감하다', 1), ('청축', 1), ('생쇼', 1), ('방도', 1), ('도르다', 1), ('어정쩡하다', 1), ('흥건', 1), ('조지', 1), ('삐걱', 1), ('스마트폰', 1), ('거늘', 1), ('로고', 1), ('아픔', 1), ('주소', 1), ('불상', 1), ('사가다', 1), ('악취', 1), ('해소', 1), ('개롱역', 1), ('방만', 1), ('특기', 1), ('규칙', 1), ('있슴', 1), ('차서', 1), ('대기실', 1), ('동일', 1), ('카테고리', 1), ('식권', 1), ('합리', 1), ('강가', 1), ('가보', 1), ('내일', 1), ('기전', 1), ('헐레벌떡', 1), ('뛰어오다', 1), ('척도', 1), ('세제', 1), ('신지', 1), ('유리창', 1), ('옆방', 1), ('들여다보다', 1), ('아리수', 1), ('식수', 1), ('수돗물', 1), ('가난하다', 1), ('개발이익', 1), ('티비', 1), ('연합뉴스', 1), ('채널', 1), ('썩다', 1), ('황색', 1), ('언론', 1), ('공공기관', 1), ('무풍', 1), ('적정', 1), ('자료검색', 1), ('책자', 1), ('기호', 1), ('불성실하다', 1), ('문자', 1), ('타입', 1), ('실안', 1), ('출입구', 1), ('솔이', 1), ('장지동', 1), ('다름없다', 1), ('평생교육', 1), ('원장', 1), ('어지간하다', 1), ('있을껀', 1), ('유초', 1), ('중고', 1), ('낡음', 1), ('소변기', 1), ('양성평등', 1), ('요구르트', 1), ('친절해지다', 1), ('집기', 1), ('주방', 1), ('아래쪽', 1), ('손목', 1), ('관할', 1), ('서민', 1), ('비리', 1), ('의혹', 1), ('제보', 1), ('정식', 1), ('화제', 1), ('주목', 1), ('플러그', 1), ('울림', 1), ('쾌재', 1), ('양치질', 1), ('쓴다', 1), ('지장', 1), ('가림', 1), ('구조도', 1), ('아기자기', 1), ('기보', 1), ('별천지', 1), ('주위', 1), ('서은', 1), ('지성', 1), ('책가방', 1), ('어쨌거', 1), ('구정', 1), ('난데없이', 1), ('대림동', 1), ('괴리', 1), ('번지르르', 1), ('한장', 1), ('쇼팽', 1), ('폴로네이즈', 1), ('차이콥스키', 1), ('바이올린', 1), ('협주곡', 1), ('왈츠', 1), ('파티션', 1), ('불별', 1), ('부대끼다', 1), ('근무시간', 1), ('소곤소곤', 1), ('제탭', 1), ('마저', 1), ('애플', 1), ('문명', 1), ('단절', 1), ('이슈', 1), ('컨택', 1), ('무능하다', 1), ('경의', 1), ('리뉴', 1), ('골반', 1), ('파서', 1), ('도망가다', 1), ('아담', 1), ('만드', 1), ('기다림', 1), ('달이', 1), ('최신', 1), ('자꾸만', 1), ('째다', 1), ('자질', 1), ('코풀', 1), ('카아', 1), ('쩌렁쩌렁', 1), ('여부', 1), ('부동', 1), ('무사', 1), ('안일', 1), ('강제', 1), ('차별', 1), ('샐러드', 1), ('소독기', 1), ('물리', 1), ('찾아다니다', 1), ('기류', 1), ('도시재생', 1), ('논쟁', 1), ('오진', 1), ('열악하다', 1), ('평이하다', 1), ('식상하다', 1), ('시집', 1), ('해치', 1), ('이용석', 1), ('내외', 1), ('장시간', 1), ('창밖', 1), ('뒷쪽', 1), ('증축', 1), ('납기', 1), ('지역구', 1), ('신분증', 1), ('드릴', 1), ('포트리스', 1), ('귀족', 1), ('귀신', 1), ('음산하다', 1), ('미학', 1), ('하층', 1), ('식초', 1), ('데이터', 1), ('통신', 1), ('불광동', 1), ('성당', 1), ('어슬렁대다', 1), ('에두', 1), ('펼치다', 1), ('우아', 1), ('차값', 1), ('정해', 1), ('출자', 1), ('회색', 1), ('군데군데', 1), ('헥헥', 1), ('나가야', 1), ('먼훗날', 1), ('마음잡다', 1), ('악착같이', 1), ('성공하다', 1), ('데드', 1), ('싫어지다', 1), ('연신내', 1), ('모범', 1), ('재료', 1), ('남발', 1), ('은정', 1), ('컵라면', 1), ('파바', 1), ('품다', 1), ('구파발역', 1), ('따릉이', 1), ('구파발', 1), ('진관동', 1), ('실책', 1), ('대회', 1), ('국무총리', 1), ('지난번', 1), ('협소하', 1), ('취식할', 1), ('읍니', 1), ('서광', 1), ('리아', 1), ('어떻든', 1), ('사시', 1), ('사철', 1), ('허름하', 1), ('필때', 1), ('휠링', 1), ('의욕', 1), ('샘솟다', 1), ('목격', 1), ('진자', 1), ('중년', 1), ('무법천지', 1), ('정취', 1), ('부풀다', 1), ('로다', 1), ('비위생적', 1), ('사후', 1), ('오류로', 1), ('정지', 1), ('백원', 1), ('진행중', 1), ('일부분', 1), ('보류', 1), ('조롱', 1), ('허름', 1), ('반전', 1), ('고속', 1), ('무선인터넷', 1), ('산속', 1), ('윤동주', 1), ('산들바람', 1), ('흔들리다', 1), ('이파리', 1), ('떨리다', 1), ('남지', 1), ('베다', 1), ('처마', 1), ('그러다가', 1), ('양반', 1), ('신권', 1), ('신선', 1), ('구경만', 1), ('인왕산', 1), ('샛길', 1), ('들럿다', 1), ('청와대', 1), ('삼청동', 1), ('걸엇어', 1), ('다이나믹', 1), ('강의실', 1), ('현대인', 1), ('줄기', 1), ('공익', 1), ('하찮다', 1), ('어후', 1), ('개불', 1), ('부서지다', 1), ('지름길', 1), ('성지순례', 1), ('면목', 1), ('부서', 1), ('직빵', 1), ('식구', 1), ('감싸다', 1), ('확률', 1), ('연지', 1), ('피카', 1), ('버전', 1), ('면접', 1)]\n"
          ]
        }
      ],
      "source": [
        "print(frequent)"
      ]
    },
    {
      "cell_type": "code",
      "execution_count": 27,
      "metadata": {
        "id": "QQbGhjc2Ck9u",
        "colab": {
          "base_uri": "https://localhost:8080/"
        },
        "outputId": "9d9f351d-409d-4efd-ec93-9aebc81e5172"
      },
      "outputs": [
        {
          "output_type": "stream",
          "name": "stdout",
          "text": [
            "cannot open `https://raw.githubusercontent.com/yoonkt200/FastCampusDataset/master/korean_stopwords.txt' (No such file or directory)\n"
          ]
        }
      ],
      "source": [
        "!file -bi https://raw.githubusercontent.com/yoonkt200/FastCampusDataset/master/korean_stopwords.txt"
      ]
    },
    {
      "cell_type": "code",
      "execution_count": 28,
      "metadata": {
        "id": "yTFhjC2UxVJ3"
      },
      "outputs": [],
      "source": [
        "# with open('stopwords.txt', 'r', encoding='cp949') as f:\n",
        "#     list_file = f.readlines()\n",
        "# stopwords = list_file[0].split(\",\")\n",
        "# remove_stopwords = [x for x in remove_one_word if x not in stopwords]\n",
        "# len(remove_stopwords)\n",
        "#"
      ]
    },
    {
      "cell_type": "code",
      "execution_count": 29,
      "metadata": {
        "id": "yq5gBdnjxWFS"
      },
      "outputs": [],
      "source": [
        "# Counter(remove_stopwords).most_common()"
      ]
    },
    {
      "cell_type": "markdown",
      "metadata": {
        "id": "ECbfKzdSDvAH"
      },
      "source": [
        "< 6. 최소 횟수 이하 단어 제거 >\n",
        "6. 최소빈도수 이하의 것들은 제거한다."
      ]
    },
    {
      "cell_type": "code",
      "source": [
        "# # 최소빈도수 이하 단어들 출력\n",
        "# one_word = []\n",
        "# for item, count in Counter(remove_stopwords).most_common():\n",
        "#     if count==1:\n",
        "#         # one_word.append(item)"
      ],
      "metadata": {
        "id": "sOVBdhrGy4yP"
      },
      "execution_count": 30,
      "outputs": []
    },
    {
      "cell_type": "code",
      "source": [
        "# # 리스트를 csv 파일로 저장 # ,로 구분\n",
        "\n",
        "# import pandas as pd\n",
        "# df = pd.DataFrame(one_word)\n",
        "# df.to_csv('one_word.csv', index=False, header=False, encoding='cp949', mode='w', sep=',')"
      ],
      "metadata": {
        "id": "1HlL8pkizngQ"
      },
      "execution_count": 31,
      "outputs": []
    },
    {
      "cell_type": "code",
      "execution_count": 32,
      "metadata": {
        "id": "mIt2-201D5D0"
      },
      "outputs": [],
      "source": [
        "import pandas as pd\n",
        "import re\n",
        "from konlpy.tag import Okt\n",
        "import time\n",
        "\n",
        "def save_and_load(dataframe):\n",
        "    #\"\"\"데이터프레임을 저장하고 불러온 뒤, 결측치와 중복을 제거합니다.\"\"\"\n",
        "    basepath = 'data/'\n",
        "    dataframe.to_csv(basepath + 'review.csv', index=False)\n",
        "    df = pd.read_csv(basepath + 'review.csv')\n",
        "    df = df.dropna()\n",
        "    df = df.drop_duplicates()\n",
        "    df = df.reset_index(drop=True)\n",
        "    return df\n",
        "\n",
        "def load_stopwords():\n",
        "    #\"\"\"불용어 목록을 불러옵니다.\"\"\"\n",
        "    with open('data/stopwords.txt', 'r', encoding='cp949') as f:\n",
        "        list_file = f.readlines()\n",
        "    return list_file[0].split(\",\")\n",
        "\n",
        "def extract_word(text):\n",
        "    #\"\"\"텍스트에서 한글만 추출합니다.\"\"\"\n",
        "    hangul = re.compile('[^가-힣]')\n",
        "    result = hangul.sub(' ', text)\n",
        "    return result\n",
        "\n",
        "def make_wordlist(reviews, stopwords):\n",
        "    #\"\"\"리뷰 데이터에서 불용어를 제거하고, 유의미한 단어만 필터링하여 리스트를 생성합니다.\"\"\"\n",
        "    #print(\"리뷰들을 모아 분석하는 중입니다.....\")\n",
        "    #print(\"데이터 정제 중....\")\n",
        "    words = \" \".join([extract_word(review) for review in reviews])\n",
        "    #print(\"형태소 추출 중....\")\n",
        "    okt = Okt()\n",
        "    words = okt.morphs(words, stem=True)\n",
        "    #print(\"한글자 제거 중....\")\n",
        "    words = [word for word in words if len(word) > 1 or word == '곳']\n",
        "    #print(\"불용어 제거 중....\")\n",
        "    words = [word for word in words if word not in stopwords]\n",
        "    #print(\"의미있는 단어리스트 생성 중....\")\n",
        "    time.sleep(1)\n",
        "    minimum_count = 1\n",
        "    final = []\n",
        "    for word in tqdm(set(words)):  # 중복을 제거한 후 진행\n",
        "        if words.count(word) >= minimum_count:\n",
        "            final.append(word)\n",
        "    return final\n",
        "\n",
        "def preprocess(text, word_list):\n",
        "   # \"\"\"텍스트 데이터를 전처리하여 형태소 단위로 분리하고, 필터링된 단어 리스트에 포함된 단어만을 반환합니다.\"\"\"\n",
        "    text = extract_word(text)\n",
        "    okt = Okt()\n",
        "    morphs = okt.morphs(text, stem=True)\n",
        "    filtered_text = [morph for morph in morphs if morph in word_list]\n",
        "    return filtered_text\n"
      ]
    },
    {
      "cell_type": "code",
      "execution_count": 33,
      "metadata": {
        "colab": {
          "base_uri": "https://localhost:8080/",
          "height": 145
        },
        "id": "x1KX0SkEJ2Z5",
        "outputId": "36c5d742-2e1c-4e02-f0bd-0070922e9981"
      },
      "outputs": [
        {
          "output_type": "error",
          "ename": "NameError",
          "evalue": "name 'stopwords' is not defined",
          "traceback": [
            "\u001b[0;31m---------------------------------------------------------------------------\u001b[0m",
            "\u001b[0;31mNameError\u001b[0m                                 Traceback (most recent call last)",
            "\u001b[0;32m<ipython-input-33-c5ab76d81019>\u001b[0m in \u001b[0;36m<cell line: 1>\u001b[0;34m()\u001b[0m\n\u001b[0;32m----> 1\u001b[0;31m \u001b[0mword_list\u001b[0m \u001b[0;34m=\u001b[0m \u001b[0mmake_wordlist\u001b[0m\u001b[0;34m(\u001b[0m\u001b[0;34m\" \"\u001b[0m\u001b[0;34m.\u001b[0m\u001b[0mjoin\u001b[0m\u001b[0;34m(\u001b[0m\u001b[0mdata\u001b[0m\u001b[0;34m[\u001b[0m\u001b[0;34m'Review'\u001b[0m\u001b[0;34m]\u001b[0m\u001b[0;34m.\u001b[0m\u001b[0mtolist\u001b[0m\u001b[0;34m(\u001b[0m\u001b[0;34m)\u001b[0m\u001b[0;34m)\u001b[0m\u001b[0;34m,\u001b[0m \u001b[0mstopwords\u001b[0m\u001b[0;34m)\u001b[0m\u001b[0;34m\u001b[0m\u001b[0;34m\u001b[0m\u001b[0m\n\u001b[0m",
            "\u001b[0;31mNameError\u001b[0m: name 'stopwords' is not defined"
          ]
        }
      ],
      "source": [
        "word_list = make_wordlist(\" \".join(data['Review'].tolist()), stopwords)"
      ]
    },
    {
      "cell_type": "code",
      "execution_count": null,
      "metadata": {
        "id": "EU-pkXHMKVAs"
      },
      "outputs": [],
      "source": [
        "data['Review'][323]\n"
      ]
    },
    {
      "cell_type": "markdown",
      "metadata": {
        "id": "C0HwVHsKArLx"
      },
      "source": [
        "(5)전처리끝"
      ]
    },
    {
      "cell_type": "code",
      "execution_count": null,
      "metadata": {
        "id": "-RsK0ZPeD47n"
      },
      "outputs": [],
      "source": [
        "from sklearn.feature_extraction.text import CountVectorizer"
      ]
    },
    {
      "cell_type": "code",
      "execution_count": null,
      "metadata": {
        "id": "-FK3hHNjD40P"
      },
      "outputs": [],
      "source": [
        "# CountVectorizer를 사용하여 피처 벡터화 #30분소요 gpu로\n",
        "vectorizer = CountVectorizer(tokenizer=lambda x: make_wordlist([x], stopwords))"
      ]
    },
    {
      "cell_type": "code",
      "source": [
        "data_features = vectorizer.fit_transform(data['Review'].tolist())"
      ],
      "metadata": {
        "id": "TVm7e0cfhyfh"
      },
      "execution_count": null,
      "outputs": []
    },
    {
      "cell_type": "code",
      "source": [
        "list_of_word = vectorizer.get_feature_names_out()"
      ],
      "metadata": {
        "id": "xVmZ2-2Yh0F8"
      },
      "execution_count": null,
      "outputs": []
    },
    {
      "cell_type": "code",
      "execution_count": null,
      "metadata": {
        "id": "Jgx6iaPUArAw"
      },
      "outputs": [],
      "source": [
        "count_list = data_features.toarray().sum(axis=0)"
      ]
    },
    {
      "cell_type": "code",
      "execution_count": null,
      "metadata": {
        "id": "H3LGu6XnArC5"
      },
      "outputs": [],
      "source": [
        "count_list"
      ]
    },
    {
      "cell_type": "code",
      "execution_count": null,
      "metadata": {
        "id": "n9JLxbavArFY"
      },
      "outputs": [],
      "source": [
        "list_of_word"
      ]
    },
    {
      "cell_type": "code",
      "execution_count": null,
      "metadata": {
        "id": "I1FRSiVkArHs"
      },
      "outputs": [],
      "source": [
        "word_count_dict = dict(zip(word_list, count_list))"
      ]
    },
    {
      "cell_type": "code",
      "execution_count": null,
      "metadata": {
        "id": "gK5L0Cj8ArJq"
      },
      "outputs": [],
      "source": [
        "data_features[0]"
      ]
    },
    {
      "cell_type": "markdown",
      "source": [
        "<1x5896 sparse matrix of type '<class 'numpy.int64'>'\n",
        "\twith 84 stored elements in Compressed Sparse Row format>\n",
        "\n",
        "  1*5896배열 중에, 본 리뷰가 가지고 있던 형태소가 의미하는 위치에 1이 표시되어있을 것이다.\n",
        "\n",
        "1인것들의 인덱스를 뽑아보자"
      ],
      "metadata": {
        "id": "mAChnErMinXC"
      }
    },
    {
      "cell_type": "code",
      "source": [
        "index = []\n",
        "i = 0\n",
        "for x in data_features.toarray()[0]:\n",
        "    if x==1:\n",
        "        index.append(i)\n",
        "    i = i+1"
      ],
      "metadata": {
        "id": "PC3cb_Rxighz"
      },
      "execution_count": null,
      "outputs": []
    },
    {
      "cell_type": "code",
      "source": [
        "index"
      ],
      "metadata": {
        "id": "-USLV344i0X7"
      },
      "execution_count": null,
      "outputs": []
    },
    {
      "cell_type": "markdown",
      "source": [
        "이 인덱스의 해당하는 단어들을 list_of_words 에서 찾는다."
      ],
      "metadata": {
        "id": "6Mhbyz_0i2R1"
      }
    },
    {
      "cell_type": "code",
      "source": [
        "[list_of_word[x] for x in index]"
      ],
      "metadata": {
        "id": "8iLFSlx5i1-k"
      },
      "execution_count": null,
      "outputs": []
    },
    {
      "cell_type": "markdown",
      "source": [
        "tf-idf 수행"
      ],
      "metadata": {
        "id": "wPkIB1oujV0u"
      }
    },
    {
      "cell_type": "code",
      "source": [
        "from sklearn.feature_extraction.text import TfidfTransformer"
      ],
      "metadata": {
        "id": "shd-VmDXjDid"
      },
      "execution_count": null,
      "outputs": []
    },
    {
      "cell_type": "code",
      "source": [
        "tfidf_vectorizer = TfidfTransformer()\n",
        "tf_idf_vect = tfidf_vectorizer.fit_transform(data_features)"
      ],
      "metadata": {
        "id": "Vm5PSqY4jOeQ"
      },
      "execution_count": null,
      "outputs": []
    },
    {
      "cell_type": "markdown",
      "source": [
        "인덱스와 매칭된 단어확인"
      ],
      "metadata": {
        "id": "1qhG1NGJjVYd"
      }
    },
    {
      "cell_type": "code",
      "source": [
        "# vectorizer.vocabulary_"
      ],
      "metadata": {
        "id": "_59GXNsdjUYg"
      },
      "execution_count": null,
      "outputs": []
    },
    {
      "cell_type": "code",
      "source": [
        "# 각인덱스와 단어 매칭\n",
        "invert_index_vectorizer = {v: k for k, v in vectorizer.vocabulary_.items()}"
      ],
      "metadata": {
        "id": "DDW5Eg8yjhpz"
      },
      "execution_count": null,
      "outputs": []
    },
    {
      "cell_type": "code",
      "source": [
        "data[data['Rating']==2]"
      ],
      "metadata": {
        "id": "P6nRMYOylYXT"
      },
      "execution_count": null,
      "outputs": []
    },
    {
      "cell_type": "markdown",
      "source": [
        "리뷰의 키워드만 담은 'Keyword' 칼럼 만들기"
      ],
      "metadata": {
        "id": "ietnw8Z1pVXT"
      }
    },
    {
      "cell_type": "code",
      "source": [
        "# ['Keyword'] 칼럼 생성하고 각 리뷰의 키워드 넣기\n",
        "data['Keyword'] = data['Review'].apply(lambda x: preprocess(x, word_list))"
      ],
      "metadata": {
        "id": "_f3tuut0paSr"
      },
      "execution_count": null,
      "outputs": []
    },
    {
      "cell_type": "code",
      "source": [
        "data[data['Rating']>=3]"
      ],
      "metadata": {
        "id": "v3jFONG_CFEY"
      },
      "execution_count": null,
      "outputs": []
    },
    {
      "cell_type": "markdown",
      "source": [
        "12 를 부정, 345를 긍정키워드로 매핑"
      ],
      "metadata": {
        "id": "XIfyOyBzl2Di"
      }
    },
    {
      "cell_type": "code",
      "source": [
        "feeling = [0 if rank in range(0,2) else 1 for rank in data['Rating']] # 평점이 1,2면 0(부정)으로 매핑, 3,4,5면 1(긍정)으로 매핑\n",
        "data['P/N'] = feeling"
      ],
      "metadata": {
        "id": "M8t-SH33l50K"
      },
      "execution_count": null,
      "outputs": []
    },
    {
      "cell_type": "code",
      "source": [
        "# 긍정 부정 리뷰 비율\n",
        "data['P/N'].value_counts() # 1: 4044 2:431 긍정이 압도적으로 많다."
      ],
      "metadata": {
        "id": "7kw5R7XCmcLp"
      },
      "execution_count": null,
      "outputs": []
    },
    {
      "cell_type": "code",
      "source": [
        "# 긍정 단어와 부정 단어 갯수를 맞춰준다\n",
        "min_cnt = min(data['P/N'].value_counts().tolist())\n",
        "positive_random_idx = data[data['P/N']==1].sample(min_cnt, random_state=40).index.tolist()\n",
        "negative_random_idx = data[data['P/N']==0].sample(min_cnt, random_state=40).index.tolist()\n",
        "# min_cnt는 긍정/부정 갯수 중 작은 값을 가져오고, 이 개수에 맞게 긍정/부정 데이터를 샘플링 한다."
      ],
      "metadata": {
        "id": "qzbS2J7HmsVR"
      },
      "execution_count": null,
      "outputs": []
    },
    {
      "cell_type": "markdown",
      "source": [
        "# Logistic Regression"
      ],
      "metadata": {
        "id": "3JWc54FPndhN"
      }
    },
    {
      "cell_type": "code",
      "source": [
        "# 정확한 유사도 측정을 위해 긍정과 부정단어의 랜덤으로 인덱스를 붙여서 인덱스를 섞어준다\n",
        "import random\n",
        "random_idx = positive_random_idx + negative_random_idx\n",
        "random.shuffle(random_idx)"
      ],
      "metadata": {
        "id": "qgc_HTaVmxkK"
      },
      "execution_count": null,
      "outputs": []
    },
    {
      "cell_type": "code",
      "source": [
        "# 이 랜덤인덱스에 맞는 tf_idf벡터를 x값으로, 긍부정 라벨을 y값으로 하자.\n",
        "x = tf_idf_vect[random_idx]\n",
        "y = data['P/N'][random_idx]"
      ],
      "metadata": {
        "id": "Qtb2MbuZnBQt"
      },
      "execution_count": null,
      "outputs": []
    },
    {
      "cell_type": "markdown",
      "source": [
        "x_train, x_test, y_train, y_test = train_test_split(x, y, test_size=0.25, random_state=1)으로 훈련/테스트 데이터를 만들지 않는 이유는 뭘까?\n",
        "\n",
        "이 모델을 학습시켜서 무언가를 예측하는 것에 목표가 있었다면 훈련/테스트 데이터셋을 나눠서 성능비교를 했었겠지만, 우리의 목표는 이 모델이 긍정/부정에 대해 분류된 데이터를 학습하고 어느 것에 중요도가 있었는지 확인하기 위함이므로 전체데이터를 로지스틱회귀모델에 입력시킨다."
      ],
      "metadata": {
        "id": "TbWcqAtOnXPE"
      }
    },
    {
      "cell_type": "code",
      "source": [
        "from sklearn.linear_model import LogisticRegression\n",
        "from sklearn.metrics import accuracy_score, precision_score, recall_score, f1_score\n",
        "from sklearn.metrics import confusion_matrix"
      ],
      "metadata": {
        "id": "ZjxKmk1FnYC8"
      },
      "execution_count": null,
      "outputs": []
    },
    {
      "cell_type": "code",
      "source": [
        "model = LogisticRegression()\n",
        "model.fit(x, y)"
      ],
      "metadata": {
        "id": "GFdtcqaMngX8"
      },
      "execution_count": null,
      "outputs": []
    },
    {
      "cell_type": "code",
      "source": [
        "y_pred = model.predict(x)\n",
        "print('accuracy: %.2f' % accuracy_score(y, y_pred))\n",
        "print('precision: %.2f' % precision_score(y, y_pred))\n",
        "print('recall: %.2f' % recall_score(y, y_pred))\n",
        "print('F1: %.2f' % f1_score(y, y_pred))"
      ],
      "metadata": {
        "id": "MGfblo5qnjBG"
      },
      "execution_count": null,
      "outputs": []
    },
    {
      "cell_type": "code",
      "source": [
        "# confusion matrix 시각화\n",
        "import seaborn as sns\n",
        "import matplotlib.pyplot as plt\n",
        "confu = confusion_matrix(y_true = y, y_pred = y_pred)\n",
        "plt.figure(figsize=(4, 3))\n",
        "sns.heatmap(confu, annot=True, annot_kws={'size':15}, cmap='OrRd', fmt='.10g')\n",
        "plt.title('Confusion Matrix')\n",
        "plt.show()"
      ],
      "metadata": {
        "id": "ZdctGRLinqVS"
      },
      "execution_count": null,
      "outputs": []
    },
    {
      "cell_type": "markdown",
      "source": [
        "# 키워드 분석"
      ],
      "metadata": {
        "id": "_PYvxYHdn0EM"
      }
    },
    {
      "cell_type": "markdown",
      "source": [
        "로지스틱 회귀 모델의 coef속성으로 어떤 단어들이 중요도가 있었는지 파악. 긍정에는 어떤 단어들이 있었는지, 부정에는 어떤 단어들이 있었는지."
      ],
      "metadata": {
        "id": "XHvJVZkMn4sU"
      }
    },
    {
      "cell_type": "code",
      "source": [
        "coef_pos_index = sorted(((value, index) for index, value in enumerate(model.coef_[0])), reverse = True)\n",
        "coef_neg_index = sorted(((value, index) for index, value in enumerate(model.coef_[0])), reverse = False)"
      ],
      "metadata": {
        "id": "T8d0diNIn1hz"
      },
      "execution_count": null,
      "outputs": []
    },
    {
      "cell_type": "code",
      "source": [
        "# 긍정(평점 3,4 또는 5)쪽에서 중요도가 높았던 10가지 단어\n",
        "for coef in coef_pos_index[:10]:\n",
        "    print(invert_index_vectorizer[coef[1]], coef[0])"
      ],
      "metadata": {
        "id": "TOkCqdWUn927"
      },
      "execution_count": null,
      "outputs": []
    },
    {
      "cell_type": "code",
      "source": [
        "# 부정(평점 1 또는 2)쪽에서 중요도가 높았던 10가지 단어\n",
        "for coef in coef_neg_index[:10]:\n",
        "    print(invert_index_vectorizer[coef[1]], coef[0])"
      ],
      "metadata": {
        "id": "3YAvhm08oWh6"
      },
      "execution_count": null,
      "outputs": []
    }
  ],
  "metadata": {
    "accelerator": "GPU",
    "colab": {
      "gpuType": "T4",
      "provenance": [],
      "machine_shape": "hm",
      "include_colab_link": true
    },
    "kernelspec": {
      "display_name": "Python 3",
      "name": "python3"
    },
    "language_info": {
      "name": "python"
    }
  },
  "nbformat": 4,
  "nbformat_minor": 0
}